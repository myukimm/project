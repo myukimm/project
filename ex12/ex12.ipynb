{
  "nbformat": 4,
  "nbformat_minor": 0,
  "metadata": {
    "colab": {
      "provenance": []
    },
    "kernelspec": {
      "name": "python3",
      "display_name": "Python 3"
    },
    "language_info": {
      "name": "python"
    },
    "accelerator": "GPU",
    "gpuClass": "standard"
  },
  "cells": [
    {
      "cell_type": "markdown",
      "source": [
        "# ex12"
      ],
      "metadata": {
        "id": "b6hBcbjn4z_y"
      }
    },
    {
      "cell_type": "code",
      "source": [
        "! pip install summa"
      ],
      "metadata": {
        "colab": {
          "base_uri": "https://localhost:8080/"
        },
        "id": "JAEKQqUN7teF",
        "outputId": "9b16fcb5-c3c9-4946-c790-9c99a28da9e5"
      },
      "execution_count": 1,
      "outputs": [
        {
          "output_type": "stream",
          "name": "stdout",
          "text": [
            "Looking in indexes: https://pypi.org/simple, https://us-python.pkg.dev/colab-wheels/public/simple/\n",
            "Collecting summa\n",
            "  Downloading summa-1.2.0.tar.gz (54 kB)\n",
            "\u001b[K     |████████████████████████████████| 54 kB 2.2 MB/s \n",
            "\u001b[?25hRequirement already satisfied: scipy>=0.19 in /usr/local/lib/python3.7/dist-packages (from summa) (1.7.3)\n",
            "Requirement already satisfied: numpy<1.23.0,>=1.16.5 in /usr/local/lib/python3.7/dist-packages (from scipy>=0.19->summa) (1.21.6)\n",
            "Building wheels for collected packages: summa\n",
            "  Building wheel for summa (setup.py) ... \u001b[?25l\u001b[?25hdone\n",
            "  Created wheel for summa: filename=summa-1.2.0-py3-none-any.whl size=54412 sha256=50504c4c5b281f233dc7f051dcc99158c232db54791c7efcd81c117b92a89359\n",
            "  Stored in directory: /root/.cache/pip/wheels/29/64/ac/7b443477588d365ef37ada30d456bdf5f07dc5be9f6324cb6e\n",
            "Successfully built summa\n",
            "Installing collected packages: summa\n",
            "Successfully installed summa-1.2.0\n"
          ]
        }
      ]
    },
    {
      "cell_type": "code",
      "source": [
        "! pip install nltk"
      ],
      "metadata": {
        "colab": {
          "base_uri": "https://localhost:8080/"
        },
        "id": "b6KumWPWDNTr",
        "outputId": "b73f86a3-ae8b-4538-dd01-be8b192d4a5c"
      },
      "execution_count": 2,
      "outputs": [
        {
          "output_type": "stream",
          "name": "stdout",
          "text": [
            "Looking in indexes: https://pypi.org/simple, https://us-python.pkg.dev/colab-wheels/public/simple/\n",
            "Requirement already satisfied: nltk in /usr/local/lib/python3.7/dist-packages (3.7)\n",
            "Requirement already satisfied: joblib in /usr/local/lib/python3.7/dist-packages (from nltk) (1.1.0)\n",
            "Requirement already satisfied: click in /usr/local/lib/python3.7/dist-packages (from nltk) (7.1.2)\n",
            "Requirement already satisfied: tqdm in /usr/local/lib/python3.7/dist-packages (from nltk) (4.64.0)\n",
            "Requirement already satisfied: regex>=2021.8.3 in /usr/local/lib/python3.7/dist-packages (from nltk) (2022.6.2)\n"
          ]
        }
      ]
    },
    {
      "cell_type": "code",
      "source": [
        "! pip install beautifulsoup4"
      ],
      "metadata": {
        "colab": {
          "base_uri": "https://localhost:8080/"
        },
        "id": "1rCkk83iGXb_",
        "outputId": "932c6981-b415-4f14-bd2d-948feec20320"
      },
      "execution_count": 3,
      "outputs": [
        {
          "output_type": "stream",
          "name": "stdout",
          "text": [
            "Looking in indexes: https://pypi.org/simple, https://us-python.pkg.dev/colab-wheels/public/simple/\n",
            "Requirement already satisfied: beautifulsoup4 in /usr/local/lib/python3.7/dist-packages (4.6.3)\n"
          ]
        }
      ]
    },
    {
      "cell_type": "markdown",
      "source": [
        "버전 때문에 , import importlib_metadata as metadata라고 고쳐줬다."
      ],
      "metadata": {
        "id": "9O8JiIm877oN"
      }
    },
    {
      "cell_type": "code",
      "source": [
        "import importlib_metadata as metadata\n",
        "import nltk\n",
        "import tensorflow\n",
        "import summa\n",
        "import pandas as pd\n",
        "import urllib.request\n",
        "\n",
        "print(nltk.__version__)\n",
        "print(tensorflow.__version__)\n",
        "print(metadata.version('summa'))"
      ],
      "metadata": {
        "colab": {
          "base_uri": "https://localhost:8080/"
        },
        "id": "uj5y82tO47oW",
        "outputId": "add4b890-7a85-4afa-cb26-dddd40b9969f"
      },
      "execution_count": 4,
      "outputs": [
        {
          "output_type": "stream",
          "name": "stdout",
          "text": [
            "3.7\n",
            "2.8.2\n",
            "1.2.0\n"
          ]
        }
      ]
    },
    {
      "cell_type": "code",
      "source": [
        "urllib.request.urlretrieve(\"https://raw.githubusercontent.com/sunnysai12345/News_Summary/master/news_summary_more.csv\", filename=\"news_summary_more.csv\")\n",
        "data = pd.read_csv('news_summary_more.csv', encoding='iso-8859-1')"
      ],
      "metadata": {
        "id": "s3c8nmyB8jiJ"
      },
      "execution_count": 5,
      "outputs": []
    },
    {
      "cell_type": "code",
      "source": [
        "data.sample(10)"
      ],
      "metadata": {
        "colab": {
          "base_uri": "https://localhost:8080/",
          "height": 580
        },
        "id": "tegXOmUL8j6M",
        "outputId": "e69fb347-425e-4b94-86d0-977fd8324489"
      },
      "execution_count": 6,
      "outputs": [
        {
          "output_type": "execute_result",
          "data": {
            "text/plain": [
              "                                               headlines  \\\n",
              "79655  Malaysia bans Despacito on govt radio, TV over...   \n",
              "54955  French journo held for filming in Kashmir disc...   \n",
              "98133  La La Land actor Ryan Gosling features on cove...   \n",
              "36784  Bumrah doesn't understand what pressure is: MI...   \n",
              "981    Unable to pay informants, says FBI amid US gov...   \n",
              "76832  I am happy to be under my husband Ajay's shado...   \n",
              "96871  Bihar police doesn't require 'anti-Romeo' squa...   \n",
              "91108  It's girl love homage: Priyanka on Katrina lin...   \n",
              "97120  UP minister seen sweeping office, corridor wit...   \n",
              "12745  Salman encouraged me to do 'Radha Kyon Gori Ma...   \n",
              "\n",
              "                                                    text  \n",
              "79655  Malaysia has banned playing the song Despacito...  \n",
              "54955  A French journalist who was arrested in Kashmi...  \n",
              "98133  Hollywood actor Ryan Gosling, who starred in O...  \n",
              "36784  Speaking about pacer Jasprit Bumrah, Mumbai In...  \n",
              "981    The US' Federal Bureau of Investigation is not...  \n",
              "76832  Kajol has said that she is happy to be under h...  \n",
              "96871  Commenting on the newly-elected Uttar Pradesh ...  \n",
              "91108  Actress Priyanka Chopra has said that the 'Cha...  \n",
              "97120  Uttar Pradesh cabinet minister Upendra Tiwari ...  \n",
              "12745  Iulia Vantur, who will be making her Bollywood...  "
            ],
            "text/html": [
              "\n",
              "  <div id=\"df-fa119a47-69c6-4764-89a9-f20b3ebae366\">\n",
              "    <div class=\"colab-df-container\">\n",
              "      <div>\n",
              "<style scoped>\n",
              "    .dataframe tbody tr th:only-of-type {\n",
              "        vertical-align: middle;\n",
              "    }\n",
              "\n",
              "    .dataframe tbody tr th {\n",
              "        vertical-align: top;\n",
              "    }\n",
              "\n",
              "    .dataframe thead th {\n",
              "        text-align: right;\n",
              "    }\n",
              "</style>\n",
              "<table border=\"1\" class=\"dataframe\">\n",
              "  <thead>\n",
              "    <tr style=\"text-align: right;\">\n",
              "      <th></th>\n",
              "      <th>headlines</th>\n",
              "      <th>text</th>\n",
              "    </tr>\n",
              "  </thead>\n",
              "  <tbody>\n",
              "    <tr>\n",
              "      <th>79655</th>\n",
              "      <td>Malaysia bans Despacito on govt radio, TV over...</td>\n",
              "      <td>Malaysia has banned playing the song Despacito...</td>\n",
              "    </tr>\n",
              "    <tr>\n",
              "      <th>54955</th>\n",
              "      <td>French journo held for filming in Kashmir disc...</td>\n",
              "      <td>A French journalist who was arrested in Kashmi...</td>\n",
              "    </tr>\n",
              "    <tr>\n",
              "      <th>98133</th>\n",
              "      <td>La La Land actor Ryan Gosling features on cove...</td>\n",
              "      <td>Hollywood actor Ryan Gosling, who starred in O...</td>\n",
              "    </tr>\n",
              "    <tr>\n",
              "      <th>36784</th>\n",
              "      <td>Bumrah doesn't understand what pressure is: MI...</td>\n",
              "      <td>Speaking about pacer Jasprit Bumrah, Mumbai In...</td>\n",
              "    </tr>\n",
              "    <tr>\n",
              "      <th>981</th>\n",
              "      <td>Unable to pay informants, says FBI amid US gov...</td>\n",
              "      <td>The US' Federal Bureau of Investigation is not...</td>\n",
              "    </tr>\n",
              "    <tr>\n",
              "      <th>76832</th>\n",
              "      <td>I am happy to be under my husband Ajay's shado...</td>\n",
              "      <td>Kajol has said that she is happy to be under h...</td>\n",
              "    </tr>\n",
              "    <tr>\n",
              "      <th>96871</th>\n",
              "      <td>Bihar police doesn't require 'anti-Romeo' squa...</td>\n",
              "      <td>Commenting on the newly-elected Uttar Pradesh ...</td>\n",
              "    </tr>\n",
              "    <tr>\n",
              "      <th>91108</th>\n",
              "      <td>It's girl love homage: Priyanka on Katrina lin...</td>\n",
              "      <td>Actress Priyanka Chopra has said that the 'Cha...</td>\n",
              "    </tr>\n",
              "    <tr>\n",
              "      <th>97120</th>\n",
              "      <td>UP minister seen sweeping office, corridor wit...</td>\n",
              "      <td>Uttar Pradesh cabinet minister Upendra Tiwari ...</td>\n",
              "    </tr>\n",
              "    <tr>\n",
              "      <th>12745</th>\n",
              "      <td>Salman encouraged me to do 'Radha Kyon Gori Ma...</td>\n",
              "      <td>Iulia Vantur, who will be making her Bollywood...</td>\n",
              "    </tr>\n",
              "  </tbody>\n",
              "</table>\n",
              "</div>\n",
              "      <button class=\"colab-df-convert\" onclick=\"convertToInteractive('df-fa119a47-69c6-4764-89a9-f20b3ebae366')\"\n",
              "              title=\"Convert this dataframe to an interactive table.\"\n",
              "              style=\"display:none;\">\n",
              "        \n",
              "  <svg xmlns=\"http://www.w3.org/2000/svg\" height=\"24px\"viewBox=\"0 0 24 24\"\n",
              "       width=\"24px\">\n",
              "    <path d=\"M0 0h24v24H0V0z\" fill=\"none\"/>\n",
              "    <path d=\"M18.56 5.44l.94 2.06.94-2.06 2.06-.94-2.06-.94-.94-2.06-.94 2.06-2.06.94zm-11 1L8.5 8.5l.94-2.06 2.06-.94-2.06-.94L8.5 2.5l-.94 2.06-2.06.94zm10 10l.94 2.06.94-2.06 2.06-.94-2.06-.94-.94-2.06-.94 2.06-2.06.94z\"/><path d=\"M17.41 7.96l-1.37-1.37c-.4-.4-.92-.59-1.43-.59-.52 0-1.04.2-1.43.59L10.3 9.45l-7.72 7.72c-.78.78-.78 2.05 0 2.83L4 21.41c.39.39.9.59 1.41.59.51 0 1.02-.2 1.41-.59l7.78-7.78 2.81-2.81c.8-.78.8-2.07 0-2.86zM5.41 20L4 18.59l7.72-7.72 1.47 1.35L5.41 20z\"/>\n",
              "  </svg>\n",
              "      </button>\n",
              "      \n",
              "  <style>\n",
              "    .colab-df-container {\n",
              "      display:flex;\n",
              "      flex-wrap:wrap;\n",
              "      gap: 12px;\n",
              "    }\n",
              "\n",
              "    .colab-df-convert {\n",
              "      background-color: #E8F0FE;\n",
              "      border: none;\n",
              "      border-radius: 50%;\n",
              "      cursor: pointer;\n",
              "      display: none;\n",
              "      fill: #1967D2;\n",
              "      height: 32px;\n",
              "      padding: 0 0 0 0;\n",
              "      width: 32px;\n",
              "    }\n",
              "\n",
              "    .colab-df-convert:hover {\n",
              "      background-color: #E2EBFA;\n",
              "      box-shadow: 0px 1px 2px rgba(60, 64, 67, 0.3), 0px 1px 3px 1px rgba(60, 64, 67, 0.15);\n",
              "      fill: #174EA6;\n",
              "    }\n",
              "\n",
              "    [theme=dark] .colab-df-convert {\n",
              "      background-color: #3B4455;\n",
              "      fill: #D2E3FC;\n",
              "    }\n",
              "\n",
              "    [theme=dark] .colab-df-convert:hover {\n",
              "      background-color: #434B5C;\n",
              "      box-shadow: 0px 1px 3px 1px rgba(0, 0, 0, 0.15);\n",
              "      filter: drop-shadow(0px 1px 2px rgba(0, 0, 0, 0.3));\n",
              "      fill: #FFFFFF;\n",
              "    }\n",
              "  </style>\n",
              "\n",
              "      <script>\n",
              "        const buttonEl =\n",
              "          document.querySelector('#df-fa119a47-69c6-4764-89a9-f20b3ebae366 button.colab-df-convert');\n",
              "        buttonEl.style.display =\n",
              "          google.colab.kernel.accessAllowed ? 'block' : 'none';\n",
              "\n",
              "        async function convertToInteractive(key) {\n",
              "          const element = document.querySelector('#df-fa119a47-69c6-4764-89a9-f20b3ebae366');\n",
              "          const dataTable =\n",
              "            await google.colab.kernel.invokeFunction('convertToInteractive',\n",
              "                                                     [key], {});\n",
              "          if (!dataTable) return;\n",
              "\n",
              "          const docLinkHtml = 'Like what you see? Visit the ' +\n",
              "            '<a target=\"_blank\" href=https://colab.research.google.com/notebooks/data_table.ipynb>data table notebook</a>'\n",
              "            + ' to learn more about interactive tables.';\n",
              "          element.innerHTML = '';\n",
              "          dataTable['output_type'] = 'display_data';\n",
              "          await google.colab.output.renderOutput(dataTable, element);\n",
              "          const docLink = document.createElement('div');\n",
              "          docLink.innerHTML = docLinkHtml;\n",
              "          element.appendChild(docLink);\n",
              "        }\n",
              "      </script>\n",
              "    </div>\n",
              "  </div>\n",
              "  "
            ]
          },
          "metadata": {},
          "execution_count": 6
        }
      ]
    },
    {
      "cell_type": "markdown",
      "source": [
        "이 데이터는 기사의 본문에 해당하는 text와 headlines 두가지 열로 구성되어 있다.\n",
        "\n",
        "추상적 요약을 하는 경우에는 text를 본문, headlines를 이미 요약된 데이터로 삼아서 모델을 학습할 수 있다.\n",
        "\n",
        "추출적 요약을 하는 경우에는 오직 text열만을 사용한다."
      ],
      "metadata": {
        "id": "XmPJ-2Mm9DL0"
      }
    },
    {
      "cell_type": "markdown",
      "source": [
        "### 추상적요약"
      ],
      "metadata": {
        "id": "5ax6sVlS9fgm"
      }
    },
    {
      "cell_type": "markdown",
      "source": [
        "#### 데이터 전처리"
      ],
      "metadata": {
        "id": "GL00_COE96mL"
      }
    },
    {
      "cell_type": "code",
      "source": [
        "print(data['text'].shape)\n",
        "print(data['headlines'].shape)\n",
        "print('Text 열에서 중복을 배제한 유일한 샘플의 수 :', data['text'].nunique())\n",
        "print('headlines 열에서 중복을 배제한 유일한 샘플의 수 :', data['headlines'].nunique())"
      ],
      "metadata": {
        "colab": {
          "base_uri": "https://localhost:8080/"
        },
        "id": "6_Ra6HDW-Gsk",
        "outputId": "d2164620-0664-4f28-a12f-1f46fa294d1f"
      },
      "execution_count": 7,
      "outputs": [
        {
          "output_type": "stream",
          "name": "stdout",
          "text": [
            "(98401,)\n",
            "(98401,)\n",
            "Text 열에서 중복을 배제한 유일한 샘플의 수 : 98360\n",
            "headlines 열에서 중복을 배제한 유일한 샘플의 수 : 98280\n"
          ]
        }
      ]
    },
    {
      "cell_type": "markdown",
      "source": [
        "약 100개 정도가 겹친다는 것을 알 수 있다. 요약은 같을 수 있지만, text가 겹친다는 것은 샘플이 겹친다는 의미이므로 삭제해줘야 한다."
      ],
      "metadata": {
        "id": "pYE8P6Ai-SZE"
      }
    },
    {
      "cell_type": "code",
      "source": [
        "# inplace=True 를 설정하면 DataFrame 타입 값을 return 하지 않고 data 내부를 직접적으로 바꿉니다\n",
        "data.drop_duplicates(subset = ['text'], inplace=True)\n",
        "print('전체 샘플수 :', (len(data)))"
      ],
      "metadata": {
        "colab": {
          "base_uri": "https://localhost:8080/"
        },
        "id": "uQUPkJaS-3BD",
        "outputId": "a43342ee-3ca0-42f1-b8f5-790ae5e52339"
      },
      "execution_count": 8,
      "outputs": [
        {
          "output_type": "stream",
          "name": "stdout",
          "text": [
            "전체 샘플수 : 98360\n"
          ]
        }
      ]
    },
    {
      "cell_type": "markdown",
      "source": [
        "잘 삭제되었다는 것을 알 수 있다.\n",
        "\n",
        "이제 널값을 확인하고 삭제를 해줘야 한다. 널값을 삭제할 때는 dropna 명령어를 쓰면 된다.\n",
        "\n",
        "data.dropna(axis=0, inplace=True)"
      ],
      "metadata": {
        "id": "0NWOg06P_NRW"
      }
    },
    {
      "cell_type": "code",
      "source": [
        "print(data.isnull().sum())"
      ],
      "metadata": {
        "colab": {
          "base_uri": "https://localhost:8080/"
        },
        "id": "-0-MR0YZ99Y6",
        "outputId": "8c6d0be4-84fe-4d08-bed8-386e0d241bbc"
      },
      "execution_count": 9,
      "outputs": [
        {
          "output_type": "stream",
          "name": "stdout",
          "text": [
            "headlines    0\n",
            "text         0\n",
            "dtype: int64\n"
          ]
        }
      ]
    },
    {
      "cell_type": "markdown",
      "source": [
        "데이터에 널값이 없다는 것을 확이했다. 다음 전처리 스텝으로 넘어가면 되겠다."
      ],
      "metadata": {
        "id": "as9ApFPN_yJZ"
      }
    },
    {
      "cell_type": "markdown",
      "source": [
        "이번에는 동의어를 가진 모양이 비슷한 단어들을 하나로 만들어 줄 것이다.\n",
        "\n",
        "예를 들어, it'll, it will과 같고, mustn't와 must not은 사실 같은 표현이다.\n",
        "\n",
        "컴퓨터틑 이 둘을 다르다고 인식하면서 학습을 할 것이다. 하지만, 사실 같은 표현이다. 연산량을 늘어나게 할 뿐이다. 그래서 처리 속도를 빠르게 하기 위해 이와 같은 표현을  하나로 인식하게 만들어줘야 한다."
      ],
      "metadata": {
        "id": "HIqLGqNi__KC"
      }
    },
    {
      "cell_type": "markdown",
      "source": [
        "이제, 우리는 이미 만들어진 정규화를 위한 사전(dictionary)을 구성해 볼 것이다."
      ],
      "metadata": {
        "id": "7vuoplAqBDe4"
      }
    },
    {
      "cell_type": "code",
      "source": [
        "contractions = {\"ain't\": \"is not\", \"aren't\": \"are not\",\"can't\": \"cannot\", \"'cause\": \"because\", \"could've\": \"could have\", \"couldn't\": \"could not\",\n",
        "                           \"didn't\": \"did not\",  \"doesn't\": \"does not\", \"don't\": \"do not\", \"hadn't\": \"had not\", \"hasn't\": \"has not\", \"haven't\": \"have not\",\n",
        "                           \"he'd\": \"he would\",\"he'll\": \"he will\", \"he's\": \"he is\", \"how'd\": \"how did\", \"how'd'y\": \"how do you\", \"how'll\": \"how will\", \"how's\": \"how is\",\n",
        "                           \"I'd\": \"I would\", \"I'd've\": \"I would have\", \"I'll\": \"I will\", \"I'll've\": \"I will have\",\"I'm\": \"I am\", \"I've\": \"I have\", \"i'd\": \"i would\",\n",
        "                           \"i'd've\": \"i would have\", \"i'll\": \"i will\",  \"i'll've\": \"i will have\",\"i'm\": \"i am\", \"i've\": \"i have\", \"isn't\": \"is not\", \"it'd\": \"it would\",\n",
        "                           \"it'd've\": \"it would have\", \"it'll\": \"it will\", \"it'll've\": \"it will have\",\"it's\": \"it is\", \"let's\": \"let us\", \"ma'am\": \"madam\",\n",
        "                           \"mayn't\": \"may not\", \"might've\": \"might have\",\"mightn't\": \"might not\",\"mightn't've\": \"might not have\", \"must've\": \"must have\",\n",
        "                           \"mustn't\": \"must not\", \"mustn't've\": \"must not have\", \"needn't\": \"need not\", \"needn't've\": \"need not have\",\"o'clock\": \"of the clock\",\n",
        "                           \"oughtn't\": \"ought not\", \"oughtn't've\": \"ought not have\", \"shan't\": \"shall not\", \"sha'n't\": \"shall not\", \"shan't've\": \"shall not have\",\n",
        "                           \"she'd\": \"she would\", \"she'd've\": \"she would have\", \"she'll\": \"she will\", \"she'll've\": \"she will have\", \"she's\": \"she is\",\n",
        "                           \"should've\": \"should have\", \"shouldn't\": \"should not\", \"shouldn't've\": \"should not have\", \"so've\": \"so have\",\"so's\": \"so as\",\n",
        "                           \"this's\": \"this is\",\"that'd\": \"that would\", \"that'd've\": \"that would have\", \"that's\": \"that is\", \"there'd\": \"there would\",\n",
        "                           \"there'd've\": \"there would have\", \"there's\": \"there is\", \"here's\": \"here is\",\"they'd\": \"they would\", \"they'd've\": \"they would have\",\n",
        "                           \"they'll\": \"they will\", \"they'll've\": \"they will have\", \"they're\": \"they are\", \"they've\": \"they have\", \"to've\": \"to have\",\n",
        "                           \"wasn't\": \"was not\", \"we'd\": \"we would\", \"we'd've\": \"we would have\", \"we'll\": \"we will\", \"we'll've\": \"we will have\", \"we're\": \"we are\",\n",
        "                           \"we've\": \"we have\", \"weren't\": \"were not\", \"what'll\": \"what will\", \"what'll've\": \"what will have\", \"what're\": \"what are\",\n",
        "                           \"what's\": \"what is\", \"what've\": \"what have\", \"when's\": \"when is\", \"when've\": \"when have\", \"where'd\": \"where did\", \"where's\": \"where is\",\n",
        "                           \"where've\": \"where have\", \"who'll\": \"who will\", \"who'll've\": \"who will have\", \"who's\": \"who is\", \"who've\": \"who have\",\n",
        "                           \"why's\": \"why is\", \"why've\": \"why have\", \"will've\": \"will have\", \"won't\": \"will not\", \"won't've\": \"will not have\",\n",
        "                           \"would've\": \"would have\", \"wouldn't\": \"would not\", \"wouldn't've\": \"would not have\", \"y'all\": \"you all\",\n",
        "                           \"y'all'd\": \"you all would\",\"y'all'd've\": \"you all would have\",\"y'all're\": \"you all are\",\"y'all've\": \"you all have\",\n",
        "                           \"you'd\": \"you would\", \"you'd've\": \"you would have\", \"you'll\": \"you will\", \"you'll've\": \"you will have\",\n",
        "                           \"you're\": \"you are\", \"you've\": \"you have\"}\n",
        "\n",
        "print(\"정규화 사전의 수: \", len(contractions))"
      ],
      "metadata": {
        "colab": {
          "base_uri": "https://localhost:8080/"
        },
        "id": "NmLKqWpsBO3z",
        "outputId": "181032df-b044-4e76-8f5a-fb21293a71dc"
      },
      "execution_count": 10,
      "outputs": [
        {
          "output_type": "stream",
          "name": "stdout",
          "text": [
            "정규화 사전의 수:  120\n"
          ]
        }
      ]
    },
    {
      "cell_type": "markdown",
      "source": [
        "이번에는 불용어를 지워줄 것이다.\n",
        "\n",
        "불용어란? 인터넷 검색 시 검색 용어로 사용하지 않는 단어. 관사, 전치사, 조사, 접속사 등은 검색 색인 단어로 의미가 없는 단어이다. 그러나, 각 검색 엔진마다 그 내용은 다를 수도 있다.\n",
        "\n",
        "여기서는 NLTK에서 제공하는 불용어 리스트를 참조해, 샘플에서 불용어를 제거할 것이다."
      ],
      "metadata": {
        "id": "ndBeSmDTBYoV"
      }
    },
    {
      "cell_type": "markdown",
      "source": [
        "Nltk를 명령어를 쓰기 위해, 필요한 키워드를 다운 받아야 한다."
      ],
      "metadata": {
        "id": "ZtZy7NvLEC28"
      }
    },
    {
      "cell_type": "code",
      "source": [
        "import nltk\n",
        "nltk.download('stopwords')"
      ],
      "metadata": {
        "colab": {
          "base_uri": "https://localhost:8080/"
        },
        "id": "ia_HocByD7Fl",
        "outputId": "4b534673-c703-478b-9d8e-1ed59e9d4d3b"
      },
      "execution_count": 11,
      "outputs": [
        {
          "output_type": "stream",
          "name": "stderr",
          "text": [
            "[nltk_data] Downloading package stopwords to /root/nltk_data...\n",
            "[nltk_data]   Unzipping corpora/stopwords.zip.\n"
          ]
        },
        {
          "output_type": "execute_result",
          "data": {
            "text/plain": [
              "True"
            ]
          },
          "metadata": {},
          "execution_count": 11
        }
      ]
    },
    {
      "cell_type": "code",
      "source": [
        "from nltk.corpus import stopwords\n",
        "print('불용어 개수 :', len(stopwords.words('english') ))\n",
        "print(stopwords.words('english'))"
      ],
      "metadata": {
        "colab": {
          "base_uri": "https://localhost:8080/"
        },
        "id": "YulI0sUhBvFM",
        "outputId": "3151b84b-a781-4f56-fee2-17d9c2878092"
      },
      "execution_count": 12,
      "outputs": [
        {
          "output_type": "stream",
          "name": "stdout",
          "text": [
            "불용어 개수 : 179\n",
            "['i', 'me', 'my', 'myself', 'we', 'our', 'ours', 'ourselves', 'you', \"you're\", \"you've\", \"you'll\", \"you'd\", 'your', 'yours', 'yourself', 'yourselves', 'he', 'him', 'his', 'himself', 'she', \"she's\", 'her', 'hers', 'herself', 'it', \"it's\", 'its', 'itself', 'they', 'them', 'their', 'theirs', 'themselves', 'what', 'which', 'who', 'whom', 'this', 'that', \"that'll\", 'these', 'those', 'am', 'is', 'are', 'was', 'were', 'be', 'been', 'being', 'have', 'has', 'had', 'having', 'do', 'does', 'did', 'doing', 'a', 'an', 'the', 'and', 'but', 'if', 'or', 'because', 'as', 'until', 'while', 'of', 'at', 'by', 'for', 'with', 'about', 'against', 'between', 'into', 'through', 'during', 'before', 'after', 'above', 'below', 'to', 'from', 'up', 'down', 'in', 'out', 'on', 'off', 'over', 'under', 'again', 'further', 'then', 'once', 'here', 'there', 'when', 'where', 'why', 'how', 'all', 'any', 'both', 'each', 'few', 'more', 'most', 'other', 'some', 'such', 'no', 'nor', 'not', 'only', 'own', 'same', 'so', 'than', 'too', 'very', 's', 't', 'can', 'will', 'just', 'don', \"don't\", 'should', \"should've\", 'now', 'd', 'll', 'm', 'o', 're', 've', 'y', 'ain', 'aren', \"aren't\", 'couldn', \"couldn't\", 'didn', \"didn't\", 'doesn', \"doesn't\", 'hadn', \"hadn't\", 'hasn', \"hasn't\", 'haven', \"haven't\", 'isn', \"isn't\", 'ma', 'mightn', \"mightn't\", 'mustn', \"mustn't\", 'needn', \"needn't\", 'shan', \"shan't\", 'shouldn', \"shouldn't\", 'wasn', \"wasn't\", 'weren', \"weren't\", 'won', \"won't\", 'wouldn', \"wouldn't\"]\n"
          ]
        }
      ]
    },
    {
      "cell_type": "markdown",
      "source": [
        "불용어가 179개인 것을 확인할 수 있다. 이를 이용해 삭제할 것이다.\n",
        "\n",
        "그리고 모든 영어 문자는 소문자로 만들고, 섞여있는 html 태그를 제거하고, 정규 표현식을 통해 각종 특수문자를 제거해서 정말 필요한 내용만 잘 학습할 수 있도록 처리할 것이다."
      ],
      "metadata": {
        "id": "njaQyGlYEOgb"
      }
    },
    {
      "cell_type": "code",
      "source": [
        "# 데이터 전처리 함수\n",
        "from bs4 import BeautifulSoup\n",
        "import re\n",
        "\n",
        "def preprocess_sentence(sentence, remove_stopwords=True):\n",
        "    sentence = sentence.lower() # 텍스트 소문자화\n",
        "    sentence = BeautifulSoup(sentence, \"lxml\").text # <br />, <a href = ...> 등의 html 태그 제거\n",
        "    sentence = re.sub(r'\\([^)]*\\)', '', sentence) # 괄호로 닫힌 문자열 (...) 제거 Ex) my husband (and myself!) for => my husband for\n",
        "    sentence = re.sub('\"','', sentence) # 쌍따옴표 \" 제거\n",
        "    sentence = ' '.join([contractions[t] if t in contractions else t for t in sentence.split(\" \")]) # 약어 정규화\n",
        "    sentence = re.sub(r\"'s\\b\",\"\", sentence) # 소유격 제거. Ex) roland's -> roland\n",
        "    sentence = re.sub(\"[^a-zA-Z]\", \" \", sentence) # 영어 외 문자(숫자, 특수문자 등) 공백으로 변환\n",
        "    sentence = re.sub('[m]{2,}', 'mm', sentence) # m이 3개 이상이면 2개로 변경. Ex) ummmmmmm yeah -> umm yeah\n",
        "    \n",
        "    # 불용어 제거 (Text)\n",
        "    if remove_stopwords:\n",
        "        tokens = ' '.join(word for word in sentence.split() if not word in stopwords.words('english') if len(word) > 1)\n",
        "    # 불용어 미제거 (Summary)\n",
        "    else:\n",
        "        tokens = ' '.join(word for word in sentence.split() if len(word) > 1)\n",
        "    return tokens"
      ],
      "metadata": {
        "id": "Nozu_FVQEv8j"
      },
      "execution_count": 13,
      "outputs": []
    },
    {
      "cell_type": "markdown",
      "source": [
        "if문을 자세히 보면, texts에만 불용어를 삭제해준다는 것을 알 수 있다. 왜냐하면, headlines에서는 요약문이 들어가는데, 이 때 요약문에 불용어가 들어갈 수 있기 때문이다. 요약문에서는 불용어 즉, 축약형이 더 알맞아 보이는 경우가 있을 수 있다."
      ],
      "metadata": {
        "id": "71Jamvi5E1TN"
      }
    },
    {
      "cell_type": "code",
      "source": [
        "# 잘 변형되었는 지 확인해 보자.\n",
        "temp_text = 'A 28-year-old woman has accused Uttar Pradesh BJP MLA Roshan Lal Verma and his son Manoj of raping her in 2011 and getting her married to his younger son Vinod. She also alleged that Vinod left her and their daughter after police closed the case against Roshan in 2013. She staged a day-long protest at Shahjahanpur collectorate demanding their arrest.'\n",
        "temp_summary = '\tWoman claims MLA, son raped her; married her to 2nd son'\n",
        "\n",
        "print(\"text: \", preprocess_sentence(temp_text))\n",
        "print(\"summary:\", preprocess_sentence(temp_summary, False))  # 불용어를 제거하지 않습니다."
      ],
      "metadata": {
        "colab": {
          "base_uri": "https://localhost:8080/"
        },
        "id": "PUeueDOoFhrr",
        "outputId": "1a8b940d-6e8e-4912-8d2d-3a4dff382da4"
      },
      "execution_count": 14,
      "outputs": [
        {
          "output_type": "stream",
          "name": "stdout",
          "text": [
            "text:  year old woman accused uttar pradesh bjp mla roshan lal verma son manoj raping getting married younger son vinod also alleged vinod left daughter police closed case roshan staged day long protest shahjahanpur collectorate demanding arrest\n",
            "summary: woman claims mla son raped her married her to nd son\n"
          ]
        }
      ]
    },
    {
      "cell_type": "markdown",
      "source": [
        "결과를 보면 기본적으로 모든 알파벳이 소문자로 변환되고, <br />과 같은 html 태그가 제거되었다. (or finish)와 같은 괄호로 묶였던 단어 시퀀스가 제거된 것도 확인할 수 있다. 또한 특수문자가 제거되면서 영어만 남아있다.\n",
        "\n"
      ],
      "metadata": {
        "id": "BMMLGsazHHCZ"
      }
    },
    {
      "cell_type": "markdown",
      "source": [
        "전처리를 진행하면, 예기치 못하게 널값이 생기는 경우가 있다. 이를 먼저 확인해보고, 있다면 삭제해야 한다."
      ],
      "metadata": {
        "id": "hZRkqxOvHmJp"
      }
    },
    {
      "cell_type": "code",
      "source": [
        "print(data.isnull().sum())"
      ],
      "metadata": {
        "colab": {
          "base_uri": "https://localhost:8080/"
        },
        "id": "5ZF2YgFmHf-p",
        "outputId": "3342a84b-ff00-4692-c7bb-18a53ea852dd"
      },
      "execution_count": 15,
      "outputs": [
        {
          "output_type": "stream",
          "name": "stdout",
          "text": [
            "headlines    0\n",
            "text         0\n",
            "dtype: int64\n"
          ]
        }
      ]
    },
    {
      "cell_type": "markdown",
      "source": [
        "이제 전처리를 위한 셋팅은 끝났다. 이제, 훈련 데이터에 이를 적용시켜 보자."
      ],
      "metadata": {
        "id": "KFtBXAIMHV9K"
      }
    },
    {
      "cell_type": "code",
      "source": [
        "clean_text = []\n",
        "\n",
        "for s in data['text']:\n",
        "    clean_text.append(preprocess_sentence(s))\n",
        "\n",
        "# 전처리 후 출력\n",
        "print(\"text 전처리 후 결과: \", clean_text[:5])"
      ],
      "metadata": {
        "colab": {
          "base_uri": "https://localhost:8080/"
        },
        "id": "n2H-Td7hHaEx",
        "outputId": "7f34658a-4e08-419e-9fec-9bcbad6d01f5"
      },
      "execution_count": 16,
      "outputs": [
        {
          "output_type": "stream",
          "name": "stdout",
          "text": [
            "text 전처리 후 결과:  ['saurav kant alumnus upgrad iiit pg program machine learning artificial intelligence sr systems engineer infosys almost years work experience program upgrad degree career support helped transition data scientist tech mahindra salary hike upgrad online power learning powered lakh careers', 'kunal shah credit card bill payment platform cred gave users chance win free food swiggy one year pranav kaushik delhi techie bagged reward spending cred coins users get one cred coin per rupee bill paid used avail rewards brands like ixigo bookmyshow ubereats cult fit', 'new zealand defeated india wickets fourth odi hamilton thursday win first match five match odi series india lost international match rohit sharma captaincy consecutive victories dating back march match witnessed india getting seventh lowest total odi cricket history', 'aegon life iterm insurance plan customers enjoy tax benefits premiums paid save taxes plan provides life cover age years also customers options insure critical illnesses disability accidental death benefit rider life cover age years', 'speaking sexual harassment allegations rajkumar hirani sonam kapoor said known hirani many years true metoo movement get derailed metoo movement always believe woman case need reserve judgment added hirani accused assistant worked sanju']\n"
          ]
        }
      ]
    },
    {
      "cell_type": "code",
      "source": [
        "# 불용어 제거를 막기위해, False를 줌\n",
        "clean_summary = []\n",
        "for s in data['headlines']:\n",
        "    clean_summary.append(preprocess_sentence(s, False))\n",
        "\n",
        "print(\"Summary 전처리 후 결과: \", clean_summary[:5])"
      ],
      "metadata": {
        "colab": {
          "base_uri": "https://localhost:8080/"
        },
        "id": "WN2CemD5Kbi3",
        "outputId": "f88c07bb-4ab9-41ff-92d0-91db952ef9dc"
      },
      "execution_count": 17,
      "outputs": [
        {
          "output_type": "stream",
          "name": "stdout",
          "text": [
            "Summary 전처리 후 결과:  ['upgrad learner switches to career in ml al with salary hike', 'delhi techie wins free food from swiggy for one year on cred', 'new zealand end rohit sharma led india match winning streak', 'aegon life iterm insurance plan helps customers save tax', 'have known hirani for yrs what if metoo claims are not true sonam']\n"
          ]
        }
      ]
    },
    {
      "cell_type": "markdown",
      "source": [
        "위와 같이 전처리를 하면, 모든 단어가 지워져서 빈 칸이 있을 것이다. 이를 확인하고, 널값으로 만들어 준 다음 삭제시키자."
      ],
      "metadata": {
        "id": "4IoX2t_ELQih"
      }
    },
    {
      "cell_type": "code",
      "source": [
        "import numpy as np\n",
        "data['test'] = clean_text\n",
        "data['headlines'] = clean_summary\n",
        "\n",
        "# 빈 값을 Null 값으로 변환\n",
        "data.replace('', np.nan, inplace=True)\n",
        "data.isnull().sum()"
      ],
      "metadata": {
        "colab": {
          "base_uri": "https://localhost:8080/"
        },
        "id": "HFEaiGZvLZUb",
        "outputId": "dfb5b8a5-2419-4852-c962-ea0401594dc9"
      },
      "execution_count": 18,
      "outputs": [
        {
          "output_type": "execute_result",
          "data": {
            "text/plain": [
              "headlines    0\n",
              "text         0\n",
              "test         0\n",
              "dtype: int64"
            ]
          },
          "metadata": {},
          "execution_count": 18
        }
      ]
    },
    {
      "cell_type": "markdown",
      "source": [
        "널 값이 없다는 것을 확인할 수 있었다. 그러면 이제 본격적인 모델링에 앞서 훈련데이터와 테스트데이터로 나눠보자."
      ],
      "metadata": {
        "id": "bSuFJidVLtGB"
      }
    },
    {
      "cell_type": "code",
      "source": [
        "# 길이 분포 출력\n",
        "import matplotlib.pyplot as plt\n",
        "\n",
        "text_len = [len(s.split()) for s in data['text']]\n",
        "headlines_len = [len(s.split()) for s in data['headlines']]\n",
        "\n",
        "print('텍스트의 최소 길이 : {}'.format(np.min(text_len)))\n",
        "print('텍스트의 최대 길이 : {}'.format(np.max(text_len)))\n",
        "print('텍스트의 평균 길이 : {}'.format(np.mean(text_len)))\n",
        "print('요약의 최소 길이 : {}'.format(np.min(headlines_len)))\n",
        "print('요약의 최대 길이 : {}'.format(np.max(headlines_len)))\n",
        "print('요약의 평균 길이 : {}'.format(np.mean(headlines_len)))\n",
        "\n",
        "plt.subplot(1,2,1)\n",
        "plt.boxplot(text_len)\n",
        "plt.title('Text')\n",
        "plt.subplot(1,2,2)\n",
        "plt.boxplot(headlines_len)\n",
        "plt.title('Headlines')\n",
        "plt.tight_layout()\n",
        "plt.show()\n",
        "\n",
        "plt.title('Text')\n",
        "plt.hist(text_len, bins = 40)\n",
        "plt.xlabel('length of samples')\n",
        "plt.ylabel('number of samples')\n",
        "plt.show()\n",
        "\n",
        "plt.title('Headlines')\n",
        "plt.hist(headlines_len, bins = 40)\n",
        "plt.xlabel('length of samples')\n",
        "plt.ylabel('number of samples')\n",
        "plt.show()"
      ],
      "metadata": {
        "colab": {
          "base_uri": "https://localhost:8080/",
          "height": 962
        },
        "id": "t4WPguhyL-R6",
        "outputId": "57a02150-2184-41cc-8f3b-52fc5bb155e5"
      },
      "execution_count": 19,
      "outputs": [
        {
          "output_type": "stream",
          "name": "stdout",
          "text": [
            "텍스트의 최소 길이 : 1\n",
            "텍스트의 최대 길이 : 91\n",
            "텍스트의 평균 길이 : 58.23813542090281\n",
            "요약의 최소 길이 : 1\n",
            "요약의 최대 길이 : 16\n",
            "요약의 평균 길이 : 9.299532330215534\n"
          ]
        },
        {
          "output_type": "display_data",
          "data": {
            "text/plain": [
              "<Figure size 432x288 with 2 Axes>"
            ],
            "image/png": "[encoded data removed]"
          },
          "metadata": {
            "needs_background": "light"
          }
        },
        {
          "output_type": "display_data",
          "data": {
            "text/plain": [
              "<Figure size 432x288 with 1 Axes>"
            ],
            "image/png": "[encoded data removed]"
          },
          "metadata": {
            "needs_background": "light"
          }
        },
        {
          "output_type": "display_data",
          "data": {
            "text/plain": [
              "<Figure size 432x288 with 1 Axes>"
            ],
            "image/png": "[encoded data removed]"
          },
          "metadata": {
            "needs_background": "light"
          }
        }
      ]
    },
    {
      "cell_type": "markdown",
      "source": [
        "노드에서는 평균 길이를 사용했다.\n",
        "\n",
        "하지만, 나는 최고 길이를 사용해야 좀 더 좋은 값을 얻을 거라 생각한다. 어차피 길이 짧은 값들은 0으로 패딩을 하면 되고, 길이가 긴 문장을 짧은 문장으로 강제로 줄이게 되면 아예 다른 뜻으로 바뀔 수 있다는 생각 때문이다.\n",
        "\n",
        "그래서, 최대길이를 사용해보겠다."
      ],
      "metadata": {
        "id": "gxdncgBuMt5b"
      }
    },
    {
      "cell_type": "code",
      "source": [
        "text_max_len = 91\n",
        "headlines_max_len = 16"
      ],
      "metadata": {
        "id": "99-LJxA5NJxh"
      },
      "execution_count": 20,
      "outputs": []
    },
    {
      "cell_type": "markdown",
      "source": [
        "얼마나 많은 샘플들을 자르지 않고 포함할 수 있을지 통계로 확인해보자."
      ],
      "metadata": {
        "id": "KOKwNDrsNcd6"
      }
    },
    {
      "cell_type": "code",
      "source": [
        "def below_threshold_len(max_len, nested_list):\n",
        "  cnt = 0\n",
        "  for s in nested_list:\n",
        "    if(len(s.split()) <= max_len):\n",
        "        cnt = cnt + 1\n",
        "  print('전체 샘플 중 길이가 %s 이하인 샘플의 비율: %s'%(max_len, (cnt / len(nested_list))))"
      ],
      "metadata": {
        "id": "KiSJWuafNSfG"
      },
      "execution_count": 21,
      "outputs": []
    },
    {
      "cell_type": "code",
      "source": [
        "below_threshold_len(text_max_len, data['text'])\n",
        "below_threshold_len(headlines_max_len,  data['headlines'])"
      ],
      "metadata": {
        "colab": {
          "base_uri": "https://localhost:8080/"
        },
        "id": "toxSTbaANjRm",
        "outputId": "0ab2b3f5-156f-4b4d-8111-936000c129ad"
      },
      "execution_count": 22,
      "outputs": [
        {
          "output_type": "stream",
          "name": "stdout",
          "text": [
            "전체 샘플 중 길이가 91 이하인 샘플의 비율: 1.0\n",
            "전체 샘플 중 길이가 16 이하인 샘플의 비율: 1.0\n"
          ]
        }
      ]
    },
    {
      "cell_type": "markdown",
      "source": [
        "역시 최대 길이를 설정하니, 모든 데이터가 편집 없이 원본 데이터를 쓸 수 있다고 나온다."
      ],
      "metadata": {
        "id": "fVmLnpQRNqdz"
      }
    },
    {
      "cell_type": "markdown",
      "source": [
        "위에서 언급했 듯이, 데이터가 수정되면 원래의 뜻과 달라질 수 있다. 그래서, 의도한 바와 다르게 요약될 수 있다. 이런 오류를 줄이기 위해서,해당 길이보다 긴 샘플들을 훈련 데이터에서 삭제되게 만들어줘야 한다.\n",
        "                    \n",
        "\n",
        "```\n",
        "data = data[data['Text'].apply(lambda x: len(x.split()) <= text_max_len)]\n",
        "data = data[data['Summary'].apply(lambda x: len(x.split()) <= summary_max_len)]\n",
        "print('전체 샘플수 :', (len(data)))\n",
        "```\n",
        "\n"
      ],
      "metadata": {
        "id": "OBoHMXbYOFk4"
      }
    },
    {
      "cell_type": "markdown",
      "source": [
        "디코더는 시작 토큰을 입력받아 문장을 생성하기 시작하고, 종료 토큰을 예측한 순간에 문장 생성을 멈춘다. \n",
        "\n",
        "그리고 훈련을 하기 위해, numpy로 바꿔줘야 한다."
      ],
      "metadata": {
        "id": "zDgLG8XMOvmJ"
      }
    },
    {
      "cell_type": "code",
      "source": [
        "# 요약 데이터에는 시작 토큰과 종료 토큰을 추가한다.\n",
        "data['decoder_input'] = data['headlines'].apply(lambda x : 'sostoken '+ x)\n",
        "data['decoder_target'] = data['headlines'].apply(lambda x : x + ' eostoken')\n",
        "encoder_input = np.array(data['text']) # 인코더의 입력\n",
        "decoder_input = np.array(data['decoder_input']) # 디코더의 입력\n",
        "decoder_target = np.array(data['decoder_target']) # 디코더의 레이블"
      ],
      "metadata": {
        "id": "jbDtd_E1OBCD"
      },
      "execution_count": 25,
      "outputs": []
    },
    {
      "cell_type": "code",
      "source": [
        "from sklearn.model_selection import train_test_split\n",
        "encoder_input_train, encoder_input_test = train_test_split(encoder_input,test_size=0.2, random_state=42)\n",
        "decoder_input_train, decoder_input_test = train_test_split(decoder_input,test_size=0.2, random_state=42)\n",
        "decoder_target_train, decoder_target_test = train_test_split(decoder_target,test_size=0.2, random_state=42)\n",
        "print('훈련 데이터의 개수 :', len(encoder_input_train))\n",
        "print('훈련 레이블의 개수 :', len(decoder_input_train))\n",
        "print('테스트 데이터의 개수 :', len(encoder_input_test))\n",
        "print('테스트 레이블의 개수 :', len(decoder_input_test))"
      ],
      "metadata": {
        "colab": {
          "base_uri": "https://localhost:8080/"
        },
        "id": "nus92uIbT0Xz",
        "outputId": "b297205c-d351-4b13-ce73-a52d10efcf45"
      },
      "execution_count": 35,
      "outputs": [
        {
          "output_type": "stream",
          "name": "stdout",
          "text": [
            "훈련 데이터의 개수 : 78688\n",
            "훈련 레이블의 개수 : 78688\n",
            "테스트 데이터의 개수 : 19672\n",
            "테스트 레이블의 개수 : 19672\n"
          ]
        }
      ]
    },
    {
      "cell_type": "markdown",
      "source": [
        "이제 기계가 텍스트를 숫자로 처리할 수 있도록 훈련 데이터와 테스트 데이터의 단어들을 모두 정수로 바꾸어 주어야 한다. 이를 위해서는 각 단어에 고유한 정수를 맵핑하는 작업이 필요하다. 이 과정을 단어 집합(vocabulary)을 만든다고 표현한다. 훈련 데이터에 대해서 단어 집합을 만들어 보겠다.\n",
        "\n",
        "Keras의 토크나이저를 사용하면, 입력된 훈련 데이터로부터 단어 집합을 만들 수 있다."
      ],
      "metadata": {
        "id": "qPSzlxeHOAOf"
      }
    },
    {
      "cell_type": "code",
      "source": [
        "from keras.preprocessing.text import Tokenizer\n",
        "src_tokenizer = Tokenizer() # 토크나이저 정의\n",
        "src_tokenizer.fit_on_texts(encoder_input_train) # 입력된 데이터로부터 단어 집합 생성"
      ],
      "metadata": {
        "id": "T873ohE9WCag"
      },
      "execution_count": 38,
      "outputs": []
    },
    {
      "cell_type": "markdown",
      "source": [
        "현재 생성된 단어 집합은 src_tokenizer.word_index에 저장되어 있다. 이렇게 만든 단어 집합에 있는 모든 단어를 사용하는 것이 아니라, 빈도수가 낮은 단어들은 훈련 데이터에서 제외하고 진행하려고 한다.\n",
        "\n",
        "등장 빈도수가 7회 미만인 단어들이 이 데이터에서 얼만큼의 비중을 차지하는 지 확인해보겠다.\n",
        "\n",
        "src_tokenizer.word_counts.items()에는 단어와 각 단어의 등장 빈도수가 저장돼 있는데, 이를 통해서 통계적인 정보를 얻어보자."
      ],
      "metadata": {
        "id": "FiSI2_oXWqBo"
      }
    },
    {
      "cell_type": "code",
      "source": [
        "threshold = 6\n",
        "total_cnt = len(src_tokenizer.word_index) # 단어의 수\n",
        "rare_cnt = 0 # 등장 빈도수가 threshold보다 작은 단어의 개수를 카운트\n",
        "total_freq = 0 # 훈련 데이터의 전체 단어 빈도수 총 합\n",
        "rare_freq = 0 # 등장 빈도수가 threshold보다 작은 단어의 등장 빈도수의 총 합\n",
        "\n",
        "# 단어와 빈도수의 쌍(pair)을 key와 value로 받는다.\n",
        "for key, value in src_tokenizer.word_counts.items():\n",
        "    total_freq = total_freq + value\n",
        "\n",
        "    # 단어의 등장 빈도수가 threshold보다 작으면\n",
        "    if(value < threshold):\n",
        "        rare_cnt = rare_cnt + 1\n",
        "        rare_freq = rare_freq + value\n",
        "\n",
        "print('단어 집합(vocabulary)의 크기 :', total_cnt)\n",
        "print('등장 빈도가 %s번 이하인 희귀 단어의 수: %s'%(threshold - 1, rare_cnt))\n",
        "print('단어 집합에서 희귀 단어를 제외시킬 경우의 단어 집합의 크기 %s'%(total_cnt - rare_cnt))\n",
        "print(\"단어 집합에서 희귀 단어의 비율:\", (rare_cnt / total_cnt)*100)\n",
        "print(\"전체 등장 빈도에서 희귀 단어 등장 빈도 비율:\", (rare_freq / total_freq)*100)"
      ],
      "metadata": {
        "colab": {
          "base_uri": "https://localhost:8080/"
        },
        "id": "QkQntshAWCdX",
        "outputId": "c43f3453-44e9-4a2c-81d9-ee715e0662f5"
      },
      "execution_count": 42,
      "outputs": [
        {
          "output_type": "stream",
          "name": "stdout",
          "text": [
            "단어 집합(vocabulary)의 크기 : 91208\n",
            "등장 빈도가 5번 이하인 희귀 단어의 수: 64230\n",
            "단어 집합에서 희귀 단어를 제외시킬 경우의 단어 집합의 크기 26978\n",
            "단어 집합에서 희귀 단어의 비율: 70.42145425839838\n",
            "전체 등장 빈도에서 희귀 단어 등장 빈도 비율: 2.4406697412855536\n"
          ]
        }
      ]
    },
    {
      "cell_type": "markdown",
      "source": [
        "등장 빈도가 threshold 값인 7회 미만, 즉 6회 이하인 단어들은 단어 집합에서 무려 70% 이상 차지 but 등장 빈도로 차지하는 비중은 3%대라 삭제하겠다."
      ],
      "metadata": {
        "id": "m3UtVh4OY7J3"
      }
    },
    {
      "cell_type": "markdown",
      "source": [
        "vocab이 빈도수가 제일 많은 값부터 위에서 아래로 오름차순으로 정렬되어 있다. 그래서 전체 집합을 숫자를 줄이면, 빈도수가 낮아지는 것이 줄어들게 된다."
      ],
      "metadata": {
        "id": "V_gdS24mcREM"
      }
    },
    {
      "cell_type": "code",
      "source": [
        "src_vocab = 27000\n",
        "src_tokenizer = Tokenizer(num_words=src_vocab) # 단어 집합의 크기를 27,000으로 제한\n",
        "src_tokenizer.fit_on_texts(encoder_input_train) # 단어 집합 재생성"
      ],
      "metadata": {
        "id": "ANqPI2a8WChP"
      },
      "execution_count": 43,
      "outputs": []
    },
    {
      "cell_type": "code",
      "source": [
        "# 텍스트 시퀀스를 정수 시퀀스로 변환\n",
        "encoder_input_train = src_tokenizer.texts_to_sequences(encoder_input_train) \n",
        "encoder_input_test = src_tokenizer.texts_to_sequences(encoder_input_test)\n",
        "\n",
        "# 잘 진행되었는지 샘플 출력\n",
        "print(encoder_input_train[:3])"
      ],
      "metadata": {
        "colab": {
          "base_uri": "https://localhost:8080/"
        },
        "id": "oWCBVgf8Zo-7",
        "outputId": "b28be0a2-0d21-4201-aa10-72f9dc128f6c"
      },
      "execution_count": 44,
      "outputs": [
        {
          "output_type": "stream",
          "name": "stdout",
          "text": [
            "[[2531, 478, 58, 7249, 7698, 7, 134, 3227, 253, 671, 162, 1151, 1543, 559, 3, 1968, 232, 14, 184, 6068, 2712, 954, 4, 21, 7698, 762, 1151, 1543, 559, 64, 17, 504, 2, 13584, 199, 1, 55, 601, 3517, 3456, 671, 1894, 6, 1175, 14501, 5, 2832, 7, 1, 671, 3961, 35, 122, 509, 5, 1151, 1543, 6069, 480, 16, 41, 60, 206, 136], [49, 892, 4, 9053, 399, 26, 456, 16799, 4, 4307, 8233, 6, 1066, 50, 47, 10808, 3497, 89, 4702, 28, 4226, 6387, 6, 581, 9, 276, 9053, 8, 3, 1389, 53, 1825, 1857, 2596, 2807, 15, 3497, 193, 5, 2353, 44, 6, 28, 44, 1665, 2, 1529, 1263, 4346, 1, 49, 10], [1121, 336, 250, 74, 239, 19, 8496, 2759, 26, 10599, 1, 5079, 5, 3, 101, 7, 1730, 628, 8497, 20, 132, 375, 1398, 634, 6, 1815, 1406, 26979, 10196, 2935, 1, 4463, 6388, 425, 1, 5578, 31, 3751, 2, 14023, 425, 8497, 2284, 1, 239, 12, 4250, 15, 6970, 3, 5194, 4, 22999, 6, 2, 3209, 1, 6735]]\n"
          ]
        }
      ]
    },
    {
      "cell_type": "code",
      "source": [
        "tar_tokenizer = Tokenizer()\n",
        "tar_tokenizer.fit_on_texts(decoder_input_train)"
      ],
      "metadata": {
        "id": "hgbup8sHcvO8"
      },
      "execution_count": 45,
      "outputs": []
    },
    {
      "cell_type": "code",
      "source": [
        "threshold = 4\n",
        "total_cnt = len(tar_tokenizer.word_index) # 단어의 수\n",
        "rare_cnt = 0 # 등장 빈도수가 threshold보다 작은 단어의 개수를 카운트\n",
        "total_freq = 0 # 훈련 데이터의 전체 단어 빈도수 총 합\n",
        "rare_freq = 0 # 등장 빈도수가 threshold보다 작은 단어의 등장 빈도수의 총 합\n",
        "\n",
        "# 단어와 빈도수의 쌍(pair)을 key와 value로 받는다.\n",
        "for key, value in tar_tokenizer.word_counts.items():\n",
        "    total_freq = total_freq + value\n",
        "\n",
        "    # 단어의 등장 빈도수가 threshold보다 작으면\n",
        "    if(value < threshold):\n",
        "        rare_cnt = rare_cnt + 1\n",
        "        rare_freq = rare_freq + value\n",
        "\n",
        "print('단어 집합(vocabulary)의 크기 :', total_cnt)\n",
        "print('등장 빈도가 %s번 이하인 희귀 단어의 수: %s'%(threshold - 1, rare_cnt))\n",
        "print('단어 집합에서 희귀 단어를 제외시킬 경우의 단어 집합의 크기 %s'%(total_cnt - rare_cnt))\n",
        "print(\"단어 집합에서 희귀 단어의 비율:\", (rare_cnt / total_cnt)*100)\n",
        "print(\"전체 등장 빈도에서 희귀 단어 등장 빈도 비율:\", (rare_freq / total_freq)*100)"
      ],
      "metadata": {
        "colab": {
          "base_uri": "https://localhost:8080/"
        },
        "id": "uX4odGEhc0mh",
        "outputId": "0b3b9882-d92a-4da4-934f-7a224505a5b6"
      },
      "execution_count": 48,
      "outputs": [
        {
          "output_type": "stream",
          "name": "stdout",
          "text": [
            "단어 집합(vocabulary)의 크기 : 30083\n",
            "등장 빈도가 3번 이하인 희귀 단어의 수: 16943\n",
            "단어 집합에서 희귀 단어를 제외시킬 경우의 단어 집합의 크기 13140\n",
            "단어 집합에서 희귀 단어의 비율: 56.32084566033973\n",
            "전체 등장 빈도에서 희귀 단어 등장 빈도 비율: 3.156553508830357\n"
          ]
        }
      ]
    },
    {
      "cell_type": "code",
      "source": [
        "tar_vocab = 13200\n",
        "tar_tokenizer = Tokenizer(num_words=tar_vocab) \n",
        "tar_tokenizer.fit_on_texts(decoder_input_train)\n",
        "tar_tokenizer.fit_on_texts(decoder_target_train)\n",
        "\n",
        "# 텍스트 시퀀스를 정수 시퀀스로 변환\n",
        "decoder_input_train = tar_tokenizer.texts_to_sequences(decoder_input_train) \n",
        "decoder_target_train = tar_tokenizer.texts_to_sequences(decoder_target_train)\n",
        "decoder_input_test = tar_tokenizer.texts_to_sequences(decoder_input_test)\n",
        "decoder_target_test = tar_tokenizer.texts_to_sequences(decoder_target_test)\n",
        "\n",
        "# 잘 변환되었는지 확인\n",
        "print('input')\n",
        "print('input ',decoder_input_train[:5])\n",
        "print('target')\n",
        "print('decoder ',decoder_target_train[:5])"
      ],
      "metadata": {
        "colab": {
          "base_uri": "https://localhost:8080/"
        },
        "id": "1XGzAIREdBcB",
        "outputId": "43674693-ae50-4fc6-ce24-0eb73074900f"
      },
      "execution_count": 49,
      "outputs": [
        {
          "output_type": "stream",
          "name": "stdout",
          "text": [
            "input\n",
            "input  [[1, 153, 1614, 357, 114, 676, 1057, 173, 2275, 5, 4530], [1, 86, 63, 4531, 6, 11582, 4842, 4, 6828, 3042], [1, 291, 11583, 6, 123, 2631, 52, 638, 81, 4286], [1, 45, 3186, 3503, 7642, 7, 3584, 182, 3, 10357, 911], [1, 540, 949, 657, 1884, 1255, 2982, 3, 1819, 22]]\n",
            "target\n",
            "decoder  [[153, 1614, 357, 114, 676, 1057, 173, 2275, 5, 4530, 2], [86, 63, 4531, 6, 11582, 4842, 4, 6828, 3042, 2], [291, 11583, 6, 123, 2631, 52, 638, 81, 4286, 2], [45, 3186, 3503, 7642, 7, 3584, 182, 3, 10357, 911, 2], [540, 949, 657, 1884, 1255, 2982, 3, 1819, 22, 2]]\n"
          ]
        }
      ]
    },
    {
      "cell_type": "markdown",
      "source": [
        "전처리를 통해, 문장이 아예 없어질 수도 있다. 있는 지 확인하고, 삭제해줘야 한다."
      ],
      "metadata": {
        "id": "w5a9i5C_mN-t"
      }
    },
    {
      "cell_type": "code",
      "source": [
        "drop_train = [index for index, sentence in enumerate(decoder_input_train) if len(sentence) == 1]\n",
        "drop_test = [index for index, sentence in enumerate(decoder_input_test) if len(sentence) == 1]\n",
        "\n",
        "print('삭제할 훈련 데이터의 개수 :', len(drop_train))\n",
        "print('삭제할 테스트 데이터의 개수 :', len(drop_test))\n",
        "\n",
        "encoder_input_train = [sentence for index, sentence in enumerate(encoder_input_train) if index not in drop_train]\n",
        "decoder_input_train = [sentence for index, sentence in enumerate(decoder_input_train) if index not in drop_train]\n",
        "decoder_target_train = [sentence for index, sentence in enumerate(decoder_target_train) if index not in drop_train]\n",
        "\n",
        "encoder_input_test = [sentence for index, sentence in enumerate(encoder_input_test) if index not in drop_test]\n",
        "decoder_input_test = [sentence for index, sentence in enumerate(decoder_input_test) if index not in drop_test]\n",
        "decoder_target_test = [sentence for index, sentence in enumerate(decoder_target_test) if index not in drop_test]\n",
        "\n",
        "print('훈련 데이터의 개수 :', len(encoder_input_train))\n",
        "print('훈련 레이블의 개수 :', len(decoder_input_train))\n",
        "print('테스트 데이터의 개수 :', len(encoder_input_test))\n",
        "print('테스트 레이블의 개수 :', len(decoder_input_test))"
      ],
      "metadata": {
        "colab": {
          "base_uri": "https://localhost:8080/"
        },
        "id": "JVoDOKXndMUR",
        "outputId": "3ff7fde1-c472-4639-8a6b-250f5eee3612"
      },
      "execution_count": 50,
      "outputs": [
        {
          "output_type": "stream",
          "name": "stdout",
          "text": [
            "삭제할 훈련 데이터의 개수 : 0\n",
            "삭제할 테스트 데이터의 개수 : 0\n",
            "훈련 데이터의 개수 : 78688\n",
            "훈련 레이블의 개수 : 78688\n",
            "테스트 데이터의 개수 : 19672\n",
            "테스트 레이블의 개수 : 19672\n"
          ]
        }
      ]
    },
    {
      "cell_type": "markdown",
      "source": [
        "길이가 다르기 때문에, modeling을 할 수 없다. 그래서, padding을 해줘서 사이즈를 맞춰줘야 한다."
      ],
      "metadata": {
        "id": "E6lYPEOLpKWV"
      }
    },
    {
      "cell_type": "code",
      "source": [
        "from tensorflow.keras.preprocessing.sequence import pad_sequences\n",
        "encoder_input_train = pad_sequences(encoder_input_train, maxlen=text_max_len, padding='post')\n",
        "encoder_input_test = pad_sequences(encoder_input_test, maxlen=text_max_len, padding='post')\n",
        "decoder_input_train = pad_sequences(decoder_input_train, maxlen=headlines_max_len, padding='post')\n",
        "decoder_target_train = pad_sequences(decoder_target_train, maxlen=headlines_max_len, padding='post')\n",
        "decoder_input_test = pad_sequences(decoder_input_test, maxlen=headlines_max_len, padding='post')\n",
        "decoder_target_test = pad_sequences(decoder_target_test, maxlen=headlines_max_len, padding='post')"
      ],
      "metadata": {
        "id": "f0GHDf5odQAa"
      },
      "execution_count": 55,
      "outputs": []
    },
    {
      "cell_type": "markdown",
      "source": [
        "#### 모델링"
      ],
      "metadata": {
        "id": "jSLX4yTMsWIS"
      }
    },
    {
      "cell_type": "code",
      "source": [
        "from tensorflow.keras.layers import Input, LSTM, Embedding, Dense, Concatenate, TimeDistributed\n",
        "from tensorflow.keras.models import Model\n",
        "from tensorflow.keras.callbacks import EarlyStopping, ModelCheckpoint\n",
        "\n",
        "# 인코더 설계 시작\n",
        "embedding_dim = 128\n",
        "hidden_size = 256\n",
        "\n",
        "# 인코더\n",
        "encoder_inputs = Input(shape=(text_max_len,))\n",
        "\n",
        "# 인코더의 임베딩 층\n",
        "enc_emb = Embedding(src_vocab, embedding_dim)(encoder_inputs)\n",
        "\n",
        "# 인코더의 LSTM 1\n",
        "# encoder_lstm1 = LSTM(hidden_size, return_sequences=True, return_state=True ,dropout = 0.4, recurrent_dropout = 0.4)\n",
        "encoder_lstm1 = LSTM(hidden_size, return_sequences=True, return_state=True ,dropout = 0.4)\n",
        "encoder_output1, state_h1, state_c1 = encoder_lstm1(enc_emb)\n",
        "\n",
        "# 인코더의 LSTM 2\n",
        "# encoder_lstm2 = LSTM(hidden_size, return_sequences=True, return_state=True, dropout=0.4, recurrent_dropout=0.4)\n",
        "encoder_lstm2 = LSTM(hidden_size, return_sequences=True, return_state=True, dropout=0.4)\n",
        "encoder_output2, state_h2, state_c2 = encoder_lstm2(encoder_output1)\n",
        "\n",
        "# 인코더의 LSTM 3\n",
        "# encoder_lstm3 = LSTM(hidden_size, return_state=True, return_sequences=True, dropout=0.4, recurrent_dropout=0.4)\n",
        "encoder_lstm3 = LSTM(hidden_size, return_state=True, return_sequences=True, dropout=0.4)\n",
        "encoder_outputs, state_h, state_c= encoder_lstm3(encoder_output2)"
      ],
      "metadata": {
        "id": "FapWT3ADdwtm"
      },
      "execution_count": 56,
      "outputs": []
    },
    {
      "cell_type": "code",
      "source": [
        "# 디코더 설계\n",
        "decoder_inputs = Input(shape=(None,))\n",
        "\n",
        "# 디코더의 임베딩 층\n",
        "dec_emb_layer = Embedding(tar_vocab, embedding_dim)\n",
        "dec_emb = dec_emb_layer(decoder_inputs)\n",
        "\n",
        "# 디코더의 LSTM\n",
        "# decoder_lstm = LSTM(hidden_size, return_sequences=True, return_state=True, dropout=0.4, recurrent_dropout=0.2)\n",
        "decoder_lstm = LSTM(hidden_size, return_sequences=True, return_state=True, dropout=0.4)\n",
        "decoder_outputs, _, _ = decoder_lstm(dec_emb, initial_state=[state_h, state_c])"
      ],
      "metadata": {
        "id": "Zw5DlyGyd_hM"
      },
      "execution_count": 57,
      "outputs": []
    },
    {
      "cell_type": "code",
      "source": [
        "# 디코더의 출력층\n",
        "decoder_softmax_layer = Dense(tar_vocab, activation='softmax')\n",
        "decoder_softmax_outputs = decoder_softmax_layer(decoder_outputs) \n",
        "\n",
        "# 모델 정의\n",
        "model = Model([encoder_inputs, decoder_inputs], decoder_softmax_outputs)\n",
        "model.summary()"
      ],
      "metadata": {
        "colab": {
          "base_uri": "https://localhost:8080/"
        },
        "id": "JjEvnwWveAy9",
        "outputId": "c22be355-82da-473d-f168-c2b9d38bac28"
      },
      "execution_count": 58,
      "outputs": [
        {
          "output_type": "stream",
          "name": "stdout",
          "text": [
            "Model: \"model\"\n",
            "__________________________________________________________________________________________________\n",
            " Layer (type)                   Output Shape         Param #     Connected to                     \n",
            "==================================================================================================\n",
            " input_1 (InputLayer)           [(None, 91)]         0           []                               \n",
            "                                                                                                  \n",
            " embedding (Embedding)          (None, 91, 128)      3456000     ['input_1[0][0]']                \n",
            "                                                                                                  \n",
            " lstm (LSTM)                    [(None, 91, 256),    394240      ['embedding[0][0]']              \n",
            "                                 (None, 256),                                                     \n",
            "                                 (None, 256)]                                                     \n",
            "                                                                                                  \n",
            " input_2 (InputLayer)           [(None, None)]       0           []                               \n",
            "                                                                                                  \n",
            " lstm_1 (LSTM)                  [(None, 91, 256),    525312      ['lstm[0][0]']                   \n",
            "                                 (None, 256),                                                     \n",
            "                                 (None, 256)]                                                     \n",
            "                                                                                                  \n",
            " embedding_1 (Embedding)        (None, None, 128)    1689600     ['input_2[0][0]']                \n",
            "                                                                                                  \n",
            " lstm_2 (LSTM)                  [(None, 91, 256),    525312      ['lstm_1[0][0]']                 \n",
            "                                 (None, 256),                                                     \n",
            "                                 (None, 256)]                                                     \n",
            "                                                                                                  \n",
            " lstm_3 (LSTM)                  [(None, None, 256),  394240      ['embedding_1[0][0]',            \n",
            "                                 (None, 256),                     'lstm_2[0][1]',                 \n",
            "                                 (None, 256)]                     'lstm_2[0][2]']                 \n",
            "                                                                                                  \n",
            " dense (Dense)                  (None, None, 13200)  3392400     ['lstm_3[0][0]']                 \n",
            "                                                                                                  \n",
            "==================================================================================================\n",
            "Total params: 10,377,104\n",
            "Trainable params: 10,377,104\n",
            "Non-trainable params: 0\n",
            "__________________________________________________________________________________________________\n"
          ]
        }
      ]
    },
    {
      "cell_type": "markdown",
      "source": [
        "여기까지가 제일 기본적인, seq2seq의 기본 구조이다. 하지만, 이러한 방식으로는 만족하는 결과치를 볼 수 없다. \n",
        "\n",
        "조금 더, 성능을 업그레이드 하기 위해서, 어텐션 메커니즘을 사용해야 한다."
      ],
      "metadata": {
        "id": "lDu7fNIdppyp"
      }
    },
    {
      "cell_type": "code",
      "source": [
        "from tensorflow.keras.layers import AdditiveAttention\n",
        "\n",
        "# 어텐션 층(어텐션 함수)\n",
        "attn_layer = AdditiveAttention(name='attention_layer')\n",
        "\n",
        "# 인코더와 디코더의 모든 time step의 hidden state를 어텐션 층에 전달하고 결과를 리턴\n",
        "attn_out = attn_layer([decoder_outputs, encoder_outputs])\n",
        "\n",
        "\n",
        "# 어텐션의 결과와 디코더의 hidden state들을 연결\n",
        "decoder_concat_input = Concatenate(axis=-1, name='concat_layer')([decoder_outputs, attn_out])\n",
        "\n",
        "# 디코더의 출력층\n",
        "decoder_softmax_layer = Dense(tar_vocab, activation='softmax')\n",
        "decoder_softmax_outputs = decoder_softmax_layer(decoder_concat_input)\n",
        "\n",
        "# 모델 정의\n",
        "model = Model([encoder_inputs, decoder_inputs], decoder_softmax_outputs)\n",
        "model.summary()"
      ],
      "metadata": {
        "colab": {
          "base_uri": "https://localhost:8080/"
        },
        "id": "1XPXzjH3eCQx",
        "outputId": "97d317c2-9224-45fa-e70e-5b2c13b8108a"
      },
      "execution_count": 59,
      "outputs": [
        {
          "output_type": "stream",
          "name": "stdout",
          "text": [
            "Model: \"model_1\"\n",
            "__________________________________________________________________________________________________\n",
            " Layer (type)                   Output Shape         Param #     Connected to                     \n",
            "==================================================================================================\n",
            " input_1 (InputLayer)           [(None, 91)]         0           []                               \n",
            "                                                                                                  \n",
            " embedding (Embedding)          (None, 91, 128)      3456000     ['input_1[0][0]']                \n",
            "                                                                                                  \n",
            " lstm (LSTM)                    [(None, 91, 256),    394240      ['embedding[0][0]']              \n",
            "                                 (None, 256),                                                     \n",
            "                                 (None, 256)]                                                     \n",
            "                                                                                                  \n",
            " input_2 (InputLayer)           [(None, None)]       0           []                               \n",
            "                                                                                                  \n",
            " lstm_1 (LSTM)                  [(None, 91, 256),    525312      ['lstm[0][0]']                   \n",
            "                                 (None, 256),                                                     \n",
            "                                 (None, 256)]                                                     \n",
            "                                                                                                  \n",
            " embedding_1 (Embedding)        (None, None, 128)    1689600     ['input_2[0][0]']                \n",
            "                                                                                                  \n",
            " lstm_2 (LSTM)                  [(None, 91, 256),    525312      ['lstm_1[0][0]']                 \n",
            "                                 (None, 256),                                                     \n",
            "                                 (None, 256)]                                                     \n",
            "                                                                                                  \n",
            " lstm_3 (LSTM)                  [(None, None, 256),  394240      ['embedding_1[0][0]',            \n",
            "                                 (None, 256),                     'lstm_2[0][1]',                 \n",
            "                                 (None, 256)]                     'lstm_2[0][2]']                 \n",
            "                                                                                                  \n",
            " attention_layer (AdditiveAtten  (None, None, 256)   256         ['lstm_3[0][0]',                 \n",
            " tion)                                                            'lstm_2[0][0]']                 \n",
            "                                                                                                  \n",
            " concat_layer (Concatenate)     (None, None, 512)    0           ['lstm_3[0][0]',                 \n",
            "                                                                  'attention_layer[0][0]']        \n",
            "                                                                                                  \n",
            " dense_1 (Dense)                (None, None, 13200)  6771600     ['concat_layer[0][0]']           \n",
            "                                                                                                  \n",
            "==================================================================================================\n",
            "Total params: 13,756,560\n",
            "Trainable params: 13,756,560\n",
            "Non-trainable params: 0\n",
            "__________________________________________________________________________________________________\n"
          ]
        }
      ]
    },
    {
      "cell_type": "code",
      "source": [
        "model.compile(optimizer='rmsprop', loss='sparse_categorical_crossentropy')\n",
        "es = EarlyStopping(monitor='val_loss', patience=2, verbose=1)\n",
        "history = model.fit(x=[encoder_input_train, decoder_input_train], y=decoder_target_train, \\\n",
        "          validation_data=([encoder_input_test, decoder_input_test], decoder_target_test), \\\n",
        "          batch_size=256, callbacks=[es], epochs=50)"
      ],
      "metadata": {
        "colab": {
          "base_uri": "https://localhost:8080/"
        },
        "id": "_VkFrBu5eF5n",
        "outputId": "33300e98-9f59-4c73-8152-ea1a8c542f10"
      },
      "execution_count": 60,
      "outputs": [
        {
          "output_type": "stream",
          "name": "stdout",
          "text": [
            "Epoch 1/50\n",
            "308/308 [==============================] - 55s 143ms/step - loss: 4.4659 - val_loss: 4.1171\n",
            "Epoch 2/50\n",
            "308/308 [==============================] - 43s 138ms/step - loss: 3.9991 - val_loss: 3.8076\n",
            "Epoch 3/50\n",
            "308/308 [==============================] - 43s 138ms/step - loss: 3.7168 - val_loss: 3.5944\n",
            "Epoch 4/50\n",
            "308/308 [==============================] - 43s 138ms/step - loss: 3.5178 - val_loss: 3.4522\n",
            "Epoch 5/50\n",
            "308/308 [==============================] - 43s 139ms/step - loss: 3.3644 - val_loss: 3.3480\n",
            "Epoch 6/50\n",
            "308/308 [==============================] - 43s 138ms/step - loss: 3.2319 - val_loss: 3.2577\n",
            "Epoch 7/50\n",
            "308/308 [==============================] - 43s 139ms/step - loss: 3.1150 - val_loss: 3.1868\n",
            "Epoch 8/50\n",
            "308/308 [==============================] - 43s 138ms/step - loss: 3.0131 - val_loss: 3.1352\n",
            "Epoch 9/50\n",
            "308/308 [==============================] - 43s 139ms/step - loss: 2.9254 - val_loss: 3.0815\n",
            "Epoch 10/50\n",
            "308/308 [==============================] - 43s 139ms/step - loss: 2.8467 - val_loss: 3.0429\n",
            "Epoch 11/50\n",
            "308/308 [==============================] - 43s 139ms/step - loss: 2.7740 - val_loss: 3.0106\n",
            "Epoch 12/50\n",
            "308/308 [==============================] - 43s 139ms/step - loss: 2.7098 - val_loss: 2.9826\n",
            "Epoch 13/50\n",
            "308/308 [==============================] - 43s 139ms/step - loss: 2.6500 - val_loss: 2.9607\n",
            "Epoch 14/50\n",
            "308/308 [==============================] - 43s 139ms/step - loss: 2.5948 - val_loss: 2.9351\n",
            "Epoch 15/50\n",
            "308/308 [==============================] - 43s 139ms/step - loss: 2.5437 - val_loss: 2.9290\n",
            "Epoch 16/50\n",
            "308/308 [==============================] - 43s 139ms/step - loss: 2.4983 - val_loss: 2.9081\n",
            "Epoch 17/50\n",
            "308/308 [==============================] - 43s 139ms/step - loss: 2.4504 - val_loss: 2.8975\n",
            "Epoch 18/50\n",
            "308/308 [==============================] - 43s 139ms/step - loss: 2.4095 - val_loss: 2.8918\n",
            "Epoch 19/50\n",
            "308/308 [==============================] - 43s 139ms/step - loss: 2.3716 - val_loss: 2.8811\n",
            "Epoch 20/50\n",
            "308/308 [==============================] - 43s 138ms/step - loss: 2.3343 - val_loss: 2.8741\n",
            "Epoch 21/50\n",
            "308/308 [==============================] - 43s 138ms/step - loss: 2.2990 - val_loss: 2.8682\n",
            "Epoch 22/50\n",
            "308/308 [==============================] - 43s 139ms/step - loss: 2.2657 - val_loss: 2.8680\n",
            "Epoch 23/50\n",
            "308/308 [==============================] - 43s 138ms/step - loss: 2.2353 - val_loss: 2.8608\n",
            "Epoch 24/50\n",
            "308/308 [==============================] - 43s 138ms/step - loss: 2.2064 - val_loss: 2.8578\n",
            "Epoch 25/50\n",
            "308/308 [==============================] - 43s 138ms/step - loss: 2.1790 - val_loss: 2.8587\n",
            "Epoch 26/50\n",
            "308/308 [==============================] - 43s 138ms/step - loss: 2.1516 - val_loss: 2.8562\n",
            "Epoch 27/50\n",
            "308/308 [==============================] - 43s 138ms/step - loss: 2.1261 - val_loss: 2.8528\n",
            "Epoch 28/50\n",
            "308/308 [==============================] - 43s 138ms/step - loss: 2.1032 - val_loss: 2.8577\n",
            "Epoch 29/50\n",
            "308/308 [==============================] - 43s 138ms/step - loss: 2.0800 - val_loss: 2.8594\n",
            "Epoch 29: early stopping\n"
          ]
        }
      ]
    },
    {
      "cell_type": "code",
      "source": [
        "plt.plot(history.history['loss'], label='train')\n",
        "plt.plot(history.history['val_loss'], label='test')\n",
        "plt.legend()\n",
        "plt.show()"
      ],
      "metadata": {
        "colab": {
          "base_uri": "https://localhost:8080/",
          "height": 265
        },
        "id": "NQtnfKEZeG69",
        "outputId": "c1062b01-61fb-4506-9065-fe70da02efba"
      },
      "execution_count": 61,
      "outputs": [
        {
          "output_type": "display_data",
          "data": {
            "text/plain": [
              "<Figure size 432x288 with 1 Axes>"
            ],
            "image/png": "[encoded data removed]"
          },
          "metadata": {
            "needs_background": "light"
          }
        }
      ]
    },
    {
      "cell_type": "markdown",
      "source": [
        "\n",
        "\n",
        "```\n",
        "es = EarlyStopping(monitor='val_loss', patience=2, verbose=1)\n",
        "```\n",
        "val_loss(검증 데이터의 손실) 손실이 줄어들지 않고 증가하는 현상이 2회 과측되면 학습을 멈추도록 설정했다.\n",
        "\n",
        "이 때는, 28~29까지 줄어들지 않아 멈췄다. \n"
      ],
      "metadata": {
        "id": "BHvgPijRrsOY"
      }
    },
    {
      "cell_type": "markdown",
      "source": [
        "#### 결과 : 실제 결과와 요약문 비교하기"
      ],
      "metadata": {
        "id": "H0by4NkJN-6S"
      }
    },
    {
      "cell_type": "markdown",
      "source": [
        "테스트 단계에서는 정수 인덱스 행렬로 존재하던 텍스트 데이터를 실제 데이터로 복원해야 한다.\n",
        "\n",
        "이 때 필요한 3개의 사전을 만들어야 한다."
      ],
      "metadata": {
        "id": "jRLA7chOqi_a"
      }
    },
    {
      "cell_type": "code",
      "source": [
        "src_index_to_word = src_tokenizer.index_word # 원문 단어 집합에서 정수 -> 단어를 얻음\n",
        "tar_word_to_index = tar_tokenizer.word_index # 요약 단어 집합에서 단어 -> 정수를 얻음\n",
        "tar_index_to_word = tar_tokenizer.index_word # 요약 단어 집합에서 정수 -> 단어를 얻음"
      ],
      "metadata": {
        "id": "fWAEKrf9qgmF"
      },
      "execution_count": 62,
      "outputs": []
    },
    {
      "cell_type": "markdown",
      "source": [
        "seq2seq는 훈련할 때와 실제 동작할 때(인퍼런스 단계)의 방식이 다르므로 그에 맞게 모델 설계를 별개로 진행해야 한다.\n",
        "\n",
        "훈련 단계에서는 디코더의 입력부에 정답이 되는 문장 전체를 한꺼번에 넣고 디코더의 출력과 한 번에 비교할 수 있으므로, 인코더와 디코더를 엮은 통짜 모델 하나만 준비했다.\n",
        "\n",
        "그러나 정답 문장이 없는 인퍼런스 단계에서는 만들어야 할 문장의 길이만큼 디코더가 반복 구조로 동작해야 하기 때문에 부득이하게 인퍼런스를 위한 모델 설계를 별도로 해주어야 한다. 이때는 인코더 모델과 디코더 모델을 분리해서 설계합니다."
      ],
      "metadata": {
        "id": "66Wag0rvsxOJ"
      }
    },
    {
      "cell_type": "markdown",
      "source": [
        "전체적인 번역 동작 단계를 정리하면 아래와 같습니다.\n",
        "1. 번역하고자 하는 입력 문장이 인코더에 들어가서 은닉 상태와 셀 상태를 얻습니다.\n",
        "2. 상태와 <SOS>에 해당하는 '\\t'를 디코더로 보냅니다.\n",
        "3. 디코더가 <EOS>에 해당하는 '\\n'이 나올 때까지 다음 문자를 예측하는 행동을 반복합니다."
      ],
      "metadata": {
        "id": "mzmuEVk3udSh"
      }
    },
    {
      "cell_type": "code",
      "source": [
        "# 인코더 설계\n",
        "encoder_model = Model(inputs=encoder_inputs, outputs=[encoder_outputs, state_h, state_c])\n",
        "\n",
        "# 이전 시점의 상태들을 저장하는 텐서\n",
        "decoder_state_input_h = Input(shape=(hidden_size,))\n",
        "decoder_state_input_c = Input(shape=(hidden_size,))\n",
        "\n",
        "dec_emb2 = dec_emb_layer(decoder_inputs)\n",
        "\n",
        "# 문장의 다음 단어를 예측하기 위해서 초기 상태(initial_state)를 이전 시점의 상태로 사용. 이는 뒤의 함수 decode_sequence()에 구현\n",
        "# 훈련 과정에서와 달리 LSTM의 리턴하는 은닉 상태와 셀 상태인 state_h와 state_c를 버리지 않음.\n",
        "decoder_outputs2, state_h2, state_c2 = decoder_lstm(dec_emb2, initial_state=[decoder_state_input_h, decoder_state_input_c])"
      ],
      "metadata": {
        "id": "fwaRvXEirEL6"
      },
      "execution_count": 71,
      "outputs": []
    },
    {
      "cell_type": "markdown",
      "source": [
        "어텐션 메커니즘을 사용하는 출력층을 설계"
      ],
      "metadata": {
        "id": "fXJp3rG0vD-G"
      }
    },
    {
      "cell_type": "code",
      "source": [
        "# 어텐션 함수\n",
        "decoder_hidden_state_input = Input(shape=(text_max_len, hidden_size))\n",
        "attn_out_inf = attn_layer([decoder_outputs2, decoder_hidden_state_input])\n",
        "decoder_inf_concat = Concatenate(axis=-1, name='concat')([decoder_outputs2, attn_out_inf])\n",
        "\n",
        "# 디코더의 출력층\n",
        "decoder_outputs2 = decoder_softmax_layer(decoder_inf_concat) \n",
        "\n",
        "# 최종 디코더 모델\n",
        "decoder_model = Model(\n",
        "    [decoder_inputs] + [decoder_hidden_state_input,decoder_state_input_h, decoder_state_input_c],\n",
        "    [decoder_outputs2] + [state_h2, state_c2])"
      ],
      "metadata": {
        "id": "-o2UTKe-rEQD"
      },
      "execution_count": 72,
      "outputs": []
    },
    {
      "cell_type": "markdown",
      "source": [
        "인퍼런스 단계에서 시퀀스를 완성하는 함수"
      ],
      "metadata": {
        "id": "kczIbsY3vJiK"
      }
    },
    {
      "cell_type": "code",
      "source": [
        "def decode_sequence(input_seq):\n",
        "    # 입력으로부터 인코더의 상태를 얻음\n",
        "    e_out, e_h, e_c = encoder_model.predict(input_seq)\n",
        "\n",
        "     # <SOS>에 해당하는 토큰 생성\n",
        "    target_seq = np.zeros((1,1))\n",
        "    target_seq[0, 0] = tar_word_to_index['sostoken']\n",
        "\n",
        "    stop_condition = False\n",
        "    decoded_sentence = ''\n",
        "    while not stop_condition: # stop_condition이 True가 될 때까지 루프 반복\n",
        "\n",
        "        output_tokens, h, c = decoder_model.predict([target_seq] + [e_out, e_h, e_c])\n",
        "        sampled_token_index = np.argmax(output_tokens[0, -1, :])\n",
        "        sampled_token = tar_index_to_word[sampled_token_index]\n",
        "\n",
        "        if (sampled_token!='eostoken'):\n",
        "            decoded_sentence += ' '+sampled_token\n",
        "\n",
        "        #  <eos>에 도달하거나 최대 길이를 넘으면 중단.\n",
        "        if (sampled_token == 'eostoken'  or len(decoded_sentence.split()) >= (headlines_max_len-1)):\n",
        "            stop_condition = True\n",
        "\n",
        "        # 길이가 1인 타겟 시퀀스를 업데이트\n",
        "        target_seq = np.zeros((1,1))\n",
        "        target_seq[0, 0] = sampled_token_index\n",
        "\n",
        "        # 상태를 업데이트 합니다.\n",
        "        e_h, e_c = h, c\n",
        "\n",
        "    return decoded_sentence"
      ],
      "metadata": {
        "id": "JTwRc2WerEYR"
      },
      "execution_count": 73,
      "outputs": []
    },
    {
      "cell_type": "code",
      "source": [
        "# 원문의 정수 시퀀스를 텍스트 시퀀스로 변환\n",
        "def seq2text(input_seq):\n",
        "    temp=''\n",
        "    for i in input_seq:\n",
        "        if (i!=0):\n",
        "            temp = temp + src_index_to_word[i]+' '\n",
        "    return temp\n",
        "\n",
        "# 요약문의 정수 시퀀스를 텍스트 시퀀스로 변환\n",
        "def seq2summary(input_seq):\n",
        "    temp=''\n",
        "    for i in input_seq:\n",
        "        if ((i!=0 and i!=tar_word_to_index['sostoken']) and i!=tar_word_to_index['eostoken']):\n",
        "            temp = temp + tar_index_to_word[i] + ' '\n",
        "    return temp"
      ],
      "metadata": {
        "id": "rVTdtAoyrJfZ"
      },
      "execution_count": 74,
      "outputs": []
    },
    {
      "cell_type": "code",
      "source": [
        "for i in range(50, 100):\n",
        "    print(\"원문 :\", seq2text(encoder_input_test[i]))\n",
        "    print(\"실제 요약 :\", seq2summary(decoder_input_test[i]))\n",
        "    print(\"예측 요약 :\", decode_sequence(encoder_input_test[i].reshape(1, text_max_len)))\n",
        "    print(\"\\n\")"
      ],
      "metadata": {
        "colab": {
          "base_uri": "https://localhost:8080/"
        },
        "id": "lqTTw6BrrOBa",
        "outputId": "7f9d1345-1e53-4bdf-f422-c19cc3c6d272"
      },
      "execution_count": 70,
      "outputs": [
        {
          "output_type": "stream",
          "name": "stdout",
          "text": [
            "원문 : tony the french referee who kicked out at a footballer before sending him off during a ligue 1 game was handed a three month ban with a further three months suspended ban by the ligue 1 had apologised for his actions the following day of the incident and called his own reaction clumsy and inappropriate \n",
            "실제 요약 : french referee who kicked footballer banned for months \n",
            "예측 요약 :  player gets off player for not referee for match\n",
            "\n",
            "\n",
            "원문 : after priyanka gandhi vadra entered active politics sad chief sukhbir singh badal said i think they are training her so that when congress president rahul gandhi will fail they can bring in priyanka gandhi he added this is all drama and their media strategy it will not make any difference at ground level \n",
            "실제 요약 : congress training priyanka to take over when rahul fails sad \n",
            "예측 요약 :  rahul gandhi is not the politics of politics bjp\n",
            "\n",
            "\n",
            "원문 : on the occasion of his country's independence day pakistani pm shahid abbasi on monday urged the international community to play its due role in resolving the kashmir issue with india for ensuring peace in the region the kashmir conflict is a territorial conflict between india and pakistan which started even before the two nations became independent from britain in 1947 nnnnnn \n",
            "실제 요약 : pak pm urges global community to play role in kashmir issue \n",
            "예측 요약 :  india to fight pak with pak in kashmir issue with pak\n",
            "\n",
            "\n",
            "원문 : workers of maharashtra navnirman sena dug up a road in front of mumbai's to protest against potholes in the city that led to several deaths recently the video of the incident shows the party workers hacking the road and the footpath in front of the with and police arrested eight workers in connection with the act \n",
            "실제 요약 : mns digs up road in mumbai to protest potholes on streets \n",
            "예측 요약 :  maha police set fire on fire to prevent traffic sena\n",
            "\n",
            "\n",
            "원문 : hindustan unilever has argued that advertisements of gujarat cooperative milk marketing federation which runs amul were guilty of disparaging frozen desserts the kwality walls ice cream maker said identifying a brand by name wasn't necessary for an ad to be guilty of amul had argued its ads didn't hurt kwality walls because they didn't refer to it by name \n",
            "실제 요약 : amul ads guilty of frozen says hul \n",
            "예측 요약 :  amul leader amul ad amul found amul on amul amul amul\n",
            "\n",
            "\n",
            "원문 : the upcoming akshay kumar starrer 'padman' will release on january 26 2018 on the occasion of republic day sharing the news on twitter akshay wrote not all come with bringing you the true story of a real superhero the film is based on the life of arunachalam muruganantham the inventor of a low cost sanitary pad making machine \n",
            "실제 요약 : new release date of akshay kumar padman revealed \n",
            "예측 요약 :  akshay kumar to release on akshay kumar starrer october\n",
            "\n",
            "\n",
            "원문 : pakistan's envoy to the us ahmad chaudhry on tuesday said that the country needs more evidence from india to prosecute 26 11 mumbai terror attack mastermind hafiz saeed however pakistan is committed to follow the law and international obligations under which saeed is prevented from carrying arms raise funds and travel internationally he added \n",
            "실제 요약 : need more evidence from india to prosecute saeed pak envoy \n",
            "예측 요약 :  india has not safe any terrorist in india pak envoy\n",
            "\n",
            "\n",
            "원문 : us ambassador nikki haley was evacuated from a un camp for displaced persons in south sudan on wednesday due to protests against president after security agents deemed the area was no longer secure for almost four years south sudan has been facing a civil war which has left tens of thousands of people dead and millions more displaced \n",
            "실제 요약 : us envoy evacuated from un camp in south sudan amid protests \n",
            "예측 요약 :  us prez orders to un in south korea\n",
            "\n",
            "\n",
            "원문 : a ryanair flight was escorted into london airport today by uk royal air force jets following reports of a bomb on board it had taken off from city and was diverted when authorities received a suspected hoax security alert the aircraft landed normally at and customers will be transferred to by coach said ryanair \n",
            "실제 요약 : ryanair plane escorted by fighter jets over hoax bomb threat \n",
            "예측 요약 :  bomb bomb threat to fly at airport airport\n",
            "\n",
            "\n",
            "원문 : us f 22 fighter jets intercepted two russian bombers in international airspace off the west coast of alaska on friday according to north american aerospace defence command the russian tu 95 bombers flew into the air defence identification zone around 200 miles off the coast the bombers were intercepted and monitored by the f until they left the \n",
            "실제 요약 : us fighter jets intercept russian bombers off american coast \n",
            "예측 요약 :  us launches its first ever missile drill\n",
            "\n",
            "\n",
            "원문 : the kerala government on monday decided to order a judicial probe into the circumstances leading to the resignation of transport minister ak the minister had resigned on sunday after an audio clip emerged showing him allegedly having a lewd conversation with a woman on the phone however has claimed innocence in the matter \n",
            "실제 요약 : kerala cm orders probe into minister obscene audio clip \n",
            "예측 요약 :  kerala govt orders probe into cctv assembly assembly\n",
            "\n",
            "\n",
            "원문 : cricketer turned commentator virender sehwag compared rahul dravid who is nicknamed 'the wall' to the great wall of china in a birthday message for the former india captain sehwag shared pictures of great wall of china and rahul dravid and wrote that the former may or may not shake or break but dravid is and dravid turns 45 today \n",
            "실제 요약 : sehwag compares dravid to great wall of china in day tweet \n",
            "예측 요약 :  sehwag wishes yuvraj on pm modi in wc\n",
            "\n",
            "\n",
            "원문 : boxer vijender singh who won his career's second professional title defeating china's zulpikar maimaitiali has offered to return the championship belt and called for peace at india china border tension on the border is not good i give this title to people peace it's all about friendship hindi bhai bhai said vijender who is now the wbo asia pacific and oriental champion \n",
            "실제 요약 : vijender offers to return ship belt for india china peace \n",
            "예측 요약 :  vijender singh to host china border with his country\n",
            "\n",
            "\n",
            "원문 : afghanistan's national sport is a traditional goat pulling sport the game which involves riders on horses wrestling over half of a goat or calf carcass has been played for centuries across central asia matches which may involve teams owned or sponsored by powerful sometimes attract thousands of spectators \n",
            "실제 요약 : there is goat pulling sport in afghanistan \n",
            "예측 요약 :  russian city to perform with russian flag\n",
            "\n",
            "\n",
            "원문 : alia bhatt said that karan johar had advised her against starring in the 2016 film sons' which he produced alia added he said 'you don't have enough part in it' karan will offer you a film and then he'll also ask you not to do it in a protective way however alia said she would do the film \n",
            "실제 요약 : karan johar asked me not to do kapoor sons alia \n",
            "예측 요약 :  ranbir is the film about being karan johar\n",
            "\n",
            "\n",
            "원문 : malaysian prime minister najib razak has said that the body of kim jong nam the half brother of north korean leader kim jong un has been released to north korea at the request of his family who had been barred from leaving north korea have now been given permission to return and north koreans would be allowed to leave malaysia razak added \n",
            "실제 요약 : malaysia releases body of korean dictator brother \n",
            "예측 요약 :  kim jong un jong un is not the nuclear war north korea\n",
            "\n",
            "\n",
            "원문 : technology major apple has announced an investment of 200 million over ã¢ââ¹1 280 crore in gorilla glass maker which has been supplying glass for apple products since the first iphone this is the first investment that apple has made from its recently announced 1 billion fund aimed at boosting us based manufacturing \n",
            "실제 요약 : apple invests cr in firm that helped make first iphone \n",
            "예측 요약 :  apple buys crore in new york over crore\n",
            "\n",
            "\n",
            "원문 : republican and democratic senators on monday reached a temporary deal to end the us government shutdown the government was shut down for three days after the senate failed to agree on a bill to fund the government president donald trump had earlier said that the democrats could have easily made a deal to avoid the shutdown \n",
            "실제 요약 : us govt shutdown ends as democrats republicans reach deal \n",
            "예측 요약 :  uk parliament shuts down over illegal brexit\n",
            "\n",
            "\n",
            "원문 : an 18 year old us pizza store manager dalton drove over 360 kilometres to deliver pizzas to rich a terminally ill man battling cancer rich who loved the store's pizza had planned a trip with his wife to visit the but his cancer worsened when his wife's father called the dalton offered to deliver pizza to their home \n",
            "실제 요약 : yr old drives km to deliver pizzas to man battling cancer \n",
            "예측 요약 :  man makes cancer drinks from using wife for st time\n",
            "\n",
            "\n",
            "원문 : actress bhumi pednekar has said that when she was bigger in size she was getting equal attention from men nobody made me feel uncomfortable by looking at me in a different way i wore clothes that i wanted to my skin as per my wish added bhumi she further said that men's attitude towards women is slowly but steadily changing \n",
            "실제 요약 : got same attention from men when was bigger in size bhumi \n",
            "예측 요약 :  am being made by female bhumi on being made\n",
            "\n",
            "\n",
            "원문 : after two women below the age of 50 entered sabarimala temple in kerala bjp leader v on thursday said they were not devotees they were maoists naxals added this is a planned conspiracy by maoists in league with kerala government chief minister pinarayi vijayan and cpm against hindu temples and devotees of lord ayyappa \n",
            "실제 요약 : women who entered sabarimala temple were naxals bjp leader \n",
            "예측 요약 :  bjp will not allow rohingyas to enter sabarimala bjp mp\n",
            "\n",
            "\n",
            "원문 : the ministry of external affairs on friday announced that it has extended the visa of 142 hindu pilgrims visiting from pakistan by at least 15 days this comes after the pilgrims requested the ministry to extend their visas stating that they wished to visit other cities the pakistani citizens had arrived in india to immerse ashes of their kin \n",
            "실제 요약 : india extends visa of hindu pilgrims from pakistan \n",
            "예측 요약 :  pak to send visa to pak citizens to visit pak envoy\n",
            "\n",
            "\n",
            "원문 : whatsapp ceo chris daniels is reportedly set to visit india to discuss the tracing of fake news on its platform a delegation of officials including whatsapp's global policy head christine turner will meet with officials in the prime minister's office and the ministry of electronics and it the delegation is expected to arrive in india on october 24 \n",
            "실제 요약 : whatsapp ceo to visit india over fake news issue report \n",
            "예측 요약 :  whatsapp to launch whatsapp in india in india\n",
            "\n",
            "\n",
            "원문 : disinfectant liquid bottles will now come with blind friendly braille packaging for its this would make it easy for the blind and visually impaired to quickly identify and use whenever need be hopes to help them explore the world with more confidence by providing them help literally at their \n",
            "실제 요약 : bottle to come with blind friendly packaging \n",
            "예측 요약 :  free to be allowed to free toilet to free toilet\n",
            "\n",
            "\n",
            "원문 : the indian navy has abandoned all efforts to pull out the decomposed body of a miner that it spotted days ago inside the illegal coal mine in meghalaya's east jaintia hills district an unmanned remotely operated vehicle had spotted the decomposed body the navy abandoned the efforts as the body was with every pull by the jaw \n",
            "실제 요약 : navy abandons efforts to pull out decomposed body of meghalaya \n",
            "예측 요약 :  navy navy to probe into navy meghalaya navy officer\n",
            "\n",
            "\n",
            "원문 : a bahrain court on tuesday revoked the citizenship of 115 people and awarded life sentences to 53 others in a mass terrorism trial prosecutors said that the accused detonated bombs received weapons training and attempted to kill police officers bahrain has claimed that iran had helped the accused set up a militant group called \n",
            "실제 요약 : bahrain revokes citizenship of people on terror charges \n",
            "예측 요약 :  sentenced to life in jail for killing of terror in terror attack\n",
            "\n",
            "\n",
            "원문 : donald trump's charitable foundation paid 10 000 for a portrait of the us president at a 2014 auction after no other bids were received according to an attorney for trump he said when trump's charitable foundation placed the bid it was intended to get the bidding started adding that the foundation was stuck with the painting as no one else bid \n",
            "실제 요약 : trump charity bought his portrait in as no one else bid \n",
            "예측 요약 :  trump offers to buy his house for his time\n",
            "\n",
            "\n",
            "원문 : the mastermind of the thane cyber scam wherein ã¢ââ¹500 crore was looted from 6 500 americans has been granted bail after 14 months the accused had hired his childhood friends to work at a call centre where they acted as us revenue officials and extorted money from loan defaulters they obtained the victims' contact details from an online telephone directory \n",
            "실제 요약 : thane man who planned cr loot from us citizens gets bail \n",
            "예측 요약 :  cbi court orders cr in case against crore\n",
            "\n",
            "\n",
            "원문 : filmmaker mahesh bhatt has shared a picture of indian cricket team captain virat kohli and actress anushka sharma's wedding reception card it includes a sapling believed to be a for new beginnings and the name is in golden letters on the packaging we pray that this love story goes on forever wrote mahesh alongside the picture \n",
            "실제 요약 : mahesh shares pic of virat anushka wedding reception card \n",
            "예측 요약 :  anushka anushka share wedding reception on anushka wedding\n",
            "\n",
            "\n",
            "원문 : making submissions before the delhi high court in aap leader somnath bharti domestic violence case the police on friday said that the accused used to harass and beat his wife mitra the police also submitted a medical report by aiims that said the on body could be due to dog bites and burn injuries \n",
            "실제 요약 : aap somnath bharti used to beat harass wife police to hc \n",
            "예측 요약 :  delhi police arrest warrant against honeypreet\n",
            "\n",
            "\n",
            "원문 : whatsapp's co founder jan koum has said that initially nobody used the platform koum highlighted that whatsapp now has over a billion daily active users worldwide on being asked if he was shocked when facebook offered to buy whatsapp for 20 billion koum said he had an idea that their active user number was one of the highest in the industry \n",
            "실제 요약 : nobody used whatsapp initially co founder jan \n",
            "예측 요약 :  aadhaar is an billion users to whatsapp amazon founder\n",
            "\n",
            "\n",
            "원문 : researchers at swiss university zurich have developed a four legged robot which can dance on any song in real time it analyses the speed of the song plans movements in time to the music and then checks its movements in sync to the beat was able to dance to beyoncãâ© and without missing a beat \n",
            "실제 요약 : robot songs dances to beat in real time \n",
            "예측 요약 :  scientists create first ever image of the first time\n",
            "\n",
            "\n",
            "원문 : over 130 british have refused to offer islamic to the three terrorists who launched attacks on saturday in london killing seven people and injuring 48 others adding that the terrorists do not represent islam said they were deeply hurt that terror attacks were committed by murderers who seek to gain religious legitimacy for their actions \n",
            "실제 요약 : over british refuse to bury london attackers \n",
            "예측 요약 :  uk attacker to attack isis attacker after attack attack\n",
            "\n",
            "\n",
            "원문 : former deputy inspector general mushtaq sadiq and kashmiri singer joined the ex jammu and kashmir chief minister farooq abdullah led national conference on monday who has been asked to handle the cultural affairs of the party said the central government and previous state government have betrayed people related to art and culture \n",
            "실제 요약 : ex police official kashmiri singer join national conference \n",
            "예측 요약 :  former cm abdullah sings stones at amritsar rally\n",
            "\n",
            "\n",
            "원문 : during pm narendra modi's 'pariksha par charcha' with nearly 3 000 students on friday a student asked the prime minister if he was prepared for the 2019 lok sabha examinations pm modi answered if i was your teacher i would've guided you to take up journalism because journalists ask such long questions he added i have wishes of 125 crore indians \n",
            "실제 요약 : are you prepared for lok sabha exam student asks pm \n",
            "예측 요약 :  pm modi does not know what he is any pm modi\n",
            "\n",
            "\n",
            "원문 : it giant infosys has reported a 38 3 year on year increase in net profit to ã¢ââ¹5 129 crore for the december quarter compared to ã¢ââ¹3 708 crore in the same period last fiscal the revenue of the company also increased by 3 to ã¢ââ¹17 crore this is the first quarterly result since salil parekh took charge as infosys' ceo and md on january 2 \n",
            "실제 요약 : infosys net profit rises to crore in dec quarter \n",
            "예측 요약 :  infosys profit rises to crore in september quarter\n",
            "\n",
            "\n",
            "원문 : the united states might extend the laptop ban to all international flights worldwide homeland security secretary john kelly said on sunday kelly said terrorists are obsessed with downing flights particularly if it's a us carrier particularly if it's full of mostly us folks some people would never leave the house if they knew what he knew about terrorism he added \n",
            "실제 요약 : us may extend laptop ban to flights from all over the world \n",
            "예측 요약 :  us to ban on flights to stop from syria\n",
            "\n",
            "\n",
            "원문 : former finance minister p chidambaram on thursday asked if prime minister narendra modi thought that chief economic adviser cea dr arvind subramanian and other economists were stupid he was responding to pm narendra modi's statement terming the congress' demand to cap gst at 18 as a 'grand stupid chidambaram also slammed the government for failing to reduce fuel prices \n",
            "실제 요약 : does pm modi think are stupid asks chidambaram \n",
            "예측 요약 :  pm modi is not good chidambaram on his own interview\n",
            "\n",
            "\n",
            "원문 : the pakistan army on sunday fired at unarmed indian civilian porters killing one and injuring another the porters were working in jammu and kashmir's sector the attack comes after the indian army shot dead an intruder trying to cross the line of control loc in the state's poonch sector during the night \n",
            "실제 요약 : pakistan army fires at indians kills one \n",
            "예측 요약 :  army major killed in major terrorist in jammu and kashmir\n",
            "\n",
            "\n",
            "원문 : bipasha basu will star with husband karan singh grover in a film titled which will be produced by singer mika singh as per reports the film's being directed by bhushan patel and has been written by vikram bhatt according to reports bipasha will be seen playing a cop while karan will essay the role of nri businessman reports added \n",
            "실제 요약 : bipasha basu to star with husband karan in reports \n",
            "예측 요약 :  amitabh bachchan to star in upcoming film reports\n",
            "\n",
            "\n",
            "원문 : automaker bmw has clarified it has no partnership with cryptocurrency startup which last week claimed tie up with bmw to create first ever connected reports for cars bmw said the startup was using bmw interface available to any third party however said it had a contractual relationship with bmw and both parties understand the word differently \n",
            "실제 요약 : cryptocurrency startup claims bmw partnership bmw \n",
            "예측 요약 :  startup working on ola cab service startup\n",
            "\n",
            "\n",
            "원문 : external affairs minister sushma swaraj has said she wouldn't be able to go to pakistan to attend the groundbreaking ceremony of kartarpur corridor citing commitments including election campaign in swaraj said union ministers harsimrat kaur badal and hardeep singh puri would attend the event as government of india's representatives the event is scheduled for november 28 \n",
            "실제 요약 : sushma to skip pakistan kartarpur ceremony cites commitments \n",
            "예측 요약 :  pak will not be as pak pm to work with pak pm\n",
            "\n",
            "\n",
            "원문 : police have released a video of a single car crash which shows a bmw being launched around 20 feet into the air and crashing into the tunnel roof after hitting a ramp the car reportedly hit the ramp after the driver fell asleep the car was destroyed but the driver didn't sustain serious injuries from the crash police said \n",
            "실제 요약 : bmw flies feet in air crashes into tunnel after hitting ramp \n",
            "예측 요약 :  video shows car with car hits car with car hits car\n",
            "\n",
            "\n",
            "원문 : addressing the lok sabha mos for home hansraj ahir said the tourism ministry has asked states and union territories to identify accident prone selfie zones and take measures to ensure the safety of tourists ahir advised states to erect signboards deploy volunteers and police and undertake awareness campaigns to warn tourists about the hazards of taking selfies in such zones \n",
            "실제 요약 : centre asks states to identify accident prone selfie zones \n",
            "예측 요약 :  govt asks govt to take selfie to avoid safety issues\n",
            "\n",
            "\n",
            "원문 : mukesh ambani led reliance industries posted a 45 2 rise in consolidated revenue to ã¢ââ¹92 crore for the march quarter the company also reported a 12 3 year on year increase in net profit to ã¢ââ¹8 crore the boost came after posting higher than expected gross refining margin notably telco reliance jio posted a net loss of ã¢ââ¹22 5 crore for the six months ended march 31 \n",
            "실제 요약 : reliance reports rise in revenue for march quarter \n",
            "예측 요약 :  reliance jio profit rises to crore in\n",
            "\n",
            "\n",
            "원문 : calling the madhya pradesh government's amendment to provide houses and salaries to former chief ministers the mp high court on tuesday directed all former state chief ministers to vacate government residences within a month the directive comes after the supreme court last month ruled that a former cm is equivalent to a common man after leaving the office \n",
            "실제 요약 : ex mp cms ordered to vacate govt in month \n",
            "예측 요약 :  mp govt to give up to ex ministers to move to govt\n",
            "\n",
            "\n",
            "원문 : the militant group islamic state has denied that it had suffered any casualties from the us military's largest non nuclear bomb which hit its mountain in afghanistan on thursday however afghan officials had claimed that at least 90 islamic state militants were killed in the air strike which destroyed three isis underground tunnels along with weapons and ammunition \n",
            "실제 요약 : isis denies suffering casualties from us bomb in afghanistan \n",
            "예측 요약 :  us claims claims of isis attacks on isis\n",
            "\n",
            "\n",
            "원문 : the delhi metro rail corporation dmrc on friday launched free wifi service at all 50 stations of its blue line which runs between dwarka sector 21 and vaishali noida city centre the passengers can use the service by searching for wifi options and selecting dmrc free for one time registration the dmrc started the wifi service last year with airport line \n",
            "실제 요약 : delhi metro launches free wifi on all blue line stations \n",
            "예측 요약 :  delhi metro stations to be installed in delhi metro stations\n",
            "\n",
            "\n",
            "원문 : fifty year old former wrestler will cycle 2 000 kms from pune to delhi starting december 3 to promote cleanliness along with a team will cycle through madhya pradesh uttar pradesh jharkhand rajasthan covering 25 to 45 kms daily the wrestler turned cyclist at the age of 35 suffered a severe spine injury which made a part of his body immovable \n",
            "실제 요약 : yr old ex wrestler to cycle km to promote sanitation \n",
            "예측 요약 :  yr old to open in up to set up metro in delhi\n",
            "\n",
            "\n",
            "원문 : the delhi high court on friday dismissed former congress leader sajjan kumar's plea seeking time till january 30 to surrender after being sentenced to life imprisonment in a 1984 anti sikh riots case kumar who has been asked to surrender by december 31 had said he has six grandchildren and needed time to settle his family affairs \n",
            "실제 요약 : sajjan kumar plea seeking more time to surrender dismissed \n",
            "예측 요약 :  hc upholds life term for convicts in sikh sikh case\n",
            "\n",
            "\n"
          ]
        }
      ]
    },
    {
      "cell_type": "markdown",
      "source": [
        "전반적으로 중요하게 사용된 단어들을 추출하여 요약을 했다. 하지만, 문맥이 말하고 있는 내용을 내포하고 있지 않다.\n",
        "\n",
        "즉, 원문에서 많이 쓰는 단어들을 잘 가지고는 오지만, 상황까지 파악을 하진 못하고 있다."
      ],
      "metadata": {
        "id": "wPmRKTocxfNz"
      }
    },
    {
      "cell_type": "markdown",
      "source": [
        "### 추출적 요약"
      ],
      "metadata": {
        "id": "Z4dqwDAUw-mg"
      }
    },
    {
      "cell_type": "code",
      "source": [
        "import requests\n",
        "from summa.summarizer import summarize"
      ],
      "metadata": {
        "id": "dimYPc0OrX3d"
      },
      "execution_count": 89,
      "outputs": []
    },
    {
      "cell_type": "code",
      "source": [
        "urllib.request.urlretrieve(\"https://raw.githubusercontent.com/sunnysai12345/News_Summary/master/news_summary_more.csv\", filename=\"news_summary_more.csv\")\n",
        "data = pd.read_csv('news_summary_more.csv', encoding='iso-8859-1')\n",
        "data.head()"
      ],
      "metadata": {
        "colab": {
          "base_uri": "https://localhost:8080/",
          "height": 337
        },
        "id": "oT9gBjGmzIHC",
        "outputId": "3270aac3-21ce-4fe5-85db-7443ba3cf643"
      },
      "execution_count": 90,
      "outputs": [
        {
          "output_type": "execute_result",
          "data": {
            "text/plain": [
              "                                           headlines  \\\n",
              "0  upGrad learner switches to career in ML & Al w...   \n",
              "1  Delhi techie wins free food from Swiggy for on...   \n",
              "2  New Zealand end Rohit Sharma-led India's 12-ma...   \n",
              "3  Aegon life iTerm insurance plan helps customer...   \n",
              "4  Have known Hirani for yrs, what if MeToo claim...   \n",
              "\n",
              "                                                text  \n",
              "0  Saurav Kant, an alumnus of upGrad and IIIT-B's...  \n",
              "1  Kunal Shah's credit card bill payment platform...  \n",
              "2  New Zealand defeated India by 8 wickets in the...  \n",
              "3  With Aegon Life iTerm Insurance plan, customer...  \n",
              "4  Speaking about the sexual harassment allegatio...  "
            ],
            "text/html": [
              "\n",
              "  <div id=\"df-8d987111-e0db-4e18-9d2c-563b3e2a6460\">\n",
              "    <div class=\"colab-df-container\">\n",
              "      <div>\n",
              "<style scoped>\n",
              "    .dataframe tbody tr th:only-of-type {\n",
              "        vertical-align: middle;\n",
              "    }\n",
              "\n",
              "    .dataframe tbody tr th {\n",
              "        vertical-align: top;\n",
              "    }\n",
              "\n",
              "    .dataframe thead th {\n",
              "        text-align: right;\n",
              "    }\n",
              "</style>\n",
              "<table border=\"1\" class=\"dataframe\">\n",
              "  <thead>\n",
              "    <tr style=\"text-align: right;\">\n",
              "      <th></th>\n",
              "      <th>headlines</th>\n",
              "      <th>text</th>\n",
              "    </tr>\n",
              "  </thead>\n",
              "  <tbody>\n",
              "    <tr>\n",
              "      <th>0</th>\n",
              "      <td>upGrad learner switches to career in ML &amp; Al w...</td>\n",
              "      <td>Saurav Kant, an alumnus of upGrad and IIIT-B's...</td>\n",
              "    </tr>\n",
              "    <tr>\n",
              "      <th>1</th>\n",
              "      <td>Delhi techie wins free food from Swiggy for on...</td>\n",
              "      <td>Kunal Shah's credit card bill payment platform...</td>\n",
              "    </tr>\n",
              "    <tr>\n",
              "      <th>2</th>\n",
              "      <td>New Zealand end Rohit Sharma-led India's 12-ma...</td>\n",
              "      <td>New Zealand defeated India by 8 wickets in the...</td>\n",
              "    </tr>\n",
              "    <tr>\n",
              "      <th>3</th>\n",
              "      <td>Aegon life iTerm insurance plan helps customer...</td>\n",
              "      <td>With Aegon Life iTerm Insurance plan, customer...</td>\n",
              "    </tr>\n",
              "    <tr>\n",
              "      <th>4</th>\n",
              "      <td>Have known Hirani for yrs, what if MeToo claim...</td>\n",
              "      <td>Speaking about the sexual harassment allegatio...</td>\n",
              "    </tr>\n",
              "  </tbody>\n",
              "</table>\n",
              "</div>\n",
              "      <button class=\"colab-df-convert\" onclick=\"convertToInteractive('df-8d987111-e0db-4e18-9d2c-563b3e2a6460')\"\n",
              "              title=\"Convert this dataframe to an interactive table.\"\n",
              "              style=\"display:none;\">\n",
              "        \n",
              "  <svg xmlns=\"http://www.w3.org/2000/svg\" height=\"24px\"viewBox=\"0 0 24 24\"\n",
              "       width=\"24px\">\n",
              "    <path d=\"M0 0h24v24H0V0z\" fill=\"none\"/>\n",
              "    <path d=\"M18.56 5.44l.94 2.06.94-2.06 2.06-.94-2.06-.94-.94-2.06-.94 2.06-2.06.94zm-11 1L8.5 8.5l.94-2.06 2.06-.94-2.06-.94L8.5 2.5l-.94 2.06-2.06.94zm10 10l.94 2.06.94-2.06 2.06-.94-2.06-.94-.94-2.06-.94 2.06-2.06.94z\"/><path d=\"M17.41 7.96l-1.37-1.37c-.4-.4-.92-.59-1.43-.59-.52 0-1.04.2-1.43.59L10.3 9.45l-7.72 7.72c-.78.78-.78 2.05 0 2.83L4 21.41c.39.39.9.59 1.41.59.51 0 1.02-.2 1.41-.59l7.78-7.78 2.81-2.81c.8-.78.8-2.07 0-2.86zM5.41 20L4 18.59l7.72-7.72 1.47 1.35L5.41 20z\"/>\n",
              "  </svg>\n",
              "      </button>\n",
              "      \n",
              "  <style>\n",
              "    .colab-df-container {\n",
              "      display:flex;\n",
              "      flex-wrap:wrap;\n",
              "      gap: 12px;\n",
              "    }\n",
              "\n",
              "    .colab-df-convert {\n",
              "      background-color: #E8F0FE;\n",
              "      border: none;\n",
              "      border-radius: 50%;\n",
              "      cursor: pointer;\n",
              "      display: none;\n",
              "      fill: #1967D2;\n",
              "      height: 32px;\n",
              "      padding: 0 0 0 0;\n",
              "      width: 32px;\n",
              "    }\n",
              "\n",
              "    .colab-df-convert:hover {\n",
              "      background-color: #E2EBFA;\n",
              "      box-shadow: 0px 1px 2px rgba(60, 64, 67, 0.3), 0px 1px 3px 1px rgba(60, 64, 67, 0.15);\n",
              "      fill: #174EA6;\n",
              "    }\n",
              "\n",
              "    [theme=dark] .colab-df-convert {\n",
              "      background-color: #3B4455;\n",
              "      fill: #D2E3FC;\n",
              "    }\n",
              "\n",
              "    [theme=dark] .colab-df-convert:hover {\n",
              "      background-color: #434B5C;\n",
              "      box-shadow: 0px 1px 3px 1px rgba(0, 0, 0, 0.15);\n",
              "      filter: drop-shadow(0px 1px 2px rgba(0, 0, 0, 0.3));\n",
              "      fill: #FFFFFF;\n",
              "    }\n",
              "  </style>\n",
              "\n",
              "      <script>\n",
              "        const buttonEl =\n",
              "          document.querySelector('#df-8d987111-e0db-4e18-9d2c-563b3e2a6460 button.colab-df-convert');\n",
              "        buttonEl.style.display =\n",
              "          google.colab.kernel.accessAllowed ? 'block' : 'none';\n",
              "\n",
              "        async function convertToInteractive(key) {\n",
              "          const element = document.querySelector('#df-8d987111-e0db-4e18-9d2c-563b3e2a6460');\n",
              "          const dataTable =\n",
              "            await google.colab.kernel.invokeFunction('convertToInteractive',\n",
              "                                                     [key], {});\n",
              "          if (!dataTable) return;\n",
              "\n",
              "          const docLinkHtml = 'Like what you see? Visit the ' +\n",
              "            '<a target=\"_blank\" href=https://colab.research.google.com/notebooks/data_table.ipynb>data table notebook</a>'\n",
              "            + ' to learn more about interactive tables.';\n",
              "          element.innerHTML = '';\n",
              "          dataTable['output_type'] = 'display_data';\n",
              "          await google.colab.output.renderOutput(dataTable, element);\n",
              "          const docLink = document.createElement('div');\n",
              "          docLink.innerHTML = docLinkHtml;\n",
              "          element.appendChild(docLink);\n",
              "        }\n",
              "      </script>\n",
              "    </div>\n",
              "  </div>\n",
              "  "
            ]
          },
          "metadata": {},
          "execution_count": 90
        }
      ]
    },
    {
      "cell_type": "code",
      "source": [
        "print(data[:1500])"
      ],
      "metadata": {
        "colab": {
          "base_uri": "https://localhost:8080/"
        },
        "id": "ttnB-X7zzSKf",
        "outputId": "d2165db9-5e4e-42ef-8d29-f576f222e670"
      },
      "execution_count": 91,
      "outputs": [
        {
          "output_type": "stream",
          "name": "stdout",
          "text": [
            "                                              headlines  \\\n",
            "0     upGrad learner switches to career in ML & Al w...   \n",
            "1     Delhi techie wins free food from Swiggy for on...   \n",
            "2     New Zealand end Rohit Sharma-led India's 12-ma...   \n",
            "3     Aegon life iTerm insurance plan helps customer...   \n",
            "4     Have known Hirani for yrs, what if MeToo claim...   \n",
            "...                                                 ...   \n",
            "1495  Have seen Sachin Tendulkar get angry but not M...   \n",
            "1496  Player ensures wife stays dry in rain during A...   \n",
            "1497  Federer denied entry into locker room by secur...   \n",
            "1498  42/42 seats in West Bengal: CM Mamata's cutout...   \n",
            "1499  Court refuses chargesheet by Delhi Police agai...   \n",
            "\n",
            "                                                   text  \n",
            "0     Saurav Kant, an alumnus of upGrad and IIIT-B's...  \n",
            "1     Kunal Shah's credit card bill payment platform...  \n",
            "2     New Zealand defeated India by 8 wickets in the...  \n",
            "3     With Aegon Life iTerm Insurance plan, customer...  \n",
            "4     Speaking about the sexual harassment allegatio...  \n",
            "...                                                 ...  \n",
            "1495  India head coach Ravi Shastri has said that he...  \n",
            "1496  Italian tennis player Andreas Seppi ensured hi...  \n",
            "1497  World number three Roger Federer was stopped b...  \n",
            "1498  A cutout of TMC chief and West Bengal CM Mamat...  \n",
            "1499  A Delhi court on Saturday pulled up Delhi Poli...  \n",
            "\n",
            "[1500 rows x 2 columns]\n"
          ]
        }
      ]
    },
    {
      "cell_type": "code",
      "source": [
        "for i in range(50, 100):\n",
        "  print('{}번 째 문장'.format(i-49), data['text'][i])\n",
        "  print('추출적 요약 :',summarize(data['text'][i], ratio=0.4))\n",
        "  print()"
      ],
      "metadata": {
        "colab": {
          "base_uri": "https://localhost:8080/"
        },
        "id": "t6N56N8m3oZK",
        "outputId": "37c735da-94bf-4366-c24d-ec582cc2bd5c"
      },
      "execution_count": 103,
      "outputs": [
        {
          "output_type": "stream",
          "name": "stdout",
          "text": [
            "1번 째 문장 Former Finance Minister Yashwant Sinha on Tuesday demanded a probe into the alleged diversion of loans worth Ã¢ÂÂ¹31,000 crore by Dewan Housing Finance (DHFL). All agencies including regulators of the government have failed to track nefarious deals, he said. This comes after a media report on Tuesday accused DHFL's controlling shareholders of diverting funds to shell companies to buy assets.\n",
            "추출적 요약 : Former Finance Minister Yashwant Sinha on Tuesday demanded a probe into the alleged diversion of loans worth Ã¢ÂÂ¹31,000 crore by Dewan Housing Finance (DHFL).\n",
            "\n",
            "2번 째 문장 US-based Boeing on Wednesday reported annual sales worth $101.12 billion in 2018, the first time the planemaker's sales crossed the $100-billion mark in its 102-year history. The company said it expects to deliver between 895 and 905 commercial aircraft in 2019. Boeing retained its position as the world's largest planemaker for the seventh straight year, delivering 806 aircraft in 2018. \n",
            "추출적 요약 : Boeing retained its position as the world's largest planemaker for the seventh straight year, delivering 806 aircraft in 2018.\n",
            "\n",
            "3번 째 문장 text\n",
            "추출적 요약 : \n",
            "\n",
            "4번 째 문장 OnePlus has emerged as India's best-selling premium smartphone brand of 2018, as per a report by Counterpoint. It captured 36% of the market share in the premium segment, in Q4 2018. Further, its OnePlus 6 emerged as the highest selling premium smartphone of 2018 followed by OnePlus 6T.\n",
            "추출적 요약 : Further, its OnePlus 6 emerged as the highest selling premium smartphone of 2018 followed by OnePlus 6T.\n",
            "\n",
            "5번 째 문장 Filmmaker Pooja Bhatt, while talking about the presentation of women in her films, said, \"I can never look at a female body, even if it's naked, in a vulgar manner.\" \"Our audience can say...the women in my films are bold or sensual, but never ever vulgar,\" she added. Pooja further said her censor board is her \"own heart and mind\".\n",
            "추출적 요약 : \n",
            "\n",
            "6번 째 문장 Actress Mishti, who has featured in 'Manikarnika: The Queen of Jhansi', has said the film's co-director Kangana Ranaut made false promises to the cast. \"Kangana had said, 'I want dates because all characters look jumbled up...I'm trying my best to give everybody a prominent space on screen.' After watching the movie, there is no scope for other characters,\" Mishti added. \n",
            "추출적 요약 : \n",
            "\n",
            "7번 째 문장 The high-powered committee led by PM Narendra Modi to select the next CBI Director will meet again on February 1, Congress leader Mallikarjun Kharge has said. The panel consisting of Kharge and Chief Justice of India Ranjan Gogoi met on January 24, but the meeting ended \"inconclusively\" after Kharge cited lack of details in the list of 80 IPS officers. \n",
            "추출적 요약 : \n",
            "\n",
            "8번 째 문장 Nevada State Athletic Commission has banned MMA fighters Conor McGregor and Khabib Nurmagomedov for six months and nine months respectively over their roles in the mass brawl that occurred after their fight at UFC 229 last October. McGregor and Khabib have been fined $50,000 (Ã¢ÂÂ¹35 lakh) and $500,000 (Ã¢ÂÂ¹3.5 crore) respectively. The brawl occurred after Nurmagomedov confronted McGregor's teammate.\n",
            "추출적 요약 : Nevada State Athletic Commission has banned MMA fighters Conor McGregor and Khabib Nurmagomedov for six months and nine months respectively over their roles in the mass brawl that occurred after their fight at UFC 229 last October.\n",
            "\n",
            "9번 째 문장 Pakistan captain Sarfaraz Ahmed, who has been banned for four matches over racist remarks, took an apparent dig at his critics by sharing a video of a child reciting 'log hai na' poem on Twitter. \"Pyaar karna hai to khud se kar...dushmani karne ke liye log hai na,\" the poem read. \"This is how the world is,\" Sarfaraz wrote.\n",
            "추출적 요약 : Pakistan captain Sarfaraz Ahmed, who has been banned for four matches over racist remarks, took an apparent dig at his critics by sharing a video of a child reciting 'log hai na' poem on Twitter.\n",
            "\n",
            "10번 째 문장 Banned cricketer Sreesanth has told Supreme Court he initially confessed to Delhi Police about his alleged involvement in 2013 IPL spot-fixing scandal to escape continuous police torture. Sreesanth further said the bookie tried dragging him into spot-fixing but he didn't fall for it. Citing Sreesanth not informing BCCI about fixing approach, the apex court said Sreesanth's conduct \"wasn't good\".\n",
            "추출적 요약 : Sreesanth further said the bookie tried dragging him into spot-fixing but he didn't fall for it.\n",
            "\n",
            "11번 째 문장 The Finance Ministry on Wednesday said the government will present an Interim Budget on February 1. The clarification came amid speculations that a full Budget may be presented during the session. The government recently assigned Piyush Goyal temporary additional charge of the Finance and Corporate Affairs ministries in the absence of Arun Jaitley, who is in the US for treatment.\n",
            "추출적 요약 : The Finance Ministry on Wednesday said the government will present an Interim Budget on February 1.\n",
            "\n",
            "12번 째 문장 US President Donald Trump on Wednesday called his country's top intelligence chiefs \"naive\" and \"wrong\" on Iran and added that they should perhaps \"go back to school\". Trump claimed Iran is testing rockets, calling the country \"a source of potential danger and conflict\". Top US intelligence officials on Tuesday said that Iran isn't currently taking steps towards building nuclear weapons.\n",
            "추출적 요약 : US President Donald Trump on Wednesday called his country's top intelligence chiefs \"naive\" and \"wrong\" on Iran and added that they should perhaps \"go back to school\".\n",
            "\n",
            "13번 째 문장 A senior priest at the Vatican who handled cases of sexual abuse has quit after being accused of sexual abuse by a former nun. The accused priest claimed he is innocent and said he would consider taking legal action. The Vatican said in a statement that a Church investigation of the case was underway.\n",
            "추출적 요약 : A senior priest at the Vatican who handled cases of sexual abuse has quit after being accused of sexual abuse by a former nun.\n",
            "\n",
            "14번 째 문장 A 22-year-old writer turned down a job offer, claiming she was bullied to the point of tears during her two-hour interview by a UK company's CEO. Olivia Bland added the \"brutal\" interview brought back painful memories of her abusive relationship. \"I am so sorry that anyone has been hurt, it is never my intent,\" Web Applications CEO Craig Dean replied. \n",
            "추출적 요약 : A 22-year-old writer turned down a job offer, claiming she was bullied to the point of tears during her two-hour interview by a UK company's CEO.\n",
            "\n",
            "15번 째 문장 Noida Police has arrested Sector 20 station in-charge Manoj Pant and three journalists for allegedly extorting money from a call centre owner for removing his name from an FIR. The four were caught while taking bribe money of Ã¢ÂÂ¹8 lakh, police said. Pant was the lead investigator in the Paytm extortion case involving Founder Vijay Shekhar Sharma's secretary Sonia Dhawan.\n",
            "추출적 요약 : Noida Police has arrested Sector 20 station in-charge Manoj Pant and three journalists for allegedly extorting money from a call centre owner for removing his name from an FIR.\n",
            "\n",
            "16번 째 문장 Airtel on Wednesday said that Qatar's sovereign wealth fund Qatar Investment Authority will invest $200 million through a primary equity issuance in Airtel Africa. India's second-largest telecom operator's Africa unit recently raised $1.25 billion from six investors. Airtel Africa, the holding company for Airtel's operations in 14 African countries, is preparing for an initial public offering.\n",
            "추출적 요약 : Airtel Africa, the holding company for Airtel's operations in 14 African countries, is preparing for an initial public offering.\n",
            "\n",
            "17번 째 문장 Actor Shreyas Talpade said that 'Golmaal' filmmaker Rohit Shetty is still working on the script for the fifth instalment of the 'Golmaal' film franchise. \"He was telling us the other day that he...cracked some story. Once he's done with the...scripting, he'll take a call,Ã¢ÂÂ the actor added. The series features Shreyas along with Ajay Devgn, Arshad Warsi and Tusshar Kapoor.\n",
            "추출적 요약 : Actor Shreyas Talpade said that 'Golmaal' filmmaker Rohit Shetty is still working on the script for the fifth instalment of the 'Golmaal' film franchise.\n",
            "\n",
            "18번 째 문장 A 72-year-old man named Terry Sanderson has sued 'Avengers' actress Gwyneth Paltrow for allegedly crashing into him while skiing, and is seeking $3.1 million (over Ã¢ÂÂ¹22 crore) in damages. The lawsuit states the actress got up and skied away after knocking the man down, leaving him with broken ribs. The incident reportedly took place in 2016 in Utah, US. \n",
            "추출적 요약 : A 72-year-old man named Terry Sanderson has sued 'Avengers' actress Gwyneth Paltrow for allegedly crashing into him while skiing, and is seeking $3.1 million (over Ã¢ÂÂ¹22 crore) in damages.\n",
            "\n",
            "19번 째 문장 Yami Gautam was felicitated by Border Security Force (BSF) in Amritsar for her performance in 'Uri: The Surgical Strike'. \"BSF is the first line of defence of our country and it gives me...pride to have met them,\" Yami said. The film, which also stars Vicky Kaushal, is based on the Indian Army's surgical strike operation which took place in 2016.\n",
            "추출적 요약 : Yami Gautam was felicitated by Border Security Force (BSF) in Amritsar for her performance in 'Uri: The Surgical Strike'.\n",
            "\n",
            "20번 째 문장 Social media giant Facebook has hired privacy critic Nate Cardozo, formerly the top legal counsel for US privacy watchdog EFF, as a privacy policy manager for WhatsApp. Cardozo had called Facebook a \"faceless corporation\" whose business model depends on user's confusion and indifference about privacy, in October 2015. Facebook has also hired attorney Robyn Greene as its privacy policy manager.\n",
            "추출적 요약 : \n",
            "\n",
            "21번 째 문장 Apple CEO Tim Cook said the company plans to lower some iPhones' prices in markets with currencies that weakened against the US dollar in the past year. \"WeÃ¢ÂÂve decided to go back to (iPhone prices) more commensurate with...local prices...a year ago,\" Cook added. The price cuts, in hopes of increasing sales, are reportedly occurring for second time in 12 years.\n",
            "추출적 요약 : \"WeÃ¢ÂÂve decided to go back to (iPhone prices) more commensurate with...local prices...a year ago,\" Cook added.\n",
            "\n",
            "22번 째 문장 Scientists in Australia's Flinders University are testing a wetsuit prototype that could protect its wearer after a shark attack. The suit, made of synthetic material similar to the material used in bulletproof vests, could help reduce blood loss after a shark attack. \"The majority of fatalities from shark bites is due to blood loss...shock from blood loss,\" a scientist said.\n",
            "추출적 요약 : \"The majority of fatalities from shark bites is due to blood loss...shock from blood loss,\" a scientist said.\n",
            "\n",
            "23번 째 문장 BJP National Secretary Rahul Sinha on Wednesday asked the party workers in West Bengal to come armed with sticks to PM Narendra Modi's rally in the state on February 2. His statement came a day after clashes broke out following BJP chief Amit Shah's WB rally. Sinha added the TMC is indulged in violence as they're afraid of BJP's strength.\n",
            "추출적 요약 : BJP National Secretary Rahul Sinha on Wednesday asked the party workers in West Bengal to come armed with sticks to PM Narendra Modi's rally in the state on February 2.\n",
            "\n",
            "24번 째 문장 BJP President Amit Shah on Wednesday took a dig at the Opposition parties saying that the 'mahagathbandhan' for the Opposition is 4B - \"Bua-Bhatija-Bhai-Behen\". He added that 4B for the BJP meant \"Badhta Bharat, Banta Bharat\". He said Opposition's government cannot take the country ahead and \"only Modiji can provide a 'mazboot' (strong) government\".\n",
            "추출적 요약 : BJP President Amit Shah on Wednesday took a dig at the Opposition parties saying that the 'mahagathbandhan' for the Opposition is 4B - \"Bua-Bhatija-Bhai-Behen\".\n",
            "\n",
            "25번 째 문장 German automaker Volkswagen Group has retained the car industry's top spot in global sales, beating its Japanese rival Toyota. Volkswagen's sales, including its MAN and Scania heavy trucks and buses, rose 0.9% to 10.83 million in 2018, the company had said. Toyota came second with around 10.6 million deliveries, including its affiliated brands Daihatsu and Hino, in 2018.\n",
            "추출적 요약 : Volkswagen's sales, including its MAN and Scania heavy trucks and buses, rose 0.9% to 10.83 million in 2018, the company had said.\n",
            "\n",
            "26번 째 문장 Ousted Nissan Chairman Carlos Ghosn has said his arrest over alleged financial misconduct was led by \"plot and treason\" by the Japanese carmaker's executives who opposed its deeper integration with Renault and Mitsubishi. Ghosn added he had discussed the integration plans with Nissan's CEO in September, a month before his arrest. He further said he wouldn't flee if granted bail.\n",
            "추출적 요약 : Ousted Nissan Chairman Carlos Ghosn has said his arrest over alleged financial misconduct was led by \"plot and treason\" by the Japanese carmaker's executives who opposed its deeper integration with Renault and Mitsubishi.\n",
            "\n",
            "27번 째 문장 The government has cut down customs duty on import of parts and components for electric vehicles to 10-15%, down from the previous 15-30%. The Central Board of Indirect Taxes and Customs said disassembled parts will attract 10% duty, whereas 15% will be levied on pre-assembled packs. However, fully built electric vehicles will continue to attract 25% import duty.\n",
            "추출적 요약 : The government has cut down customs duty on import of parts and components for electric vehicles to 10-15%, down from the previous 15-30%.\n",
            "\n",
            "28번 째 문장 Government officials on Wednesday said that a swine flu outbreak has killed 76 people this year in Rajasthan. Colder weather has worsened the seasonal outbreak of the H1N1 virus in the country, officials added. Rajasthan recorded more than a third of all swine flu deaths in India with Jodhpur being the worst affected area in the state, officials said.\n",
            "추출적 요약 : Government officials on Wednesday said that a swine flu outbreak has killed 76 people this year in Rajasthan.\n",
            "\n",
            "29번 째 문장 North Korea is \"unlikely to completely give up its nuclear weapons and production capabilities\", Director of US' National Intelligence, Daniel Coats, said. \"North Korean leaders view nuclear arms as critical to regime survival,\" he added. His statements come despite North Korea's agreement with the US at the Singapore summit last year to denuclearise the Korean Peninsula. \n",
            "추출적 요약 : \"North Korean leaders view nuclear arms as critical to regime survival,\" he added.\n",
            "\n",
            "30번 째 문장 Jet Airways on Wednesday denied it was directed by GE Capital Aviation Services to ground its aircraft due to non-payment of dues. The airline said it's in the process of delivering three aircraft to lessors due to the expiry of lease terms. Further, three aircraft have been temporarily grounded to carry out an engine normalisation exercise, it added.\n",
            "추출적 요약 : Further, three aircraft have been temporarily grounded to carry out an engine normalisation exercise, it added.\n",
            "\n",
            "31번 째 문장 Retired Justice Srikrishna's enquiry panel has found that ex-CEO Chanda Kochhar violated ICICI Bank's code of conduct. The bank said it'll treat Kochhar's exit as termination and will take back all bonuses paid to her from April 2009 until March 2018. The CBI recently filed a case against Kochhar, her husband, and Videocon MD in the ICICI-Videocon loan case.\n",
            "추출적 요약 : Retired Justice Srikrishna's enquiry panel has found that ex-CEO Chanda Kochhar violated ICICI Bank's code of conduct.\n",
            "\n",
            "32번 째 문장 Ex-India cricketer Jacob Martin has been shifted to general ward from the ICU after being on a ventilator for nearly a month following a road accident, wherein he severely injured his lungs. Martin's wife Khyati mentioned there are chances that Jacob will be in hospital for two more months. BCCI, CSK and various cricketers provided financial assistance for Martin's treatment.\n",
            "추출적 요약 : Ex-India cricketer Jacob Martin has been shifted to general ward from the ICU after being on a ventilator for nearly a month following a road accident, wherein he severely injured his lungs.\n",
            "\n",
            "33번 째 문장 Sri Lanka all-rounder Thisara Perera has written to Sri Lanka Cricket CEO Ashley de Silva, asking the board to intervene after ODI captain Lasith Malinga's wife Tanya targeted him on Facebook. Tanya accused Perera of meeting country's Sports Minister to secure his place in the team. \"We've become laughing stock of whole country...because of one person's personal vendetta,\" Perera wrote.\n",
            "추출적 요약 : Tanya accused Perera of meeting country's Sports Minister to secure his place in the team.\n",
            "\n",
            "34번 째 문장 Goa CM and ex-Defence Minister Manohar Parrikar has written a letter to Congress President Rahul Gandhi over his claim that Parrikar told him he has nothing to do with new Rafale deal. Parrikar wrote, \"Kindly do not use your visit to an ailing person to feed political opportunism.\" In their five-minute meeting, they didn't discuss anything about Rafale, he added.\n",
            "추출적 요약 : \n",
            "\n",
            "35번 째 문장 Prime Minister Narendra Modi stopped his speech at the inauguration of the new terminal building at Surat airport after observing that a cameraman had fainted. PM Modi then asked his officers to urgently arrange for an ambulance for the cameraman. \"It's good that PM was paying attention to his surroundings during his speech,\" the cameraman later said from a hospital. \n",
            "추출적 요약 : PM Modi then asked his officers to urgently arrange for an ambulance for the cameraman.\n",
            "\n",
            "36번 째 문장 A couple got divorced minutes after their wedding ceremony got over in Gujarat's Gondal as a disagreement broke out and relatives from both sides started throwing dishes at each other during lunch. The advocates representing both sides arrived at the marriage hall and got the couple divorced within minutes. The couple even reportedly returned the gifts exchanged during the ceremony.\n",
            "추출적 요약 : A couple got divorced minutes after their wedding ceremony got over in Gujarat's Gondal as a disagreement broke out and relatives from both sides started throwing dishes at each other during lunch.\n",
            "\n",
            "37번 째 문장 Gujarat Education Minister Bhupendrasinh Chudasma has written a congratulatory message to a yoga ashram run by rape-convict Asaram's organisation for observing February 14 as \"Matru-Pitru Pujan Divas\" (Mother-Father worship day). After the Congress termed the letter as \"unfortunate\", saying it \"shows the nexus between BJP and godman\", Chudasma clarified, \"All I have done is sent best wishes.\" \n",
            "추출적 요약 : \n",
            "\n",
            "38번 째 문장 Venezuelan President NicolÃÂ¡s Maduro has claimed that his American counterpart Donald Trump ordered the Colombian government and the Colombian mafia to kill him. \"If something happens to me, Trump and Colombian President IvÃÂ¡n MÃÂ¡rquez will bear responsibility,\" he added. The US has blamed Maduro for the economic crisis in Venezuela and recognised opposition leader Juan GuaidÃÂ³ as interim President.\n",
            "추출적 요약 : Venezuelan President NicolÃÂ¡s Maduro has claimed that his American counterpart Donald Trump ordered the Colombian government and the Colombian mafia to kill him.\n",
            "\n",
            "39번 째 문장 Eight Asian billionaires aged 90 or above on the Bloomberg Billionaires Index of world's 500 richest people have a combined net worth of $125 billion. The richest among them is Hong Kong's Li Ka Shing with a net worth of $30.5 billion. India's 90-year-old Pallonji Mistry, who controls 18.3% of Tata Sons through Shapoorji Pallonji Group, is worth $20.1 billion.\n",
            "추출적 요약 : The richest among them is Hong Kong's Li Ka Shing with a net worth of $30.5 billion.\n",
            "\n",
            "40번 째 문장 Tamil Nadu food safety officials on Wednesday raided and seized 1,000 kgs of banned plastic items from Hotel Saravana Bhavan in Chennai's Vadapalani. Officials began a surprise check in the branch at 8 am. The state government had banned single-use plastics from January 1 and said the banned items should be handed over at the offices of the city corporation.\n",
            "추출적 요약 : Tamil Nadu food safety officials on Wednesday raided and seized 1,000 kgs of banned plastic items from Hotel Saravana Bhavan in Chennai's Vadapalani.\n",
            "\n",
            "41번 째 문장 Actress Shamita Shetty was verbally abused and her driver was slapped in an incident of road rage in Mumbai on Tuesday, as per reports. The incident reportedly took place after a motorist who was accompanied by two friends, rammed his vehicle into Shamita's car. The men allegedly manhandled and threatened Shamita's driver when he stepped out to inspect the damage. \n",
            "추출적 요약 : Actress Shamita Shetty was verbally abused and her driver was slapped in an incident of road rage in Mumbai on Tuesday, as per reports.\n",
            "\n",
            "42번 째 문장 Actress Vaani Kapoor said that trolling has become a norm on social media, adding, \"There's no one who hasn't got trolled on social media.\" \"Everybody is out there to pull the other person down but it'll only bother [you] if you let it bother you,\" Vaani added. She further said, social media offers a platform \"where people enjoy belittling everybody\". \n",
            "추출적 요약 : \n",
            "\n",
            "43번 째 문장 Actress Sushmita Sen took to Instagram to share a joke on the subject of marriage. \"Whoever invented marriage was creepy as hell. Like I love you so much IÃ¢ÂÂm gonna get the government involved so you canÃ¢ÂÂt leave,\" Sushmita's post read. \"This is an insult to [the] beauty of marriage,\" an Instagram user commented on her post.\n",
            "추출적 요약 : \"This is an insult to [the] beauty of marriage,\" an Instagram user commented on her post.\n",
            "\n",
            "44번 째 문장 Television actor Karanvir Bohra, who flew to Russia on Tuesday to attend a film festival, has been detained in Moscow due to passport damage. \"They [are] contemplating to deport me back to India,\" the actor wrote on Twitter. The Indian embassy in Russia's capital responded to his tweet and said that they were looking into the issue. \n",
            "추출적 요약 : Television actor Karanvir Bohra, who flew to Russia on Tuesday to attend a film festival, has been detained in Moscow due to passport damage.\n",
            "\n",
            "45번 째 문장 While speaking about winning awards for his films, Shah Rukh Khan said, \"If I don't get an award, that award is at a loss.\" \"Sometimes, the prestige of an award increases when I receive it,\" the actor jokingly added. Shah Rukh further said that he was \"extremely ambitious\" but in a \"fair manner\". \n",
            "추출적 요약 : \n",
            "\n",
            "46번 째 문장 Actress Patralekhaa will make her debut in the Kannada film industry with the action-comedy film 'Where is my Kannadaka?' \"I can definitely say that itÃ¢ÂÂs a kind of role that I havenÃ¢ÂÂt portrayed on screen so far and that makes it special for me,\" the actress said in a statement. Shooting for the film will reportedly begin in April.\n",
            "추출적 요약 : \n",
            "\n",
            "47번 째 문장 Gmail on Tuesday faced a global outage, which also affected India, wherein certain users complained they faced a '404 error' message while trying to sign-in to their accounts. The error message read: \"The requested URL was not found on this server. That's all we know.\" Google responded saying \"problem with Gmail should be resolved (now). We apologise for the inconvenience\".\n",
            "추출적 요약 : Gmail on Tuesday faced a global outage, which also affected India, wherein certain users complained they faced a '404 error' message while trying to sign-in to their accounts.\n",
            "\n",
            "48번 째 문장 Shiv Sena chief Uddhav Thackeray has asked the BJP to decide about the alliance with the Sena within 15 days and said the BJP should make a concrete proposal on the alliance. Thackeray added that only if the BJP agrees to Sena's terms and conditions, the party will agree for an alliance. Sena is free to fight independently, he said. \n",
            "추출적 요약 : Shiv Sena chief Uddhav Thackeray has asked the BJP to decide about the alliance with the Sena within 15 days and said the BJP should make a concrete proposal on the alliance.\n",
            "\n",
            "49번 째 문장 BJP President Amit Shah on Wednesday took a dig at the Opposition's proposed grand alliance saying if the \"mahagathbandhan comes to power, each opposition leader will be a Prime Minister every day of the week\". He added, \"[The] country will go on...holiday on Sunday\". He said the Opposition is thinking about leading the country but does not have a leader.\n",
            "추출적 요약 : He said the Opposition is thinking about leading the country but does not have a leader.\n",
            "\n",
            "50번 째 문장 Prime Minister Narendra Modi on Wednesday said his government's demonetisation decision made houses affordable for the aspiring youth. He added decisions like demonetisation and RERA have put a check on black money that used to be \"parked in the real estate sector\". He said 'UDAN' (Ude Desh ka Aam Nagrik) scheme has boosted the development of the country's aviation sector.\n",
            "추출적 요약 : He added decisions like demonetisation and RERA have put a check on black money that used to be \"parked in the real estate sector\".\n",
            "\n"
          ]
        }
      ]
    },
    {
      "cell_type": "markdown",
      "source": [
        "확실히 추상적보다, 추출이 더 정확성이 높은 거 같다."
      ],
      "metadata": {
        "id": "8ZiloNnC_H0_"
      }
    },
    {
      "cell_type": "markdown",
      "source": [
        "### 회고"
      ],
      "metadata": {
        "id": "dhUWaTIu-bu2"
      }
    },
    {
      "cell_type": "markdown",
      "source": [
        "참고\n",
        "\n",
        "https://wikidocs.net/24996"
      ],
      "metadata": {
        "id": "xkW01NXPAChk"
      }
    },
    {
      "cell_type": "markdown",
      "source": [
        "RNN 정말 재밌는 분야 같다. 확률로 예측을 하고 새로운 결과를 뽑아내는 재미가 쏠쏠하다.\n",
        "\n",
        "전반적으로 RNN 개념을 잘 이해한 거 같다. 심화학습인 req2req도 전체 메커니즘은 이해를 하고 프로젝트를 완성을 했다. 하지만 의문점이 하나 남아있다. 모델 테스트 할 때, 인코더를 왜 재 정립을 해야하는 지 의문이다. 메커니즘 상 디코더에서만 변화가 일어나서, 이 부분만 수정하면 되지 않나 싶었다. 구글링 결과도 나와 같은 생각을 말해주고 있다. 노드에서 따른 의도가 있는 것인지 궁금하다.\n",
        "\n",
        "날이 갈수록 NLP가 재밌는 거 같다. 이제 선택해야 하는 순간이 바로 코 앞인데 무엇을 골라야 할 지..."
      ],
      "metadata": {
        "id": "GWcSuhql-eRW"
      }
    }
  ]
}