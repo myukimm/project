{
  "cells": [
    {
      "cell_type": "markdown",
      "metadata": {
        "id": "5jvmjhsjbtDG"
      },
      "source": [
        "# Ex08"
      ]
    },
    {
      "cell_type": "markdown",
      "source": [
        "#### 1. import 하기"
      ],
      "metadata": {
        "id": "Lr3WBh-Dzpfq"
      }
    },
    {
      "cell_type": "code",
      "execution_count": 1,
      "metadata": {
        "colab": {
          "base_uri": "https://localhost:8080/"
        },
        "id": "2w8AWCwbcCzL",
        "outputId": "5092a9b6-6d8d-4b29-b00b-fd75289a9947"
      },
      "outputs": [
        {
          "output_type": "stream",
          "name": "stdout",
          "text": [
            "Looking in indexes: https://pypi.org/simple, https://us-python.pkg.dev/colab-wheels/public/simple/\n",
            "Requirement already satisfied: konlpy==0.5.2 in /usr/local/lib/python3.7/dist-packages (0.5.2)\n",
            "Requirement already satisfied: numpy>=1.6 in /usr/local/lib/python3.7/dist-packages (from konlpy==0.5.2) (1.21.6)\n",
            "Requirement already satisfied: beautifulsoup4==4.6.0 in /usr/local/lib/python3.7/dist-packages (from konlpy==0.5.2) (4.6.0)\n",
            "Requirement already satisfied: colorama in /usr/local/lib/python3.7/dist-packages (from konlpy==0.5.2) (0.4.5)\n",
            "Requirement already satisfied: lxml>=4.1.0 in /usr/local/lib/python3.7/dist-packages (from konlpy==0.5.2) (4.9.1)\n",
            "Requirement already satisfied: JPype1>=0.7.0 in /usr/local/lib/python3.7/dist-packages (from konlpy==0.5.2) (1.4.0)\n",
            "Requirement already satisfied: tweepy>=3.7.0 in /usr/local/lib/python3.7/dist-packages (from konlpy==0.5.2) (3.10.0)\n",
            "Requirement already satisfied: typing-extensions in /usr/local/lib/python3.7/dist-packages (from JPype1>=0.7.0->konlpy==0.5.2) (4.1.1)\n",
            "Requirement already satisfied: requests[socks]>=2.11.1 in /usr/local/lib/python3.7/dist-packages (from tweepy>=3.7.0->konlpy==0.5.2) (2.23.0)\n",
            "Requirement already satisfied: requests-oauthlib>=0.7.0 in /usr/local/lib/python3.7/dist-packages (from tweepy>=3.7.0->konlpy==0.5.2) (1.3.1)\n",
            "Requirement already satisfied: six>=1.10.0 in /usr/local/lib/python3.7/dist-packages (from tweepy>=3.7.0->konlpy==0.5.2) (1.15.0)\n",
            "Requirement already satisfied: oauthlib>=3.0.0 in /usr/local/lib/python3.7/dist-packages (from requests-oauthlib>=0.7.0->tweepy>=3.7.0->konlpy==0.5.2) (3.2.0)\n",
            "Requirement already satisfied: certifi>=2017.4.17 in /usr/local/lib/python3.7/dist-packages (from requests[socks]>=2.11.1->tweepy>=3.7.0->konlpy==0.5.2) (2022.6.15)\n",
            "Requirement already satisfied: chardet<4,>=3.0.2 in /usr/local/lib/python3.7/dist-packages (from requests[socks]>=2.11.1->tweepy>=3.7.0->konlpy==0.5.2) (3.0.4)\n",
            "Requirement already satisfied: idna<3,>=2.5 in /usr/local/lib/python3.7/dist-packages (from requests[socks]>=2.11.1->tweepy>=3.7.0->konlpy==0.5.2) (2.10)\n",
            "Requirement already satisfied: urllib3!=1.25.0,!=1.25.1,<1.26,>=1.21.1 in /usr/local/lib/python3.7/dist-packages (from requests[socks]>=2.11.1->tweepy>=3.7.0->konlpy==0.5.2) (1.24.3)\n",
            "Requirement already satisfied: PySocks!=1.5.7,>=1.5.6 in /usr/local/lib/python3.7/dist-packages (from requests[socks]>=2.11.1->tweepy>=3.7.0->konlpy==0.5.2) (1.7.1)\n"
          ]
        }
      ],
      "source": [
        "! pip install --upgrade konlpy==0.5.2"
      ]
    },
    {
      "cell_type": "code",
      "execution_count": 2,
      "metadata": {
        "colab": {
          "base_uri": "https://localhost:8080/"
        },
        "id": "0CpmsCgFbo-X",
        "outputId": "40303bd8-132d-44ec-d8bc-f941b74b64b6"
      },
      "outputs": [
        {
          "output_type": "stream",
          "name": "stdout",
          "text": [
            "1.3.5\n",
            "0.5.2\n",
            "3.6.0\n"
          ]
        }
      ],
      "source": [
        "import pandas\n",
        "import konlpy\n",
        "import gensim\n",
        "\n",
        "print(pandas.__version__)\n",
        "print(konlpy.__version__)\n",
        "print(gensim.__version__)"
      ]
    },
    {
      "cell_type": "markdown",
      "source": [
        "#### konlpy"
      ],
      "metadata": {
        "id": "4yMLRgjOzwAz"
      }
    },
    {
      "cell_type": "code",
      "source": [
        "%%bash\n",
        "apt-get update\n",
        "apt-get install g++ openjdk-8-jdk python-dev python3-dev\n",
        "pip3 install JPype1\n",
        "pip3 install konlpy"
      ],
      "metadata": {
        "colab": {
          "base_uri": "https://localhost:8080/"
        },
        "id": "ZzMhmtK1zkfZ",
        "outputId": "2d44ca3a-9795-4f15-aaf7-be7eb41e9cc8"
      },
      "execution_count": 3,
      "outputs": [
        {
          "output_type": "stream",
          "name": "stdout",
          "text": [
            "Hit:1 https://cloud.r-project.org/bin/linux/ubuntu bionic-cran40/ InRelease\n",
            "Ign:2 https://developer.download.nvidia.com/compute/machine-learning/repos/ubuntu1804/x86_64  InRelease\n",
            "Hit:3 https://developer.download.nvidia.com/compute/cuda/repos/ubuntu1804/x86_64  InRelease\n",
            "Hit:4 https://developer.download.nvidia.com/compute/machine-learning/repos/ubuntu1804/x86_64  Release\n",
            "Hit:5 http://archive.ubuntu.com/ubuntu bionic InRelease\n",
            "Hit:6 http://ppa.launchpad.net/c2d4u.team/c2d4u4.0+/ubuntu bionic InRelease\n",
            "Hit:7 http://archive.ubuntu.com/ubuntu bionic-updates InRelease\n",
            "Hit:8 http://security.ubuntu.com/ubuntu bionic-security InRelease\n",
            "Hit:9 http://archive.ubuntu.com/ubuntu bionic-backports InRelease\n",
            "Hit:10 http://ppa.launchpad.net/cran/libgit2/ubuntu bionic InRelease\n",
            "Hit:11 http://ppa.launchpad.net/deadsnakes/ppa/ubuntu bionic InRelease\n",
            "Hit:13 http://ppa.launchpad.net/graphics-drivers/ppa/ubuntu bionic InRelease\n",
            "Reading package lists...\n",
            "Reading package lists...\n",
            "Building dependency tree...\n",
            "Reading state information...\n",
            "python-dev is already the newest version (2.7.15~rc1-1).\n",
            "g++ is already the newest version (4:7.4.0-1ubuntu2.3).\n",
            "python3-dev is already the newest version (3.6.7-1~18.04).\n",
            "openjdk-8-jdk is already the newest version (8u342-b07-0ubuntu1~18.04).\n",
            "The following package was automatically installed and is no longer required:\n",
            "  libnvidia-common-460\n",
            "Use 'apt autoremove' to remove it.\n",
            "0 upgraded, 0 newly installed, 0 to remove and 35 not upgraded.\n",
            "Looking in indexes: https://pypi.org/simple, https://us-python.pkg.dev/colab-wheels/public/simple/\n",
            "Requirement already satisfied: JPype1 in /usr/local/lib/python3.7/dist-packages (1.4.0)\n",
            "Requirement already satisfied: typing-extensions in /usr/local/lib/python3.7/dist-packages (from JPype1) (4.1.1)\n",
            "Looking in indexes: https://pypi.org/simple, https://us-python.pkg.dev/colab-wheels/public/simple/\n",
            "Requirement already satisfied: konlpy in /usr/local/lib/python3.7/dist-packages (0.5.2)\n",
            "Requirement already satisfied: JPype1>=0.7.0 in /usr/local/lib/python3.7/dist-packages (from konlpy) (1.4.0)\n",
            "Requirement already satisfied: numpy>=1.6 in /usr/local/lib/python3.7/dist-packages (from konlpy) (1.21.6)\n",
            "Requirement already satisfied: colorama in /usr/local/lib/python3.7/dist-packages (from konlpy) (0.4.5)\n",
            "Requirement already satisfied: lxml>=4.1.0 in /usr/local/lib/python3.7/dist-packages (from konlpy) (4.9.1)\n",
            "Requirement already satisfied: beautifulsoup4==4.6.0 in /usr/local/lib/python3.7/dist-packages (from konlpy) (4.6.0)\n",
            "Requirement already satisfied: tweepy>=3.7.0 in /usr/local/lib/python3.7/dist-packages (from konlpy) (3.10.0)\n",
            "Requirement already satisfied: typing-extensions in /usr/local/lib/python3.7/dist-packages (from JPype1>=0.7.0->konlpy) (4.1.1)\n",
            "Requirement already satisfied: requests[socks]>=2.11.1 in /usr/local/lib/python3.7/dist-packages (from tweepy>=3.7.0->konlpy) (2.23.0)\n",
            "Requirement already satisfied: six>=1.10.0 in /usr/local/lib/python3.7/dist-packages (from tweepy>=3.7.0->konlpy) (1.15.0)\n",
            "Requirement already satisfied: requests-oauthlib>=0.7.0 in /usr/local/lib/python3.7/dist-packages (from tweepy>=3.7.0->konlpy) (1.3.1)\n",
            "Requirement already satisfied: oauthlib>=3.0.0 in /usr/local/lib/python3.7/dist-packages (from requests-oauthlib>=0.7.0->tweepy>=3.7.0->konlpy) (3.2.0)\n",
            "Requirement already satisfied: urllib3!=1.25.0,!=1.25.1,<1.26,>=1.21.1 in /usr/local/lib/python3.7/dist-packages (from requests[socks]>=2.11.1->tweepy>=3.7.0->konlpy) (1.24.3)\n",
            "Requirement already satisfied: chardet<4,>=3.0.2 in /usr/local/lib/python3.7/dist-packages (from requests[socks]>=2.11.1->tweepy>=3.7.0->konlpy) (3.0.4)\n",
            "Requirement already satisfied: certifi>=2017.4.17 in /usr/local/lib/python3.7/dist-packages (from requests[socks]>=2.11.1->tweepy>=3.7.0->konlpy) (2022.6.15)\n",
            "Requirement already satisfied: idna<3,>=2.5 in /usr/local/lib/python3.7/dist-packages (from requests[socks]>=2.11.1->tweepy>=3.7.0->konlpy) (2.10)\n",
            "Requirement already satisfied: PySocks!=1.5.7,>=1.5.6 in /usr/local/lib/python3.7/dist-packages (from requests[socks]>=2.11.1->tweepy>=3.7.0->konlpy) (1.7.1)\n"
          ]
        }
      ]
    },
    {
      "cell_type": "code",
      "source": [
        "%env JAVA_HOME \"/usr/lib/jvm/java-8-openjdk-amd64\""
      ],
      "metadata": {
        "colab": {
          "base_uri": "https://localhost:8080/"
        },
        "id": "Ts3DkW24zmm6",
        "outputId": "2e14edb2-e49f-4640-93a0-99f1cce7b778"
      },
      "execution_count": 4,
      "outputs": [
        {
          "output_type": "stream",
          "name": "stdout",
          "text": [
            "env: JAVA_HOME=\"/usr/lib/jvm/java-8-openjdk-amd64\"\n"
          ]
        }
      ]
    },
    {
      "cell_type": "code",
      "source": [
        "%%bash\n",
        "bash <(curl -s https://raw.githubusercontent.com/konlpy/konlpy/master/scripts/mecab.sh)\n",
        "pip3 install /tmp/mecab-python-0.996"
      ],
      "metadata": {
        "colab": {
          "base_uri": "https://localhost:8080/"
        },
        "id": "2wVQeGJiznLz",
        "outputId": "a620b39d-c3ee-4a51-e3d6-8b4af635e0fc"
      },
      "execution_count": 5,
      "outputs": [
        {
          "output_type": "stream",
          "name": "stdout",
          "text": [
            "mecab-ko is already installed\n",
            "mecab-ko-dic is already installed\n",
            "mecab-python is already installed\n",
            "Done.\n",
            "Looking in indexes: https://pypi.org/simple, https://us-python.pkg.dev/colab-wheels/public/simple/\n",
            "Processing /tmp/mecab-python-0.996\n",
            "Building wheels for collected packages: mecab-python\n",
            "  Building wheel for mecab-python (setup.py): started\n",
            "  Building wheel for mecab-python (setup.py): finished with status 'done'\n",
            "  Created wheel for mecab-python: filename=mecab_python-0.996_ko_0.9.2-cp37-cp37m-linux_x86_64.whl size=141810 sha256=d4970e75769c010b9f5261b9101816307d71e4ddf098813b03b066476609aa68\n",
            "  Stored in directory: /root/.cache/pip/wheels/40/7b/9f/2922869bef86c3354ae7034f7a3647c573ee1997c2dad0290a\n",
            "Failed to build mecab-python\n",
            "Installing collected packages: mecab-python\n",
            "  Attempting uninstall: mecab-python\n",
            "    Found existing installation: mecab-python 0.996-ko-0.9.2\n",
            "    Uninstalling mecab-python-0.996-ko-0.9.2:\n",
            "      Successfully uninstalled mecab-python-0.996-ko-0.9.2\n",
            "    Running setup.py install for mecab-python: started\n",
            "    Running setup.py install for mecab-python: finished with status 'done'\n",
            "Successfully installed mecab-python-0.996-ko-0.9.2\n"
          ]
        },
        {
          "output_type": "stream",
          "name": "stderr",
          "text": [
            "  DEPRECATION: A future pip version will change local packages to be built in-place without first copying to a temporary directory. We recommend you use --use-feature=in-tree-build to test your packages with this new behavior before it becomes the default.\n",
            "   pip 21.3 will remove support for this functionality. You can find discussion regarding this at https://github.com/pypa/pip/issues/7555.\n",
            "  WARNING: Built wheel for mecab-python is invalid: Metadata 1.2 mandates PEP 440 version, but '0.996-ko-0.9.2' is not\n",
            "  DEPRECATION: mecab-python was installed using the legacy 'setup.py install' method, because a wheel could not be built for it. A possible replacement is to fix the wheel build issue reported above. You can find discussion regarding this at https://github.com/pypa/pip/issues/8368.\n"
          ]
        }
      ]
    },
    {
      "cell_type": "markdown",
      "source": [
        "### 2. 데이터 준비"
      ],
      "metadata": {
        "id": "MSVyaDcZ0D3U"
      }
    },
    {
      "cell_type": "code",
      "execution_count": 6,
      "metadata": {
        "colab": {
          "base_uri": "https://localhost:8080/"
        },
        "id": "7YUIiW4zbxM8",
        "outputId": "5b5d7d15-8563-4c08-8222-bd12957e0514"
      },
      "outputs": [
        {
          "output_type": "stream",
          "name": "stdout",
          "text": [
            "Drive already mounted at /content/drive; to attempt to forcibly remount, call drive.mount(\"/content/drive\", force_remount=True).\n"
          ]
        }
      ],
      "source": [
        "from google.colab import drive\n",
        "drive.mount(\"/content/drive\")"
      ]
    },
    {
      "cell_type": "code",
      "execution_count": 7,
      "metadata": {
        "colab": {
          "base_uri": "https://localhost:8080/",
          "height": 206
        },
        "id": "okZ5b9DfcwjP",
        "outputId": "ea515eaa-ea7c-4560-f207-0b71f612b9d8"
      },
      "outputs": [
        {
          "output_type": "execute_result",
          "data": {
            "text/plain": [
              "         id                                           document  label\n",
              "0   9976970                                아 더빙.. 진짜 짜증나네요 목소리      0\n",
              "1   3819312                  흠...포스터보고 초딩영화줄....오버연기조차 가볍지 않구나      1\n",
              "2  10265843                                  너무재밓었다그래서보는것을추천한다      0\n",
              "3   9045019                      교도소 이야기구먼 ..솔직히 재미는 없다..평점 조정      0\n",
              "4   6483659  사이몬페그의 익살스런 연기가 돋보였던 영화!스파이더맨에서 늙어보이기만 했던 커스틴 ...      1"
            ],
            "text/html": [
              "\n",
              "  <div id=\"df-bffbbf49-2f97-4907-be0a-e686e2ec55da\">\n",
              "    <div class=\"colab-df-container\">\n",
              "      <div>\n",
              "<style scoped>\n",
              "    .dataframe tbody tr th:only-of-type {\n",
              "        vertical-align: middle;\n",
              "    }\n",
              "\n",
              "    .dataframe tbody tr th {\n",
              "        vertical-align: top;\n",
              "    }\n",
              "\n",
              "    .dataframe thead th {\n",
              "        text-align: right;\n",
              "    }\n",
              "</style>\n",
              "<table border=\"1\" class=\"dataframe\">\n",
              "  <thead>\n",
              "    <tr style=\"text-align: right;\">\n",
              "      <th></th>\n",
              "      <th>id</th>\n",
              "      <th>document</th>\n",
              "      <th>label</th>\n",
              "    </tr>\n",
              "  </thead>\n",
              "  <tbody>\n",
              "    <tr>\n",
              "      <th>0</th>\n",
              "      <td>9976970</td>\n",
              "      <td>아 더빙.. 진짜 짜증나네요 목소리</td>\n",
              "      <td>0</td>\n",
              "    </tr>\n",
              "    <tr>\n",
              "      <th>1</th>\n",
              "      <td>3819312</td>\n",
              "      <td>흠...포스터보고 초딩영화줄....오버연기조차 가볍지 않구나</td>\n",
              "      <td>1</td>\n",
              "    </tr>\n",
              "    <tr>\n",
              "      <th>2</th>\n",
              "      <td>10265843</td>\n",
              "      <td>너무재밓었다그래서보는것을추천한다</td>\n",
              "      <td>0</td>\n",
              "    </tr>\n",
              "    <tr>\n",
              "      <th>3</th>\n",
              "      <td>9045019</td>\n",
              "      <td>교도소 이야기구먼 ..솔직히 재미는 없다..평점 조정</td>\n",
              "      <td>0</td>\n",
              "    </tr>\n",
              "    <tr>\n",
              "      <th>4</th>\n",
              "      <td>6483659</td>\n",
              "      <td>사이몬페그의 익살스런 연기가 돋보였던 영화!스파이더맨에서 늙어보이기만 했던 커스틴 ...</td>\n",
              "      <td>1</td>\n",
              "    </tr>\n",
              "  </tbody>\n",
              "</table>\n",
              "</div>\n",
              "      <button class=\"colab-df-convert\" onclick=\"convertToInteractive('df-bffbbf49-2f97-4907-be0a-e686e2ec55da')\"\n",
              "              title=\"Convert this dataframe to an interactive table.\"\n",
              "              style=\"display:none;\">\n",
              "        \n",
              "  <svg xmlns=\"http://www.w3.org/2000/svg\" height=\"24px\"viewBox=\"0 0 24 24\"\n",
              "       width=\"24px\">\n",
              "    <path d=\"M0 0h24v24H0V0z\" fill=\"none\"/>\n",
              "    <path d=\"M18.56 5.44l.94 2.06.94-2.06 2.06-.94-2.06-.94-.94-2.06-.94 2.06-2.06.94zm-11 1L8.5 8.5l.94-2.06 2.06-.94-2.06-.94L8.5 2.5l-.94 2.06-2.06.94zm10 10l.94 2.06.94-2.06 2.06-.94-2.06-.94-.94-2.06-.94 2.06-2.06.94z\"/><path d=\"M17.41 7.96l-1.37-1.37c-.4-.4-.92-.59-1.43-.59-.52 0-1.04.2-1.43.59L10.3 9.45l-7.72 7.72c-.78.78-.78 2.05 0 2.83L4 21.41c.39.39.9.59 1.41.59.51 0 1.02-.2 1.41-.59l7.78-7.78 2.81-2.81c.8-.78.8-2.07 0-2.86zM5.41 20L4 18.59l7.72-7.72 1.47 1.35L5.41 20z\"/>\n",
              "  </svg>\n",
              "      </button>\n",
              "      \n",
              "  <style>\n",
              "    .colab-df-container {\n",
              "      display:flex;\n",
              "      flex-wrap:wrap;\n",
              "      gap: 12px;\n",
              "    }\n",
              "\n",
              "    .colab-df-convert {\n",
              "      background-color: #E8F0FE;\n",
              "      border: none;\n",
              "      border-radius: 50%;\n",
              "      cursor: pointer;\n",
              "      display: none;\n",
              "      fill: #1967D2;\n",
              "      height: 32px;\n",
              "      padding: 0 0 0 0;\n",
              "      width: 32px;\n",
              "    }\n",
              "\n",
              "    .colab-df-convert:hover {\n",
              "      background-color: #E2EBFA;\n",
              "      box-shadow: 0px 1px 2px rgba(60, 64, 67, 0.3), 0px 1px 3px 1px rgba(60, 64, 67, 0.15);\n",
              "      fill: #174EA6;\n",
              "    }\n",
              "\n",
              "    [theme=dark] .colab-df-convert {\n",
              "      background-color: #3B4455;\n",
              "      fill: #D2E3FC;\n",
              "    }\n",
              "\n",
              "    [theme=dark] .colab-df-convert:hover {\n",
              "      background-color: #434B5C;\n",
              "      box-shadow: 0px 1px 3px 1px rgba(0, 0, 0, 0.15);\n",
              "      filter: drop-shadow(0px 1px 2px rgba(0, 0, 0, 0.3));\n",
              "      fill: #FFFFFF;\n",
              "    }\n",
              "  </style>\n",
              "\n",
              "      <script>\n",
              "        const buttonEl =\n",
              "          document.querySelector('#df-bffbbf49-2f97-4907-be0a-e686e2ec55da button.colab-df-convert');\n",
              "        buttonEl.style.display =\n",
              "          google.colab.kernel.accessAllowed ? 'block' : 'none';\n",
              "\n",
              "        async function convertToInteractive(key) {\n",
              "          const element = document.querySelector('#df-bffbbf49-2f97-4907-be0a-e686e2ec55da');\n",
              "          const dataTable =\n",
              "            await google.colab.kernel.invokeFunction('convertToInteractive',\n",
              "                                                     [key], {});\n",
              "          if (!dataTable) return;\n",
              "\n",
              "          const docLinkHtml = 'Like what you see? Visit the ' +\n",
              "            '<a target=\"_blank\" href=https://colab.research.google.com/notebooks/data_table.ipynb>data table notebook</a>'\n",
              "            + ' to learn more about interactive tables.';\n",
              "          element.innerHTML = '';\n",
              "          dataTable['output_type'] = 'display_data';\n",
              "          await google.colab.output.renderOutput(dataTable, element);\n",
              "          const docLink = document.createElement('div');\n",
              "          docLink.innerHTML = docLinkHtml;\n",
              "          element.appendChild(docLink);\n",
              "        }\n",
              "      </script>\n",
              "    </div>\n",
              "  </div>\n",
              "  "
            ]
          },
          "metadata": {},
          "execution_count": 7
        }
      ],
      "source": [
        "import pandas as pd\n",
        "\n",
        "train_data = pd.read_table('/content/drive/MyDrive/ratings_train.txt')\n",
        "test_data = pd.read_table('/content/drive/MyDrive/ratings_test.txt')\n",
        "\n",
        "train_data.head()"
      ]
    },
    {
      "cell_type": "markdown",
      "source": [
        "### 3. 데이터로더 구성"
      ],
      "metadata": {
        "id": "cquwWPaC0Lg9"
      }
    },
    {
      "cell_type": "markdown",
      "source": [
        "실습 때 다루었던 IMDB 데이터셋은 텍스트를 가공하여 imdb.data_loader() 메서드를 호출하면 숫자 인덱스로 변환된 텍스트와 word_to_index 딕셔너리까지 친절하게 제공한다. 그러나 이번에 다루게 될 nsmc 데이터셋은 전혀 가공되지 않은 텍스트 파일로 이루어져 있다. 이것을 읽어서 imdb.data_loader()와 동일하게 동작하는 자신만의 data_loader를 만들어 보는 것으로 시작한다. data_loader 안에서는 다음을 수행해야 합니다."
      ],
      "metadata": {
        "id": "Ah9mxvck0Owb"
      }
    },
    {
      "cell_type": "markdown",
      "source": [
        "1. 데이터의 중복 제거\n",
        "2. NaN 결측치 제거\n",
        "3. 한국어 토크나이저로 토큰화\n",
        "4. 불용어(Stopwords) 제거\n",
        "5. 사전word_to_index 구성\n",
        "6. 텍스트 스트링을 사전 인덱스 스트링으로 변환\n",
        "7. X_train, y_train, X_test, y_test, word_to_index 리턴"
      ],
      "metadata": {
        "id": "JZRqPVfm0Uhs"
      }
    },
    {
      "cell_type": "code",
      "execution_count": 8,
      "metadata": {
        "id": "vnobn2TbdUqn"
      },
      "outputs": [],
      "source": [
        "from konlpy.tag import Mecab\n",
        "import numpy as np\n",
        "from collections import Counter\n",
        "\n",
        "tokenizer = Mecab()\n",
        "stopwords = ['의','가','이','은','들','는','좀','잘','걍','과','도','를','으로','자','에','와','한','하다']\n",
        "\n",
        "def load_data(train_data, test_data, num_words=10000):\n",
        "\n",
        "    # 중복된 값, 결측치 제거\n",
        "    train_data.drop_duplicates(subset=['document'], inplace=True)\n",
        "    train_data = train_data.dropna(how = 'any') \n",
        "    test_data.drop_duplicates(subset=['document'], inplace=True)\n",
        "    test_data = test_data.dropna(how = 'any') \n",
        "    \n",
        "    X_train = []\n",
        "    for sentence in train_data['document']:\n",
        "        temp_X = tokenizer.morphs(sentence) # 토큰화\n",
        "        temp_X = [word for word in temp_X if not word in stopwords] # 불용어 제거\n",
        "        X_train.append(temp_X)\n",
        "\n",
        "    X_test = []\n",
        "    for sentence in test_data['document']:\n",
        "        temp_X = tokenizer.morphs(sentence) # 토큰화\n",
        "        temp_X = [word for word in temp_X if not word in stopwords] # 불용어 제거\n",
        "        X_test.append(temp_X)\n",
        "    \n",
        "    words = np.concatenate(X_train).tolist()\n",
        "    counter = Counter(words)\n",
        "    counter = counter.most_common(10000-4)\n",
        "    vocab = ['<PAD>', '<BOS>', '<UNK>', '<UNUSED>'] + [key for key, _ in counter]\n",
        "    word_to_index = {word:index for index, word in enumerate(vocab)}\n",
        "        \n",
        "    def wordlist_to_indexlist(wordlist):\n",
        "        return [word_to_index[word] if word in word_to_index else word_to_index['<UNK>'] for word in wordlist]\n",
        "        \n",
        "    X_train = list(map(wordlist_to_indexlist, X_train))\n",
        "    X_test = list(map(wordlist_to_indexlist, X_test))\n",
        "        \n",
        "    return X_train, np.array(list(train_data['label'])), X_test, np.array(list(test_data['label'])), word_to_index\n",
        "    \n",
        "X_train, y_train, X_test, y_test, word_to_index = load_data(train_data, test_data)"
      ]
    },
    {
      "cell_type": "code",
      "execution_count": 9,
      "metadata": {
        "id": "dPQHSxrTdU6N"
      },
      "outputs": [],
      "source": [
        "# 딕셔너리로 만들기\n",
        "index_to_word = {index:word for word, index in word_to_index.items()}"
      ]
    },
    {
      "cell_type": "code",
      "source": [
        "# 문장 1개를 활용할 딕셔너리와 함께 주면, 단어 인덱스 리스트 벡터로 변환해 주는 함수입니다. \n",
        "# 단, 모든 문장은 <BOS>로 시작하는 것으로 합니다. \n",
        "def get_encoded_sentence(sentence, word_to_index):\n",
        "    return [word_to_index['<BOS>']]+[word_to_index[word] if word in word_to_index else word_to_index['<UNK>'] for word in sentence.split()]\n",
        "\n",
        "# 여러 개의 문장 리스트를 한꺼번에 단어 인덱스 리스트 벡터로 encode해 주는 함수입니다. \n",
        "def get_encoded_sentences(sentences, word_to_index):\n",
        "    return [get_encoded_sentence(sentence, word_to_index) for sentence in sentences]\n",
        "\n",
        "# 숫자 벡터로 encode된 문장을 원래대로 decode하는 함수입니다. \n",
        "def get_decoded_sentence(encoded_sentence, index_to_word):\n",
        "    return ' '.join(index_to_word[index] if index in index_to_word else '<UNK>' for index in encoded_sentence[1:])  #[1:]를 통해 <BOS>를 제외\n",
        "\n",
        "# 여러 개의 숫자 벡터로 encode된 문장을 한꺼번에 원래대로 decode하는 함수입니다. \n",
        "def get_decoded_sentences(encoded_sentences, index_to_word):\n",
        "    return [get_decoded_sentence(encoded_sentence, index_to_word) for encoded_sentence in encoded_sentences]"
      ],
      "metadata": {
        "id": "DvsaB1720pfD"
      },
      "execution_count": 10,
      "outputs": []
    },
    {
      "cell_type": "markdown",
      "source": [
        "### 4. 모델 구성을 위한 데이터 분석 및 가공"
      ],
      "metadata": {
        "id": "Aa7useQy0xW-"
      }
    },
    {
      "cell_type": "markdown",
      "source": [
        "#### 문장 길이 분포, 적절한 최대 문장 길이 지정"
      ],
      "metadata": {
        "id": "ltmHitW3BgGS"
      }
    },
    {
      "cell_type": "code",
      "source": [
        "# 다운로드한 데이터 실제 예시 확인\n",
        "\n",
        "print(X_train[0])  # 1번째 리뷰데이터\n",
        "print('라벨: ', y_train[0])  # 1번째 리뷰데이터의 라벨\n",
        "print('1번째 리뷰 문장 길이: ', len(X_train[0]))\n",
        "print('2번째 리뷰 문장 길이: ', len(X_train[1]))"
      ],
      "metadata": {
        "colab": {
          "base_uri": "https://localhost:8080/"
        },
        "id": "N0sC1ZuS1Tmb",
        "outputId": "955d2932-11e8-4850-ffd9-16ebaf11ef0d"
      },
      "execution_count": 11,
      "outputs": [
        {
          "output_type": "stream",
          "name": "stdout",
          "text": [
            "[32, 74, 919, 4, 4, 39, 228, 20, 33, 748]\n",
            "라벨:  0\n",
            "1번째 리뷰 문장 길이:  10\n",
            "2번째 리뷰 문장 길이:  17\n"
          ]
        }
      ]
    },
    {
      "cell_type": "markdown",
      "source": [
        "숫자로 encode된 데이터가 잘 나오는 것을 알 수 있다."
      ],
      "metadata": {
        "id": "nRqAFNH93Dgq"
      }
    },
    {
      "cell_type": "code",
      "source": [
        "# 문장 길이 파악\n",
        "\n",
        "total_data_text = list(X_train) + list(X_test)\n",
        "# 텍스트데이터 문장길이의 리스트를 생성한 후\n",
        "num_tokens = [len(tokens) for tokens in total_data_text]\n",
        "num_tokens = np.array(num_tokens)\n",
        "# 문장길이의 평균값, 최대값, 표준편차를 계산해 본다. \n",
        "print('문장길이 평균 : ', np.mean(num_tokens))\n",
        "print('문장길이 최대 : ', np.max(num_tokens))\n",
        "print('문장길이 표준편차 : ', np.std(num_tokens))\n"
      ],
      "metadata": {
        "colab": {
          "base_uri": "https://localhost:8080/"
        },
        "id": "vSdcP8gp13RW",
        "outputId": "bb8c07cf-d347-4784-f689-dbcc32aaa308"
      },
      "execution_count": 12,
      "outputs": [
        {
          "output_type": "stream",
          "name": "stdout",
          "text": [
            "문장길이 평균 :  15.969355837799927\n",
            "문장길이 최대 :  116\n",
            "문장길이 표준편차 :  12.843536204665021\n"
          ]
        }
      ]
    },
    {
      "cell_type": "markdown",
      "source": [
        "문장 최대 길이 maxlen의 값 설정도 전체 모델 성능에 영향을 미치게 된다. 이 길이도 적절한 값을 찾기 위해서 데이터셋의 분포를 확인해 보는 것이 좋다."
      ],
      "metadata": {
        "id": "EsXS-5Zb3n5D"
      }
    },
    {
      "cell_type": "code",
      "source": [
        "# 예를들어, 최대 길이를 (평균 + 2*표준편차)로 한다면,  \n",
        "max_tokens = np.mean(num_tokens) + 2 * np.std(num_tokens)\n",
        "maxlen = int(max_tokens)\n",
        "print('pad_sequences maxlen : ', maxlen)\n",
        "print('전체 문장의 {}%가 maxlen 설정값 이내에 포함됩니다. '.format(np.sum(num_tokens < max_tokens) / len(num_tokens)))"
      ],
      "metadata": {
        "colab": {
          "base_uri": "https://localhost:8080/"
        },
        "id": "VWzlNCKs3xEE",
        "outputId": "c66485e0-594a-4a77-9e96-d808395cc27a"
      },
      "execution_count": 13,
      "outputs": [
        {
          "output_type": "stream",
          "name": "stdout",
          "text": [
            "pad_sequences maxlen :  41\n",
            "전체 문장의 0.9342988343341575%가 maxlen 설정값 이내에 포함됩니다. \n"
          ]
        }
      ]
    },
    {
      "cell_type": "markdown",
      "source": [
        "#### keras.preprocessing.sequence.pad_sequences을 활용한 패딩 추가"
      ],
      "metadata": {
        "id": "jKlyAy-HBn2q"
      }
    },
    {
      "cell_type": "code",
      "source": [
        "import tensorflow as tf\n",
        "X_train = tf.keras.preprocessing.sequence.pad_sequences(X_train,\n",
        "                                                        value=word_to_index[\"<PAD>\"],\n",
        "                                                        padding='pre', # 패딩 순서\n",
        "                                                        maxlen=maxlen)\n",
        "\n",
        "X_test = tf.keras.preprocessing.sequence.pad_sequences(X_test,\n",
        "                                                       value=word_to_index[\"<PAD>\"],\n",
        "                                                       padding='pre', # 패딩 순서\n",
        "                                                       maxlen=maxlen)\n",
        "\n",
        "print(X_train.shape)"
      ],
      "metadata": {
        "colab": {
          "base_uri": "https://localhost:8080/"
        },
        "id": "OHZbhIvE4Jir",
        "outputId": "ab0045a4-f855-4cd2-a919-b1e69630170f"
      },
      "execution_count": 14,
      "outputs": [
        {
          "output_type": "stream",
          "name": "stdout",
          "text": [
            "(146182, 41)\n"
          ]
        }
      ]
    },
    {
      "cell_type": "markdown",
      "source": [
        "### 5. 모델 구성 및 validation set 구성"
      ],
      "metadata": {
        "id": "NCGOcEPYBvOy"
      }
    },
    {
      "cell_type": "code",
      "source": [
        "from tensorflow import keras\n",
        "\n",
        "vocab_size = 10000  # 어휘 사전의 크기입니다(10,000개의 단어)\n",
        "word_vector_dim = 16   # 워드 벡터의 차원 수 (변경 가능한 하이퍼 파라미터). \n",
        "\n",
        "# LSTM\n",
        "lstm = keras.Sequential()\n",
        "lstm.add(keras.layers.Embedding(vocab_size, word_vector_dim, input_shape=(None,)))\n",
        "lstm.add(keras.layers.LSTM(8))\n",
        "lstm.add(keras.layers.Dense(8, activation='relu'))\n",
        "lstm.add(keras.layers.Dense(1, activation='sigmoid'))\n",
        "\n",
        "lstm.summary()\n",
        "\n",
        "# 1-D CNN\n",
        "cnn = keras.Sequential()\n",
        "cnn.add(keras.layers.Embedding(vocab_size, word_vector_dim, input_shape=(None,))) \n",
        "cnn.add(keras.layers.Conv1D(16, 7, activation='relu'))\n",
        "cnn.add(keras.layers.MaxPooling1D(5))\n",
        "cnn.add(keras.layers.Conv1D(16, 7, activation='relu'))\n",
        "cnn.add(keras.layers.GlobalMaxPooling1D())\n",
        "cnn.add(keras.layers.Dense(16, activation='relu'))\n",
        "cnn.add(keras.layers.Dense(1, activation='sigmoid'))\n",
        "\n",
        "cnn.summary()\n",
        "\n",
        "# one GlobalAveragePooling layer\n",
        "simple = keras.Sequential()\n",
        "simple.add(keras.layers.Embedding(vocab_size, word_vector_dim, input_shape=(None,)))\n",
        "simple.add(keras.layers.GlobalAveragePooling1D())\n",
        "simple.add(keras.layers.Dense(8, activation='relu'))\n",
        "simple.add(keras.layers.Dense(1, activation='sigmoid'))\n",
        "\n",
        "simple.summary()"
      ],
      "metadata": {
        "colab": {
          "base_uri": "https://localhost:8080/"
        },
        "id": "kve5BHi5B1fI",
        "outputId": "a08fa9a0-2cdd-4169-ca7f-99901e61b31e"
      },
      "execution_count": 15,
      "outputs": [
        {
          "output_type": "stream",
          "name": "stdout",
          "text": [
            "Model: \"sequential\"\n",
            "_________________________________________________________________\n",
            " Layer (type)                Output Shape              Param #   \n",
            "=================================================================\n",
            " embedding (Embedding)       (None, None, 16)          160000    \n",
            "                                                                 \n",
            " lstm (LSTM)                 (None, 8)                 800       \n",
            "                                                                 \n",
            " dense (Dense)               (None, 8)                 72        \n",
            "                                                                 \n",
            " dense_1 (Dense)             (None, 1)                 9         \n",
            "                                                                 \n",
            "=================================================================\n",
            "Total params: 160,881\n",
            "Trainable params: 160,881\n",
            "Non-trainable params: 0\n",
            "_________________________________________________________________\n",
            "Model: \"sequential_1\"\n",
            "_________________________________________________________________\n",
            " Layer (type)                Output Shape              Param #   \n",
            "=================================================================\n",
            " embedding_1 (Embedding)     (None, None, 16)          160000    \n",
            "                                                                 \n",
            " conv1d (Conv1D)             (None, None, 16)          1808      \n",
            "                                                                 \n",
            " max_pooling1d (MaxPooling1D  (None, None, 16)         0         \n",
            " )                                                               \n",
            "                                                                 \n",
            " conv1d_1 (Conv1D)           (None, None, 16)          1808      \n",
            "                                                                 \n",
            " global_max_pooling1d (Globa  (None, 16)               0         \n",
            " lMaxPooling1D)                                                  \n",
            "                                                                 \n",
            " dense_2 (Dense)             (None, 16)                272       \n",
            "                                                                 \n",
            " dense_3 (Dense)             (None, 1)                 17        \n",
            "                                                                 \n",
            "=================================================================\n",
            "Total params: 163,905\n",
            "Trainable params: 163,905\n",
            "Non-trainable params: 0\n",
            "_________________________________________________________________\n",
            "Model: \"sequential_2\"\n",
            "_________________________________________________________________\n",
            " Layer (type)                Output Shape              Param #   \n",
            "=================================================================\n",
            " embedding_2 (Embedding)     (None, None, 16)          160000    \n",
            "                                                                 \n",
            " global_average_pooling1d (G  (None, 16)               0         \n",
            " lobalAveragePooling1D)                                          \n",
            "                                                                 \n",
            " dense_4 (Dense)             (None, 8)                 136       \n",
            "                                                                 \n",
            " dense_5 (Dense)             (None, 1)                 9         \n",
            "                                                                 \n",
            "=================================================================\n",
            "Total params: 160,145\n",
            "Trainable params: 160,145\n",
            "Non-trainable params: 0\n",
            "_________________________________________________________________\n"
          ]
        }
      ]
    },
    {
      "cell_type": "code",
      "source": [
        "# validation set 10000건 분리\n",
        "x_val = X_train[:10000]   \n",
        "y_val = y_train[:10000]\n",
        "\n",
        "# validation set을 제외한 나머지 15000건\n",
        "partial_x_train = X_train[10000:]  \n",
        "partial_y_train = y_train[10000:]\n",
        "\n",
        "print(partial_x_train.shape)\n",
        "print(partial_y_train.shape)"
      ],
      "metadata": {
        "colab": {
          "base_uri": "https://localhost:8080/"
        },
        "id": "1AFXaBEqDL5q",
        "outputId": "afa84844-8659-49ae-9170-fd3f31fe9f08"
      },
      "execution_count": 16,
      "outputs": [
        {
          "output_type": "stream",
          "name": "stdout",
          "text": [
            "(136182, 41)\n",
            "(136182,)\n"
          ]
        }
      ]
    },
    {
      "cell_type": "markdown",
      "source": [
        "### 6. 모델 훈련 개시"
      ],
      "metadata": {
        "id": "gYNR06SKEweP"
      }
    },
    {
      "cell_type": "code",
      "source": [
        "epochs = 5\n",
        "\n",
        "lstm.compile(optimizer='adam',\n",
        "              loss='binary_crossentropy',\n",
        "              metrics=['accuracy'])\n",
        "\n",
        "history_lstm = lstm.fit(partial_x_train,\n",
        "                    partial_y_train,\n",
        "                    epochs=epochs,\n",
        "                    batch_size=512,\n",
        "                    validation_data=(x_val, y_val),\n",
        "                    verbose=1)"
      ],
      "metadata": {
        "colab": {
          "base_uri": "https://localhost:8080/"
        },
        "id": "ajDpaW7wDMnm",
        "outputId": "cd6d2f83-45ec-4863-c754-9924967e7399"
      },
      "execution_count": 17,
      "outputs": [
        {
          "output_type": "stream",
          "name": "stdout",
          "text": [
            "Epoch 1/5\n",
            "266/266 [==============================] - 10s 11ms/step - loss: 0.4790 - accuracy: 0.7839 - val_loss: 0.3570 - val_accuracy: 0.8458\n",
            "Epoch 2/5\n",
            "266/266 [==============================] - 3s 12ms/step - loss: 0.3383 - accuracy: 0.8565 - val_loss: 0.3440 - val_accuracy: 0.8497\n",
            "Epoch 3/5\n",
            "266/266 [==============================] - 2s 9ms/step - loss: 0.3173 - accuracy: 0.8676 - val_loss: 0.3437 - val_accuracy: 0.8519\n",
            "Epoch 4/5\n",
            "266/266 [==============================] - 2s 8ms/step - loss: 0.3055 - accuracy: 0.8729 - val_loss: 0.3513 - val_accuracy: 0.8455\n",
            "Epoch 5/5\n",
            "266/266 [==============================] - 2s 8ms/step - loss: 0.2948 - accuracy: 0.8779 - val_loss: 0.3405 - val_accuracy: 0.8529\n"
          ]
        }
      ]
    },
    {
      "cell_type": "code",
      "source": [
        "epochs = 3\n",
        "\n",
        "cnn.compile(optimizer='adam',\n",
        "              loss='binary_crossentropy',\n",
        "              metrics=['accuracy'])\n",
        "\n",
        "\n",
        "history_cnn = cnn.fit(partial_x_train,\n",
        "                    partial_y_train,\n",
        "                    epochs=epochs,\n",
        "                    batch_size=512,\n",
        "                    validation_data=(x_val, y_val),\n",
        "                    verbose=1)"
      ],
      "metadata": {
        "colab": {
          "base_uri": "https://localhost:8080/"
        },
        "id": "2zkKCHs6GuMq",
        "outputId": "4092d22f-64ea-4fba-d971-3dee4ec64cf6"
      },
      "execution_count": 18,
      "outputs": [
        {
          "output_type": "stream",
          "name": "stdout",
          "text": [
            "Epoch 1/3\n",
            "266/266 [==============================] - 9s 8ms/step - loss: 0.4843 - accuracy: 0.7559 - val_loss: 0.3515 - val_accuracy: 0.8493\n",
            "Epoch 2/3\n",
            "266/266 [==============================] - 2s 7ms/step - loss: 0.3268 - accuracy: 0.8608 - val_loss: 0.3396 - val_accuracy: 0.8500\n",
            "Epoch 3/3\n",
            "266/266 [==============================] - 2s 7ms/step - loss: 0.2945 - accuracy: 0.8779 - val_loss: 0.3345 - val_accuracy: 0.8551\n"
          ]
        }
      ]
    },
    {
      "cell_type": "code",
      "source": [
        "# 1-D CNN과 동일하게 3 epochs로 진행\n",
        "\n",
        "simple.compile(optimizer='adam',\n",
        "              loss='binary_crossentropy',\n",
        "              metrics=['accuracy'])\n",
        "\n",
        "history_simple = simple.fit(partial_x_train,\n",
        "                    partial_y_train,\n",
        "                    epochs=epochs,\n",
        "                    batch_size=512,\n",
        "                    validation_data=(x_val, y_val),\n",
        "                    verbose=1)"
      ],
      "metadata": {
        "colab": {
          "base_uri": "https://localhost:8080/"
        },
        "id": "TuYH8JdgGvnN",
        "outputId": "39598dd4-cc44-4add-dd63-ea6e26d0c836"
      },
      "execution_count": 19,
      "outputs": [
        {
          "output_type": "stream",
          "name": "stdout",
          "text": [
            "Epoch 1/3\n",
            "266/266 [==============================] - 3s 6ms/step - loss: 0.6302 - accuracy: 0.7309 - val_loss: 0.5196 - val_accuracy: 0.8020\n",
            "Epoch 2/3\n",
            "266/266 [==============================] - 2s 6ms/step - loss: 0.4434 - accuracy: 0.8226 - val_loss: 0.3955 - val_accuracy: 0.8375\n",
            "Epoch 3/3\n",
            "266/266 [==============================] - 1s 6ms/step - loss: 0.3735 - accuracy: 0.8443 - val_loss: 0.3633 - val_accuracy: 0.8434\n"
          ]
        }
      ]
    },
    {
      "cell_type": "markdown",
      "source": [
        "#### 모델 평가"
      ],
      "metadata": {
        "id": "uxnrZifnH6ov"
      }
    },
    {
      "cell_type": "code",
      "source": [
        "# lstm 모델 평가\n",
        "results = lstm.evaluate(X_test,  y_test, verbose=2)\n",
        "\n",
        "print(results)"
      ],
      "metadata": {
        "colab": {
          "base_uri": "https://localhost:8080/"
        },
        "id": "axqHctGMH8XQ",
        "outputId": "8e589488-89c7-4a9e-d73d-c92a14f9e3de"
      },
      "execution_count": 20,
      "outputs": [
        {
          "output_type": "stream",
          "name": "stdout",
          "text": [
            "1537/1537 - 5s - loss: 0.3548 - accuracy: 0.8472 - 5s/epoch - 3ms/step\n",
            "[0.35478514432907104, 0.847163200378418]\n"
          ]
        }
      ]
    },
    {
      "cell_type": "code",
      "source": [
        "# cnn 모델 평가\n",
        "results = cnn.evaluate(X_test,  y_test, verbose=2)\n",
        "\n",
        "print(results)"
      ],
      "metadata": {
        "colab": {
          "base_uri": "https://localhost:8080/"
        },
        "id": "jdqIphVJIDQX",
        "outputId": "8ef55818-6272-4ac9-a142-abe664bbc6cf"
      },
      "execution_count": 21,
      "outputs": [
        {
          "output_type": "stream",
          "name": "stdout",
          "text": [
            "1537/1537 - 4s - loss: 0.3464 - accuracy: 0.8504 - 4s/epoch - 3ms/step\n",
            "[0.346358060836792, 0.8503569960594177]\n"
          ]
        }
      ]
    },
    {
      "cell_type": "code",
      "source": [
        "# simple 모델 평가\n",
        "results = simple.evaluate(X_test,  y_test, verbose=2)\n",
        "\n",
        "print(results)"
      ],
      "metadata": {
        "colab": {
          "base_uri": "https://localhost:8080/"
        },
        "id": "q54xZEtjID7f",
        "outputId": "8167b818-1059-4d05-fcd4-9dca438e70e2"
      },
      "execution_count": 22,
      "outputs": [
        {
          "output_type": "stream",
          "name": "stdout",
          "text": [
            "1537/1537 - 3s - loss: 0.3770 - accuracy: 0.8397 - 3s/epoch - 2ms/step\n",
            "[0.37699246406555176, 0.8396565914154053]\n"
          ]
        }
      ]
    },
    {
      "cell_type": "markdown",
      "source": [
        "### 7. Loss, Accuracy 그래프 시각화"
      ],
      "metadata": {
        "id": "Jk8zDGv6E2XB"
      }
    },
    {
      "cell_type": "markdown",
      "source": [
        "#### lstm 그래프"
      ],
      "metadata": {
        "id": "H5sL3eZBI7hG"
      }
    },
    {
      "cell_type": "code",
      "source": [
        "history_dict = history_lstm.history\n",
        "print(history_dict.keys()) # epoch에 따른 그래프를 그려볼 수 있는 항목들"
      ],
      "metadata": {
        "colab": {
          "base_uri": "https://localhost:8080/"
        },
        "id": "wclz1MmfEbfR",
        "outputId": "fedef9ee-857e-4071-8a67-8c3cb7c61b05"
      },
      "execution_count": 23,
      "outputs": [
        {
          "output_type": "stream",
          "name": "stdout",
          "text": [
            "dict_keys(['loss', 'accuracy', 'val_loss', 'val_accuracy'])\n"
          ]
        }
      ]
    },
    {
      "cell_type": "code",
      "source": [
        "import matplotlib.pyplot as plt\n",
        "\n",
        "acc = history_dict['accuracy']\n",
        "val_acc = history_dict['val_accuracy']\n",
        "loss = history_dict['loss']\n",
        "val_loss = history_dict['val_loss']\n",
        "\n",
        "epochs = range(1, len(acc) + 1)\n",
        "\n",
        "# \"bo\"는 \"파란색 점\"입니다\n",
        "plt.plot(epochs, loss, 'bo', label='Training loss')\n",
        "# b는 \"파란 실선\"입니다\n",
        "plt.plot(epochs, val_loss, 'b', label='Validation loss')\n",
        "plt.title('Training and validation loss')\n",
        "plt.xlabel('Epochs')\n",
        "plt.ylabel('Loss')\n",
        "plt.legend()\n",
        "\n",
        "plt.show()\n",
        "\n",
        "plt.clf()   # 그림을 초기화합니다\n",
        "\n",
        "plt.plot(epochs, acc, 'bo', label='Training acc')\n",
        "plt.plot(epochs, val_acc, 'b', label='Validation acc')\n",
        "plt.title('Training and validation accuracy')\n",
        "plt.xlabel('Epochs')\n",
        "plt.ylabel('Accuracy')\n",
        "plt.legend()\n",
        "\n",
        "plt.show()"
      ],
      "metadata": {
        "colab": {
          "base_uri": "https://localhost:8080/",
          "height": 573
        },
        "id": "oJepyALoEesP",
        "outputId": "4fcd5d4e-d7c0-4071-c15d-453522dc6cfd"
      },
      "execution_count": 24,
      "outputs": [
        {
          "output_type": "display_data",
          "data": {
            "text/plain": [
              "<Figure size 432x288 with 1 Axes>"
            ],
            "image/png": "[encoded data removed]"
          },
          "metadata": {
            "needs_background": "light"
          }
        },
        {
          "output_type": "display_data",
          "data": {
            "text/plain": [
              "<Figure size 432x288 with 1 Axes>"
            ],
            "image/png": "[encoded data removed]"
          },
          "metadata": {
            "needs_background": "light"
          }
        }
      ]
    },
    {
      "cell_type": "markdown",
      "source": [
        "오잉 ? 그래프가 무슨 모양이람. epoch 2.0이 이상적인 횟순가 ?"
      ],
      "metadata": {
        "id": "JaegG-PXEa8c"
      }
    },
    {
      "cell_type": "code",
      "source": [
        "history_dict = history_cnn.history\n",
        "print(history_dict.keys()) # epoch에 따른 그래프를 그려볼 수 있는 항목들\n",
        "\n",
        "# 그래프 설정\n",
        "acc = history_dict['accuracy']\n",
        "val_acc = history_dict['val_accuracy']\n",
        "loss = history_dict['loss']\n",
        "val_loss = history_dict['val_loss']\n",
        "\n",
        "epochs = range(1, len(acc) + 1)\n",
        "\n",
        "# \"bo\"는 \"파란색 점\"입니다\n",
        "plt.plot(epochs, loss, 'bo', label='Training loss')\n",
        "# b는 \"파란 실선\"입니다\n",
        "plt.plot(epochs, val_loss, 'b', label='Validation loss')\n",
        "plt.title('Training and validation loss')\n",
        "plt.xlabel('Epochs')\n",
        "plt.ylabel('Loss')\n",
        "plt.legend()\n",
        "\n",
        "plt.show()\n",
        "\n",
        "plt.clf()   # 그림을 초기화합니다\n",
        "\n",
        "plt.plot(epochs, acc, 'bo', label='Training acc')\n",
        "plt.plot(epochs, val_acc, 'b', label='Validation acc')\n",
        "plt.title('Training and validation accuracy')\n",
        "plt.xlabel('Epochs')\n",
        "plt.ylabel('Accuracy')\n",
        "plt.legend()\n",
        "\n",
        "plt.show()"
      ],
      "metadata": {
        "colab": {
          "base_uri": "https://localhost:8080/",
          "height": 591
        },
        "id": "DTiCUSuCIqF9",
        "outputId": "2041137f-d1ac-4191-cf53-8bf9345aa44b"
      },
      "execution_count": 25,
      "outputs": [
        {
          "output_type": "stream",
          "name": "stdout",
          "text": [
            "dict_keys(['loss', 'accuracy', 'val_loss', 'val_accuracy'])\n"
          ]
        },
        {
          "output_type": "display_data",
          "data": {
            "text/plain": [
              "<Figure size 432x288 with 1 Axes>"
            ],
            "image/png": "[encoded data removed]"
          },
          "metadata": {
            "needs_background": "light"
          }
        },
        {
          "output_type": "display_data",
          "data": {
            "text/plain": [
              "<Figure size 432x288 with 1 Axes>"
            ],
            "image/png": "[encoded data removed]"
          },
          "metadata": {
            "needs_background": "light"
          }
        }
      ]
    },
    {
      "cell_type": "markdown",
      "source": [
        "cnn도 epoch 2가 이상치 같다."
      ],
      "metadata": {
        "id": "dKeWeWDYIzkU"
      }
    },
    {
      "cell_type": "code",
      "source": [
        "history_dict = history_simple.history\n",
        "print(history_dict.keys()) # epoch에 따른 그래프를 그려볼 수 있는 항목들\n",
        "\n",
        "# 그래프 설정\n",
        "acc = history_dict['accuracy']\n",
        "val_acc = history_dict['val_accuracy']\n",
        "loss = history_dict['loss']\n",
        "val_loss = history_dict['val_loss']\n",
        "\n",
        "epochs = range(1, len(acc) + 1)\n",
        "\n",
        "# \"bo\"는 \"파란색 점\"입니다\n",
        "plt.plot(epochs, loss, 'bo', label='Training loss')\n",
        "# b는 \"파란 실선\"입니다\n",
        "plt.plot(epochs, val_loss, 'b', label='Validation loss')\n",
        "plt.title('Training and validation loss')\n",
        "plt.xlabel('Epochs')\n",
        "plt.ylabel('Loss')\n",
        "plt.legend()\n",
        "\n",
        "plt.show()\n",
        "\n",
        "plt.clf()   # 그림을 초기화합니다\n",
        "\n",
        "plt.plot(epochs, acc, 'bo', label='Training acc')\n",
        "plt.plot(epochs, val_acc, 'b', label='Validation acc')\n",
        "plt.title('Training and validation accuracy')\n",
        "plt.xlabel('Epochs')\n",
        "plt.ylabel('Accuracy')\n",
        "plt.legend()\n",
        "\n",
        "plt.show()"
      ],
      "metadata": {
        "colab": {
          "base_uri": "https://localhost:8080/",
          "height": 591
        },
        "id": "VKyqRpAmIx07",
        "outputId": "073d1583-6c2b-441f-d715-e3fcfae7c143"
      },
      "execution_count": 26,
      "outputs": [
        {
          "output_type": "stream",
          "name": "stdout",
          "text": [
            "dict_keys(['loss', 'accuracy', 'val_loss', 'val_accuracy'])\n"
          ]
        },
        {
          "output_type": "display_data",
          "data": {
            "text/plain": [
              "<Figure size 432x288 with 1 Axes>"
            ],
            "image/png": "[encoded data removed]"
          },
          "metadata": {
            "needs_background": "light"
          }
        },
        {
          "output_type": "display_data",
          "data": {
            "text/plain": [
              "<Figure size 432x288 with 1 Axes>"
            ],
            "image/png": "[encoded data removed]"
          },
          "metadata": {
            "needs_background": "light"
          }
        }
      ]
    },
    {
      "cell_type": "markdown",
      "source": [
        "simple도 epoch 2가 이상치 같다."
      ],
      "metadata": {
        "id": "r5JN_v9uJRYm"
      }
    },
    {
      "cell_type": "markdown",
      "source": [
        "### 8. 학습된 Embedding 레이어 분석"
      ],
      "metadata": {
        "id": "qapVOJTLJdKw"
      }
    },
    {
      "cell_type": "markdown",
      "source": [
        "#### lstm 레이어 분석"
      ],
      "metadata": {
        "id": "YM8wLJ5COOZJ"
      }
    },
    {
      "cell_type": "code",
      "source": [
        "embedding_layer = lstm.layers[0]\n",
        "weights = embedding_layer.get_weights()[0]\n",
        "print(weights.shape)    # shape: (vocab_size, embedding_dim)"
      ],
      "metadata": {
        "colab": {
          "base_uri": "https://localhost:8080/"
        },
        "id": "UowYqwJhKC0o",
        "outputId": "c8296a9c-e353-42b9-ad6f-49a0cf0205c8"
      },
      "execution_count": 27,
      "outputs": [
        {
          "output_type": "stream",
          "name": "stdout",
          "text": [
            "(10000, 16)\n"
          ]
        }
      ]
    },
    {
      "cell_type": "code",
      "source": [
        "# 학습한 Embedding 파라미터를 파일에 써서 저장합니다. \n",
        "word2vec_file_path = '/content/drive/MyDrive/lstm_word2vec.txt'\n",
        "f = open(word2vec_file_path, 'w')\n",
        "f.write('{} {}\\n'.format(vocab_size-4, word_vector_dim))  # 몇개의 벡터를 얼마 사이즈로 기재할지 타이틀을 씁니다.\n",
        "\n",
        "# 단어 개수(에서 특수문자 4개는 제외하고)만큼의 워드 벡터를 파일에 기록합니다. \n",
        "vectors = lstm.get_weights()[0]\n",
        "for i in range(vocab_size-4):\n",
        "    f.write('{} {}\\n'.format(index_to_word[i], ' '.join(map(str, list(vectors[i, :])))))\n",
        "f.close()"
      ],
      "metadata": {
        "id": "NWiDbe7DNF3m"
      },
      "execution_count": 28,
      "outputs": []
    },
    {
      "cell_type": "code",
      "source": [
        "from gensim.models.keyedvectors import Word2VecKeyedVectors\n",
        "\n",
        "word_vectors = Word2VecKeyedVectors.load_word2vec_format(word2vec_file_path, binary=False)\n",
        "vector = word_vectors['재미']\n",
        "vector"
      ],
      "metadata": {
        "colab": {
          "base_uri": "https://localhost:8080/"
        },
        "id": "PV84FTTUNow-",
        "outputId": "060177b8-3c25-476e-cc70-27dc32d5e792"
      },
      "execution_count": 29,
      "outputs": [
        {
          "output_type": "execute_result",
          "data": {
            "text/plain": [
              "array([-0.00330914,  0.0441384 , -0.00515891,  0.038287  , -0.00202451,\n",
              "        0.04553212, -0.01922024,  0.18950747,  0.05607818, -0.04214149,\n",
              "       -0.03748826, -0.01298746,  0.02578745,  0.01646704,  0.01348987,\n",
              "       -0.02764701], dtype=float32)"
            ]
          },
          "metadata": {},
          "execution_count": 29
        }
      ]
    },
    {
      "cell_type": "code",
      "source": [
        "word_vectors.similar_by_word(\"재미\")"
      ],
      "metadata": {
        "colab": {
          "base_uri": "https://localhost:8080/"
        },
        "id": "4feVf3qrNtF3",
        "outputId": "3cda1e9b-a417-4d8e-8b08-ee1266f3b191"
      },
      "execution_count": 30,
      "outputs": [
        {
          "output_type": "execute_result",
          "data": {
            "text/plain": [
              "[('말론', 0.8652044534683228),\n",
              " ('기대', 0.8622832298278809),\n",
              " ('전문', 0.857418954372406),\n",
              " ('ㅋ', 0.8460433483123779),\n",
              " ('흐흐', 0.8372098207473755),\n",
              " ('송', 0.8348487019538879),\n",
              " ('까지', 0.823746919631958),\n",
              " ('층', 0.8165277242660522),\n",
              " ('상어', 0.8160598278045654),\n",
              " ('공감', 0.8159261345863342)]"
            ]
          },
          "metadata": {},
          "execution_count": 30
        }
      ]
    },
    {
      "cell_type": "markdown",
      "source": [
        "#### cnn 레이어 분석"
      ],
      "metadata": {
        "id": "p2NxhZ91PKhv"
      }
    },
    {
      "cell_type": "code",
      "source": [
        "embedding_layer = cnn.layers[0]\n",
        "weights = embedding_layer.get_weights()[0]\n",
        "print(weights.shape)    # shape: (vocab_size, embedding_dim)\n",
        "\n",
        "# 학습한 Embedding 파라미터를 파일에 써서 저장합니다. \n",
        "word2vec_file_path = '/content/drive/MyDrive/cnn_word2vec.txt'\n",
        "f = open(word2vec_file_path, 'w')\n",
        "f.write('{} {}\\n'.format(vocab_size-4, word_vector_dim))  # 몇개의 벡터를 얼마 사이즈로 기재할지 타이틀을 씁니다.\n",
        "\n",
        "# 단어 개수(에서 특수문자 4개는 제외하고)만큼의 워드 벡터를 파일에 기록합니다. \n",
        "vectors = cnn.get_weights()[0]\n",
        "for i in range(vocab_size-4):\n",
        "    f.write('{} {}\\n'.format(index_to_word[i], ' '.join(map(str, list(vectors[i, :])))))\n",
        "f.close()\n",
        "\n",
        "word_vectors = Word2VecKeyedVectors.load_word2vec_format(word2vec_file_path, binary=False)\n",
        "vector = word_vectors['재미']\n",
        "vector"
      ],
      "metadata": {
        "colab": {
          "base_uri": "https://localhost:8080/"
        },
        "id": "zTXIkztKOUAl",
        "outputId": "40510862-16e9-4f5d-f1d5-ba8f086108f2"
      },
      "execution_count": 31,
      "outputs": [
        {
          "output_type": "stream",
          "name": "stdout",
          "text": [
            "(10000, 16)\n"
          ]
        },
        {
          "output_type": "execute_result",
          "data": {
            "text/plain": [
              "array([ 1.29358590e-01,  2.43884418e-02, -1.23069085e-01,  5.93620026e-03,\n",
              "       -5.68875391e-03, -9.47843946e-05,  8.64322297e-03,  1.57834470e-01,\n",
              "       -1.62396356e-02,  6.83561042e-02, -2.76512057e-02,  9.46308449e-02,\n",
              "        1.89728811e-02, -5.74643947e-02,  3.66788805e-02, -1.95773527e-01],\n",
              "      dtype=float32)"
            ]
          },
          "metadata": {},
          "execution_count": 31
        }
      ]
    },
    {
      "cell_type": "code",
      "source": [
        "word_vectors.similar_by_word(\"재미\")"
      ],
      "metadata": {
        "colab": {
          "base_uri": "https://localhost:8080/"
        },
        "id": "A8rEcJf2OrPM",
        "outputId": "ff2adb18-e15d-4caf-d1ad-55b04c1bbba0"
      },
      "execution_count": 32,
      "outputs": [
        {
          "output_type": "execute_result",
          "data": {
            "text/plain": [
              "[('그래서', 0.8858275413513184),\n",
              " ('되게', 0.8838092684745789),\n",
              " ('손예진', 0.8681988716125488),\n",
              " ('너무', 0.844096302986145),\n",
              " ('이렇게', 0.8418799638748169),\n",
              " ('골든', 0.8388296365737915),\n",
              " ('최대', 0.8341493606567383),\n",
              " ('파치노', 0.8318309783935547),\n",
              " ('이즈', 0.8294464945793152),\n",
              " ('매우', 0.8291264772415161)]"
            ]
          },
          "metadata": {},
          "execution_count": 32
        }
      ]
    },
    {
      "cell_type": "markdown",
      "source": [
        "#### simple 레이어 분석"
      ],
      "metadata": {
        "id": "Pia1kWCoPSSc"
      }
    },
    {
      "cell_type": "code",
      "source": [
        "embedding_layer = simple.layers[0]\n",
        "weights = embedding_layer.get_weights()[0]\n",
        "print(weights.shape)    # shape: (vocab_size, embedding_dim)\n",
        "\n",
        "# 학습한 Embedding 파라미터를 파일에 써서 저장합니다. \n",
        "word2vec_file_path = '/content/drive/MyDrive/cnn_word2vec.txt'\n",
        "f = open(word2vec_file_path, 'w')\n",
        "f.write('{} {}\\n'.format(vocab_size-4, word_vector_dim))  # 몇개의 벡터를 얼마 사이즈로 기재할지 타이틀을 씁니다.\n",
        "\n",
        "# 단어 개수(에서 특수문자 4개는 제외하고)만큼의 워드 벡터를 파일에 기록합니다. \n",
        "vectors = simple.get_weights()[0]\n",
        "for i in range(vocab_size-4):\n",
        "    f.write('{} {}\\n'.format(index_to_word[i], ' '.join(map(str, list(vectors[i, :])))))\n",
        "f.close()\n",
        "word_vectors = Word2VecKeyedVectors.load_word2vec_format(word2vec_file_path, binary=False)\n",
        "vector = word_vectors['재미']\n",
        "vector"
      ],
      "metadata": {
        "colab": {
          "base_uri": "https://localhost:8080/"
        },
        "id": "F91uLJtZOzu1",
        "outputId": "cf789f4e-037a-4a27-9be5-4074d7d389c4"
      },
      "execution_count": 33,
      "outputs": [
        {
          "output_type": "stream",
          "name": "stdout",
          "text": [
            "(10000, 16)\n"
          ]
        },
        {
          "output_type": "execute_result",
          "data": {
            "text/plain": [
              "array([ 0.02194844,  0.14134087,  0.23641469, -0.10853373, -0.11683071,\n",
              "       -0.131848  , -0.06863674, -0.13286333, -0.09002455,  0.08866904,\n",
              "        0.12181088,  0.13247685,  0.04162931,  0.1574577 , -0.07227208,\n",
              "        0.04248695], dtype=float32)"
            ]
          },
          "metadata": {},
          "execution_count": 33
        }
      ]
    },
    {
      "cell_type": "code",
      "source": [
        "word_vectors.similar_by_word(\"재미\")"
      ],
      "metadata": {
        "colab": {
          "base_uri": "https://localhost:8080/"
        },
        "id": "4xCt6cF2PA6d",
        "outputId": "8492f2dc-7848-4215-f4de-35553f037607"
      },
      "execution_count": 34,
      "outputs": [
        {
          "output_type": "execute_result",
          "data": {
            "text/plain": [
              "[('만드', 0.9715955257415771),\n",
              " ('돼', 0.9651026725769043),\n",
              " ('어쩔', 0.9648144841194153),\n",
              " ('조사', 0.9643312692642212),\n",
              " ('적합', 0.9642693996429443),\n",
              " ('결국', 0.9635778069496155),\n",
              " ('주인공', 0.9617049694061279),\n",
              " ('돌아왔', 0.9614879488945007),\n",
              " ('탐험', 0.9612845778465271),\n",
              " ('어디', 0.9605869054794312)]"
            ]
          },
          "metadata": {},
          "execution_count": 34
        }
      ]
    },
    {
      "cell_type": "markdown",
      "source": [
        "### 9. 한국어 Word2Vec 임베딩 활용하여 성능 개선"
      ],
      "metadata": {
        "id": "O6lLAPcSJsLZ"
      }
    },
    {
      "cell_type": "code",
      "source": [
        "from gensim.models import KeyedVectors\n",
        "\n",
        "word2vec_path = '/content/drive/MyDrive/word2vec_ko.model'\n",
        "word2vec = KeyedVectors.load(word2vec_path)\n",
        "wordwvec = word2vec.wv\n",
        "vector = word2vec['액션']\n",
        "vector     "
      ],
      "metadata": {
        "colab": {
          "base_uri": "https://localhost:8080/"
        },
        "id": "3feiUWMQJi1f",
        "outputId": "f6d7ef05-c9f5-4dc2-cb63-3fdd6ad17a67"
      },
      "execution_count": 146,
      "outputs": [
        {
          "output_type": "stream",
          "name": "stderr",
          "text": [
            "/usr/local/lib/python3.7/dist-packages/ipykernel_launcher.py:6: DeprecationWarning: Call to deprecated `__getitem__` (Method will be removed in 4.0.0, use self.wv.__getitem__() instead).\n",
            "  \n"
          ]
        },
        {
          "output_type": "execute_result",
          "data": {
            "text/plain": [
              "array([ 0.65723526, -1.070157  , -2.3446374 ,  2.8594716 , -0.34713092,\n",
              "        0.668696  , -2.4143796 , -1.4441289 , -0.16029646, -1.4712427 ,\n",
              "        1.1536198 , -3.2049558 , -2.2405772 , -1.0061163 ,  2.2915163 ,\n",
              "        0.92053074, -1.4584308 , -0.6331175 ,  1.3004749 , -0.15487342,\n",
              "        0.7282414 ,  0.40170607,  0.9353962 ,  0.2707452 , -0.3806664 ,\n",
              "       -0.93675935, -0.21311992,  2.7702115 ,  1.8833528 ,  2.4775555 ,\n",
              "       -3.3762197 ,  2.911479  ,  1.430429  , -0.51551604, -0.40317178,\n",
              "        3.3471339 ,  0.7375594 , -1.493322  , -0.17728616, -2.9328263 ,\n",
              "        2.8454707 , -3.696323  , -0.505087  ,  2.495022  ,  3.610891  ,\n",
              "        0.66887   ,  3.2935026 , -1.6120412 ,  1.4075767 , -2.642688  ,\n",
              "       -1.132086  ,  1.0686797 ,  0.4646657 , -3.3421419 ,  1.9832977 ,\n",
              "        1.7219818 ,  3.172932  , -1.9722153 ,  0.21380153, -1.6865183 ,\n",
              "        0.40586528,  2.2379217 ,  1.6365439 , -1.2445652 , -0.06904269,\n",
              "       -0.29885393,  0.347748  ,  2.206415  , -0.19040611,  0.48272943,\n",
              "        3.8140748 ,  0.7847971 ,  0.9783698 , -0.03940729,  1.9388565 ,\n",
              "       -1.6766555 ,  2.6071515 ,  1.1128371 , -0.723841  ,  3.067462  ,\n",
              "        1.0916729 ,  0.49408042,  0.7030866 ,  1.5480379 , -1.7130495 ,\n",
              "        0.47541562,  1.5007753 ,  3.097817  ,  1.1927431 ,  1.6997917 ,\n",
              "        1.199468  ,  2.2655795 , -1.7713537 ,  0.13073961,  1.901797  ,\n",
              "        1.1650618 , -4.1155753 ,  1.7963865 ,  1.5624589 ,  2.103628  ],\n",
              "      dtype=float32)"
            ]
          },
          "metadata": {},
          "execution_count": 146
        }
      ]
    },
    {
      "cell_type": "code",
      "source": [
        "word2vec.similar_by_word(\"액션\")"
      ],
      "metadata": {
        "colab": {
          "base_uri": "https://localhost:8080/"
        },
        "id": "S1edwqIJQVJi",
        "outputId": "82824b4e-106c-4e5e-f3b9-53dcadb1d794"
      },
      "execution_count": 147,
      "outputs": [
        {
          "output_type": "stream",
          "name": "stderr",
          "text": [
            "/usr/local/lib/python3.7/dist-packages/ipykernel_launcher.py:1: DeprecationWarning: Call to deprecated `similar_by_word` (Method will be removed in 4.0.0, use self.wv.similar_by_word() instead).\n",
            "  \"\"\"Entry point for launching an IPython kernel.\n"
          ]
        },
        {
          "output_type": "execute_result",
          "data": {
            "text/plain": [
              "[('코미디', 0.7429822683334351),\n",
              " ('스릴러', 0.7381718754768372),\n",
              " ('판타지', 0.6900153160095215),\n",
              " ('호러', 0.6892675757408142),\n",
              " ('SF', 0.6889280676841736),\n",
              " ('롤플레잉', 0.6625269651412964),\n",
              " ('영화', 0.6522793769836426),\n",
              " ('서스펜스', 0.645000696182251),\n",
              " ('어드벤처', 0.6273845434188843),\n",
              " ('미스터리', 0.6250677108764648)]"
            ]
          },
          "metadata": {},
          "execution_count": 147
        }
      ]
    },
    {
      "cell_type": "markdown",
      "source": [
        "비슷해 보이지만, 유사도가 높진 않다."
      ],
      "metadata": {
        "id": "eYhuZHHHSlHr"
      }
    },
    {
      "cell_type": "code",
      "source": [
        "import numpy as np\n",
        "vocab_size = 10000   # 어휘 사전의 크기입니다(10,000개의 단어)\n",
        "word_vector_dim = 100  # 워드 벡터의 차원수\n",
        "embedding_matrix = np.random.rand(vocab_size, word_vector_dim)\n",
        "\n",
        "# embedding_matrix에 Word2Vec 워드 벡터를 단어 하나씩마다 차례차례 카피한다.\n",
        "for i in range(4,vocab_size):\n",
        "    if index_to_word[i] in word2vec:\n",
        "        embedding_matrix[i] = word2vec[index_to_word[i]]"
      ],
      "metadata": {
        "colab": {
          "base_uri": "https://localhost:8080/"
        },
        "id": "wGvZ0vpySiKF",
        "outputId": "d084abf1-fc22-46ac-9a4e-d93394076093"
      },
      "execution_count": 148,
      "outputs": [
        {
          "output_type": "stream",
          "name": "stderr",
          "text": [
            "/usr/local/lib/python3.7/dist-packages/ipykernel_launcher.py:8: DeprecationWarning: Call to deprecated `__contains__` (Method will be removed in 4.0.0, use self.wv.__contains__() instead).\n",
            "  \n",
            "/usr/local/lib/python3.7/dist-packages/ipykernel_launcher.py:9: DeprecationWarning: Call to deprecated `__getitem__` (Method will be removed in 4.0.0, use self.wv.__getitem__() instead).\n",
            "  if __name__ == '__main__':\n"
          ]
        }
      ]
    },
    {
      "cell_type": "code",
      "source": [
        "# LSTM\n",
        "lstm = keras.Sequential()\n",
        "lstm.add(keras.layers.Embedding(vocab_size, word_vector_dim, input_shape=(None,)))\n",
        "lstm.add(keras.layers.LSTM(8))\n",
        "lstm.add(keras.layers.Dense(8, activation='relu'))\n",
        "lstm.add(keras.layers.Dense(1, activation='sigmoid'))\n",
        "\n",
        "lstm.summary()\n",
        "\n",
        "# 1-D CNN\n",
        "cnn = keras.Sequential()\n",
        "cnn.add(keras.layers.Embedding(vocab_size, word_vector_dim, input_shape=(None,))) \n",
        "cnn.add(keras.layers.Conv1D(16, 7, activation='relu'))\n",
        "cnn.add(keras.layers.MaxPooling1D(5))\n",
        "cnn.add(keras.layers.Conv1D(16, 7, activation='relu'))\n",
        "cnn.add(keras.layers.GlobalMaxPooling1D())\n",
        "cnn.add(keras.layers.Dense(16, activation='relu'))\n",
        "cnn.add(keras.layers.Dense(1, activation='sigmoid'))\n",
        "\n",
        "cnn.summary()\n",
        "\n",
        "# one GlobalAveragePooling layer\n",
        "simple = keras.Sequential()\n",
        "simple.add(keras.layers.Embedding(vocab_size, word_vector_dim, input_shape=(None,)))\n",
        "simple.add(keras.layers.GlobalAveragePooling1D())\n",
        "simple.add(keras.layers.Dense(16, activation='relu'))\n",
        "simple.add(keras.layers.Dropout(0.1))\n",
        "simple.add(keras.layers.Dense(1, activation='sigmoid'))\n",
        "simple.summary()"
      ],
      "metadata": {
        "colab": {
          "base_uri": "https://localhost:8080/"
        },
        "id": "g1sLIT9GSziz",
        "outputId": "058b86ce-1f08-4024-902b-cc849f7b94a4"
      },
      "execution_count": 149,
      "outputs": [
        {
          "output_type": "stream",
          "name": "stdout",
          "text": [
            "Model: \"sequential_48\"\n",
            "_________________________________________________________________\n",
            " Layer (type)                Output Shape              Param #   \n",
            "=================================================================\n",
            " embedding_48 (Embedding)    (None, None, 100)         1000000   \n",
            "                                                                 \n",
            " lstm_16 (LSTM)              (None, 8)                 3488      \n",
            "                                                                 \n",
            " dense_113 (Dense)           (None, 8)                 72        \n",
            "                                                                 \n",
            " dense_114 (Dense)           (None, 1)                 9         \n",
            "                                                                 \n",
            "=================================================================\n",
            "Total params: 1,003,569\n",
            "Trainable params: 1,003,569\n",
            "Non-trainable params: 0\n",
            "_________________________________________________________________\n",
            "Model: \"sequential_49\"\n",
            "_________________________________________________________________\n",
            " Layer (type)                Output Shape              Param #   \n",
            "=================================================================\n",
            " embedding_49 (Embedding)    (None, None, 100)         1000000   \n",
            "                                                                 \n",
            " conv1d_32 (Conv1D)          (None, None, 16)          11216     \n",
            "                                                                 \n",
            " max_pooling1d_16 (MaxPoolin  (None, None, 16)         0         \n",
            " g1D)                                                            \n",
            "                                                                 \n",
            " conv1d_33 (Conv1D)          (None, None, 16)          1808      \n",
            "                                                                 \n",
            " global_max_pooling1d_16 (Gl  (None, 16)               0         \n",
            " obalMaxPooling1D)                                               \n",
            "                                                                 \n",
            " dense_115 (Dense)           (None, 16)                272       \n",
            "                                                                 \n",
            " dense_116 (Dense)           (None, 1)                 17        \n",
            "                                                                 \n",
            "=================================================================\n",
            "Total params: 1,013,313\n",
            "Trainable params: 1,013,313\n",
            "Non-trainable params: 0\n",
            "_________________________________________________________________\n",
            "Model: \"sequential_50\"\n",
            "_________________________________________________________________\n",
            " Layer (type)                Output Shape              Param #   \n",
            "=================================================================\n",
            " embedding_50 (Embedding)    (None, None, 100)         1000000   \n",
            "                                                                 \n",
            " global_average_pooling1d_16  (None, 100)              0         \n",
            "  (GlobalAveragePooling1D)                                       \n",
            "                                                                 \n",
            " dense_117 (Dense)           (None, 16)                1616      \n",
            "                                                                 \n",
            " dropout_2 (Dropout)         (None, 16)                0         \n",
            "                                                                 \n",
            " dense_118 (Dense)           (None, 1)                 17        \n",
            "                                                                 \n",
            "=================================================================\n",
            "Total params: 1,001,633\n",
            "Trainable params: 1,001,633\n",
            "Non-trainable params: 0\n",
            "_________________________________________________________________\n"
          ]
        }
      ]
    },
    {
      "cell_type": "code",
      "source": [
        "epochs = 5\n",
        "\n",
        "lstm.compile(optimizer='adam',\n",
        "              loss='binary_crossentropy',\n",
        "              metrics=['accuracy'])\n",
        "\n",
        "history_lstm = lstm.fit(partial_x_train,\n",
        "                    partial_y_train,\n",
        "                    epochs=epochs,\n",
        "                    batch_size=512,\n",
        "                    validation_data=(x_val, y_val),\n",
        "                    verbose=1)\n",
        "cnn.compile(optimizer='adam',\n",
        "              loss='binary_crossentropy',\n",
        "              metrics=['accuracy'])\n",
        "\n",
        "epochs = 3\n",
        "\n",
        "history_cnn = cnn.fit(partial_x_train,\n",
        "                    partial_y_train,\n",
        "                    epochs=epochs,\n",
        "                    batch_size=512,\n",
        "                    validation_data=(x_val, y_val),\n",
        "                    verbose=1)\n",
        "                    \n",
        "epochs = 4\n",
        "\n",
        "simple.compile(optimizer='adam',\n",
        "              loss='binary_crossentropy',\n",
        "              metrics=['accuracy'])\n",
        "\n",
        "history_simple = simple.fit(partial_x_train,\n",
        "                    partial_y_train,\n",
        "                    epochs=epochs,\n",
        "                    batch_size=512,\n",
        "                    validation_data=(x_val, y_val),\n",
        "                    verbose=1)"
      ],
      "metadata": {
        "colab": {
          "base_uri": "https://localhost:8080/"
        },
        "id": "q974aOX3Wfa5",
        "outputId": "d0ba96f0-3af5-4755-9353-3a4ab11f7c52"
      },
      "execution_count": 150,
      "outputs": [
        {
          "output_type": "stream",
          "name": "stdout",
          "text": [
            "Epoch 1/5\n",
            "266/266 [==============================] - 5s 11ms/step - loss: 0.4555 - accuracy: 0.8015 - val_loss: 0.3484 - val_accuracy: 0.8511\n",
            "Epoch 2/5\n",
            "266/266 [==============================] - 2s 9ms/step - loss: 0.3260 - accuracy: 0.8633 - val_loss: 0.3316 - val_accuracy: 0.8552\n",
            "Epoch 3/5\n",
            "266/266 [==============================] - 2s 9ms/step - loss: 0.2988 - accuracy: 0.8758 - val_loss: 0.3297 - val_accuracy: 0.8590\n",
            "Epoch 4/5\n",
            "266/266 [==============================] - 2s 9ms/step - loss: 0.2780 - accuracy: 0.8857 - val_loss: 0.3349 - val_accuracy: 0.8577\n",
            "Epoch 5/5\n",
            "266/266 [==============================] - 2s 9ms/step - loss: 0.2593 - accuracy: 0.8952 - val_loss: 0.3383 - val_accuracy: 0.8579\n",
            "Epoch 1/3\n",
            "266/266 [==============================] - 3s 8ms/step - loss: 0.4374 - accuracy: 0.7927 - val_loss: 0.3371 - val_accuracy: 0.8545\n",
            "Epoch 2/3\n",
            "266/266 [==============================] - 2s 7ms/step - loss: 0.3016 - accuracy: 0.8726 - val_loss: 0.3212 - val_accuracy: 0.8595\n",
            "Epoch 3/3\n",
            "266/266 [==============================] - 2s 8ms/step - loss: 0.2476 - accuracy: 0.9020 - val_loss: 0.3296 - val_accuracy: 0.8596\n",
            "Epoch 1/4\n",
            "266/266 [==============================] - 3s 7ms/step - loss: 0.5345 - accuracy: 0.7656 - val_loss: 0.3901 - val_accuracy: 0.8331\n",
            "Epoch 2/4\n",
            "266/266 [==============================] - 2s 6ms/step - loss: 0.3662 - accuracy: 0.8443 - val_loss: 0.3513 - val_accuracy: 0.8487\n",
            "Epoch 3/4\n",
            "266/266 [==============================] - 2s 6ms/step - loss: 0.3390 - accuracy: 0.8572 - val_loss: 0.3442 - val_accuracy: 0.8495\n",
            "Epoch 4/4\n",
            "266/266 [==============================] - 2s 6ms/step - loss: 0.3271 - accuracy: 0.8621 - val_loss: 0.3494 - val_accuracy: 0.8460\n"
          ]
        }
      ]
    },
    {
      "cell_type": "code",
      "source": [
        "# LSTM\n",
        "results_lstm = lstm.evaluate(X_test, y_test, verbose=3)\n",
        "print(results_lstm)\n",
        "\n",
        "# 1-D CNN\n",
        "results_cnn = cnn.evaluate(X_test, y_test, verbose=3)\n",
        "print(results_cnn)\n",
        "\n",
        "# one GlobalAveragePooling1D layer\n",
        "results_simple = simple.evaluate(X_test, y_test, verbose=3)\n",
        "print(results_simple)"
      ],
      "metadata": {
        "colab": {
          "base_uri": "https://localhost:8080/"
        },
        "id": "moXOaVsZW79Q",
        "outputId": "9a123815-5c70-434f-fa68-497147716a97"
      },
      "execution_count": 151,
      "outputs": [
        {
          "output_type": "stream",
          "name": "stdout",
          "text": [
            "[0.3523094356060028, 0.8508452773094177]\n",
            "[0.34400269389152527, 0.8545476794242859]\n",
            "[0.36249470710754395, 0.8414671421051025]\n"
          ]
        }
      ]
    },
    {
      "cell_type": "markdown",
      "source": [
        "# 회고"
      ],
      "metadata": {
        "id": "YeYFafln74RQ"
      }
    },
    {
      "cell_type": "markdown",
      "source": [
        "이번 익스는 너무 재밌었다. 가장 실용적인 공부를 한 것 같다.\n",
        "\n",
        "하지만, 다 완성하고 제출하기 전에 찝찝한 것은 어쩔 수 없는 거 같다.\n",
        "\n",
        "왜 one GlobalAveragePolling1D layer은 마의 85%를 깨지 못하는 걸까 ㅠㅠㅠㅠ cs231, 딥러닝 스터디, 노드에서 공부한 것을 적용해도 숫자를 넘기지 못했다. 이론 공부를 열심히 공부하여 잘 이해했다고 생각했지만, 왜 적용만 시키면 내가 생각하는 결과와 항상 다르게 나오는 지...ㅠ 더욱 열심히 해봐야겠다.\n",
        "\n",
        "여담이지만, 다른 모델링과는 다르게, epoch를 낮게 줘도 되는 이유도 한 번 더 고심해봐야겠다. 방대한 댓글 양을 2번, 3번만 학습해도 test set을 잘 예측할 수 있는 이유가 궁금하다. 다른 것들은 30번 넘게 돌려도 원하는 정확성에 도달하지 못하는 경우도 허다하니깐....\n",
        "\n",
        "뭐 다들 상대적인 거고 모델마다 원하는 수치가 다른 건 당연하다. 아마 이 수치를 잘 때려맞춰 하이퍼 파라미터에 잘 적용하는 사람이 이 학문에서 요구하는 인재상이 아닐까?라는 생각도 든다."
      ],
      "metadata": {
        "id": "imcx0Nhv75jD"
      }
    },
    {
      "cell_type": "markdown",
      "source": [
        "ㅡ"
      ],
      "metadata": {
        "id": "fL27y08bZvl2"
      }
    }
  ],
  "metadata": {
    "colab": {
      "name": "ex08",
      "provenance": [],
      "collapsed_sections": []
    },
    "kernelspec": {
      "display_name": "Python 3",
      "name": "python3"
    },
    "language_info": {
      "name": "python"
    },
    "accelerator": "GPU",
    "gpuClass": "standard"
  },
  "nbformat": 4,
  "nbformat_minor": 0
}