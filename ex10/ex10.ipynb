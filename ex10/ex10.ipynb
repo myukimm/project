{
  "nbformat": 4,
  "nbformat_minor": 0,
  "metadata": {
    "colab": {
      "name": "Ex10",
      "private_outputs": true,
      "provenance": []
    },
    "kernelspec": {
      "name": "python3",
      "display_name": "Python 3"
    },
    "language_info": {
      "name": "python"
    },
    "accelerator": "GPU"
  },
  "cells": [
    {
      "cell_type": "markdown",
      "source": [
        "# Ex10"
      ],
      "metadata": {
        "id": "i-WXmzolW9C7"
      }
    },
    {
      "cell_type": "code",
      "metadata": {
        "id": "iEgUdN1Vi8TN"
      },
      "source": [
        "import numpy as np\n",
        "import pandas as pd\n",
        "import re\n",
        "import shutil\n",
        "import os\n",
        "import unicodedata\n",
        "import urllib3\n",
        "import zipfile\n",
        "import tensorflow as tf\n",
        "from tensorflow.keras.preprocessing.text import Tokenizer\n",
        "from tensorflow.keras.preprocessing.sequence import pad_sequences"
      ],
      "execution_count": null,
      "outputs": []
    },
    {
      "cell_type": "markdown",
      "source": [
        "### 정제, 정규화, 전처리 (영어, 프랑스어 모두 !)"
      ],
      "metadata": {
        "id": "RvaITyGLW4Zc"
      }
    },
    {
      "cell_type": "code",
      "metadata": {
        "id": "Hw4KcKdti_mL"
      },
      "source": [
        "# 데이터 로드\n",
        "\n",
        "http = urllib3.PoolManager()\n",
        "url ='http://www.manythings.org/anki/fra-eng.zip'\n",
        "filename = 'fra-eng.zip'\n",
        "path = os.getcwd()\n",
        "zipfilename = os.path.join(path, filename)\n",
        "with http.request('GET', url, preload_content=False) as r, open(zipfilename, 'wb') as out_file:       \n",
        "    shutil.copyfileobj(r, out_file)\n",
        "\n",
        "with zipfile.ZipFile(zipfilename, 'r') as zip_ref:\n",
        "    zip_ref.extractall(path)"
      ],
      "execution_count": null,
      "outputs": []
    },
    {
      "cell_type": "code",
      "metadata": {
        "id": "baaVJRSqjCBz"
      },
      "source": [
        "# 총 33,000개의 샘플을 사용할 예정\n",
        "\n",
        "num_samples = 33000"
      ],
      "execution_count": null,
      "outputs": []
    },
    {
      "cell_type": "code",
      "metadata": {
        "id": "_woKYjOGjE_-"
      },
      "source": [
        "# 전처리 함수 구현\n",
        "\n",
        "def unicode_to_ascii(s):\n",
        "  return ''.join(c for c in unicodedata.normalize('NFD', s)\n",
        "      if unicodedata.category(c) != 'Mn')"
      ],
      "execution_count": null,
      "outputs": []
    },
    {
      "cell_type": "code",
      "metadata": {
        "id": "UPehim28jHSU"
      },
      "source": [
        "def preprocess_sentence(sent):\n",
        "    # 위에서 구현한 함수를 내부적으로 호출\n",
        "    sent = unicode_to_ascii(sent.lower())\n",
        "\n",
        "    # 단어와 구두점 사이에 공백을 만듭니다.\n",
        "    # Ex) \"he is a boy.\" => \"he is a boy .\"\n",
        "    sent = re.sub(r\"([?.!,¿])\", r\" \\1\", sent)\n",
        "\n",
        "    # (a-z, A-Z, \".\", \"?\", \"!\", \",\") 이들을 제외하고는 전부 공백으로 변환합니다.\n",
        "    sent = re.sub(r\"[^a-zA-Z!.?]+\", r\" \", sent)\n",
        "\n",
        "    sent = re.sub(r\"\\s+\", \" \", sent)\n",
        "    return sent"
      ],
      "execution_count": null,
      "outputs": []
    },
    {
      "cell_type": "code",
      "metadata": {
        "id": "H6TjXXsqjJWf"
      },
      "source": [
        "# 구현한 전처리 함수 테스트 : 임의의 문장 입력\n",
        "# 전처리 테스트\n",
        "en_sent = u\"Have you had dinner?\"\n",
        "fr_sent = u\"Avez-vous déjà diné?\"\n",
        "print(preprocess_sentence(en_sent))\n",
        "print(preprocess_sentence(fr_sent).encode('utf-8'))"
      ],
      "execution_count": null,
      "outputs": []
    },
    {
      "cell_type": "markdown",
      "metadata": {
        "id": "_bFrtHu2j3xC"
      },
      "source": [
        "샘플 데이터를 불러와 모든 전처리를 수행하는 함수 구현\n",
        "\n",
        "- teacher forcing을 위해 디코더의 입/출력 시퀀스를 따로 분리하여 저장\n",
        "- 입출력 심볼 추가\n",
        "- 총 3개의 데이터 셋 생성: 인코더의 입력, 디코더의 입력, 디코더의 실제값"
      ]
    },
    {
      "cell_type": "code",
      "metadata": {
        "id": "RJmekEI1jMLV"
      },
      "source": [
        "def load_preprocessed_data():\n",
        "    encoder_input, decoder_input, decoder_target = [], [], []\n",
        "\n",
        "    with open(\"fra.txt\", \"r\") as lines:\n",
        "        for i, line in enumerate(lines):\n",
        "\n",
        "            # source 데이터와 target 데이터 분리\n",
        "            src_line, tar_line, _ = line.strip().split('\\t')\n",
        "\n",
        "            # source 데이터 전처리\n",
        "            src_line_input = [w for w in preprocess_sentence(src_line).split()]\n",
        "\n",
        "            # target 데이터 전처리\n",
        "            tar_line = preprocess_sentence(tar_line)\n",
        "            tar_line_input = [w for w in (\"<sos> \" + tar_line).split()]\n",
        "            tar_line_target = [w for w in (tar_line + \" <eos>\").split()]\n",
        "\n",
        "            encoder_input.append(src_line_input)\n",
        "            decoder_input.append(tar_line_input)\n",
        "            decoder_target.append(tar_line_target)\n",
        "\n",
        "            if i == num_samples - 1:\n",
        "                break\n",
        "\n",
        "    return encoder_input, decoder_input, decoder_target"
      ],
      "execution_count": null,
      "outputs": []
    },
    {
      "cell_type": "code",
      "metadata": {
        "id": "EwsXwdesjQIb"
      },
      "source": [
        "# 데이터셋 출력하여 확인\n",
        "\n",
        "sents_en_in, sents_fra_in, sents_fra_out = load_preprocessed_data()\n",
        "print(sents_en_in[:5])\n",
        "print(sents_fra_in[:5])\n",
        "print(sents_fra_out[:5])"
      ],
      "execution_count": null,
      "outputs": []
    },
    {
      "cell_type": "markdown",
      "metadata": {
        "id": "-39cbtFTkYwY"
      },
      "source": [
        "- 단어집합 생성\n",
        "- 정수 인코딩"
      ]
    },
    {
      "cell_type": "code",
      "metadata": {
        "id": "JP9JnYiOkec9"
      },
      "source": [
        "tokenizer_en = Tokenizer(filters=\"\", lower=False)\n",
        "tokenizer_en.fit_on_texts(sents_en_in)\n",
        "encoder_input = tokenizer_en.texts_to_sequences(sents_en_in)\n",
        "\n",
        "tokenizer_fra = Tokenizer(filters=\"\", lower=False)\n",
        "tokenizer_fra.fit_on_texts(sents_fra_in)\n",
        "tokenizer_fra.fit_on_texts(sents_fra_out)\n",
        "decoder_input = tokenizer_fra.texts_to_sequences(sents_fra_in)\n",
        "decoder_target = tokenizer_fra.texts_to_sequences(sents_fra_out)"
      ],
      "execution_count": null,
      "outputs": []
    },
    {
      "cell_type": "markdown",
      "metadata": {
        "id": "0jyH-w90krsI"
      },
      "source": [
        "- 패딩"
      ]
    },
    {
      "cell_type": "code",
      "metadata": {
        "id": "xCbhl3csktdD"
      },
      "source": [
        "encoder_input = pad_sequences(encoder_input, padding=\"post\")\n",
        "decoder_input = pad_sequences(decoder_input, padding=\"post\")\n",
        "decoder_target = pad_sequences(decoder_target, padding=\"post\")"
      ],
      "execution_count": null,
      "outputs": []
    },
    {
      "cell_type": "markdown",
      "metadata": {
        "id": "R921wioglMKp"
      },
      "source": [
        "- 단어 집합의 크기 정의"
      ]
    },
    {
      "cell_type": "code",
      "metadata": {
        "id": "M_ttVNhBlOTb"
      },
      "source": [
        "src_vocab_size = len(tokenizer_en.word_index) + 1\n",
        "tar_vocab_size = len(tokenizer_fra.word_index) + 1\n",
        "print(\"영어 단어 집합의 크기 : {:d}, 프랑스어 단어 집합의 크기 : {:d}\".format(src_vocab_size, tar_vocab_size))"
      ],
      "execution_count": null,
      "outputs": []
    },
    {
      "cell_type": "markdown",
      "metadata": {
        "id": "JO9Paj83ljjy"
      },
      "source": [
        "- 단어로부터 정수를 얻는 딕셔너리와\n",
        "- 정수로부터 단어를 얻는 딕셔너리를 각각 생성"
      ]
    },
    {
      "cell_type": "code",
      "metadata": {
        "id": "o6agNfvsloSp"
      },
      "source": [
        "src_to_index = tokenizer_en.word_index\n",
        "index_to_src = tokenizer_en.index_word # 훈련 후 결과 비교할 때 사용\n",
        "\n",
        "tar_to_index = tokenizer_fra.word_index # 훈련 후 예측 과정에서 사용\n",
        "index_to_tar = tokenizer_fra.index_word # 훈련 후 결과 비교할 때 사용"
      ],
      "execution_count": null,
      "outputs": []
    },
    {
      "cell_type": "markdown",
      "metadata": {
        "id": "CUxn8o7Dl6i_"
      },
      "source": [
        "테스트 데이터 분리\n",
        "- 적절한 분포를 갖도록 데이터를 섞어 줌"
      ]
    },
    {
      "cell_type": "code",
      "metadata": {
        "id": "g-CF1od8mCIS"
      },
      "source": [
        "# 순서가 섞인 정수 시퀀스 리스트 생성\n",
        "\n",
        "indices = np.arange(encoder_input.shape[0])\n",
        "np.random.shuffle(indices)\n",
        "print(indices)"
      ],
      "execution_count": null,
      "outputs": []
    },
    {
      "cell_type": "code",
      "metadata": {
        "id": "u0IPizN0mKRy"
      },
      "source": [
        "# 이를 데이터셋의 순서로 지정해주면 샘플들이 기존 순서와 다른 순서로 섞임\n",
        "\n",
        "encoder_input = encoder_input[indices]\n",
        "decoder_input = decoder_input[indices]\n",
        "decoder_target = decoder_target[indices]"
      ],
      "execution_count": null,
      "outputs": []
    },
    {
      "cell_type": "code",
      "metadata": {
        "id": "s7j0vfmHmXIp"
      },
      "source": [
        "# 확인\n",
        "\n",
        "encoder_input[30997]"
      ],
      "execution_count": null,
      "outputs": []
    },
    {
      "cell_type": "code",
      "metadata": {
        "id": "00Zdyt8ompWo"
      },
      "source": [
        "decoder_input[30997]"
      ],
      "execution_count": null,
      "outputs": []
    },
    {
      "cell_type": "code",
      "metadata": {
        "id": "yTbFBraQmreH"
      },
      "source": [
        "decoder_target[30997]"
      ],
      "execution_count": null,
      "outputs": []
    },
    {
      "cell_type": "markdown",
      "metadata": {
        "id": "kmNqQMbLm5zM"
      },
      "source": [
        "- 훈련 데이터의 10%를 테스트 데이터로 분리"
      ]
    },
    {
      "cell_type": "code",
      "metadata": {
        "id": "Tgg-pcHBm645"
      },
      "source": [
        "n_of_val = int(33000*0.1)\n",
        "print(n_of_val)"
      ],
      "execution_count": null,
      "outputs": []
    },
    {
      "cell_type": "code",
      "metadata": {
        "id": "p2OaQrS0nB9U"
      },
      "source": [
        "# 33,000개의 10%에 해당되는 3,300개의 데이터를 테스트 데이터로 사용\n",
        "\n",
        "encoder_input_train = encoder_input[:-n_of_val]\n",
        "decoder_input_train = decoder_input[:-n_of_val]\n",
        "decoder_target_train = decoder_target[:-n_of_val]\n",
        "\n",
        "encoder_input_test = encoder_input[-n_of_val:]\n",
        "decoder_input_test = decoder_input[-n_of_val:]\n",
        "decoder_target_test = decoder_target[-n_of_val:]"
      ],
      "execution_count": null,
      "outputs": []
    },
    {
      "cell_type": "code",
      "metadata": {
        "id": "gj1JmQElnLRR"
      },
      "source": [
        "# 훈련 데이터와 테스트 데이터의 크기(shape)를 출력\n",
        "\n",
        "print(encoder_input_train.shape)\n",
        "print(decoder_input_train.shape)\n",
        "print(decoder_target_train.shape)\n",
        "print(encoder_input_test.shape)\n",
        "print(decoder_input_test.shape)\n",
        "print(decoder_target_test.shape)"
      ],
      "execution_count": null,
      "outputs": []
    },
    {
      "cell_type": "markdown",
      "metadata": {
        "id": "gwXnHaPLngFs"
      },
      "source": [
        "2. 기계 번역기 만들기"
      ]
    },
    {
      "cell_type": "code",
      "metadata": {
        "id": "RSQ-CugsnqmY"
      },
      "source": [
        "from tensorflow.keras.layers import Input, LSTM, Embedding, Dense, Masking\n",
        "from tensorflow.keras.models import Model"
      ],
      "execution_count": null,
      "outputs": []
    },
    {
      "cell_type": "code",
      "metadata": {
        "id": "iQBEZ3f_nvTV"
      },
      "source": [
        "# 임베딩 벡터와 LSTM의 은닉 상태의 크기를 50으로 고정\n",
        "\n",
        "latent_dim = 50"
      ],
      "execution_count": null,
      "outputs": []
    },
    {
      "cell_type": "markdown",
      "metadata": {
        "id": "GOAAcv_On4aJ"
      },
      "source": [
        "- 모델 설계"
      ]
    },
    {
      "cell_type": "code",
      "metadata": {
        "id": "6ovhOdIHn54p"
      },
      "source": [
        "# 인코더\n",
        "\n",
        "encoder_inputs = Input(shape=(None,))\n",
        "enc_emb =  Embedding(src_vocab_size, latent_dim)(encoder_inputs) # 임베딩 층\n",
        "enc_masking = Masking(mask_value=0.0)(enc_emb) # 패딩 0은 연산에서 제외\n",
        "encoder_lstm = LSTM(latent_dim, return_state=True) # 상태값 리턴을 위해 return_state는 True\n",
        "encoder_outputs, state_h, state_c = encoder_lstm(enc_masking) # 은닉 상태와 셀 상태를 리턴\n",
        "encoder_states = [state_h, state_c] # 인코더의 은닉 상태와 셀 상태를 저장"
      ],
      "execution_count": null,
      "outputs": []
    },
    {
      "cell_type": "code",
      "metadata": {
        "id": "JVBPQljSoK5I"
      },
      "source": [
        "# 디코더\n",
        "\n",
        "decoder_inputs = Input(shape=(None,))\n",
        "dec_emb_layer = Embedding(tar_vocab_size, latent_dim) # 임베딩 층\n",
        "dec_emb = dec_emb_layer(decoder_inputs) # 패딩 0은 연산에서 제외\n",
        "dec_masking = Masking(mask_value=0.0)(dec_emb)\n",
        "\n",
        "# 상태값 리턴을 위해 return_state는 True, 모든 시점에 대해서 단어를 예측하기 위해 return_sequences는 True\n",
        "decoder_lstm = LSTM(latent_dim, return_sequences=True, return_state=True) \n",
        "\n",
        "# 인코더의 은닉 상태를 초기 은닉 상태(initial_state)로 사용\n",
        "decoder_outputs, _, _ = decoder_lstm(dec_masking,\n",
        "                                     initial_state=encoder_states)\n",
        "\n",
        "# 모든 시점의 결과에 대해서 소프트맥스 함수를 사용한 출력층을 통해 단어 예측\n",
        "decoder_dense = Dense(tar_vocab_size, activation='softmax')\n",
        "decoder_outputs = decoder_dense(decoder_outputs)"
      ],
      "execution_count": null,
      "outputs": []
    },
    {
      "cell_type": "code",
      "metadata": {
        "id": "oxO9-qgOoQod"
      },
      "source": [
        "# 모델 정의\n",
        "\n",
        "model = Model([encoder_inputs, decoder_inputs], decoder_outputs)"
      ],
      "execution_count": null,
      "outputs": []
    },
    {
      "cell_type": "markdown",
      "metadata": {
        "id": "jEKHXdQxoqdV"
      },
      "source": [
        "- 훈련 실행"
      ]
    },
    {
      "cell_type": "code",
      "metadata": {
        "id": "g6K4jdvVos0r"
      },
      "source": [
        "model.compile(optimizer='rmsprop', loss='sparse_categorical_crossentropy', metrics=['acc'])\n",
        "\n",
        "# 현재 decoder_outputs의 경우에는 원-핫 인코딩을 하지 않은 상태이므로\n",
        "# sparse_categorical_crossentropy를 사용"
      ],
      "execution_count": null,
      "outputs": []
    },
    {
      "cell_type": "code",
      "metadata": {
        "id": "TDFlardNo5sm"
      },
      "source": [
        "model.summary()"
      ],
      "execution_count": null,
      "outputs": []
    },
    {
      "cell_type": "code",
      "metadata": {
        "id": "xJ7-LhAPo8P-"
      },
      "source": [
        "model.fit(x = [encoder_input_train, decoder_input_train], y = decoder_target_train, \\\n",
        "          validation_data = ([encoder_input_test, decoder_input_test], decoder_target_test),\n",
        "          batch_size = 128, epochs = 50)"
      ],
      "execution_count": null,
      "outputs": []
    },
    {
      "cell_type": "markdown",
      "metadata": {
        "id": "GdfZiVpVq0iZ"
      },
      "source": [
        "3. seq2seq 기계 번역기 동작시키기"
      ]
    },
    {
      "cell_type": "code",
      "metadata": {
        "id": "O7fW9tYNq2VX"
      },
      "source": [
        "# 테스트를 위해 모델 재설계\n",
        "\n",
        "# 인코더\n",
        "encoder_model = Model(encoder_inputs, encoder_states)\n",
        "\n",
        "# 디코더\n",
        "# 이전 시점의 상태를 보관할 텐서\n",
        "decoder_state_input_h = Input(shape=(latent_dim,))\n",
        "decoder_state_input_c = Input(shape=(latent_dim,))\n",
        "decoder_states_inputs = [decoder_state_input_h, decoder_state_input_c]\n",
        "\n",
        "# 훈련 때 사용했던 임베딩 층을 재사용\n",
        "dec_emb2= dec_emb_layer(decoder_inputs)\n",
        "\n",
        "# 다음 단어 예측을 위해 이전 시점의 상태를 현 시점의 초기 상태로 사용\n",
        "decoder_outputs2, state_h2, state_c2 = decoder_lstm(dec_emb2, initial_state=decoder_states_inputs)\n",
        "decoder_states2 = [state_h2, state_c2]\n",
        "\n",
        "# 모든 시점에 대해서 단어 예측\n",
        "decoder_outputs2 = decoder_dense(decoder_outputs2)"
      ],
      "execution_count": null,
      "outputs": []
    },
    {
      "cell_type": "code",
      "metadata": {
        "id": "rKdSApWyrChz"
      },
      "source": [
        "# 디코더 정의\n",
        "\n",
        "decoder_model = Model(\n",
        "    [decoder_inputs] + decoder_states_inputs,\n",
        "    [decoder_outputs2] + decoder_states2)"
      ],
      "execution_count": null,
      "outputs": []
    },
    {
      "cell_type": "markdown",
      "metadata": {
        "id": "FRwd6SsZrTwG"
      },
      "source": [
        "- 테스트 과정에서의 동작을 위한 decode_sequence 함수를 구현"
      ]
    },
    {
      "cell_type": "code",
      "metadata": {
        "id": "Dn2P1_5erVj0"
      },
      "source": [
        "def decode_sequence(input_seq):\n",
        "    # 입력으로부터 인코더의 상태를 얻음\n",
        "    states_value = encoder_model.predict(input_seq)\n",
        "\n",
        "    # <SOS>에 해당하는 정수 생성\n",
        "    target_seq = np.zeros((1,1))\n",
        "    target_seq[0, 0] = tar_to_index['<sos>']\n",
        "\n",
        "    stop_condition = False\n",
        "    decoded_sentence = ''\n",
        "\n",
        "    # stop_condition이 True가 될 때까지 루프 반복\n",
        "    # 구현의 간소화를 위해서 이 함수는 배치 크기를 1로 가정합니다.\n",
        "    while not stop_condition:\n",
        "        # 이점 시점의 상태 states_value를 현 시점의 초기 상태로 사용\n",
        "        output_tokens, h, c = decoder_model.predict([target_seq] + states_value)\n",
        "\n",
        "        # 예측 결과를 단어로 변환\n",
        "        sampled_token_index = np.argmax(output_tokens[0, -1, :])\n",
        "        sampled_char = index_to_tar[sampled_token_index]\n",
        "\n",
        "         # 현재 시점의 예측 단어를 예측 문장에 추가\n",
        "        decoded_sentence += ' '+sampled_char\n",
        "\n",
        "        # <eos>에 도달하거나 정해진 길이를 넘으면 중단.\n",
        "        if (sampled_char == '<eos>' or\n",
        "           len(decoded_sentence) > 50):\n",
        "            stop_condition = True\n",
        "\n",
        "        # 현재 시점의 예측 결과를 다음 시점의 입력으로 사용하기 위해 저장\n",
        "        target_seq = np.zeros((1,1))\n",
        "        target_seq[0, 0] = sampled_token_index\n",
        "\n",
        "        # 현재 시점의 상태를 다음 시점의 상태로 사용하기 위해 저장\n",
        "        states_value = [h, c]\n",
        "\n",
        "    return decoded_sentence"
      ],
      "execution_count": null,
      "outputs": []
    },
    {
      "cell_type": "markdown",
      "metadata": {
        "id": "6Z9QoVqUrpdH"
      },
      "source": [
        "- 결과 확인을 위한 함수 구현"
      ]
    },
    {
      "cell_type": "code",
      "metadata": {
        "id": "TG7XlHnfrqdG"
      },
      "source": [
        "# 원문의 정수 시퀀스를 텍스트 시퀀스로 변환\n",
        "def seq2src(input_seq):\n",
        "    temp=''\n",
        "    for i in input_seq:\n",
        "        if(i!=0):\n",
        "            temp = temp + index_to_src[i]+' '\n",
        "    return temp\n",
        "\n",
        "# 번역문의 정수 시퀀스를 텍스트 시퀀스로 변환\n",
        "def seq2tar(input_seq):\n",
        "    temp=''\n",
        "    for i in input_seq:\n",
        "        if((i!=0 and i!=tar_to_index['<sos>']) and i!=tar_to_index['<eos>']):\n",
        "            temp = temp + index_to_tar[i] + ' '\n",
        "    return temp"
      ],
      "execution_count": null,
      "outputs": []
    },
    {
      "cell_type": "markdown",
      "metadata": {
        "id": "Q1Oz88YOr_PW"
      },
      "source": [
        "- 훈련 데이터에 대해서 임의로 선택한 인덱스의 샘플의 결과를 출력"
      ]
    },
    {
      "cell_type": "code",
      "metadata": {
        "id": "Huq2RcSJsAlm"
      },
      "source": [
        "for seq_index in [3,50,100,300,1001]:\n",
        "  input_seq = encoder_input_train[seq_index: seq_index + 1]\n",
        "  decoded_sentence = decode_sequence(input_seq)\n",
        "\n",
        "  print(\"원문 : \",seq2src(encoder_input_train[seq_index]))\n",
        "  print(\"번역문 :\",seq2tar(decoder_input_train[seq_index]))\n",
        "  print(\"예측문 :\",decoded_sentence[:-5])\n",
        "  print(\"\\n\")"
      ],
      "execution_count": null,
      "outputs": []
    },
    {
      "cell_type": "markdown",
      "metadata": {
        "id": "m3-_YSmjsTn_"
      },
      "source": [
        "- 테스트 데이터에 대해서 임의로 선택한 인덱스의 샘플의 결과를 출력"
      ]
    },
    {
      "cell_type": "code",
      "metadata": {
        "id": "JtQCAzaQsU6V"
      },
      "source": [
        "for seq_index in [3,50,100,300,1001]:\n",
        "  input_seq = encoder_input_test[seq_index: seq_index + 1]\n",
        "  decoded_sentence = decode_sequence(input_seq)\n",
        "\n",
        "  print(\"원문 : \",seq2src(encoder_input_test[seq_index]))\n",
        "  print(\"번역문 :\",seq2tar(decoder_input_test[seq_index]))\n",
        "  print(\"예측문 :\",decoded_sentence[:-5])\n",
        "  print(\"\\n\")"
      ],
      "execution_count": null,
      "outputs": []
    },
    {
      "cell_type": "markdown",
      "source": [
        "![image.png](data:image/png;base64,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)"
      ],
      "metadata": {
        "id": "Wos3NvO5YmAj"
      }
    },
    {
      "cell_type": "markdown",
      "source": [
        "![image.png](data:image/png;base64,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)"
      ],
      "metadata": {
        "id": "KEU-OlWcY-N-"
      }
    },
    {
      "cell_type": "markdown",
      "source": [
        "![image.png](data:image/png;base64,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)"
      ],
      "metadata": {
        "id": "b20K1PDrY-Q5"
      }
    },
    {
      "cell_type": "markdown",
      "source": [
        "![image.png](data:image/png;base64,iVBORw0KGgoAAAANSUhEUgAAAWEAAABYCAYAAAAk/UYGAAARfElEQVR4nO2dX46yPBTGH7+8KzHhhnYfJlxPcRMkLqHtEkjYxNC5JnEfLTckbsXvAlRQQBARnTm/hGRGpfx/OD3ntGdlrT2CIAiCWIR/AMAYW3o/fi3OOTq/M0Lnd17o/M6Lcw7/Lb0TBEEQfxkSYYIgiAUhESYIglgQEmGCIIgFIRFeGmegQ47ValUtHDw0cI0fGYSrFUKz0D7+eu6fX2dC8PM1WoGHGsZd/4quEzEeEuElcRqchzCQsMcjjscjjlZC5GH1+Yh2agLRt/wdgegWRKc5VlzjRkO7Wgo5eAhIW12jo4VkBuGYa1RumK4TcQOJ8IIYreBECpsKnJOAmIC0FgoGWg+VCQAQSE9C3rqkEDMcw6/HaWgDKJtCXC4ShLRIRSn0F/EcIsp0nYgmJMKL4ZDnAGN+y3cMvg84l798r4gm7sfAMYGvllRZIRVYQ1RJQInxkAgvRp/QGhjTJdDEK8mdA3wf3cMVcuRjOiwEccW/pXfgLyOkAuMheJji++SScAZ6G8IwgVTSSKWpmHCFVes3DnylGp+0WbE+Y4DJ4YAOIfbh02UiJkCW8JIwCWtTCNQCNlzD+Gn1+Riu/ZPXy8gg0i9BpLd+V6sYwNQlGNrjRmBfAswZ/LRYu+7HwDXO+5BzTNeJaEIivDRMQKa2JhK2Gagb1EYtu+LOkpLTchxMQgpAbcNaSpqD0Rxc+VdBtjsvTrpORAskwktgwm5LiHNwzsH5xTIml+OyiNTCSkCfrsmKQzsBS4E44gmQCC+BSG+tH6vAwKC+Lay1sKecVCs7rGJXE4UHlj8i7ia8PXauxh85E2nDirVp13W5hq4T0Q8F5j4WBmmPkB3fOs3BjYDtFPHfTpk6tvw26ToR/ZAlvCillcRbBmU0LTgK1ixNm0VNo92IZ0Ai/KY0o/p3fI8mJKHu5DnzObRlWYwe7UbXiWiB3BHvApOwx65OKzEvS7guCKKERPgjGC8STFqQpr8/dJ0IckcQBEEsCInwG+AUf0K60r2RWNXyR6NGgwJrL0kHo+tENCF3xKL0py8NRqQgl2YXr/T33tkWXSeiBbKECYIgFoREmCAIYkFIhAmCIBaERJggCGJBSIQJgiAWZGWtpXgtQRDEQvwDAMZo/qa5cM7R+Z0ROr/EJ+OcI3cEQRDEkpAIEwRBLAiJMEEQxIKQCBMEQSzIk0T4/sTZzoSXsu6rFXioa9Vrh7dDEM/lD95zT5lcfup561q/+bkJp05m9P7Xt0eEu3feaT5qxikTcvAQkKfilUcLyQxCPvJGcLoh5FRihuhi+sPbaO3lD/Jj++9gdN3Y4QhvLZ1B7eiwNrMfD1sMpmW5NyveJz3/87sjnIY2gLIpxDmTiEFIi1RcT+s3RJTLmaoeLjFDEO+OMzAGgDGjjBQTcoTmYuzYVCAPeWsNw55WEK44FOS5urQVOULOMaqZG66rTpfP+qRaim1Vy6sl/SARmF2E3Y+BYwJfLamcQiqwhqiSgBJ/G2c0OA+RqxSpyhGuOPQQM9SECA2D+r4YO0xI2FTAqe1gAXVawzAFm4pz9WcmLVLhoLZT5ltmtZ4wGVB1Zhfh3DnA93vKeefI36yrQxCvxLnKjcBX4KGBn1pYKSCkhU19mJBjxUNobeBc+8NijAGEhLx+0ISAgIP5GfKQOfwYBya+bp5XIRWYM7hu5mLJDrWUXemerMeH3tDd8UruinCb74UrBzhVO5Hd3QifMSDPe96gPvy/OOCpiLFZR8hmaj6L1tjExdRWEK3XWG/ip+wTcU3ZReecI1Q5fJHCHi3Si98OrPrMSsCYEJy3xWMc8hxgzG/ZhoAQgHP5gN35gXEMoq3bynz4cLhu5lKF2t6+AFqPlyPMRTM+1OLuOOnOJ/l2H+WuCLeV+raKAUydfUZ93Qj2JVrfoEDlqmiUexniE7pXHuZDSop7O+wPCYKZmg+SA/Y7b2orSGbcx09jUImkUapRdtFtJUapFB09RlaKsS1/Z628+l2OssPZo4ImnFg6yUdpT00xWXM4x6C+5VV86BuKNQX+pDuf5Nt9lPkDc0xCCkBt610OB6M5uPKvgmx3fEJM1oS/f3nXixdv1livL8toazWLEZ3b2CCKr2zpLHq8bQAosmb7teaLeIP1en3+LIvGbOdkVUdV+xGyLMKm+uy8mcb219hEMaba80OoC+ytRt0LBteWB268cR1BNvL3FfUg1mIPhw/GSt9yUwu2UI6h1ZB/Ev3Xd1leMlhDpGV36hId5dBOwP5BR/xuf8DhUC3JAzZmEGCXnNrYIyiihlAiSHA4PGoFZ4iiDMG5/QRBFp8F0tvtG+0GyZhjCJDsd/CKAl5ywH4HRFF5PhKvQFZtJI6zxjna7zzE0fzukHqP7zUadZ0tMHJpuCTuW6ntrooxDLC278IgrUXqm6YWGB+pHeLOeJzXX9/hPO4THknp26q5NNLrLlUXz7xZfwFFhji6WIqT3b51sgxFsENw1lkPwS7AVKdGAy/AzgM8D0AQIDj9DQBFjCzLSuv4tGwiZFkxm++8m7nvu/5sgVSgNwXr2HBJMPh+l9+3THcbJJ7sC4J1BPFcjhzPsFZZaZTVtaCRvvr36Km2/MoqtX3b7K9I7DQHN6LFT/YbyRBtMnjJHodKKYt4g18TNvM8eN4O+/1u6T3B0yphvwghBBBqaCeaFqUxMBADrT+GL8GgzA+cbLo9jFZwTOH76iEz4Qqral31FGu2qQEiPeK3T3j+srkjBgU13tRn8zYUBQrPQ1CZjkUWI86eaAoHAbwsxqXJAlmc3fhki6I4b38TPdNGDRB4GTbXfu5HqQejqq4v56dlNXIQw4zc7Gf1DHR93oZIq1zeS+zFGQ0eGoh0uNuPSQkBBR6aypIv4zdlDvKtoTMuO+IKp8FbU9sGjlBsOT+fqCMDRPg5QzbbsixGJ2s/Zcz7B+PtkAQFNlXgKsqAIPCQRZvKLVEFv6pg2SmQth6cChcgSYJzwG29jpAFOwRFfE5T84IdvGxz3sZuF6CINwOCcxmiTYyiiLG+RPbO62VRdTxJgl0R19wRG2yi2xfBPdrvNwtrT8sRdqhqdIrFM5k+ElSkFqm4xF64dufPRu2HtVA4TRHAEc7ls80dXEva2/nrHh/3ED15N99vFz3uiDEs4br4fE4W5Ri83R6HRm99V/s/QHI4TNspL0Cyv2qj3mbL94dB3oPrfQtqzdaPyUOQ7DHxKP4oDEKmEJN9KAwytTO7Yhy0Ls0pozWcuFjZTuvS0FIaRv7+4P3HT2XJpL0KUrwzF0t1vV4jKgIkk3N5CeLzcHoL5QRSm0JAYXtyfziNrXIQaQrFDMLZfApV4PUNAvdPsoSJYTzBUiWIj6bMCw7VZVIvYVOEXEOHBrkxgKpGDfopHA/BwxTfaddAls9nsCU8KLD2krfKvRFzU0YFEUQXDmpIytrD990vGQl6D6OhjX+VSSGQWgnkeTVvxnkGIqQ2hZ/rYZMYjaJKEXyDXvTKWnukarXzQdWA54XOL/HJULVlgiCIhSERJgiCWBASYYIgiAUhESYIglgQEmGCIIgFWVlraagbQRDEQvwDQCk+M0IpVPNC55f4ZChFjSAIYmFIhAmCIBaERJggCGJBSIQJgiAWZIIIl1PBldUJ6n8Pw4Q0yQ7xDjynaMFLmFTUoH6c45/X+22+Qztztj/fPvaLsNHgp5mjeDhzZYEBuNNs/1QiiejnuS/5Fwn1BJF1mj9p9rV7BU7HVRhxOqw9sxzhU2dDczCN9lfg/FLeaQj3Zod8hY50i7Cr6lNJW1ZElQxm+8gN0j5FX1cNrfs3zfQyMATxK2GqUcX4seehpwq0VaOmfTThClzh0p6VQMifVNvPQXOO0NTaP1pIkSPkI0tR9VS1fkWJpE4RNlrBCQlZ1aJmQkL6Bnr0CWwRzfPFZFA3F5xElPjL5OgprfY5OA1t2HnidgDl/MCpgFPb6b1qoy+VOc5vBgYhbVnwVH9OV7hDhA2Mqcpo1xBCwCl+7lqoB06kMxqcK0BZWAUozmeYsJkgPg+X50C98OW1++1e39ipG3fd9Spl9/uxZ3cM7sfAMYGvm/LMEoo5mJ9pO2BKgWo12IQQgDEfMwl+uwi7HDkYmH/1uc/AzpathRraN3EOzmiEVTBAVJVuT/XhnOalz9k4uL+ix0WMzeAqyOPJovWACsitK55r4D20/gRO1aGjuU7KW+PwYxwYA0xYueSYbLoX7vWNW9wR16uUVYpHPLsPUR2L+GpxXzD4PuC6Siz/QR7IjhjXXTLhCiu+xdYA4tviaNNm6WwmkNojjt8CMFts+b03/i8pA+PtsD8kCGZqPkgO2D9SRDRIcDg8uO5EvN1+ke0OZVCJrwcjOU5voaDwbW1Z4PINClA26S5NPxafMSDPJx1fn7XbZyW/I7PnCZ/evDaVEH1j/JmATG35Ju96419bBj3LKxzqjxBvLtWWH7I2sxjRuY0NovjKbJzbki2y2vbX2EQxxm2lQBZtLudgEyPabNDY1SLG5vz9dW+hQFxb/1nUBfZWR+8Fg0dYqy04zcEVoL4lGBiktVBQoyP9k2kNlF8yG3io4E619pZOPxISqTAIG+fIwWiO0DAoOY8A9N8nj0GDNV7Mbn/A4VAtyQN2cBBgl5za2CMoomb3fWZLNo6zxjHsdx7iKB68fhZFyKp9LM+Bh2sVz+LivI3EKxDXFDreRMBuf17/WZTGwqtf4A4mrAS4UfiyFOJUAHqrh/fsWnzCq9WIfOC2LIFUoPUlNOEk5c4Bvj+xwCaDSKtzxC8vCu0E0sa5fC5z3CftIsx8+G3dj9xd3oR3nfv38g2HVm5+Vju/hCJDHF0s0Ze6bYsYWZZdrNSTpZoVA33bGbIiQBLUXhBegOSwR/2dESQJTj8J6r8tYmTeDq/xWLzgvnM/0Pl15eETDEKmsFYO6lazKpW0bbFzKVL33uBLMDjz03IOHPIcYDcBp8e2I2Ta6B2XPe7r35UvkXftHf9r/1hACCCsfCsnjDFg6lSSuszT635Ll/mGcvIu9rfjNAc3AvYNSlfPT4Zok8FL9jhU4lTEGwy3QyfiefC8Hfb73aRmCgDv6/k98az7t28TEtbOuYE6pRBVG3742Ex42w1v0zb2JcCUwY+TaHghjYZyDOr79z+tQ+l0RwipwIw+p485o6GNgHz5W5U4UxQoPA+BVwlwFiPOXmkKBwi8DJtrP/So9WNENfO9qHzMgzIivB2CIh5u/d/4ODk4Py3PGLb7RCYNSb7QPXJugpuiRr073pvTzySkAFTdZ1sNAGPq++nugq4RkmXm1Z1eSa8vfP5Rc90+YSZhUwFTXdQyteyxgRSDospDDvhJN+rH4u2QBAU2VWAsysruehadAlsZolpQ7pTytR6cCnd//SBJsCvimjtig02UDQ7OBUnpx64H9rzdHklQWvWbuEAWVaKcRVhH2flzANjtEyC+H5hrisVlRJW1p2VEN91p8JHDdWdBpHcHM/W5JernoT9F7TlzS4i0HAtwdutwAz+1M7hHShdH99cOXV+33yevDfJ3uCNOeyhhxfQOmUiPuF9DySBchZO39UkUxXgr1tvtcWh4A3a1/wMkk4JVQ9b3ECR7PL4VD7tkjzaHxu2xJbjdneb67s8kli+ESHGcUACNyRR2Vp8OAPdTWttOQztRs7LLfGXA4cqz+lZ8fHbEacDHZzhJLpbmer1GVARI3jgvliD6eYeAl4Pe1kbgbi/uDxNyKKiyRx/O1YOuArgTEgD6LWHiyUy1VAmCOOMMwm0IA1WOwIWFBcdWa+QwULlAWhloVnFwHiL9TluyJ5blAy3heyPmpo1cIoh2TqmZc953w+7tVwUUL/PEvGMaqIPeauR+2siMYtLimxmYXMDWYlhMWtgq7/q5+1rNOjehN76y1h6pWu18UDXgeaHzS3wyVG2ZIAhiYUiECYIgFoREmCAIYkFIhAmCIBaERJggCGJBVtbaCeNhCIIgiCn8DxY+uN9dhqs6AAAAAElFTkSuQmC)"
      ],
      "metadata": {
        "id": "i7KDbp0VY-Tt"
      }
    },
    {
      "cell_type": "markdown",
      "source": [
        "![image.png](data:image/png;base64,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)"
      ],
      "metadata": {
        "id": "f1tJwyktY-WO"
      }
    },
    {
      "cell_type": "markdown",
      "source": [
        "마지막 문장을 제외하고, 주어는 맞췄지만, 전체적으로 번역기가 잘 작동하지 않았다."
      ],
      "metadata": {
        "id": "QCmkWNR_Y-Y3"
      }
    },
    {
      "cell_type": "markdown",
      "source": [
        "### 회고"
      ],
      "metadata": {
        "id": "qTnHLHQ1aWih"
      }
    },
    {
      "cell_type": "markdown",
      "source": [
        "이번 익스플레이션은 노드 순서에 따라 차근차근 진행하니 별 다른 어려움 없이 진행할 수 있었다. 다만.... 번역기 성능을 신경 안 썼을 때의 말이다. 번역기 성능을 올리고 싶어 여러 시도를 해봤지만, 여지 없이 실패했다.\n",
        "\n",
        "이번 주는 개인적인 사정으로 공부를 열심히 하지 못했다. 그래서 익스를 끝마치는 시점에도 전반적인 이해도가 많이 떨어지는 거 같다.\n",
        "\n",
        "이번에는 동욱님의 도움을 많이 받았다. 애로사항을 말하니 자신이 작성한 코드를 보여주며 설명해주셨다.감사하다고 말하고 싶다."
      ],
      "metadata": {
        "id": "co8BuXEzae9j"
      }
    }
  ]
}