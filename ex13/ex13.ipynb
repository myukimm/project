{
  "nbformat": 4,
  "nbformat_minor": 0,
  "metadata": {
    "colab": {
      "provenance": []
    },
    "kernelspec": {
      "name": "python3",
      "display_name": "Python 3"
    },
    "language_info": {
      "name": "python"
    },
    "widgets": {
      "application/vnd.jupyter.widget-state+json": {
        "18709763fa304a40a49bfb62e95d23b9": {
          "model_module": "@jupyter-widgets/controls",
          "model_name": "HBoxModel",
          "model_module_version": "1.5.0",
          "state": {
            "_dom_classes": [],
            "_model_module": "@jupyter-widgets/controls",
            "_model_module_version": "1.5.0",
            "_model_name": "HBoxModel",
            "_view_count": null,
            "_view_module": "@jupyter-widgets/controls",
            "_view_module_version": "1.5.0",
            "_view_name": "HBoxView",
            "box_style": "",
            "children": [
              "IPY_MODEL_81b957bc67c34bf69f539b85864afd98",
              "IPY_MODEL_99f16d6d435a42d7a12d4adca6afb2cb",
              "IPY_MODEL_8221589edbcf4ec4b50c4357020bcdb1"
            ],
            "layout": "IPY_MODEL_ae532a433cc644de9837a950033159a2"
          }
        },
        "81b957bc67c34bf69f539b85864afd98": {
          "model_module": "@jupyter-widgets/controls",
          "model_name": "HTMLModel",
          "model_module_version": "1.5.0",
          "state": {
            "_dom_classes": [],
            "_model_module": "@jupyter-widgets/controls",
            "_model_module_version": "1.5.0",
            "_model_name": "HTMLModel",
            "_view_count": null,
            "_view_module": "@jupyter-widgets/controls",
            "_view_module_version": "1.5.0",
            "_view_name": "HTMLView",
            "description": "",
            "description_tooltip": null,
            "layout": "IPY_MODEL_ac6e376a1fb849ab8ad2a50fef3d0950",
            "placeholder": "​",
            "style": "IPY_MODEL_908e70703be8467e853db03e02f5c5b8",
            "value": "100%"
          }
        },
        "99f16d6d435a42d7a12d4adca6afb2cb": {
          "model_module": "@jupyter-widgets/controls",
          "model_name": "FloatProgressModel",
          "model_module_version": "1.5.0",
          "state": {
            "_dom_classes": [],
            "_model_module": "@jupyter-widgets/controls",
            "_model_module_version": "1.5.0",
            "_model_name": "FloatProgressModel",
            "_view_count": null,
            "_view_module": "@jupyter-widgets/controls",
            "_view_module_version": "1.5.0",
            "_view_name": "ProgressView",
            "bar_style": "success",
            "description": "",
            "description_tooltip": null,
            "layout": "IPY_MODEL_64bd56e43b8f407bac2bad44e0bcb78b",
            "max": 40,
            "min": 0,
            "orientation": "horizontal",
            "style": "IPY_MODEL_f0d6df8ff8ff4e0e967c2d365d59a532",
            "value": 40
          }
        },
        "8221589edbcf4ec4b50c4357020bcdb1": {
          "model_module": "@jupyter-widgets/controls",
          "model_name": "HTMLModel",
          "model_module_version": "1.5.0",
          "state": {
            "_dom_classes": [],
            "_model_module": "@jupyter-widgets/controls",
            "_model_module_version": "1.5.0",
            "_model_name": "HTMLModel",
            "_view_count": null,
            "_view_module": "@jupyter-widgets/controls",
            "_view_module_version": "1.5.0",
            "_view_name": "HTMLView",
            "description": "",
            "description_tooltip": null,
            "layout": "IPY_MODEL_112840aad8ea46fe8720f8596a64303e",
            "placeholder": "​",
            "style": "IPY_MODEL_f07bf05e907e4d00bb6d099543a00b74",
            "value": " 40/40 [03:05&lt;00:00,  4.03s/it]"
          }
        },
        "ae532a433cc644de9837a950033159a2": {
          "model_module": "@jupyter-widgets/base",
          "model_name": "LayoutModel",
          "model_module_version": "1.2.0",
          "state": {
            "_model_module": "@jupyter-widgets/base",
            "_model_module_version": "1.2.0",
            "_model_name": "LayoutModel",
            "_view_count": null,
            "_view_module": "@jupyter-widgets/base",
            "_view_module_version": "1.2.0",
            "_view_name": "LayoutView",
            "align_content": null,
            "align_items": null,
            "align_self": null,
            "border": null,
            "bottom": null,
            "display": null,
            "flex": null,
            "flex_flow": null,
            "grid_area": null,
            "grid_auto_columns": null,
            "grid_auto_flow": null,
            "grid_auto_rows": null,
            "grid_column": null,
            "grid_gap": null,
            "grid_row": null,
            "grid_template_areas": null,
            "grid_template_columns": null,
            "grid_template_rows": null,
            "height": null,
            "justify_content": null,
            "justify_items": null,
            "left": null,
            "margin": null,
            "max_height": null,
            "max_width": null,
            "min_height": null,
            "min_width": null,
            "object_fit": null,
            "object_position": null,
            "order": null,
            "overflow": null,
            "overflow_x": null,
            "overflow_y": null,
            "padding": null,
            "right": null,
            "top": null,
            "visibility": null,
            "width": null
          }
        },
        "ac6e376a1fb849ab8ad2a50fef3d0950": {
          "model_module": "@jupyter-widgets/base",
          "model_name": "LayoutModel",
          "model_module_version": "1.2.0",
          "state": {
            "_model_module": "@jupyter-widgets/base",
            "_model_module_version": "1.2.0",
            "_model_name": "LayoutModel",
            "_view_count": null,
            "_view_module": "@jupyter-widgets/base",
            "_view_module_version": "1.2.0",
            "_view_name": "LayoutView",
            "align_content": null,
            "align_items": null,
            "align_self": null,
            "border": null,
            "bottom": null,
            "display": null,
            "flex": null,
            "flex_flow": null,
            "grid_area": null,
            "grid_auto_columns": null,
            "grid_auto_flow": null,
            "grid_auto_rows": null,
            "grid_column": null,
            "grid_gap": null,
            "grid_row": null,
            "grid_template_areas": null,
            "grid_template_columns": null,
            "grid_template_rows": null,
            "height": null,
            "justify_content": null,
            "justify_items": null,
            "left": null,
            "margin": null,
            "max_height": null,
            "max_width": null,
            "min_height": null,
            "min_width": null,
            "object_fit": null,
            "object_position": null,
            "order": null,
            "overflow": null,
            "overflow_x": null,
            "overflow_y": null,
            "padding": null,
            "right": null,
            "top": null,
            "visibility": null,
            "width": null
          }
        },
        "908e70703be8467e853db03e02f5c5b8": {
          "model_module": "@jupyter-widgets/controls",
          "model_name": "DescriptionStyleModel",
          "model_module_version": "1.5.0",
          "state": {
            "_model_module": "@jupyter-widgets/controls",
            "_model_module_version": "1.5.0",
            "_model_name": "DescriptionStyleModel",
            "_view_count": null,
            "_view_module": "@jupyter-widgets/base",
            "_view_module_version": "1.2.0",
            "_view_name": "StyleView",
            "description_width": ""
          }
        },
        "64bd56e43b8f407bac2bad44e0bcb78b": {
          "model_module": "@jupyter-widgets/base",
          "model_name": "LayoutModel",
          "model_module_version": "1.2.0",
          "state": {
            "_model_module": "@jupyter-widgets/base",
            "_model_module_version": "1.2.0",
            "_model_name": "LayoutModel",
            "_view_count": null,
            "_view_module": "@jupyter-widgets/base",
            "_view_module_version": "1.2.0",
            "_view_name": "LayoutView",
            "align_content": null,
            "align_items": null,
            "align_self": null,
            "border": null,
            "bottom": null,
            "display": null,
            "flex": null,
            "flex_flow": null,
            "grid_area": null,
            "grid_auto_columns": null,
            "grid_auto_flow": null,
            "grid_auto_rows": null,
            "grid_column": null,
            "grid_gap": null,
            "grid_row": null,
            "grid_template_areas": null,
            "grid_template_columns": null,
            "grid_template_rows": null,
            "height": null,
            "justify_content": null,
            "justify_items": null,
            "left": null,
            "margin": null,
            "max_height": null,
            "max_width": null,
            "min_height": null,
            "min_width": null,
            "object_fit": null,
            "object_position": null,
            "order": null,
            "overflow": null,
            "overflow_x": null,
            "overflow_y": null,
            "padding": null,
            "right": null,
            "top": null,
            "visibility": null,
            "width": null
          }
        },
        "f0d6df8ff8ff4e0e967c2d365d59a532": {
          "model_module": "@jupyter-widgets/controls",
          "model_name": "ProgressStyleModel",
          "model_module_version": "1.5.0",
          "state": {
            "_model_module": "@jupyter-widgets/controls",
            "_model_module_version": "1.5.0",
            "_model_name": "ProgressStyleModel",
            "_view_count": null,
            "_view_module": "@jupyter-widgets/base",
            "_view_module_version": "1.2.0",
            "_view_name": "StyleView",
            "bar_color": null,
            "description_width": ""
          }
        },
        "112840aad8ea46fe8720f8596a64303e": {
          "model_module": "@jupyter-widgets/base",
          "model_name": "LayoutModel",
          "model_module_version": "1.2.0",
          "state": {
            "_model_module": "@jupyter-widgets/base",
            "_model_module_version": "1.2.0",
            "_model_name": "LayoutModel",
            "_view_count": null,
            "_view_module": "@jupyter-widgets/base",
            "_view_module_version": "1.2.0",
            "_view_name": "LayoutView",
            "align_content": null,
            "align_items": null,
            "align_self": null,
            "border": null,
            "bottom": null,
            "display": null,
            "flex": null,
            "flex_flow": null,
            "grid_area": null,
            "grid_auto_columns": null,
            "grid_auto_flow": null,
            "grid_auto_rows": null,
            "grid_column": null,
            "grid_gap": null,
            "grid_row": null,
            "grid_template_areas": null,
            "grid_template_columns": null,
            "grid_template_rows": null,
            "height": null,
            "justify_content": null,
            "justify_items": null,
            "left": null,
            "margin": null,
            "max_height": null,
            "max_width": null,
            "min_height": null,
            "min_width": null,
            "object_fit": null,
            "object_position": null,
            "order": null,
            "overflow": null,
            "overflow_x": null,
            "overflow_y": null,
            "padding": null,
            "right": null,
            "top": null,
            "visibility": null,
            "width": null
          }
        },
        "f07bf05e907e4d00bb6d099543a00b74": {
          "model_module": "@jupyter-widgets/controls",
          "model_name": "DescriptionStyleModel",
          "model_module_version": "1.5.0",
          "state": {
            "_model_module": "@jupyter-widgets/controls",
            "_model_module_version": "1.5.0",
            "_model_name": "DescriptionStyleModel",
            "_view_count": null,
            "_view_module": "@jupyter-widgets/base",
            "_view_module_version": "1.2.0",
            "_view_name": "StyleView",
            "description_width": ""
          }
        }
      }
    }
  },
  "cells": [
    {
      "cell_type": "markdown",
      "source": [
        "# Ex13"
      ],
      "metadata": {
        "id": "wFvs3Ff_OIBx"
      }
    },
    {
      "cell_type": "code",
      "execution_count": 1,
      "metadata": {
        "colab": {
          "base_uri": "https://localhost:8080/"
        },
        "id": "ANvZxr9IOHU5",
        "outputId": "57d3ef78-0898-4dee-f9c0-899f9cbca256"
      },
      "outputs": [
        {
          "output_type": "stream",
          "name": "stdout",
          "text": [
            "Looking in indexes: https://pypi.org/simple, https://us-python.pkg.dev/colab-wheels/public/simple/\n",
            "Requirement already satisfied: pip in /usr/local/lib/python3.7/dist-packages (22.2.2)\n",
            "Requirement already satisfied: setuptools in /usr/local/lib/python3.7/dist-packages (65.3.0)\n",
            "Requirement already satisfied: wheel in /usr/local/lib/python3.7/dist-packages (0.37.1)\n",
            "\u001b[33mWARNING: Running pip as the 'root' user can result in broken permissions and conflicting behaviour with the system package manager. It is recommended to use a virtual environment instead: https://pip.pypa.io/warnings/venv\u001b[0m\u001b[33m\n",
            "\u001b[0mLooking in indexes: https://pypi.org/simple, https://us-python.pkg.dev/colab-wheels/public/simple/\n",
            "Requirement already satisfied: opencv-python in /usr/local/lib/python3.7/dist-packages (4.6.0.66)\n",
            "Requirement already satisfied: numpy>=1.14.5 in /usr/local/lib/python3.7/dist-packages (from opencv-python) (1.21.6)\n",
            "\u001b[33mWARNING: Running pip as the 'root' user can result in broken permissions and conflicting behaviour with the system package manager. It is recommended to use a virtual environment instead: https://pip.pypa.io/warnings/venv\u001b[0m\u001b[33m\n",
            "\u001b[0mLooking in indexes: https://pypi.org/simple, https://us-python.pkg.dev/colab-wheels/public/simple/\n",
            "Requirement already satisfied: implicit==0.4.8 in /usr/local/lib/python3.7/dist-packages (0.4.8)\n",
            "Requirement already satisfied: tqdm>=4.27 in /usr/local/lib/python3.7/dist-packages (from implicit==0.4.8) (4.64.0)\n",
            "Requirement already satisfied: numpy in /usr/local/lib/python3.7/dist-packages (from implicit==0.4.8) (1.21.6)\n",
            "Requirement already satisfied: scipy>=0.16 in /usr/local/lib/python3.7/dist-packages (from implicit==0.4.8) (1.7.3)\n",
            "\u001b[33mWARNING: Running pip as the 'root' user can result in broken permissions and conflicting behaviour with the system package manager. It is recommended to use a virtual environment instead: https://pip.pypa.io/warnings/venv\u001b[0m\u001b[33m\n",
            "\u001b[0m"
          ]
        }
      ],
      "source": [
        "! pip install --upgrade pip setuptools wheel\n",
        "! pip install opencv-python\n",
        "! pip install --upgrade implicit=='0.4.8'"
      ]
    },
    {
      "cell_type": "code",
      "source": [
        "from google.colab import drive\n",
        "drive.mount('/content/drive')"
      ],
      "metadata": {
        "colab": {
          "base_uri": "https://localhost:8080/"
        },
        "id": "Boo4nyb5ONOE",
        "outputId": "2574242e-0343-4bc1-9c8c-8807fbe162e7"
      },
      "execution_count": 2,
      "outputs": [
        {
          "output_type": "stream",
          "name": "stdout",
          "text": [
            "Drive already mounted at /content/drive; to attempt to forcibly remount, call drive.mount(\"/content/drive\", force_remount=True).\n"
          ]
        }
      ]
    },
    {
      "cell_type": "code",
      "source": [
        "import numpy as np\n",
        "import scipy\n",
        "import implicit\n",
        "import pandas as pd\n",
        "from implicit.als import AlternatingLeastSquares\n",
        "\n",
        "print(np.__version__)\n",
        "print(scipy.__version__)\n",
        "print(implicit.__version__)"
      ],
      "metadata": {
        "colab": {
          "base_uri": "https://localhost:8080/"
        },
        "id": "-KoH1tUHONQn",
        "outputId": "313b2685-0c07-492b-c6e5-839f669d0c10"
      },
      "execution_count": 3,
      "outputs": [
        {
          "output_type": "stream",
          "name": "stdout",
          "text": [
            "1.21.6\n",
            "1.7.3\n",
            "0.4.8\n"
          ]
        }
      ]
    },
    {
      "cell_type": "markdown",
      "source": [
        "#### 데이터 준비와 전처리"
      ],
      "metadata": {
        "id": "xxhzTVkvOIFC"
      }
    },
    {
      "cell_type": "code",
      "source": [
        "rating_file_path='/content/drive/MyDrive/ml-1m/ratings.dat'\n",
        "ratings_cols = ['user_id', 'movie_id', 'ratings', 'timestamp']\n",
        "data = pd.read_csv(rating_file_path, sep='::', names=ratings_cols, engine='python', encoding = \"ISO-8859-1\")\n",
        "orginal_data_size = len(data)\n",
        "data.head()"
      ],
      "metadata": {
        "colab": {
          "base_uri": "https://localhost:8080/",
          "height": 206
        },
        "id": "fTDvp21xONTa",
        "outputId": "7d8a594d-0957-488d-de9a-983c2000b99d"
      },
      "execution_count": 4,
      "outputs": [
        {
          "output_type": "execute_result",
          "data": {
            "text/plain": [
              "   user_id  movie_id  ratings  timestamp\n",
              "0        1      1193        5  978300760\n",
              "1        1       661        3  978302109\n",
              "2        1       914        3  978301968\n",
              "3        1      3408        4  978300275\n",
              "4        1      2355        5  978824291"
            ],
            "text/html": [
              "\n",
              "  <div id=\"df-91886929-c968-4f7a-84d4-077068f29d7d\">\n",
              "    <div class=\"colab-df-container\">\n",
              "      <div>\n",
              "<style scoped>\n",
              "    .dataframe tbody tr th:only-of-type {\n",
              "        vertical-align: middle;\n",
              "    }\n",
              "\n",
              "    .dataframe tbody tr th {\n",
              "        vertical-align: top;\n",
              "    }\n",
              "\n",
              "    .dataframe thead th {\n",
              "        text-align: right;\n",
              "    }\n",
              "</style>\n",
              "<table border=\"1\" class=\"dataframe\">\n",
              "  <thead>\n",
              "    <tr style=\"text-align: right;\">\n",
              "      <th></th>\n",
              "      <th>user_id</th>\n",
              "      <th>movie_id</th>\n",
              "      <th>ratings</th>\n",
              "      <th>timestamp</th>\n",
              "    </tr>\n",
              "  </thead>\n",
              "  <tbody>\n",
              "    <tr>\n",
              "      <th>0</th>\n",
              "      <td>1</td>\n",
              "      <td>1193</td>\n",
              "      <td>5</td>\n",
              "      <td>978300760</td>\n",
              "    </tr>\n",
              "    <tr>\n",
              "      <th>1</th>\n",
              "      <td>1</td>\n",
              "      <td>661</td>\n",
              "      <td>3</td>\n",
              "      <td>978302109</td>\n",
              "    </tr>\n",
              "    <tr>\n",
              "      <th>2</th>\n",
              "      <td>1</td>\n",
              "      <td>914</td>\n",
              "      <td>3</td>\n",
              "      <td>978301968</td>\n",
              "    </tr>\n",
              "    <tr>\n",
              "      <th>3</th>\n",
              "      <td>1</td>\n",
              "      <td>3408</td>\n",
              "      <td>4</td>\n",
              "      <td>978300275</td>\n",
              "    </tr>\n",
              "    <tr>\n",
              "      <th>4</th>\n",
              "      <td>1</td>\n",
              "      <td>2355</td>\n",
              "      <td>5</td>\n",
              "      <td>978824291</td>\n",
              "    </tr>\n",
              "  </tbody>\n",
              "</table>\n",
              "</div>\n",
              "      <button class=\"colab-df-convert\" onclick=\"convertToInteractive('df-91886929-c968-4f7a-84d4-077068f29d7d')\"\n",
              "              title=\"Convert this dataframe to an interactive table.\"\n",
              "              style=\"display:none;\">\n",
              "        \n",
              "  <svg xmlns=\"http://www.w3.org/2000/svg\" height=\"24px\"viewBox=\"0 0 24 24\"\n",
              "       width=\"24px\">\n",
              "    <path d=\"M0 0h24v24H0V0z\" fill=\"none\"/>\n",
              "    <path d=\"M18.56 5.44l.94 2.06.94-2.06 2.06-.94-2.06-.94-.94-2.06-.94 2.06-2.06.94zm-11 1L8.5 8.5l.94-2.06 2.06-.94-2.06-.94L8.5 2.5l-.94 2.06-2.06.94zm10 10l.94 2.06.94-2.06 2.06-.94-2.06-.94-.94-2.06-.94 2.06-2.06.94z\"/><path d=\"M17.41 7.96l-1.37-1.37c-.4-.4-.92-.59-1.43-.59-.52 0-1.04.2-1.43.59L10.3 9.45l-7.72 7.72c-.78.78-.78 2.05 0 2.83L4 21.41c.39.39.9.59 1.41.59.51 0 1.02-.2 1.41-.59l7.78-7.78 2.81-2.81c.8-.78.8-2.07 0-2.86zM5.41 20L4 18.59l7.72-7.72 1.47 1.35L5.41 20z\"/>\n",
              "  </svg>\n",
              "      </button>\n",
              "      \n",
              "  <style>\n",
              "    .colab-df-container {\n",
              "      display:flex;\n",
              "      flex-wrap:wrap;\n",
              "      gap: 12px;\n",
              "    }\n",
              "\n",
              "    .colab-df-convert {\n",
              "      background-color: #E8F0FE;\n",
              "      border: none;\n",
              "      border-radius: 50%;\n",
              "      cursor: pointer;\n",
              "      display: none;\n",
              "      fill: #1967D2;\n",
              "      height: 32px;\n",
              "      padding: 0 0 0 0;\n",
              "      width: 32px;\n",
              "    }\n",
              "\n",
              "    .colab-df-convert:hover {\n",
              "      background-color: #E2EBFA;\n",
              "      box-shadow: 0px 1px 2px rgba(60, 64, 67, 0.3), 0px 1px 3px 1px rgba(60, 64, 67, 0.15);\n",
              "      fill: #174EA6;\n",
              "    }\n",
              "\n",
              "    [theme=dark] .colab-df-convert {\n",
              "      background-color: #3B4455;\n",
              "      fill: #D2E3FC;\n",
              "    }\n",
              "\n",
              "    [theme=dark] .colab-df-convert:hover {\n",
              "      background-color: #434B5C;\n",
              "      box-shadow: 0px 1px 3px 1px rgba(0, 0, 0, 0.15);\n",
              "      filter: drop-shadow(0px 1px 2px rgba(0, 0, 0, 0.3));\n",
              "      fill: #FFFFFF;\n",
              "    }\n",
              "  </style>\n",
              "\n",
              "      <script>\n",
              "        const buttonEl =\n",
              "          document.querySelector('#df-91886929-c968-4f7a-84d4-077068f29d7d button.colab-df-convert');\n",
              "        buttonEl.style.display =\n",
              "          google.colab.kernel.accessAllowed ? 'block' : 'none';\n",
              "\n",
              "        async function convertToInteractive(key) {\n",
              "          const element = document.querySelector('#df-91886929-c968-4f7a-84d4-077068f29d7d');\n",
              "          const dataTable =\n",
              "            await google.colab.kernel.invokeFunction('convertToInteractive',\n",
              "                                                     [key], {});\n",
              "          if (!dataTable) return;\n",
              "\n",
              "          const docLinkHtml = 'Like what you see? Visit the ' +\n",
              "            '<a target=\"_blank\" href=https://colab.research.google.com/notebooks/data_table.ipynb>data table notebook</a>'\n",
              "            + ' to learn more about interactive tables.';\n",
              "          element.innerHTML = '';\n",
              "          dataTable['output_type'] = 'display_data';\n",
              "          await google.colab.output.renderOutput(dataTable, element);\n",
              "          const docLink = document.createElement('div');\n",
              "          docLink.innerHTML = docLinkHtml;\n",
              "          element.appendChild(docLink);\n",
              "        }\n",
              "      </script>\n",
              "    </div>\n",
              "  </div>\n",
              "  "
            ]
          },
          "metadata": {},
          "execution_count": 4
        }
      ]
    },
    {
      "cell_type": "code",
      "source": [
        "# 3점 이상만 남긴다.\n",
        "data = data[data['ratings']>=3]\n",
        "filtered_data_size = len(data)\n",
        "\n",
        "print(f'orginal_data_size: {orginal_data_size}, filtered_data_size: {filtered_data_size}')\n",
        "print(f'Ratio of Remaining Data is {filtered_data_size / orginal_data_size:.2%}')"
      ],
      "metadata": {
        "colab": {
          "base_uri": "https://localhost:8080/"
        },
        "id": "1oi1V-QIONV5",
        "outputId": "3c842553-efaa-4f65-ab63-89f9b85ac069"
      },
      "execution_count": 5,
      "outputs": [
        {
          "output_type": "stream",
          "name": "stdout",
          "text": [
            "orginal_data_size: 1000209, filtered_data_size: 836478\n",
            "Ratio of Remaining Data is 83.63%\n"
          ]
        }
      ]
    },
    {
      "cell_type": "code",
      "source": [
        "# ratings 컬럼의 이름을 counts로 바꾼다.\n",
        "data.rename(columns={'ratings':'counts'}, inplace=True)"
      ],
      "metadata": {
        "colab": {
          "base_uri": "https://localhost:8080/"
        },
        "id": "wHXpDnrdOSpG",
        "outputId": "9d2eecc4-3980-4b28-fd7f-f0a0bed8e5a7"
      },
      "execution_count": 6,
      "outputs": [
        {
          "output_type": "stream",
          "name": "stderr",
          "text": [
            "/usr/local/lib/python3.7/dist-packages/pandas/core/frame.py:5047: SettingWithCopyWarning: \n",
            "A value is trying to be set on a copy of a slice from a DataFrame\n",
            "\n",
            "See the caveats in the documentation: https://pandas.pydata.org/pandas-docs/stable/user_guide/indexing.html#returning-a-view-versus-a-copy\n",
            "  errors=errors,\n"
          ]
        }
      ]
    },
    {
      "cell_type": "code",
      "source": [
        "data['counts']"
      ],
      "metadata": {
        "colab": {
          "base_uri": "https://localhost:8080/"
        },
        "id": "klX-jjAnOSr9",
        "outputId": "e83a83d3-607c-4761-c7c5-d8f483815c90"
      },
      "execution_count": 7,
      "outputs": [
        {
          "output_type": "execute_result",
          "data": {
            "text/plain": [
              "0          5\n",
              "1          3\n",
              "2          3\n",
              "3          4\n",
              "4          5\n",
              "          ..\n",
              "1000203    3\n",
              "1000205    5\n",
              "1000206    5\n",
              "1000207    4\n",
              "1000208    4\n",
              "Name: counts, Length: 836478, dtype: int64"
            ]
          },
          "metadata": {},
          "execution_count": 7
        }
      ]
    },
    {
      "cell_type": "code",
      "source": [
        "# 영화 제목을 보기 위해 메타 데이터를 읽어 온다.\n",
        "movie_file_path='/content/drive/MyDrive/ml-1m/movies.dat'\n",
        "cols = ['movie_id', 'title', 'genre'] \n",
        "movies = pd.read_csv(movie_file_path, sep='::', names=cols, engine='python', encoding='ISO-8859-1')\n",
        "movies.head()"
      ],
      "metadata": {
        "colab": {
          "base_uri": "https://localhost:8080/",
          "height": 206
        },
        "id": "gUwIzNRGOSux",
        "outputId": "9e7d3f29-99f2-4e3e-bbfd-8cf0bc4001e0"
      },
      "execution_count": 8,
      "outputs": [
        {
          "output_type": "execute_result",
          "data": {
            "text/plain": [
              "   movie_id                               title                         genre\n",
              "0         1                    Toy Story (1995)   Animation|Children's|Comedy\n",
              "1         2                      Jumanji (1995)  Adventure|Children's|Fantasy\n",
              "2         3             Grumpier Old Men (1995)                Comedy|Romance\n",
              "3         4            Waiting to Exhale (1995)                  Comedy|Drama\n",
              "4         5  Father of the Bride Part II (1995)                        Comedy"
            ],
            "text/html": [
              "\n",
              "  <div id=\"df-e938939a-551e-4c63-9ff3-37698f5246a1\">\n",
              "    <div class=\"colab-df-container\">\n",
              "      <div>\n",
              "<style scoped>\n",
              "    .dataframe tbody tr th:only-of-type {\n",
              "        vertical-align: middle;\n",
              "    }\n",
              "\n",
              "    .dataframe tbody tr th {\n",
              "        vertical-align: top;\n",
              "    }\n",
              "\n",
              "    .dataframe thead th {\n",
              "        text-align: right;\n",
              "    }\n",
              "</style>\n",
              "<table border=\"1\" class=\"dataframe\">\n",
              "  <thead>\n",
              "    <tr style=\"text-align: right;\">\n",
              "      <th></th>\n",
              "      <th>movie_id</th>\n",
              "      <th>title</th>\n",
              "      <th>genre</th>\n",
              "    </tr>\n",
              "  </thead>\n",
              "  <tbody>\n",
              "    <tr>\n",
              "      <th>0</th>\n",
              "      <td>1</td>\n",
              "      <td>Toy Story (1995)</td>\n",
              "      <td>Animation|Children's|Comedy</td>\n",
              "    </tr>\n",
              "    <tr>\n",
              "      <th>1</th>\n",
              "      <td>2</td>\n",
              "      <td>Jumanji (1995)</td>\n",
              "      <td>Adventure|Children's|Fantasy</td>\n",
              "    </tr>\n",
              "    <tr>\n",
              "      <th>2</th>\n",
              "      <td>3</td>\n",
              "      <td>Grumpier Old Men (1995)</td>\n",
              "      <td>Comedy|Romance</td>\n",
              "    </tr>\n",
              "    <tr>\n",
              "      <th>3</th>\n",
              "      <td>4</td>\n",
              "      <td>Waiting to Exhale (1995)</td>\n",
              "      <td>Comedy|Drama</td>\n",
              "    </tr>\n",
              "    <tr>\n",
              "      <th>4</th>\n",
              "      <td>5</td>\n",
              "      <td>Father of the Bride Part II (1995)</td>\n",
              "      <td>Comedy</td>\n",
              "    </tr>\n",
              "  </tbody>\n",
              "</table>\n",
              "</div>\n",
              "      <button class=\"colab-df-convert\" onclick=\"convertToInteractive('df-e938939a-551e-4c63-9ff3-37698f5246a1')\"\n",
              "              title=\"Convert this dataframe to an interactive table.\"\n",
              "              style=\"display:none;\">\n",
              "        \n",
              "  <svg xmlns=\"http://www.w3.org/2000/svg\" height=\"24px\"viewBox=\"0 0 24 24\"\n",
              "       width=\"24px\">\n",
              "    <path d=\"M0 0h24v24H0V0z\" fill=\"none\"/>\n",
              "    <path d=\"M18.56 5.44l.94 2.06.94-2.06 2.06-.94-2.06-.94-.94-2.06-.94 2.06-2.06.94zm-11 1L8.5 8.5l.94-2.06 2.06-.94-2.06-.94L8.5 2.5l-.94 2.06-2.06.94zm10 10l.94 2.06.94-2.06 2.06-.94-2.06-.94-.94-2.06-.94 2.06-2.06.94z\"/><path d=\"M17.41 7.96l-1.37-1.37c-.4-.4-.92-.59-1.43-.59-.52 0-1.04.2-1.43.59L10.3 9.45l-7.72 7.72c-.78.78-.78 2.05 0 2.83L4 21.41c.39.39.9.59 1.41.59.51 0 1.02-.2 1.41-.59l7.78-7.78 2.81-2.81c.8-.78.8-2.07 0-2.86zM5.41 20L4 18.59l7.72-7.72 1.47 1.35L5.41 20z\"/>\n",
              "  </svg>\n",
              "      </button>\n",
              "      \n",
              "  <style>\n",
              "    .colab-df-container {\n",
              "      display:flex;\n",
              "      flex-wrap:wrap;\n",
              "      gap: 12px;\n",
              "    }\n",
              "\n",
              "    .colab-df-convert {\n",
              "      background-color: #E8F0FE;\n",
              "      border: none;\n",
              "      border-radius: 50%;\n",
              "      cursor: pointer;\n",
              "      display: none;\n",
              "      fill: #1967D2;\n",
              "      height: 32px;\n",
              "      padding: 0 0 0 0;\n",
              "      width: 32px;\n",
              "    }\n",
              "\n",
              "    .colab-df-convert:hover {\n",
              "      background-color: #E2EBFA;\n",
              "      box-shadow: 0px 1px 2px rgba(60, 64, 67, 0.3), 0px 1px 3px 1px rgba(60, 64, 67, 0.15);\n",
              "      fill: #174EA6;\n",
              "    }\n",
              "\n",
              "    [theme=dark] .colab-df-convert {\n",
              "      background-color: #3B4455;\n",
              "      fill: #D2E3FC;\n",
              "    }\n",
              "\n",
              "    [theme=dark] .colab-df-convert:hover {\n",
              "      background-color: #434B5C;\n",
              "      box-shadow: 0px 1px 3px 1px rgba(0, 0, 0, 0.15);\n",
              "      filter: drop-shadow(0px 1px 2px rgba(0, 0, 0, 0.3));\n",
              "      fill: #FFFFFF;\n",
              "    }\n",
              "  </style>\n",
              "\n",
              "      <script>\n",
              "        const buttonEl =\n",
              "          document.querySelector('#df-e938939a-551e-4c63-9ff3-37698f5246a1 button.colab-df-convert');\n",
              "        buttonEl.style.display =\n",
              "          google.colab.kernel.accessAllowed ? 'block' : 'none';\n",
              "\n",
              "        async function convertToInteractive(key) {\n",
              "          const element = document.querySelector('#df-e938939a-551e-4c63-9ff3-37698f5246a1');\n",
              "          const dataTable =\n",
              "            await google.colab.kernel.invokeFunction('convertToInteractive',\n",
              "                                                     [key], {});\n",
              "          if (!dataTable) return;\n",
              "\n",
              "          const docLinkHtml = 'Like what you see? Visit the ' +\n",
              "            '<a target=\"_blank\" href=https://colab.research.google.com/notebooks/data_table.ipynb>data table notebook</a>'\n",
              "            + ' to learn more about interactive tables.';\n",
              "          element.innerHTML = '';\n",
              "          dataTable['output_type'] = 'display_data';\n",
              "          await google.colab.output.renderOutput(dataTable, element);\n",
              "          const docLink = document.createElement('div');\n",
              "          docLink.innerHTML = docLinkHtml;\n",
              "          element.appendChild(docLink);\n",
              "        }\n",
              "      </script>\n",
              "    </div>\n",
              "  </div>\n",
              "  "
            ]
          },
          "metadata": {},
          "execution_count": 8
        }
      ]
    },
    {
      "cell_type": "code",
      "source": [
        "# 인기 많은 영화\n",
        "movie_count = data.groupby('movie_id')['counts'].count()\n",
        "movie_count.sort_values(ascending=False).head(30)"
      ],
      "metadata": {
        "colab": {
          "base_uri": "https://localhost:8080/"
        },
        "id": "h2vOEQl5OSxF",
        "outputId": "2ad502eb-9ae4-42f0-bc22-20a2f10736d1"
      },
      "execution_count": 9,
      "outputs": [
        {
          "output_type": "execute_result",
          "data": {
            "text/plain": [
              "movie_id\n",
              "2858    3211\n",
              "260     2910\n",
              "1196    2885\n",
              "1210    2716\n",
              "2028    2561\n",
              "589     2509\n",
              "593     2498\n",
              "1198    2473\n",
              "1270    2460\n",
              "2571    2434\n",
              "480     2413\n",
              "2762    2385\n",
              "608     2371\n",
              "110     2314\n",
              "1580    2297\n",
              "527     2257\n",
              "1197    2252\n",
              "2396    2213\n",
              "1617    2210\n",
              "318     2194\n",
              "858     2167\n",
              "1265    2121\n",
              "1097    2102\n",
              "2997    2066\n",
              "2716    2051\n",
              "296     2030\n",
              "356     2022\n",
              "1240    2019\n",
              "1       2000\n",
              "457     1941\n",
              "Name: counts, dtype: int64"
            ]
          },
          "metadata": {},
          "execution_count": 9
        }
      ]
    },
    {
      "cell_type": "markdown",
      "source": [
        "영화 id 2858이 제일 인기가 많았다. 그렇다면 이 영화의 제목은 무엇일까?"
      ],
      "metadata": {
        "id": "_12VwNQNObOH"
      }
    },
    {
      "cell_type": "code",
      "source": [
        "movies.head(2790)"
      ],
      "metadata": {
        "colab": {
          "base_uri": "https://localhost:8080/",
          "height": 424
        },
        "id": "xhzaqKy4OW1k",
        "outputId": "8a6ebc0b-278e-4bcc-e631-38e4283af27f"
      },
      "execution_count": 10,
      "outputs": [
        {
          "output_type": "execute_result",
          "data": {
            "text/plain": [
              "      movie_id                               title  \\\n",
              "0            1                    Toy Story (1995)   \n",
              "1            2                      Jumanji (1995)   \n",
              "2            3             Grumpier Old Men (1995)   \n",
              "3            4            Waiting to Exhale (1995)   \n",
              "4            5  Father of the Bride Part II (1995)   \n",
              "...        ...                                 ...   \n",
              "2785      2854  Don't Look in the Basement! (1973)   \n",
              "2786      2855                   Nightmares (1983)   \n",
              "2787      2856           I Saw What You Did (1965)   \n",
              "2788      2857             Yellow Submarine (1968)   \n",
              "2789      2858              American Beauty (1999)   \n",
              "\n",
              "                             genre  \n",
              "0      Animation|Children's|Comedy  \n",
              "1     Adventure|Children's|Fantasy  \n",
              "2                   Comedy|Romance  \n",
              "3                     Comedy|Drama  \n",
              "4                           Comedy  \n",
              "...                            ...  \n",
              "2785                        Horror  \n",
              "2786                        Horror  \n",
              "2787                      Thriller  \n",
              "2788             Animation|Musical  \n",
              "2789                  Comedy|Drama  \n",
              "\n",
              "[2790 rows x 3 columns]"
            ],
            "text/html": [
              "\n",
              "  <div id=\"df-a3337eee-7cf4-4cac-b51a-01cfe49f8ff9\">\n",
              "    <div class=\"colab-df-container\">\n",
              "      <div>\n",
              "<style scoped>\n",
              "    .dataframe tbody tr th:only-of-type {\n",
              "        vertical-align: middle;\n",
              "    }\n",
              "\n",
              "    .dataframe tbody tr th {\n",
              "        vertical-align: top;\n",
              "    }\n",
              "\n",
              "    .dataframe thead th {\n",
              "        text-align: right;\n",
              "    }\n",
              "</style>\n",
              "<table border=\"1\" class=\"dataframe\">\n",
              "  <thead>\n",
              "    <tr style=\"text-align: right;\">\n",
              "      <th></th>\n",
              "      <th>movie_id</th>\n",
              "      <th>title</th>\n",
              "      <th>genre</th>\n",
              "    </tr>\n",
              "  </thead>\n",
              "  <tbody>\n",
              "    <tr>\n",
              "      <th>0</th>\n",
              "      <td>1</td>\n",
              "      <td>Toy Story (1995)</td>\n",
              "      <td>Animation|Children's|Comedy</td>\n",
              "    </tr>\n",
              "    <tr>\n",
              "      <th>1</th>\n",
              "      <td>2</td>\n",
              "      <td>Jumanji (1995)</td>\n",
              "      <td>Adventure|Children's|Fantasy</td>\n",
              "    </tr>\n",
              "    <tr>\n",
              "      <th>2</th>\n",
              "      <td>3</td>\n",
              "      <td>Grumpier Old Men (1995)</td>\n",
              "      <td>Comedy|Romance</td>\n",
              "    </tr>\n",
              "    <tr>\n",
              "      <th>3</th>\n",
              "      <td>4</td>\n",
              "      <td>Waiting to Exhale (1995)</td>\n",
              "      <td>Comedy|Drama</td>\n",
              "    </tr>\n",
              "    <tr>\n",
              "      <th>4</th>\n",
              "      <td>5</td>\n",
              "      <td>Father of the Bride Part II (1995)</td>\n",
              "      <td>Comedy</td>\n",
              "    </tr>\n",
              "    <tr>\n",
              "      <th>...</th>\n",
              "      <td>...</td>\n",
              "      <td>...</td>\n",
              "      <td>...</td>\n",
              "    </tr>\n",
              "    <tr>\n",
              "      <th>2785</th>\n",
              "      <td>2854</td>\n",
              "      <td>Don't Look in the Basement! (1973)</td>\n",
              "      <td>Horror</td>\n",
              "    </tr>\n",
              "    <tr>\n",
              "      <th>2786</th>\n",
              "      <td>2855</td>\n",
              "      <td>Nightmares (1983)</td>\n",
              "      <td>Horror</td>\n",
              "    </tr>\n",
              "    <tr>\n",
              "      <th>2787</th>\n",
              "      <td>2856</td>\n",
              "      <td>I Saw What You Did (1965)</td>\n",
              "      <td>Thriller</td>\n",
              "    </tr>\n",
              "    <tr>\n",
              "      <th>2788</th>\n",
              "      <td>2857</td>\n",
              "      <td>Yellow Submarine (1968)</td>\n",
              "      <td>Animation|Musical</td>\n",
              "    </tr>\n",
              "    <tr>\n",
              "      <th>2789</th>\n",
              "      <td>2858</td>\n",
              "      <td>American Beauty (1999)</td>\n",
              "      <td>Comedy|Drama</td>\n",
              "    </tr>\n",
              "  </tbody>\n",
              "</table>\n",
              "<p>2790 rows × 3 columns</p>\n",
              "</div>\n",
              "      <button class=\"colab-df-convert\" onclick=\"convertToInteractive('df-a3337eee-7cf4-4cac-b51a-01cfe49f8ff9')\"\n",
              "              title=\"Convert this dataframe to an interactive table.\"\n",
              "              style=\"display:none;\">\n",
              "        \n",
              "  <svg xmlns=\"http://www.w3.org/2000/svg\" height=\"24px\"viewBox=\"0 0 24 24\"\n",
              "       width=\"24px\">\n",
              "    <path d=\"M0 0h24v24H0V0z\" fill=\"none\"/>\n",
              "    <path d=\"M18.56 5.44l.94 2.06.94-2.06 2.06-.94-2.06-.94-.94-2.06-.94 2.06-2.06.94zm-11 1L8.5 8.5l.94-2.06 2.06-.94-2.06-.94L8.5 2.5l-.94 2.06-2.06.94zm10 10l.94 2.06.94-2.06 2.06-.94-2.06-.94-.94-2.06-.94 2.06-2.06.94z\"/><path d=\"M17.41 7.96l-1.37-1.37c-.4-.4-.92-.59-1.43-.59-.52 0-1.04.2-1.43.59L10.3 9.45l-7.72 7.72c-.78.78-.78 2.05 0 2.83L4 21.41c.39.39.9.59 1.41.59.51 0 1.02-.2 1.41-.59l7.78-7.78 2.81-2.81c.8-.78.8-2.07 0-2.86zM5.41 20L4 18.59l7.72-7.72 1.47 1.35L5.41 20z\"/>\n",
              "  </svg>\n",
              "      </button>\n",
              "      \n",
              "  <style>\n",
              "    .colab-df-container {\n",
              "      display:flex;\n",
              "      flex-wrap:wrap;\n",
              "      gap: 12px;\n",
              "    }\n",
              "\n",
              "    .colab-df-convert {\n",
              "      background-color: #E8F0FE;\n",
              "      border: none;\n",
              "      border-radius: 50%;\n",
              "      cursor: pointer;\n",
              "      display: none;\n",
              "      fill: #1967D2;\n",
              "      height: 32px;\n",
              "      padding: 0 0 0 0;\n",
              "      width: 32px;\n",
              "    }\n",
              "\n",
              "    .colab-df-convert:hover {\n",
              "      background-color: #E2EBFA;\n",
              "      box-shadow: 0px 1px 2px rgba(60, 64, 67, 0.3), 0px 1px 3px 1px rgba(60, 64, 67, 0.15);\n",
              "      fill: #174EA6;\n",
              "    }\n",
              "\n",
              "    [theme=dark] .colab-df-convert {\n",
              "      background-color: #3B4455;\n",
              "      fill: #D2E3FC;\n",
              "    }\n",
              "\n",
              "    [theme=dark] .colab-df-convert:hover {\n",
              "      background-color: #434B5C;\n",
              "      box-shadow: 0px 1px 3px 1px rgba(0, 0, 0, 0.15);\n",
              "      filter: drop-shadow(0px 1px 2px rgba(0, 0, 0, 0.3));\n",
              "      fill: #FFFFFF;\n",
              "    }\n",
              "  </style>\n",
              "\n",
              "      <script>\n",
              "        const buttonEl =\n",
              "          document.querySelector('#df-a3337eee-7cf4-4cac-b51a-01cfe49f8ff9 button.colab-df-convert');\n",
              "        buttonEl.style.display =\n",
              "          google.colab.kernel.accessAllowed ? 'block' : 'none';\n",
              "\n",
              "        async function convertToInteractive(key) {\n",
              "          const element = document.querySelector('#df-a3337eee-7cf4-4cac-b51a-01cfe49f8ff9');\n",
              "          const dataTable =\n",
              "            await google.colab.kernel.invokeFunction('convertToInteractive',\n",
              "                                                     [key], {});\n",
              "          if (!dataTable) return;\n",
              "\n",
              "          const docLinkHtml = 'Like what you see? Visit the ' +\n",
              "            '<a target=\"_blank\" href=https://colab.research.google.com/notebooks/data_table.ipynb>data table notebook</a>'\n",
              "            + ' to learn more about interactive tables.';\n",
              "          element.innerHTML = '';\n",
              "          dataTable['output_type'] = 'display_data';\n",
              "          await google.colab.output.renderOutput(dataTable, element);\n",
              "          const docLink = document.createElement('div');\n",
              "          docLink.innerHTML = docLinkHtml;\n",
              "          element.appendChild(docLink);\n",
              "        }\n",
              "      </script>\n",
              "    </div>\n",
              "  </div>\n",
              "  "
            ]
          },
          "metadata": {},
          "execution_count": 10
        }
      ]
    },
    {
      "cell_type": "markdown",
      "source": [
        "제일 인기가 많았던 영화는 'American Beauty'라는 것을 알 수 있다. "
      ],
      "metadata": {
        "id": "OOlcog2zOd0l"
      }
    },
    {
      "cell_type": "markdown",
      "source": [
        "영화를 추천 받기 위해서는\n",
        "\n",
        "사용자 초기 정보 값을 입력해야 한다.\n",
        "\n",
        "예를 들어, 넷플릭스 가입하는 동시 선호하는 영화를 몇 개 고르는 것과 같은 것이다."
      ],
      "metadata": {
        "id": "t5mLjdygOeXs"
      }
    },
    {
      "cell_type": "markdown",
      "source": [
        "'Back to the Future (1985)','Notting Hill (1999)', 'Toy Story (1995)', 'Titanic (1997)','Negotiator, The (1998)'를 좋아하는 영화로 선택\n"
      ],
      "metadata": {
        "id": "spnZb4kAOiU2"
      }
    },
    {
      "cell_type": "code",
      "source": [
        "# Back_to_the_Futre, Toy_Story, Negotiation, Titanic, Notting_Hill\n",
        "\n",
        "my_favorite = [1270, 2671, 3404, 2058, 1]\n",
        "my_list = pd.DataFrame({'user_id': [9999]*5, 'movie_id': my_favorite, 'counts': [5]*5})\n",
        "data = data.append(my_list)\n",
        "data.tail(10)"
      ],
      "metadata": {
        "colab": {
          "base_uri": "https://localhost:8080/",
          "height": 363
        },
        "id": "0qQbpa7_OW63",
        "outputId": "d48773c3-4474-46ed-f26a-7a978bc607e9"
      },
      "execution_count": 11,
      "outputs": [
        {
          "output_type": "execute_result",
          "data": {
            "text/plain": [
              "         user_id  movie_id  counts    timestamp\n",
              "1000203     6040      1090       3  956715518.0\n",
              "1000205     6040      1094       5  956704887.0\n",
              "1000206     6040       562       5  956704746.0\n",
              "1000207     6040      1096       4  956715648.0\n",
              "1000208     6040      1097       4  956715569.0\n",
              "0           9999      1270       5          NaN\n",
              "1           9999      2671       5          NaN\n",
              "2           9999      3404       5          NaN\n",
              "3           9999      2058       5          NaN\n",
              "4           9999         1       5          NaN"
            ],
            "text/html": [
              "\n",
              "  <div id=\"df-00fb7177-7543-433d-b6d8-28a42394e771\">\n",
              "    <div class=\"colab-df-container\">\n",
              "      <div>\n",
              "<style scoped>\n",
              "    .dataframe tbody tr th:only-of-type {\n",
              "        vertical-align: middle;\n",
              "    }\n",
              "\n",
              "    .dataframe tbody tr th {\n",
              "        vertical-align: top;\n",
              "    }\n",
              "\n",
              "    .dataframe thead th {\n",
              "        text-align: right;\n",
              "    }\n",
              "</style>\n",
              "<table border=\"1\" class=\"dataframe\">\n",
              "  <thead>\n",
              "    <tr style=\"text-align: right;\">\n",
              "      <th></th>\n",
              "      <th>user_id</th>\n",
              "      <th>movie_id</th>\n",
              "      <th>counts</th>\n",
              "      <th>timestamp</th>\n",
              "    </tr>\n",
              "  </thead>\n",
              "  <tbody>\n",
              "    <tr>\n",
              "      <th>1000203</th>\n",
              "      <td>6040</td>\n",
              "      <td>1090</td>\n",
              "      <td>3</td>\n",
              "      <td>956715518.0</td>\n",
              "    </tr>\n",
              "    <tr>\n",
              "      <th>1000205</th>\n",
              "      <td>6040</td>\n",
              "      <td>1094</td>\n",
              "      <td>5</td>\n",
              "      <td>956704887.0</td>\n",
              "    </tr>\n",
              "    <tr>\n",
              "      <th>1000206</th>\n",
              "      <td>6040</td>\n",
              "      <td>562</td>\n",
              "      <td>5</td>\n",
              "      <td>956704746.0</td>\n",
              "    </tr>\n",
              "    <tr>\n",
              "      <th>1000207</th>\n",
              "      <td>6040</td>\n",
              "      <td>1096</td>\n",
              "      <td>4</td>\n",
              "      <td>956715648.0</td>\n",
              "    </tr>\n",
              "    <tr>\n",
              "      <th>1000208</th>\n",
              "      <td>6040</td>\n",
              "      <td>1097</td>\n",
              "      <td>4</td>\n",
              "      <td>956715569.0</td>\n",
              "    </tr>\n",
              "    <tr>\n",
              "      <th>0</th>\n",
              "      <td>9999</td>\n",
              "      <td>1270</td>\n",
              "      <td>5</td>\n",
              "      <td>NaN</td>\n",
              "    </tr>\n",
              "    <tr>\n",
              "      <th>1</th>\n",
              "      <td>9999</td>\n",
              "      <td>2671</td>\n",
              "      <td>5</td>\n",
              "      <td>NaN</td>\n",
              "    </tr>\n",
              "    <tr>\n",
              "      <th>2</th>\n",
              "      <td>9999</td>\n",
              "      <td>3404</td>\n",
              "      <td>5</td>\n",
              "      <td>NaN</td>\n",
              "    </tr>\n",
              "    <tr>\n",
              "      <th>3</th>\n",
              "      <td>9999</td>\n",
              "      <td>2058</td>\n",
              "      <td>5</td>\n",
              "      <td>NaN</td>\n",
              "    </tr>\n",
              "    <tr>\n",
              "      <th>4</th>\n",
              "      <td>9999</td>\n",
              "      <td>1</td>\n",
              "      <td>5</td>\n",
              "      <td>NaN</td>\n",
              "    </tr>\n",
              "  </tbody>\n",
              "</table>\n",
              "</div>\n",
              "      <button class=\"colab-df-convert\" onclick=\"convertToInteractive('df-00fb7177-7543-433d-b6d8-28a42394e771')\"\n",
              "              title=\"Convert this dataframe to an interactive table.\"\n",
              "              style=\"display:none;\">\n",
              "        \n",
              "  <svg xmlns=\"http://www.w3.org/2000/svg\" height=\"24px\"viewBox=\"0 0 24 24\"\n",
              "       width=\"24px\">\n",
              "    <path d=\"M0 0h24v24H0V0z\" fill=\"none\"/>\n",
              "    <path d=\"M18.56 5.44l.94 2.06.94-2.06 2.06-.94-2.06-.94-.94-2.06-.94 2.06-2.06.94zm-11 1L8.5 8.5l.94-2.06 2.06-.94-2.06-.94L8.5 2.5l-.94 2.06-2.06.94zm10 10l.94 2.06.94-2.06 2.06-.94-2.06-.94-.94-2.06-.94 2.06-2.06.94z\"/><path d=\"M17.41 7.96l-1.37-1.37c-.4-.4-.92-.59-1.43-.59-.52 0-1.04.2-1.43.59L10.3 9.45l-7.72 7.72c-.78.78-.78 2.05 0 2.83L4 21.41c.39.39.9.59 1.41.59.51 0 1.02-.2 1.41-.59l7.78-7.78 2.81-2.81c.8-.78.8-2.07 0-2.86zM5.41 20L4 18.59l7.72-7.72 1.47 1.35L5.41 20z\"/>\n",
              "  </svg>\n",
              "      </button>\n",
              "      \n",
              "  <style>\n",
              "    .colab-df-container {\n",
              "      display:flex;\n",
              "      flex-wrap:wrap;\n",
              "      gap: 12px;\n",
              "    }\n",
              "\n",
              "    .colab-df-convert {\n",
              "      background-color: #E8F0FE;\n",
              "      border: none;\n",
              "      border-radius: 50%;\n",
              "      cursor: pointer;\n",
              "      display: none;\n",
              "      fill: #1967D2;\n",
              "      height: 32px;\n",
              "      padding: 0 0 0 0;\n",
              "      width: 32px;\n",
              "    }\n",
              "\n",
              "    .colab-df-convert:hover {\n",
              "      background-color: #E2EBFA;\n",
              "      box-shadow: 0px 1px 2px rgba(60, 64, 67, 0.3), 0px 1px 3px 1px rgba(60, 64, 67, 0.15);\n",
              "      fill: #174EA6;\n",
              "    }\n",
              "\n",
              "    [theme=dark] .colab-df-convert {\n",
              "      background-color: #3B4455;\n",
              "      fill: #D2E3FC;\n",
              "    }\n",
              "\n",
              "    [theme=dark] .colab-df-convert:hover {\n",
              "      background-color: #434B5C;\n",
              "      box-shadow: 0px 1px 3px 1px rgba(0, 0, 0, 0.15);\n",
              "      filter: drop-shadow(0px 1px 2px rgba(0, 0, 0, 0.3));\n",
              "      fill: #FFFFFF;\n",
              "    }\n",
              "  </style>\n",
              "\n",
              "      <script>\n",
              "        const buttonEl =\n",
              "          document.querySelector('#df-00fb7177-7543-433d-b6d8-28a42394e771 button.colab-df-convert');\n",
              "        buttonEl.style.display =\n",
              "          google.colab.kernel.accessAllowed ? 'block' : 'none';\n",
              "\n",
              "        async function convertToInteractive(key) {\n",
              "          const element = document.querySelector('#df-00fb7177-7543-433d-b6d8-28a42394e771');\n",
              "          const dataTable =\n",
              "            await google.colab.kernel.invokeFunction('convertToInteractive',\n",
              "                                                     [key], {});\n",
              "          if (!dataTable) return;\n",
              "\n",
              "          const docLinkHtml = 'Like what you see? Visit the ' +\n",
              "            '<a target=\"_blank\" href=https://colab.research.google.com/notebooks/data_table.ipynb>data table notebook</a>'\n",
              "            + ' to learn more about interactive tables.';\n",
              "          element.innerHTML = '';\n",
              "          dataTable['output_type'] = 'display_data';\n",
              "          await google.colab.output.renderOutput(dataTable, element);\n",
              "          const docLink = document.createElement('div');\n",
              "          docLink.innerHTML = docLinkHtml;\n",
              "          element.appendChild(docLink);\n",
              "        }\n",
              "      </script>\n",
              "    </div>\n",
              "  </div>\n",
              "  "
            ]
          },
          "metadata": {},
          "execution_count": 11
        }
      ]
    },
    {
      "cell_type": "markdown",
      "source": [
        "데이터의 쉽고 용이한 관리를 위해 indexing을 해주겠다."
      ],
      "metadata": {
        "id": "D-XtIcS0OlOF"
      }
    },
    {
      "cell_type": "code",
      "source": [
        "# 고유한 유저, 영화를 찾아내는 코드\n",
        "user_unique = data['user_id'].unique()\n",
        "movie_unique = data['movie_id'].unique()\n",
        "\n",
        "# 유저, 영화 indexing 하는 코드 idx는 index의 약자이다.\n",
        "user_to_idx = {v:k for k,v in enumerate(user_unique)}\n",
        "movie_to_idx = {v:k for k,v in enumerate(movie_unique)}\n",
        "\n",
        "# 인덱싱이 잘 되었는지 확인해 보자. \n",
        "print(user_to_idx[9999]) \n",
        "print(movie_to_idx[1])"
      ],
      "metadata": {
        "colab": {
          "base_uri": "https://localhost:8080/"
        },
        "id": "xnKG83eZOW-Q",
        "outputId": "d1e67b4f-086b-4546-932a-e3f8d40ac6eb"
      },
      "execution_count": 12,
      "outputs": [
        {
          "output_type": "stream",
          "name": "stdout",
          "text": [
            "6039\n",
            "40\n"
          ]
        }
      ]
    },
    {
      "cell_type": "code",
      "source": [
        "# user_to_idx.get을 통해 user_id 컬럼의 모든 값을 인덱싱한 Series를 구해 보자. \n",
        "# 혹시 정상적으로 인덱싱되지 않은 row가 있다면 인덱스가 NaN이 될 테니 dropna()로 제거한다. \n",
        "temp_user_data = data['user_id'].map(user_to_idx.get).dropna()\n",
        "if len(temp_user_data) == len(data):   # 모든 row가 정상적으로 인덱싱되었다면\n",
        "    print('user_id column indexing OK!!')\n",
        "    data['user_id'] = temp_user_data   # data['user_id']을 인덱싱된 Series로 교체해준다. \n",
        "else:\n",
        "    print('user_id column indexing Fail!!')\n",
        "\n",
        "# artist_to_idx을 통해 artist 컬럼도 동일한 방식으로 인덱싱해준다. \n",
        "temp_movie_data = data['movie_id'].map(movie_to_idx.get).dropna()\n",
        "if len(temp_movie_data) == len(data):\n",
        "    print('movie column indexing OK!!')\n",
        "    data['movie_id'] = temp_movie_data\n",
        "else:\n",
        "    print('movie column indexing Fail!!')\n",
        "\n",
        "data"
      ],
      "metadata": {
        "colab": {
          "base_uri": "https://localhost:8080/",
          "height": 460
        },
        "id": "fvveqmfWOXEB",
        "outputId": "ea940659-dcae-4f37-a0be-d7164a5adc6c"
      },
      "execution_count": 13,
      "outputs": [
        {
          "output_type": "stream",
          "name": "stdout",
          "text": [
            "user_id column indexing OK!!\n",
            "movie column indexing OK!!\n"
          ]
        },
        {
          "output_type": "execute_result",
          "data": {
            "text/plain": [
              "    user_id  movie_id  counts    timestamp\n",
              "0         0         0       5  978300760.0\n",
              "1         0         1       3  978302109.0\n",
              "2         0         2       3  978301968.0\n",
              "3         0         3       4  978300275.0\n",
              "4         0         4       5  978824291.0\n",
              "..      ...       ...     ...          ...\n",
              "0      6039        22       5          NaN\n",
              "1      6039      1151       5          NaN\n",
              "2      6039      1626       5          NaN\n",
              "3      6039       791       5          NaN\n",
              "4      6039        40       5          NaN\n",
              "\n",
              "[836483 rows x 4 columns]"
            ],
            "text/html": [
              "\n",
              "  <div id=\"df-1a67c55f-541f-4dd2-a6fc-c7da0e8a0d8c\">\n",
              "    <div class=\"colab-df-container\">\n",
              "      <div>\n",
              "<style scoped>\n",
              "    .dataframe tbody tr th:only-of-type {\n",
              "        vertical-align: middle;\n",
              "    }\n",
              "\n",
              "    .dataframe tbody tr th {\n",
              "        vertical-align: top;\n",
              "    }\n",
              "\n",
              "    .dataframe thead th {\n",
              "        text-align: right;\n",
              "    }\n",
              "</style>\n",
              "<table border=\"1\" class=\"dataframe\">\n",
              "  <thead>\n",
              "    <tr style=\"text-align: right;\">\n",
              "      <th></th>\n",
              "      <th>user_id</th>\n",
              "      <th>movie_id</th>\n",
              "      <th>counts</th>\n",
              "      <th>timestamp</th>\n",
              "    </tr>\n",
              "  </thead>\n",
              "  <tbody>\n",
              "    <tr>\n",
              "      <th>0</th>\n",
              "      <td>0</td>\n",
              "      <td>0</td>\n",
              "      <td>5</td>\n",
              "      <td>978300760.0</td>\n",
              "    </tr>\n",
              "    <tr>\n",
              "      <th>1</th>\n",
              "      <td>0</td>\n",
              "      <td>1</td>\n",
              "      <td>3</td>\n",
              "      <td>978302109.0</td>\n",
              "    </tr>\n",
              "    <tr>\n",
              "      <th>2</th>\n",
              "      <td>0</td>\n",
              "      <td>2</td>\n",
              "      <td>3</td>\n",
              "      <td>978301968.0</td>\n",
              "    </tr>\n",
              "    <tr>\n",
              "      <th>3</th>\n",
              "      <td>0</td>\n",
              "      <td>3</td>\n",
              "      <td>4</td>\n",
              "      <td>978300275.0</td>\n",
              "    </tr>\n",
              "    <tr>\n",
              "      <th>4</th>\n",
              "      <td>0</td>\n",
              "      <td>4</td>\n",
              "      <td>5</td>\n",
              "      <td>978824291.0</td>\n",
              "    </tr>\n",
              "    <tr>\n",
              "      <th>...</th>\n",
              "      <td>...</td>\n",
              "      <td>...</td>\n",
              "      <td>...</td>\n",
              "      <td>...</td>\n",
              "    </tr>\n",
              "    <tr>\n",
              "      <th>0</th>\n",
              "      <td>6039</td>\n",
              "      <td>22</td>\n",
              "      <td>5</td>\n",
              "      <td>NaN</td>\n",
              "    </tr>\n",
              "    <tr>\n",
              "      <th>1</th>\n",
              "      <td>6039</td>\n",
              "      <td>1151</td>\n",
              "      <td>5</td>\n",
              "      <td>NaN</td>\n",
              "    </tr>\n",
              "    <tr>\n",
              "      <th>2</th>\n",
              "      <td>6039</td>\n",
              "      <td>1626</td>\n",
              "      <td>5</td>\n",
              "      <td>NaN</td>\n",
              "    </tr>\n",
              "    <tr>\n",
              "      <th>3</th>\n",
              "      <td>6039</td>\n",
              "      <td>791</td>\n",
              "      <td>5</td>\n",
              "      <td>NaN</td>\n",
              "    </tr>\n",
              "    <tr>\n",
              "      <th>4</th>\n",
              "      <td>6039</td>\n",
              "      <td>40</td>\n",
              "      <td>5</td>\n",
              "      <td>NaN</td>\n",
              "    </tr>\n",
              "  </tbody>\n",
              "</table>\n",
              "<p>836483 rows × 4 columns</p>\n",
              "</div>\n",
              "      <button class=\"colab-df-convert\" onclick=\"convertToInteractive('df-1a67c55f-541f-4dd2-a6fc-c7da0e8a0d8c')\"\n",
              "              title=\"Convert this dataframe to an interactive table.\"\n",
              "              style=\"display:none;\">\n",
              "        \n",
              "  <svg xmlns=\"http://www.w3.org/2000/svg\" height=\"24px\"viewBox=\"0 0 24 24\"\n",
              "       width=\"24px\">\n",
              "    <path d=\"M0 0h24v24H0V0z\" fill=\"none\"/>\n",
              "    <path d=\"M18.56 5.44l.94 2.06.94-2.06 2.06-.94-2.06-.94-.94-2.06-.94 2.06-2.06.94zm-11 1L8.5 8.5l.94-2.06 2.06-.94-2.06-.94L8.5 2.5l-.94 2.06-2.06.94zm10 10l.94 2.06.94-2.06 2.06-.94-2.06-.94-.94-2.06-.94 2.06-2.06.94z\"/><path d=\"M17.41 7.96l-1.37-1.37c-.4-.4-.92-.59-1.43-.59-.52 0-1.04.2-1.43.59L10.3 9.45l-7.72 7.72c-.78.78-.78 2.05 0 2.83L4 21.41c.39.39.9.59 1.41.59.51 0 1.02-.2 1.41-.59l7.78-7.78 2.81-2.81c.8-.78.8-2.07 0-2.86zM5.41 20L4 18.59l7.72-7.72 1.47 1.35L5.41 20z\"/>\n",
              "  </svg>\n",
              "      </button>\n",
              "      \n",
              "  <style>\n",
              "    .colab-df-container {\n",
              "      display:flex;\n",
              "      flex-wrap:wrap;\n",
              "      gap: 12px;\n",
              "    }\n",
              "\n",
              "    .colab-df-convert {\n",
              "      background-color: #E8F0FE;\n",
              "      border: none;\n",
              "      border-radius: 50%;\n",
              "      cursor: pointer;\n",
              "      display: none;\n",
              "      fill: #1967D2;\n",
              "      height: 32px;\n",
              "      padding: 0 0 0 0;\n",
              "      width: 32px;\n",
              "    }\n",
              "\n",
              "    .colab-df-convert:hover {\n",
              "      background-color: #E2EBFA;\n",
              "      box-shadow: 0px 1px 2px rgba(60, 64, 67, 0.3), 0px 1px 3px 1px rgba(60, 64, 67, 0.15);\n",
              "      fill: #174EA6;\n",
              "    }\n",
              "\n",
              "    [theme=dark] .colab-df-convert {\n",
              "      background-color: #3B4455;\n",
              "      fill: #D2E3FC;\n",
              "    }\n",
              "\n",
              "    [theme=dark] .colab-df-convert:hover {\n",
              "      background-color: #434B5C;\n",
              "      box-shadow: 0px 1px 3px 1px rgba(0, 0, 0, 0.15);\n",
              "      filter: drop-shadow(0px 1px 2px rgba(0, 0, 0, 0.3));\n",
              "      fill: #FFFFFF;\n",
              "    }\n",
              "  </style>\n",
              "\n",
              "      <script>\n",
              "        const buttonEl =\n",
              "          document.querySelector('#df-1a67c55f-541f-4dd2-a6fc-c7da0e8a0d8c button.colab-df-convert');\n",
              "        buttonEl.style.display =\n",
              "          google.colab.kernel.accessAllowed ? 'block' : 'none';\n",
              "\n",
              "        async function convertToInteractive(key) {\n",
              "          const element = document.querySelector('#df-1a67c55f-541f-4dd2-a6fc-c7da0e8a0d8c');\n",
              "          const dataTable =\n",
              "            await google.colab.kernel.invokeFunction('convertToInteractive',\n",
              "                                                     [key], {});\n",
              "          if (!dataTable) return;\n",
              "\n",
              "          const docLinkHtml = 'Like what you see? Visit the ' +\n",
              "            '<a target=\"_blank\" href=https://colab.research.google.com/notebooks/data_table.ipynb>data table notebook</a>'\n",
              "            + ' to learn more about interactive tables.';\n",
              "          element.innerHTML = '';\n",
              "          dataTable['output_type'] = 'display_data';\n",
              "          await google.colab.output.renderOutput(dataTable, element);\n",
              "          const docLink = document.createElement('div');\n",
              "          docLink.innerHTML = docLinkHtml;\n",
              "          element.appendChild(docLink);\n",
              "        }\n",
              "      </script>\n",
              "    </div>\n",
              "  </div>\n",
              "  "
            ]
          },
          "metadata": {},
          "execution_count": 13
        }
      ]
    },
    {
      "cell_type": "markdown",
      "source": [
        "### 모델링"
      ],
      "metadata": {
        "id": "fcoZ3wkpc1qF"
      }
    },
    {
      "cell_type": "code",
      "source": [
        "# 매트릭스 만들기\n",
        "from scipy.sparse import csr_matrix\n",
        "\n",
        "num_user = data['user_id'].nunique()\n",
        "num_movie = data['movie_id'].nunique()\n",
        "\n",
        "csr_data = csr_matrix((data.counts, (data.user_id, data.movie_id)), shape= (num_user, num_movie))\n",
        "csr_data"
      ],
      "metadata": {
        "colab": {
          "base_uri": "https://localhost:8080/"
        },
        "id": "ytIBqyQkOXF9",
        "outputId": "f00c0e67-5008-45b4-e2eb-dbca9e1fd4a8"
      },
      "execution_count": 14,
      "outputs": [
        {
          "output_type": "execute_result",
          "data": {
            "text/plain": [
              "<6040x3628 sparse matrix of type '<class 'numpy.int64'>'\n",
              "\twith 836483 stored elements in Compressed Sparse Row format>"
            ]
          },
          "metadata": {},
          "execution_count": 14
        }
      ]
    },
    {
      "cell_type": "code",
      "source": [
        "# implicit 라이브러리에서 권장하고 있는 부분이다.\n",
        "import os\n",
        "os.environ['OPENBLAS_NUM_THREADS']='1'\n",
        "os.environ['KMP_DUPLICATE_LIB_OK']='True'\n",
        "os.environ['MKL_NUM_THREADS']='1'"
      ],
      "metadata": {
        "id": "WnN_9L85OXHp"
      },
      "execution_count": 15,
      "outputs": []
    },
    {
      "cell_type": "code",
      "source": [
        "# Implicit AlternatingLeastSquares 모델의 선언\n",
        "als_model = AlternatingLeastSquares(factors=300, regularization=0.01, use_gpu=False, iterations=40, dtype=np.float32)"
      ],
      "metadata": {
        "id": "Scf9W8n3OsIB"
      },
      "execution_count": 16,
      "outputs": []
    },
    {
      "cell_type": "code",
      "source": [
        "# als 모델은 input으로 (item X user 꼴의 matrix를 받기 때문에 Transpose해준다.\n",
        "csr_data_transpose = csr_data.T\n",
        "csr_data_transpose"
      ],
      "metadata": {
        "colab": {
          "base_uri": "https://localhost:8080/"
        },
        "id": "5hYwRElUOsLp",
        "outputId": "4f5587fa-fe2b-422b-a85f-13725b5a8462"
      },
      "execution_count": 17,
      "outputs": [
        {
          "output_type": "execute_result",
          "data": {
            "text/plain": [
              "<3628x6040 sparse matrix of type '<class 'numpy.int64'>'\n",
              "\twith 836483 stored elements in Compressed Sparse Column format>"
            ]
          },
          "metadata": {},
          "execution_count": 17
        }
      ]
    },
    {
      "cell_type": "code",
      "source": [
        "# 모델 훈련\n",
        "als_model.fit(csr_data_transpose)"
      ],
      "metadata": {
        "colab": {
          "base_uri": "https://localhost:8080/",
          "height": 49,
          "referenced_widgets": [
            "18709763fa304a40a49bfb62e95d23b9",
            "81b957bc67c34bf69f539b85864afd98",
            "99f16d6d435a42d7a12d4adca6afb2cb",
            "8221589edbcf4ec4b50c4357020bcdb1",
            "ae532a433cc644de9837a950033159a2",
            "ac6e376a1fb849ab8ad2a50fef3d0950",
            "908e70703be8467e853db03e02f5c5b8",
            "64bd56e43b8f407bac2bad44e0bcb78b",
            "f0d6df8ff8ff4e0e967c2d365d59a532",
            "112840aad8ea46fe8720f8596a64303e",
            "f07bf05e907e4d00bb6d099543a00b74"
          ]
        },
        "id": "zPNlxmr-OsQa",
        "outputId": "35c099b1-4279-4863-e171-d660ae72314f"
      },
      "execution_count": 18,
      "outputs": [
        {
          "output_type": "display_data",
          "data": {
            "text/plain": [
              "  0%|          | 0/40 [00:00<?, ?it/s]"
            ],
            "application/vnd.jupyter.widget-view+json": {
              "version_major": 2,
              "version_minor": 0,
              "model_id": "18709763fa304a40a49bfb62e95d23b9"
            }
          },
          "metadata": {}
        }
      ]
    },
    {
      "cell_type": "code",
      "source": [
        "myukim, back_to_the_future = user_to_idx[9999], movie_to_idx[1270]\n",
        "myukim_vector, back_to_the_future_vector = als_model.user_factors[myukim], als_model.item_factors[back_to_the_future]"
      ],
      "metadata": {
        "id": "2XZ-Uf_vOsT3"
      },
      "execution_count": 19,
      "outputs": []
    },
    {
      "cell_type": "code",
      "source": [
        "myukim_vector"
      ],
      "metadata": {
        "colab": {
          "base_uri": "https://localhost:8080/"
        },
        "id": "rqFVc_yxOvkv",
        "outputId": "13604c7c-d4a8-43bf-d6a1-939009ff6b5f"
      },
      "execution_count": 20,
      "outputs": [
        {
          "output_type": "execute_result",
          "data": {
            "text/plain": [
              "array([-4.56501126e-01,  3.06806058e-01,  4.54944856e-02,  2.38421202e-01,\n",
              "        4.68992352e-01, -2.68016249e-01, -3.10929954e-01, -4.68259722e-01,\n",
              "        4.06740606e-01,  4.85203266e-01,  8.32121670e-02, -3.03106099e-01,\n",
              "       -4.97259945e-01, -6.37964547e-01,  3.04622680e-01, -5.39021969e-01,\n",
              "       -1.81791767e-01,  6.53210640e-01,  2.00956538e-01,  2.70942561e-02,\n",
              "        5.17858677e-02, -5.18791936e-02, -2.25053057e-01, -2.61379391e-01,\n",
              "       -3.42237979e-01,  3.24937791e-01,  4.01372239e-02, -4.50136751e-01,\n",
              "       -1.09297276e-01,  1.33190215e-01,  2.27736145e-01,  2.18706474e-01,\n",
              "        2.64959395e-01,  1.40575618e-01, -1.85345877e-02, -1.87499687e-01,\n",
              "       -2.63763517e-01,  3.41738254e-01,  2.32057929e-01, -6.75173521e-01,\n",
              "       -5.09611607e-01, -3.82026076e-01,  1.78610846e-01,  1.05862662e-01,\n",
              "        5.74165322e-02, -9.82424244e-02,  4.49782997e-01, -4.01732475e-01,\n",
              "       -1.24432132e-01,  2.07048327e-01, -1.41121671e-01, -5.42628288e-01,\n",
              "       -1.63792133e-01,  1.73317522e-01, -3.57809506e-04,  1.18976966e-01,\n",
              "        1.04152985e-01, -1.56004801e-01,  8.85065049e-02,  4.25262213e-01,\n",
              "       -1.18396431e-01,  2.31471285e-01,  3.19153666e-01, -1.36982784e-01,\n",
              "        4.21095192e-01,  1.27054915e-01, -2.07736000e-01,  1.40983574e-02,\n",
              "        3.74856479e-02,  8.72258693e-02, -3.11787963e-01,  3.49509478e-01,\n",
              "        4.54139039e-02, -2.49198571e-01,  7.65373632e-02,  3.06410976e-02,\n",
              "       -2.48125747e-01,  6.81116432e-02,  1.82774633e-01,  1.52369738e-01,\n",
              "        6.23395026e-01,  5.56941271e-01, -2.07493797e-01,  3.13186169e-01,\n",
              "       -7.70714954e-02, -2.08087906e-01, -1.93849131e-01,  1.77606449e-01,\n",
              "        1.44936472e-01,  4.41370383e-02, -2.74128348e-01,  4.50384408e-01,\n",
              "       -4.58179623e-01, -2.05597281e-01, -4.15139169e-01, -2.40350425e-01,\n",
              "       -1.98034778e-01, -3.15692991e-01, -9.36397612e-02, -3.71872753e-01,\n",
              "       -4.75211442e-01,  2.17416897e-01,  5.51702641e-02,  2.85715740e-02,\n",
              "        7.13730752e-01,  3.80022287e-01, -8.96730870e-02,  4.43402320e-01,\n",
              "        2.31196001e-01,  2.27341369e-01,  1.61891326e-01,  1.51979893e-01,\n",
              "        2.61041403e-01,  3.35387558e-01,  4.08574380e-02, -3.57571930e-01,\n",
              "       -4.04620945e-01, -1.51295915e-01,  3.26973379e-01, -2.17698261e-01,\n",
              "        2.10994974e-01,  5.87819695e-01, -3.31439286e-01,  1.59096211e-01,\n",
              "        1.51313007e-01, -5.04478037e-01,  2.14787409e-01, -3.08661219e-02,\n",
              "       -7.91684240e-02, -3.65780175e-01, -4.35749799e-01,  3.81783582e-02,\n",
              "       -1.98610038e-01, -1.88587233e-02,  2.70931780e-01,  6.09847642e-02,\n",
              "        4.09090035e-02,  2.11220697e-01,  1.32681262e-02, -4.55453694e-01,\n",
              "       -6.76094234e-01, -4.60309774e-01,  4.49298844e-02,  1.95027348e-02,\n",
              "        6.74838498e-02, -5.34099638e-01,  3.57865810e-01,  6.03171408e-01,\n",
              "       -2.33452544e-01, -1.85714975e-01,  6.75576627e-02,  1.86277539e-01,\n",
              "        3.47965360e-01,  8.94683525e-02, -4.67593670e-02,  6.05355538e-02,\n",
              "        1.81919768e-01,  2.57663131e-01,  6.31889045e-01,  1.57739908e-01,\n",
              "       -1.10144891e-01,  4.66206372e-01,  3.54918480e-01, -4.61853892e-01,\n",
              "       -7.68698215e-01, -1.56026268e-02,  1.66145548e-01, -6.65470064e-01,\n",
              "        3.11872870e-01, -1.91870719e-01, -4.33139026e-01,  1.40199348e-01,\n",
              "       -2.47011594e-02, -1.79015830e-01, -3.83623064e-01,  8.29723477e-02,\n",
              "       -4.12163943e-01,  9.28580537e-02,  1.26228124e-01, -2.40369976e-01,\n",
              "        2.15842962e-01, -2.28621941e-02,  4.12418067e-01,  2.78558880e-01,\n",
              "       -3.94992381e-01, -3.53119045e-01, -2.38684162e-01,  3.59574854e-01,\n",
              "        3.60310793e-01,  1.58425555e-01, -1.85028195e-01,  2.57342309e-01,\n",
              "       -3.72456806e-03, -5.00734091e-01,  3.73690389e-02, -2.17372701e-01,\n",
              "       -6.07287176e-02,  3.08649242e-01,  1.98320791e-01,  1.48407042e-01,\n",
              "        4.90459681e-01,  5.29628731e-02,  2.10230559e-01, -3.12166870e-01,\n",
              "        2.18079984e-01, -2.12130621e-01,  3.61951888e-01, -3.01659673e-01,\n",
              "        3.62024695e-01, -3.71253282e-01, -3.13614577e-01,  1.20191365e-01,\n",
              "       -1.21589772e-01,  2.54229873e-01,  4.39176895e-02,  1.02720566e-01,\n",
              "        4.79228705e-01,  3.30439150e-01,  3.05760026e-01,  1.89644724e-01,\n",
              "       -3.23557377e-01,  5.54707646e-01,  5.71986735e-02, -7.73709342e-02,\n",
              "        1.22304350e-01,  4.98600543e-01,  3.57142776e-01, -1.84590504e-01,\n",
              "       -1.61604866e-01, -6.28175354e-03, -1.99189872e-01,  2.11377203e-01,\n",
              "        1.18087389e-01, -3.30503017e-01, -6.09214082e-02, -6.81050047e-02,\n",
              "        1.41153246e-01, -6.49204478e-02,  4.18758720e-01, -3.65128875e-01,\n",
              "       -4.82084900e-02,  2.68420488e-01, -3.38135175e-02,  1.50331467e-01,\n",
              "        6.23202264e-01, -3.73004586e-01, -4.31490410e-03, -8.65205899e-02,\n",
              "        1.01165242e-01,  1.57387540e-01, -1.58919796e-01,  5.88029772e-02,\n",
              "        3.97729576e-02, -2.10675955e-01,  4.03624624e-01,  3.31776217e-02,\n",
              "        3.31894902e-04, -2.60085817e-02,  9.60546061e-02,  3.71608436e-01,\n",
              "        4.10903841e-02, -3.25461775e-01,  1.15681812e-01,  2.22174406e-01,\n",
              "       -2.37605721e-01, -4.20896649e-01,  6.52727067e-01, -1.63816914e-01,\n",
              "       -1.60980329e-01, -7.68598393e-02, -3.45336348e-01, -2.46620730e-01,\n",
              "       -2.53144860e-01, -3.68419945e-01,  3.23030412e-01, -1.60538346e-01,\n",
              "       -2.94992566e-01,  1.10086754e-01, -2.46814489e-01, -2.36188173e-01,\n",
              "       -2.17426300e-01, -1.43689215e-01,  3.66623431e-01,  7.07056895e-02,\n",
              "       -2.20398560e-01,  3.22229832e-01,  9.49775055e-02,  3.79356980e-01,\n",
              "        3.52318853e-01, -2.90243417e-01, -2.48718634e-01, -2.65743643e-01,\n",
              "       -5.64260483e-01,  1.87252924e-01, -9.89255682e-02,  2.80720323e-01,\n",
              "        2.63496846e-01, -1.91844016e-01, -2.14091793e-01,  3.26692551e-01],\n",
              "      dtype=float32)"
            ]
          },
          "metadata": {},
          "execution_count": 20
        }
      ]
    },
    {
      "cell_type": "code",
      "source": [
        "back_to_the_future_vector"
      ],
      "metadata": {
        "colab": {
          "base_uri": "https://localhost:8080/"
        },
        "id": "UpdbXc4sOv6d",
        "outputId": "a54b7cae-17d8-479e-aa7e-5785b0e1a002"
      },
      "execution_count": 21,
      "outputs": [
        {
          "output_type": "execute_result",
          "data": {
            "text/plain": [
              "array([ 6.43208018e-03, -5.51897334e-03, -9.11962055e-03,  2.50011459e-02,\n",
              "        2.07378659e-02, -1.09246960e-02,  3.53659107e-03, -1.58608425e-02,\n",
              "        4.91886958e-02,  2.48959381e-03,  2.00588852e-02, -6.28616707e-03,\n",
              "       -2.68826503e-02, -1.89378671e-02,  2.79357377e-02, -1.31917074e-02,\n",
              "       -5.61291818e-05,  2.99522392e-02,  2.60638017e-02,  4.91030179e-02,\n",
              "        1.20421182e-02,  3.73899750e-02,  2.76722331e-02, -1.87104568e-02,\n",
              "        7.29099102e-03,  7.38871424e-03, -3.61429304e-02, -2.69225631e-02,\n",
              "       -1.87227670e-02,  1.52160274e-02,  1.29979458e-02, -2.44875043e-03,\n",
              "        4.20048945e-02, -3.17162042e-03, -2.76663415e-02, -1.17738172e-02,\n",
              "       -3.65159102e-02,  1.92302149e-02,  1.74717102e-02,  2.75917281e-03,\n",
              "       -1.27276359e-03, -3.38894478e-03,  4.39844467e-03,  2.03924309e-02,\n",
              "        4.29340778e-03, -8.80708569e-04,  5.21259047e-02, -1.93118900e-02,\n",
              "        2.50788052e-02,  1.61447357e-02, -7.35774729e-03, -1.37471156e-02,\n",
              "       -7.84220826e-03,  3.36880758e-02, -3.14277224e-02,  3.33245210e-02,\n",
              "        3.11524402e-02, -3.40066990e-03,  2.82246936e-02,  6.98637962e-03,\n",
              "       -3.40909846e-02,  6.24655448e-02,  2.77352314e-02, -2.80152056e-02,\n",
              "        2.10754201e-02, -9.27844550e-03, -3.54948118e-02,  3.67908739e-03,\n",
              "        2.97648013e-02, -1.51918381e-02,  3.57494093e-02,  1.69690438e-02,\n",
              "       -2.23475695e-03, -5.21065015e-03,  6.28238823e-03,  1.74652897e-02,\n",
              "       -1.34697501e-02,  4.13825214e-02,  4.60056239e-04,  1.34396413e-02,\n",
              "        2.07697712e-02,  2.06122734e-02,  2.65138573e-03,  3.03897597e-02,\n",
              "        2.44686641e-02, -5.44922166e-02, -8.75395443e-03, -2.17391793e-02,\n",
              "       -7.48786563e-03,  2.22558510e-02,  1.08391223e-02,  2.66815182e-02,\n",
              "       -2.90333200e-02,  5.61514462e-04, -1.73115749e-02, -6.68172352e-03,\n",
              "       -2.82771583e-03,  2.34887116e-02,  2.48121433e-02, -2.35810205e-02,\n",
              "       -4.10365127e-02,  1.51589457e-02,  2.64224969e-02,  3.07891648e-02,\n",
              "        1.28867775e-02, -1.21496813e-02,  4.16725688e-02, -1.40433237e-02,\n",
              "        3.88320684e-02, -1.81654319e-02, -6.82335719e-03,  3.61664989e-03,\n",
              "        4.48402986e-02,  2.88624642e-03,  1.00804167e-02, -3.08033843e-02,\n",
              "       -2.56645828e-02, -2.76473677e-03,  4.38233018e-02,  1.33633465e-02,\n",
              "        2.66985390e-02,  2.66609546e-02, -2.90186126e-02,  1.86052434e-02,\n",
              "        1.43234814e-02,  5.85818058e-03,  9.68755502e-03,  7.26976665e-03,\n",
              "       -6.81206631e-03, -8.93180631e-03, -9.11920704e-03, -2.37951502e-02,\n",
              "       -3.01090442e-02, -7.22662604e-04,  2.88726576e-03,  3.84518728e-02,\n",
              "        1.83910970e-02, -4.22635972e-02,  1.37087181e-02, -1.18513750e-02,\n",
              "       -9.64423083e-03, -1.00899525e-02, -6.49427716e-03,  1.31774498e-02,\n",
              "        3.43652405e-02, -1.46333193e-02,  3.82793657e-02,  4.27826680e-02,\n",
              "        2.30809115e-02,  3.34171467e-02,  2.46812068e-02,  4.02141770e-04,\n",
              "        3.11376825e-02,  3.80031057e-02, -9.23686475e-03, -1.06133232e-02,\n",
              "        3.60950865e-02,  2.37459615e-02, -9.71906446e-03,  2.32329685e-02,\n",
              "       -1.34383235e-03, -2.15642713e-02,  2.30983049e-02,  1.85729768e-02,\n",
              "       -2.84034163e-02, -2.98988284e-03,  1.46323629e-02, -2.66661383e-02,\n",
              "        2.14912724e-02, -2.07894463e-02, -2.98846532e-02,  4.64378409e-02,\n",
              "       -3.07694878e-02,  1.44815841e-03, -2.71881837e-03,  1.79673228e-02,\n",
              "       -1.06478250e-02,  8.70191120e-03,  2.25177370e-02, -1.91379786e-02,\n",
              "       -9.92887374e-03, -1.49130281e-02,  1.24874599e-02,  3.99677455e-03,\n",
              "        1.14950072e-03, -8.26940034e-03, -1.82323717e-02, -3.65410419e-03,\n",
              "       -1.26169585e-02, -1.44057740e-02,  1.21888090e-02, -3.33430022e-02,\n",
              "        2.29330864e-02, -1.40094655e-02,  1.81262614e-03, -2.72704437e-02,\n",
              "       -5.39340544e-03,  4.48613726e-02,  1.61413178e-02, -4.30381671e-03,\n",
              "        2.67046876e-02, -1.88016165e-02, -9.25800111e-03, -2.35632202e-03,\n",
              "        1.22864516e-02, -9.90672689e-03,  4.63033132e-02,  6.27243705e-03,\n",
              "        1.65973455e-02,  9.16619040e-03, -2.28422452e-02, -4.16694861e-03,\n",
              "       -1.63245085e-03,  1.82316285e-02,  1.75896920e-02,  5.67280129e-03,\n",
              "        2.49871649e-02, -4.10016775e-02,  1.94010732e-03,  2.73171589e-02,\n",
              "       -7.70847499e-03,  3.94227207e-02, -1.33239282e-02, -1.58442799e-02,\n",
              "       -7.32316403e-03,  2.96388529e-02,  2.04346832e-02,  3.94614832e-03,\n",
              "        1.40975472e-02, -1.81071572e-02,  1.71385463e-02,  3.80013436e-02,\n",
              "        5.47041418e-03, -1.23480810e-02,  1.51380450e-02,  1.42353948e-03,\n",
              "        3.20390798e-02,  2.15733424e-02,  2.82358974e-02, -2.34609228e-02,\n",
              "        2.12549791e-02,  8.37170333e-03, -8.13941937e-03,  5.47647290e-02,\n",
              "        9.45574418e-03,  1.39321201e-02, -1.68566518e-02, -5.59893763e-03,\n",
              "       -7.43594486e-03, -6.20010728e-03,  1.54918293e-02, -4.14276449e-03,\n",
              "        1.45425729e-03,  3.90247745e-03,  4.29958813e-02, -2.75711920e-02,\n",
              "        2.36810148e-02, -2.17297347e-03,  6.60963729e-03,  1.89197995e-02,\n",
              "        5.23739960e-03,  1.35972891e-02,  1.49352420e-02,  2.97076833e-02,\n",
              "        1.67401824e-02, -3.50771733e-02,  1.85391475e-02, -1.18151503e-02,\n",
              "        2.78545520e-03,  3.13066803e-02, -2.41987165e-02,  6.14665030e-03,\n",
              "        3.05276792e-02,  1.45158730e-02,  2.58153547e-02,  9.40490607e-03,\n",
              "        4.43220958e-02,  2.01467201e-02, -4.98293154e-03, -3.24011035e-02,\n",
              "       -9.15831327e-03, -1.20182447e-02, -1.55135868e-02,  1.47024365e-02,\n",
              "        1.52442884e-02,  3.54970954e-02,  4.58665378e-03,  1.85025949e-02,\n",
              "        3.57600972e-02, -3.38242436e-03,  1.39890481e-02, -1.51359569e-02,\n",
              "       -3.31130810e-02, -6.94664777e-06,  3.20111541e-03, -7.22707063e-03,\n",
              "        1.35866739e-02,  1.69622265e-02, -4.20772359e-02,  4.80941590e-03],\n",
              "      dtype=float32)"
            ]
          },
          "metadata": {},
          "execution_count": 21
        }
      ]
    },
    {
      "cell_type": "markdown",
      "source": [
        "### 모델 평가하기"
      ],
      "metadata": {
        "id": "hRJZgaSyc8CS"
      }
    },
    {
      "cell_type": "code",
      "source": [
        "# myukim과 back_to_the_future를 내적하는 코드\n",
        "np.dot(myukim_vector, back_to_the_future_vector)"
      ],
      "metadata": {
        "colab": {
          "base_uri": "https://localhost:8080/"
        },
        "id": "WPLgGL4gOv9V",
        "outputId": "a8e91e83-89c5-4d19-ce19-39bfecc3e9d2"
      },
      "execution_count": 22,
      "outputs": [
        {
          "output_type": "execute_result",
          "data": {
            "text/plain": [
              "0.8753883"
            ]
          },
          "metadata": {},
          "execution_count": 22
        }
      ]
    },
    {
      "cell_type": "markdown",
      "source": [
        "선호도가 높게 나온다. 잘 훈련이 진행되었다는 것을 알 수 있다.\n",
        "\n",
        "내가 선호했던 다른 영화도 이와 같은 결과를 가지는 지 궁금하다."
      ],
      "metadata": {
        "id": "by8qHD02Ozcs"
      }
    },
    {
      "cell_type": "code",
      "source": [
        "# movie_to_idx[1]은 toy story를 뜻한다.\n",
        "toy_story = movie_to_idx[1]\n",
        "toy_vector = als_model.item_factors[toy_story]\n",
        "np.dot(myukim_vector, toy_vector)"
      ],
      "metadata": {
        "colab": {
          "base_uri": "https://localhost:8080/"
        },
        "id": "DpELJvHIOwAF",
        "outputId": "b1033b37-0138-492e-e86f-4d3499ad5d75"
      },
      "execution_count": 23,
      "outputs": [
        {
          "output_type": "execute_result",
          "data": {
            "text/plain": [
              "0.7698914"
            ]
          },
          "metadata": {},
          "execution_count": 23
        }
      ]
    },
    {
      "cell_type": "markdown",
      "source": [
        "토이스토리도 선호도가 높게 잘 나온다는 것을 알 수 있다."
      ],
      "metadata": {
        "id": "B2wB1K5VO2du"
      }
    },
    {
      "cell_type": "markdown",
      "source": [
        "### 비슷한 영화 and 추천 영화"
      ],
      "metadata": {
        "id": "Tbn_kvaJO34l"
      }
    },
    {
      "cell_type": "markdown",
      "source": [
        "#### 비슷한 영화"
      ],
      "metadata": {
        "id": "qqocdGRWdnle"
      }
    },
    {
      "cell_type": "code",
      "source": [
        "similar_movie = als_model.similar_items(back_to_the_future, N=15)\n",
        "similar_movie"
      ],
      "metadata": {
        "colab": {
          "base_uri": "https://localhost:8080/"
        },
        "id": "zrf8QtedOwC4",
        "outputId": "b3811436-3e3e-4ab3-80a6-8147a3d56516"
      },
      "execution_count": 38,
      "outputs": [
        {
          "output_type": "execute_result",
          "data": {
            "text/plain": [
              "[(22, 1.0),\n",
              " (674, 0.34440017),\n",
              " (2827, 0.2563451),\n",
              " (13, 0.2522063),\n",
              " (3543, 0.2487783),\n",
              " (2824, 0.24733377),\n",
              " (615, 0.2466691),\n",
              " (1675, 0.24570818),\n",
              " (3370, 0.24502963),\n",
              " (3401, 0.24357004),\n",
              " (2765, 0.24247044),\n",
              " (2875, 0.2399736),\n",
              " (3565, 0.23879088),\n",
              " (3224, 0.23851028),\n",
              " (2714, 0.2381817)]"
            ]
          },
          "metadata": {},
          "execution_count": 38
        }
      ]
    },
    {
      "cell_type": "code",
      "source": [
        "idx_to_movie = {v:k for k,v in movie_to_idx.items()}\n",
        "movie_id=[idx_to_movie[i[0]] for i in similar_movie]\n",
        "print(movie_id)"
      ],
      "metadata": {
        "colab": {
          "base_uri": "https://localhost:8080/"
        },
        "id": "MZE6d9PsRAMR",
        "outputId": "08107633-0dab-4864-bd75-d95c6f7c9d1c"
      },
      "execution_count": 42,
      "outputs": [
        {
          "output_type": "stream",
          "name": "stdout",
          "text": [
            "[1270, 2011, 1743, 2918, 985, 1496, 2407, 718, 3294, 2743, 3171, 2281, 1316, 2536, 131]\n"
          ]
        }
      ]
    },
    {
      "cell_type": "markdown",
      "source": [
        "1270은 Back_to_the_Future의 인덱스 번호다. 그래서 비슷한 정도가 1이 나온 것이다."
      ],
      "metadata": {
        "id": "lswJCoV-gsga"
      }
    },
    {
      "cell_type": "code",
      "source": [
        "movies.head(1946)"
      ],
      "metadata": {
        "colab": {
          "base_uri": "https://localhost:8080/",
          "height": 424
        },
        "id": "MlzkuITqRwaV",
        "outputId": "47573722-4c87-4565-faaf-0c194bd3ca01"
      },
      "execution_count": 27,
      "outputs": [
        {
          "output_type": "execute_result",
          "data": {
            "text/plain": [
              "      movie_id                               title  \\\n",
              "0            1                    Toy Story (1995)   \n",
              "1            2                      Jumanji (1995)   \n",
              "2            3             Grumpier Old Men (1995)   \n",
              "3            4            Waiting to Exhale (1995)   \n",
              "4            5  Father of the Bride Part II (1995)   \n",
              "...        ...                                 ...   \n",
              "1941      2010                   Metropolis (1926)   \n",
              "1942      2011   Back to the Future Part II (1989)   \n",
              "1943      2012  Back to the Future Part III (1990)   \n",
              "1944      2013      Poseidon Adventure, The (1972)   \n",
              "1945      2014                Freaky Friday (1977)   \n",
              "\n",
              "                             genre  \n",
              "0      Animation|Children's|Comedy  \n",
              "1     Adventure|Children's|Fantasy  \n",
              "2                   Comedy|Romance  \n",
              "3                     Comedy|Drama  \n",
              "4                           Comedy  \n",
              "...                            ...  \n",
              "1941                        Sci-Fi  \n",
              "1942                 Comedy|Sci-Fi  \n",
              "1943         Comedy|Sci-Fi|Western  \n",
              "1944              Action|Adventure  \n",
              "1945             Children's|Comedy  \n",
              "\n",
              "[1946 rows x 3 columns]"
            ],
            "text/html": [
              "\n",
              "  <div id=\"df-eaa71464-24b6-4558-979b-2f1e9de7b635\">\n",
              "    <div class=\"colab-df-container\">\n",
              "      <div>\n",
              "<style scoped>\n",
              "    .dataframe tbody tr th:only-of-type {\n",
              "        vertical-align: middle;\n",
              "    }\n",
              "\n",
              "    .dataframe tbody tr th {\n",
              "        vertical-align: top;\n",
              "    }\n",
              "\n",
              "    .dataframe thead th {\n",
              "        text-align: right;\n",
              "    }\n",
              "</style>\n",
              "<table border=\"1\" class=\"dataframe\">\n",
              "  <thead>\n",
              "    <tr style=\"text-align: right;\">\n",
              "      <th></th>\n",
              "      <th>movie_id</th>\n",
              "      <th>title</th>\n",
              "      <th>genre</th>\n",
              "    </tr>\n",
              "  </thead>\n",
              "  <tbody>\n",
              "    <tr>\n",
              "      <th>0</th>\n",
              "      <td>1</td>\n",
              "      <td>Toy Story (1995)</td>\n",
              "      <td>Animation|Children's|Comedy</td>\n",
              "    </tr>\n",
              "    <tr>\n",
              "      <th>1</th>\n",
              "      <td>2</td>\n",
              "      <td>Jumanji (1995)</td>\n",
              "      <td>Adventure|Children's|Fantasy</td>\n",
              "    </tr>\n",
              "    <tr>\n",
              "      <th>2</th>\n",
              "      <td>3</td>\n",
              "      <td>Grumpier Old Men (1995)</td>\n",
              "      <td>Comedy|Romance</td>\n",
              "    </tr>\n",
              "    <tr>\n",
              "      <th>3</th>\n",
              "      <td>4</td>\n",
              "      <td>Waiting to Exhale (1995)</td>\n",
              "      <td>Comedy|Drama</td>\n",
              "    </tr>\n",
              "    <tr>\n",
              "      <th>4</th>\n",
              "      <td>5</td>\n",
              "      <td>Father of the Bride Part II (1995)</td>\n",
              "      <td>Comedy</td>\n",
              "    </tr>\n",
              "    <tr>\n",
              "      <th>...</th>\n",
              "      <td>...</td>\n",
              "      <td>...</td>\n",
              "      <td>...</td>\n",
              "    </tr>\n",
              "    <tr>\n",
              "      <th>1941</th>\n",
              "      <td>2010</td>\n",
              "      <td>Metropolis (1926)</td>\n",
              "      <td>Sci-Fi</td>\n",
              "    </tr>\n",
              "    <tr>\n",
              "      <th>1942</th>\n",
              "      <td>2011</td>\n",
              "      <td>Back to the Future Part II (1989)</td>\n",
              "      <td>Comedy|Sci-Fi</td>\n",
              "    </tr>\n",
              "    <tr>\n",
              "      <th>1943</th>\n",
              "      <td>2012</td>\n",
              "      <td>Back to the Future Part III (1990)</td>\n",
              "      <td>Comedy|Sci-Fi|Western</td>\n",
              "    </tr>\n",
              "    <tr>\n",
              "      <th>1944</th>\n",
              "      <td>2013</td>\n",
              "      <td>Poseidon Adventure, The (1972)</td>\n",
              "      <td>Action|Adventure</td>\n",
              "    </tr>\n",
              "    <tr>\n",
              "      <th>1945</th>\n",
              "      <td>2014</td>\n",
              "      <td>Freaky Friday (1977)</td>\n",
              "      <td>Children's|Comedy</td>\n",
              "    </tr>\n",
              "  </tbody>\n",
              "</table>\n",
              "<p>1946 rows × 3 columns</p>\n",
              "</div>\n",
              "      <button class=\"colab-df-convert\" onclick=\"convertToInteractive('df-eaa71464-24b6-4558-979b-2f1e9de7b635')\"\n",
              "              title=\"Convert this dataframe to an interactive table.\"\n",
              "              style=\"display:none;\">\n",
              "        \n",
              "  <svg xmlns=\"http://www.w3.org/2000/svg\" height=\"24px\"viewBox=\"0 0 24 24\"\n",
              "       width=\"24px\">\n",
              "    <path d=\"M0 0h24v24H0V0z\" fill=\"none\"/>\n",
              "    <path d=\"M18.56 5.44l.94 2.06.94-2.06 2.06-.94-2.06-.94-.94-2.06-.94 2.06-2.06.94zm-11 1L8.5 8.5l.94-2.06 2.06-.94-2.06-.94L8.5 2.5l-.94 2.06-2.06.94zm10 10l.94 2.06.94-2.06 2.06-.94-2.06-.94-.94-2.06-.94 2.06-2.06.94z\"/><path d=\"M17.41 7.96l-1.37-1.37c-.4-.4-.92-.59-1.43-.59-.52 0-1.04.2-1.43.59L10.3 9.45l-7.72 7.72c-.78.78-.78 2.05 0 2.83L4 21.41c.39.39.9.59 1.41.59.51 0 1.02-.2 1.41-.59l7.78-7.78 2.81-2.81c.8-.78.8-2.07 0-2.86zM5.41 20L4 18.59l7.72-7.72 1.47 1.35L5.41 20z\"/>\n",
              "  </svg>\n",
              "      </button>\n",
              "      \n",
              "  <style>\n",
              "    .colab-df-container {\n",
              "      display:flex;\n",
              "      flex-wrap:wrap;\n",
              "      gap: 12px;\n",
              "    }\n",
              "\n",
              "    .colab-df-convert {\n",
              "      background-color: #E8F0FE;\n",
              "      border: none;\n",
              "      border-radius: 50%;\n",
              "      cursor: pointer;\n",
              "      display: none;\n",
              "      fill: #1967D2;\n",
              "      height: 32px;\n",
              "      padding: 0 0 0 0;\n",
              "      width: 32px;\n",
              "    }\n",
              "\n",
              "    .colab-df-convert:hover {\n",
              "      background-color: #E2EBFA;\n",
              "      box-shadow: 0px 1px 2px rgba(60, 64, 67, 0.3), 0px 1px 3px 1px rgba(60, 64, 67, 0.15);\n",
              "      fill: #174EA6;\n",
              "    }\n",
              "\n",
              "    [theme=dark] .colab-df-convert {\n",
              "      background-color: #3B4455;\n",
              "      fill: #D2E3FC;\n",
              "    }\n",
              "\n",
              "    [theme=dark] .colab-df-convert:hover {\n",
              "      background-color: #434B5C;\n",
              "      box-shadow: 0px 1px 3px 1px rgba(0, 0, 0, 0.15);\n",
              "      filter: drop-shadow(0px 1px 2px rgba(0, 0, 0, 0.3));\n",
              "      fill: #FFFFFF;\n",
              "    }\n",
              "  </style>\n",
              "\n",
              "      <script>\n",
              "        const buttonEl =\n",
              "          document.querySelector('#df-eaa71464-24b6-4558-979b-2f1e9de7b635 button.colab-df-convert');\n",
              "        buttonEl.style.display =\n",
              "          google.colab.kernel.accessAllowed ? 'block' : 'none';\n",
              "\n",
              "        async function convertToInteractive(key) {\n",
              "          const element = document.querySelector('#df-eaa71464-24b6-4558-979b-2f1e9de7b635');\n",
              "          const dataTable =\n",
              "            await google.colab.kernel.invokeFunction('convertToInteractive',\n",
              "                                                     [key], {});\n",
              "          if (!dataTable) return;\n",
              "\n",
              "          const docLinkHtml = 'Like what you see? Visit the ' +\n",
              "            '<a target=\"_blank\" href=https://colab.research.google.com/notebooks/data_table.ipynb>data table notebook</a>'\n",
              "            + ' to learn more about interactive tables.';\n",
              "          element.innerHTML = '';\n",
              "          dataTable['output_type'] = 'display_data';\n",
              "          await google.colab.output.renderOutput(dataTable, element);\n",
              "          const docLink = document.createElement('div');\n",
              "          docLink.innerHTML = docLinkHtml;\n",
              "          element.appendChild(docLink);\n",
              "        }\n",
              "      </script>\n",
              "    </div>\n",
              "  </div>\n",
              "  "
            ]
          },
          "metadata": {},
          "execution_count": 27
        }
      ]
    },
    {
      "cell_type": "markdown",
      "source": [
        "비슷한 영화로 Back_to_the_Future2를 추천해주고 있다."
      ],
      "metadata": {
        "id": "fh_F9V47R8ZU"
      }
    },
    {
      "cell_type": "markdown",
      "source": [
        "다음은 추천을 받아보자."
      ],
      "metadata": {
        "id": "q8OS1y5WbO0C"
      }
    },
    {
      "cell_type": "markdown",
      "source": [
        "#### 시스템 추천 영화"
      ],
      "metadata": {
        "id": "QKTNVgPaez8R"
      }
    },
    {
      "cell_type": "code",
      "source": [
        "user = user_to_idx[9999]\n",
        "# recommend에서는 user*item CSR Matrix를 받습니다.\n",
        "movie_recommended = als_model.recommend(user, csr_data, N=20, filter_already_liked_items=True)\n",
        "movie_recommended"
      ],
      "metadata": {
        "colab": {
          "base_uri": "https://localhost:8080/"
        },
        "id": "hNh2DaEvU9U_",
        "outputId": "ff61daf7-1523-491d-a387-4c7208ed28fc"
      },
      "execution_count": 30,
      "outputs": [
        {
          "output_type": "execute_result",
          "data": {
            "text/plain": [
              "[(50, 0.28710002),\n",
              " (626, 0.22302878),\n",
              " (379, 0.21311197),\n",
              " (799, 0.20614022),\n",
              " (255, 0.20443882),\n",
              " (674, 0.18801814),\n",
              " (114, 0.17398337),\n",
              " (340, 0.17279443),\n",
              " (85, 0.17208341),\n",
              " (904, 0.17175482),\n",
              " (146, 0.16201994),\n",
              " (174, 0.15749191),\n",
              " (851, 0.1559447),\n",
              " (129, 0.15075892),\n",
              " (126, 0.15023936),\n",
              " (96, 0.1468999),\n",
              " (613, 0.14576909),\n",
              " (548, 0.14548454),\n",
              " (474, 0.1452814),\n",
              " (411, 0.14449377)]"
            ]
          },
          "metadata": {},
          "execution_count": 30
        }
      ]
    },
    {
      "cell_type": "markdown",
      "source": [
        "similar 보다 더 유사도가 생각보다 낮게 나온다."
      ],
      "metadata": {
        "id": "VV9P0R_lfm05"
      }
    },
    {
      "cell_type": "code",
      "source": [
        "#원래 index로 바꿔주기\n",
        "[idx_to_movie[i[0]] for i in movie_recommended]"
      ],
      "metadata": {
        "colab": {
          "base_uri": "https://localhost:8080/"
        },
        "id": "EI7YhIyxU9YZ",
        "outputId": "293ae8d7-80fb-44e2-b75c-eacaf66e8b10"
      },
      "execution_count": 31,
      "outputs": [
        {
          "output_type": "execute_result",
          "data": {
            "text/plain": [
              "[3114,\n",
              " 2424,\n",
              " 3256,\n",
              " 2724,\n",
              " 1923,\n",
              " 2011,\n",
              " 2353,\n",
              " 1569,\n",
              " 3255,\n",
              " 1206,\n",
              " 3418,\n",
              " 2167,\n",
              " 2761,\n",
              " 1597,\n",
              " 2396,\n",
              " 1945,\n",
              " 357,\n",
              " 1282,\n",
              " 3751,\n",
              " 454]"
            ]
          },
          "metadata": {},
          "execution_count": 31
        }
      ]
    },
    {
      "cell_type": "code",
      "source": [
        "# 첫번째로 추천해 준 영화\n",
        "movies.head(3050)"
      ],
      "metadata": {
        "colab": {
          "base_uri": "https://localhost:8080/",
          "height": 424
        },
        "id": "PAWoSkK2U9bS",
        "outputId": "df5e603b-540f-49fa-a5e1-25158d45b965"
      },
      "execution_count": 32,
      "outputs": [
        {
          "output_type": "execute_result",
          "data": {
            "text/plain": [
              "      movie_id                               title  \\\n",
              "0            1                    Toy Story (1995)   \n",
              "1            2                      Jumanji (1995)   \n",
              "2            3             Grumpier Old Men (1995)   \n",
              "3            4            Waiting to Exhale (1995)   \n",
              "4            5  Father of the Bride Part II (1995)   \n",
              "...        ...                                 ...   \n",
              "3045      3114                  Toy Story 2 (1999)   \n",
              "3046      3115                     Flawless (1999)   \n",
              "3047      3116                   Miss Julie (1999)   \n",
              "3048      3117          Ride with the Devil (1999)   \n",
              "3049      3118                  Tumbleweeds (1999)   \n",
              "\n",
              "                             genre  \n",
              "0      Animation|Children's|Comedy  \n",
              "1     Adventure|Children's|Fantasy  \n",
              "2                   Comedy|Romance  \n",
              "3                     Comedy|Drama  \n",
              "4                           Comedy  \n",
              "...                            ...  \n",
              "3045   Animation|Children's|Comedy  \n",
              "3046                         Drama  \n",
              "3047                         Drama  \n",
              "3048             Drama|Romance|War  \n",
              "3049                         Drama  \n",
              "\n",
              "[3050 rows x 3 columns]"
            ],
            "text/html": [
              "\n",
              "  <div id=\"df-bebdbb06-95dd-498e-9a9f-6c62556d9081\">\n",
              "    <div class=\"colab-df-container\">\n",
              "      <div>\n",
              "<style scoped>\n",
              "    .dataframe tbody tr th:only-of-type {\n",
              "        vertical-align: middle;\n",
              "    }\n",
              "\n",
              "    .dataframe tbody tr th {\n",
              "        vertical-align: top;\n",
              "    }\n",
              "\n",
              "    .dataframe thead th {\n",
              "        text-align: right;\n",
              "    }\n",
              "</style>\n",
              "<table border=\"1\" class=\"dataframe\">\n",
              "  <thead>\n",
              "    <tr style=\"text-align: right;\">\n",
              "      <th></th>\n",
              "      <th>movie_id</th>\n",
              "      <th>title</th>\n",
              "      <th>genre</th>\n",
              "    </tr>\n",
              "  </thead>\n",
              "  <tbody>\n",
              "    <tr>\n",
              "      <th>0</th>\n",
              "      <td>1</td>\n",
              "      <td>Toy Story (1995)</td>\n",
              "      <td>Animation|Children's|Comedy</td>\n",
              "    </tr>\n",
              "    <tr>\n",
              "      <th>1</th>\n",
              "      <td>2</td>\n",
              "      <td>Jumanji (1995)</td>\n",
              "      <td>Adventure|Children's|Fantasy</td>\n",
              "    </tr>\n",
              "    <tr>\n",
              "      <th>2</th>\n",
              "      <td>3</td>\n",
              "      <td>Grumpier Old Men (1995)</td>\n",
              "      <td>Comedy|Romance</td>\n",
              "    </tr>\n",
              "    <tr>\n",
              "      <th>3</th>\n",
              "      <td>4</td>\n",
              "      <td>Waiting to Exhale (1995)</td>\n",
              "      <td>Comedy|Drama</td>\n",
              "    </tr>\n",
              "    <tr>\n",
              "      <th>4</th>\n",
              "      <td>5</td>\n",
              "      <td>Father of the Bride Part II (1995)</td>\n",
              "      <td>Comedy</td>\n",
              "    </tr>\n",
              "    <tr>\n",
              "      <th>...</th>\n",
              "      <td>...</td>\n",
              "      <td>...</td>\n",
              "      <td>...</td>\n",
              "    </tr>\n",
              "    <tr>\n",
              "      <th>3045</th>\n",
              "      <td>3114</td>\n",
              "      <td>Toy Story 2 (1999)</td>\n",
              "      <td>Animation|Children's|Comedy</td>\n",
              "    </tr>\n",
              "    <tr>\n",
              "      <th>3046</th>\n",
              "      <td>3115</td>\n",
              "      <td>Flawless (1999)</td>\n",
              "      <td>Drama</td>\n",
              "    </tr>\n",
              "    <tr>\n",
              "      <th>3047</th>\n",
              "      <td>3116</td>\n",
              "      <td>Miss Julie (1999)</td>\n",
              "      <td>Drama</td>\n",
              "    </tr>\n",
              "    <tr>\n",
              "      <th>3048</th>\n",
              "      <td>3117</td>\n",
              "      <td>Ride with the Devil (1999)</td>\n",
              "      <td>Drama|Romance|War</td>\n",
              "    </tr>\n",
              "    <tr>\n",
              "      <th>3049</th>\n",
              "      <td>3118</td>\n",
              "      <td>Tumbleweeds (1999)</td>\n",
              "      <td>Drama</td>\n",
              "    </tr>\n",
              "  </tbody>\n",
              "</table>\n",
              "<p>3050 rows × 3 columns</p>\n",
              "</div>\n",
              "      <button class=\"colab-df-convert\" onclick=\"convertToInteractive('df-bebdbb06-95dd-498e-9a9f-6c62556d9081')\"\n",
              "              title=\"Convert this dataframe to an interactive table.\"\n",
              "              style=\"display:none;\">\n",
              "        \n",
              "  <svg xmlns=\"http://www.w3.org/2000/svg\" height=\"24px\"viewBox=\"0 0 24 24\"\n",
              "       width=\"24px\">\n",
              "    <path d=\"M0 0h24v24H0V0z\" fill=\"none\"/>\n",
              "    <path d=\"M18.56 5.44l.94 2.06.94-2.06 2.06-.94-2.06-.94-.94-2.06-.94 2.06-2.06.94zm-11 1L8.5 8.5l.94-2.06 2.06-.94-2.06-.94L8.5 2.5l-.94 2.06-2.06.94zm10 10l.94 2.06.94-2.06 2.06-.94-2.06-.94-.94-2.06-.94 2.06-2.06.94z\"/><path d=\"M17.41 7.96l-1.37-1.37c-.4-.4-.92-.59-1.43-.59-.52 0-1.04.2-1.43.59L10.3 9.45l-7.72 7.72c-.78.78-.78 2.05 0 2.83L4 21.41c.39.39.9.59 1.41.59.51 0 1.02-.2 1.41-.59l7.78-7.78 2.81-2.81c.8-.78.8-2.07 0-2.86zM5.41 20L4 18.59l7.72-7.72 1.47 1.35L5.41 20z\"/>\n",
              "  </svg>\n",
              "      </button>\n",
              "      \n",
              "  <style>\n",
              "    .colab-df-container {\n",
              "      display:flex;\n",
              "      flex-wrap:wrap;\n",
              "      gap: 12px;\n",
              "    }\n",
              "\n",
              "    .colab-df-convert {\n",
              "      background-color: #E8F0FE;\n",
              "      border: none;\n",
              "      border-radius: 50%;\n",
              "      cursor: pointer;\n",
              "      display: none;\n",
              "      fill: #1967D2;\n",
              "      height: 32px;\n",
              "      padding: 0 0 0 0;\n",
              "      width: 32px;\n",
              "    }\n",
              "\n",
              "    .colab-df-convert:hover {\n",
              "      background-color: #E2EBFA;\n",
              "      box-shadow: 0px 1px 2px rgba(60, 64, 67, 0.3), 0px 1px 3px 1px rgba(60, 64, 67, 0.15);\n",
              "      fill: #174EA6;\n",
              "    }\n",
              "\n",
              "    [theme=dark] .colab-df-convert {\n",
              "      background-color: #3B4455;\n",
              "      fill: #D2E3FC;\n",
              "    }\n",
              "\n",
              "    [theme=dark] .colab-df-convert:hover {\n",
              "      background-color: #434B5C;\n",
              "      box-shadow: 0px 1px 3px 1px rgba(0, 0, 0, 0.15);\n",
              "      filter: drop-shadow(0px 1px 2px rgba(0, 0, 0, 0.3));\n",
              "      fill: #FFFFFF;\n",
              "    }\n",
              "  </style>\n",
              "\n",
              "      <script>\n",
              "        const buttonEl =\n",
              "          document.querySelector('#df-bebdbb06-95dd-498e-9a9f-6c62556d9081 button.colab-df-convert');\n",
              "        buttonEl.style.display =\n",
              "          google.colab.kernel.accessAllowed ? 'block' : 'none';\n",
              "\n",
              "        async function convertToInteractive(key) {\n",
              "          const element = document.querySelector('#df-bebdbb06-95dd-498e-9a9f-6c62556d9081');\n",
              "          const dataTable =\n",
              "            await google.colab.kernel.invokeFunction('convertToInteractive',\n",
              "                                                     [key], {});\n",
              "          if (!dataTable) return;\n",
              "\n",
              "          const docLinkHtml = 'Like what you see? Visit the ' +\n",
              "            '<a target=\"_blank\" href=https://colab.research.google.com/notebooks/data_table.ipynb>data table notebook</a>'\n",
              "            + ' to learn more about interactive tables.';\n",
              "          element.innerHTML = '';\n",
              "          dataTable['output_type'] = 'display_data';\n",
              "          await google.colab.output.renderOutput(dataTable, element);\n",
              "          const docLink = document.createElement('div');\n",
              "          docLink.innerHTML = docLinkHtml;\n",
              "          element.appendChild(docLink);\n",
              "        }\n",
              "      </script>\n",
              "    </div>\n",
              "  </div>\n",
              "  "
            ]
          },
          "metadata": {},
          "execution_count": 32
        }
      ]
    },
    {
      "cell_type": "markdown",
      "source": [
        "Toy Story2를 추천해주고 있다. 그렇다면, 어떠한 영화가 이와 같이 추천을 해줬을까?"
      ],
      "metadata": {
        "id": "FRNi4aQQVgYW"
      }
    },
    {
      "cell_type": "code",
      "source": [
        "Toy_story2 = movie_to_idx[3114]\n",
        "explain = als_model.explain(user, csr_data, itemid=Toy_story2)"
      ],
      "metadata": {
        "id": "9VKI9BlPU9eg"
      },
      "execution_count": 33,
      "outputs": []
    },
    {
      "cell_type": "code",
      "source": [
        "[(idx_to_movie[i[0]], i[1]) for i in explain[1]]"
      ],
      "metadata": {
        "colab": {
          "base_uri": "https://localhost:8080/"
        },
        "id": "J8NFnGiIU9gn",
        "outputId": "c5aa2bff-f128-43ef-df92-8cea7ee608a7"
      },
      "execution_count": 34,
      "outputs": [
        {
          "output_type": "execute_result",
          "data": {
            "text/plain": [
              "[(1, 0.2584576048238112),\n",
              " (2671, 0.04674459129541232),\n",
              " (2058, 0.032664709614228335),\n",
              " (1270, 0.008281030502850104),\n",
              " (3404, -0.06168166799561124)]"
            ]
          },
          "metadata": {},
          "execution_count": 34
        }
      ]
    },
    {
      "cell_type": "markdown",
      "source": [
        "전작품인 Toy Story1이 영향을 많이 주고 있다."
      ],
      "metadata": {
        "id": "17EBN92qbVAU"
      }
    },
    {
      "cell_type": "code",
      "source": [
        "#두번째로 추천해준 영화\n",
        "movies.head(2360)"
      ],
      "metadata": {
        "colab": {
          "base_uri": "https://localhost:8080/",
          "height": 424
        },
        "id": "2uh6Q5bthipX",
        "outputId": "e424e8a4-1162-41dd-fbdb-69b14dd6078f"
      },
      "execution_count": 47,
      "outputs": [
        {
          "output_type": "execute_result",
          "data": {
            "text/plain": [
              "      movie_id                               title  \\\n",
              "0            1                    Toy Story (1995)   \n",
              "1            2                      Jumanji (1995)   \n",
              "2            3             Grumpier Old Men (1995)   \n",
              "3            4            Waiting to Exhale (1995)   \n",
              "4            5  Father of the Bride Part II (1995)   \n",
              "...        ...                                 ...   \n",
              "2355      2424              You've Got Mail (1998)   \n",
              "2356      2425                 General, The (1998)   \n",
              "2357      2426        Theory of Flight, The (1998)   \n",
              "2358      2427           Thin Red Line, The (1998)   \n",
              "2359      2428                 Faculty, The (1998)   \n",
              "\n",
              "                             genre  \n",
              "0      Animation|Children's|Comedy  \n",
              "1     Adventure|Children's|Fantasy  \n",
              "2                   Comedy|Romance  \n",
              "3                     Comedy|Drama  \n",
              "4                           Comedy  \n",
              "...                            ...  \n",
              "2355                Comedy|Romance  \n",
              "2356                         Crime  \n",
              "2357          Comedy|Drama|Romance  \n",
              "2358              Action|Drama|War  \n",
              "2359                 Horror|Sci-Fi  \n",
              "\n",
              "[2360 rows x 3 columns]"
            ],
            "text/html": [
              "\n",
              "  <div id=\"df-87ec630e-50c0-4896-8dbd-b07c7b330915\">\n",
              "    <div class=\"colab-df-container\">\n",
              "      <div>\n",
              "<style scoped>\n",
              "    .dataframe tbody tr th:only-of-type {\n",
              "        vertical-align: middle;\n",
              "    }\n",
              "\n",
              "    .dataframe tbody tr th {\n",
              "        vertical-align: top;\n",
              "    }\n",
              "\n",
              "    .dataframe thead th {\n",
              "        text-align: right;\n",
              "    }\n",
              "</style>\n",
              "<table border=\"1\" class=\"dataframe\">\n",
              "  <thead>\n",
              "    <tr style=\"text-align: right;\">\n",
              "      <th></th>\n",
              "      <th>movie_id</th>\n",
              "      <th>title</th>\n",
              "      <th>genre</th>\n",
              "    </tr>\n",
              "  </thead>\n",
              "  <tbody>\n",
              "    <tr>\n",
              "      <th>0</th>\n",
              "      <td>1</td>\n",
              "      <td>Toy Story (1995)</td>\n",
              "      <td>Animation|Children's|Comedy</td>\n",
              "    </tr>\n",
              "    <tr>\n",
              "      <th>1</th>\n",
              "      <td>2</td>\n",
              "      <td>Jumanji (1995)</td>\n",
              "      <td>Adventure|Children's|Fantasy</td>\n",
              "    </tr>\n",
              "    <tr>\n",
              "      <th>2</th>\n",
              "      <td>3</td>\n",
              "      <td>Grumpier Old Men (1995)</td>\n",
              "      <td>Comedy|Romance</td>\n",
              "    </tr>\n",
              "    <tr>\n",
              "      <th>3</th>\n",
              "      <td>4</td>\n",
              "      <td>Waiting to Exhale (1995)</td>\n",
              "      <td>Comedy|Drama</td>\n",
              "    </tr>\n",
              "    <tr>\n",
              "      <th>4</th>\n",
              "      <td>5</td>\n",
              "      <td>Father of the Bride Part II (1995)</td>\n",
              "      <td>Comedy</td>\n",
              "    </tr>\n",
              "    <tr>\n",
              "      <th>...</th>\n",
              "      <td>...</td>\n",
              "      <td>...</td>\n",
              "      <td>...</td>\n",
              "    </tr>\n",
              "    <tr>\n",
              "      <th>2355</th>\n",
              "      <td>2424</td>\n",
              "      <td>You've Got Mail (1998)</td>\n",
              "      <td>Comedy|Romance</td>\n",
              "    </tr>\n",
              "    <tr>\n",
              "      <th>2356</th>\n",
              "      <td>2425</td>\n",
              "      <td>General, The (1998)</td>\n",
              "      <td>Crime</td>\n",
              "    </tr>\n",
              "    <tr>\n",
              "      <th>2357</th>\n",
              "      <td>2426</td>\n",
              "      <td>Theory of Flight, The (1998)</td>\n",
              "      <td>Comedy|Drama|Romance</td>\n",
              "    </tr>\n",
              "    <tr>\n",
              "      <th>2358</th>\n",
              "      <td>2427</td>\n",
              "      <td>Thin Red Line, The (1998)</td>\n",
              "      <td>Action|Drama|War</td>\n",
              "    </tr>\n",
              "    <tr>\n",
              "      <th>2359</th>\n",
              "      <td>2428</td>\n",
              "      <td>Faculty, The (1998)</td>\n",
              "      <td>Horror|Sci-Fi</td>\n",
              "    </tr>\n",
              "  </tbody>\n",
              "</table>\n",
              "<p>2360 rows × 3 columns</p>\n",
              "</div>\n",
              "      <button class=\"colab-df-convert\" onclick=\"convertToInteractive('df-87ec630e-50c0-4896-8dbd-b07c7b330915')\"\n",
              "              title=\"Convert this dataframe to an interactive table.\"\n",
              "              style=\"display:none;\">\n",
              "        \n",
              "  <svg xmlns=\"http://www.w3.org/2000/svg\" height=\"24px\"viewBox=\"0 0 24 24\"\n",
              "       width=\"24px\">\n",
              "    <path d=\"M0 0h24v24H0V0z\" fill=\"none\"/>\n",
              "    <path d=\"M18.56 5.44l.94 2.06.94-2.06 2.06-.94-2.06-.94-.94-2.06-.94 2.06-2.06.94zm-11 1L8.5 8.5l.94-2.06 2.06-.94-2.06-.94L8.5 2.5l-.94 2.06-2.06.94zm10 10l.94 2.06.94-2.06 2.06-.94-2.06-.94-.94-2.06-.94 2.06-2.06.94z\"/><path d=\"M17.41 7.96l-1.37-1.37c-.4-.4-.92-.59-1.43-.59-.52 0-1.04.2-1.43.59L10.3 9.45l-7.72 7.72c-.78.78-.78 2.05 0 2.83L4 21.41c.39.39.9.59 1.41.59.51 0 1.02-.2 1.41-.59l7.78-7.78 2.81-2.81c.8-.78.8-2.07 0-2.86zM5.41 20L4 18.59l7.72-7.72 1.47 1.35L5.41 20z\"/>\n",
              "  </svg>\n",
              "      </button>\n",
              "      \n",
              "  <style>\n",
              "    .colab-df-container {\n",
              "      display:flex;\n",
              "      flex-wrap:wrap;\n",
              "      gap: 12px;\n",
              "    }\n",
              "\n",
              "    .colab-df-convert {\n",
              "      background-color: #E8F0FE;\n",
              "      border: none;\n",
              "      border-radius: 50%;\n",
              "      cursor: pointer;\n",
              "      display: none;\n",
              "      fill: #1967D2;\n",
              "      height: 32px;\n",
              "      padding: 0 0 0 0;\n",
              "      width: 32px;\n",
              "    }\n",
              "\n",
              "    .colab-df-convert:hover {\n",
              "      background-color: #E2EBFA;\n",
              "      box-shadow: 0px 1px 2px rgba(60, 64, 67, 0.3), 0px 1px 3px 1px rgba(60, 64, 67, 0.15);\n",
              "      fill: #174EA6;\n",
              "    }\n",
              "\n",
              "    [theme=dark] .colab-df-convert {\n",
              "      background-color: #3B4455;\n",
              "      fill: #D2E3FC;\n",
              "    }\n",
              "\n",
              "    [theme=dark] .colab-df-convert:hover {\n",
              "      background-color: #434B5C;\n",
              "      box-shadow: 0px 1px 3px 1px rgba(0, 0, 0, 0.15);\n",
              "      filter: drop-shadow(0px 1px 2px rgba(0, 0, 0, 0.3));\n",
              "      fill: #FFFFFF;\n",
              "    }\n",
              "  </style>\n",
              "\n",
              "      <script>\n",
              "        const buttonEl =\n",
              "          document.querySelector('#df-87ec630e-50c0-4896-8dbd-b07c7b330915 button.colab-df-convert');\n",
              "        buttonEl.style.display =\n",
              "          google.colab.kernel.accessAllowed ? 'block' : 'none';\n",
              "\n",
              "        async function convertToInteractive(key) {\n",
              "          const element = document.querySelector('#df-87ec630e-50c0-4896-8dbd-b07c7b330915');\n",
              "          const dataTable =\n",
              "            await google.colab.kernel.invokeFunction('convertToInteractive',\n",
              "                                                     [key], {});\n",
              "          if (!dataTable) return;\n",
              "\n",
              "          const docLinkHtml = 'Like what you see? Visit the ' +\n",
              "            '<a target=\"_blank\" href=https://colab.research.google.com/notebooks/data_table.ipynb>data table notebook</a>'\n",
              "            + ' to learn more about interactive tables.';\n",
              "          element.innerHTML = '';\n",
              "          dataTable['output_type'] = 'display_data';\n",
              "          await google.colab.output.renderOutput(dataTable, element);\n",
              "          const docLink = document.createElement('div');\n",
              "          docLink.innerHTML = docLinkHtml;\n",
              "          element.appendChild(docLink);\n",
              "        }\n",
              "      </script>\n",
              "    </div>\n",
              "  </div>\n",
              "  "
            ]
          },
          "metadata": {},
          "execution_count": 47
        }
      ]
    },
    {
      "cell_type": "code",
      "source": [
        "YGM = movie_to_idx[2424]\n",
        "explain = als_model.explain(user, csr_data, itemid=YGM)\n",
        "[(idx_to_movie[i[0]], i[1]) for i in explain[1]]"
      ],
      "metadata": {
        "colab": {
          "base_uri": "https://localhost:8080/"
        },
        "id": "gmCqw19_hmyo",
        "outputId": "e921085b-49ac-4a5a-9d12-cf93c917ad5e"
      },
      "execution_count": 49,
      "outputs": [
        {
          "output_type": "execute_result",
          "data": {
            "text/plain": [
              "[(2671, 0.12596894602648695),\n",
              " (1270, 0.038445033868334824),\n",
              " (1, 0.030548215864230795),\n",
              " (2058, 0.023823080852747355),\n",
              " (3404, 0.002481863563968331)]"
            ]
          },
          "metadata": {},
          "execution_count": 49
        }
      ]
    },
    {
      "cell_type": "markdown",
      "source": [
        "2671은 노팅힐의 인덱스 번호다. 노팅힐의 장르는 로맨틱 코미디이다. 이와 동일한 장르로서, 'You've Got Mail (1998)' 영화를 추천했다고 추측된다."
      ],
      "metadata": {
        "id": "DpC1XycXitfp"
      }
    },
    {
      "cell_type": "markdown",
      "source": [
        "### 회고"
      ],
      "metadata": {
        "id": "HIw8hu-ijooL"
      }
    },
    {
      "cell_type": "markdown",
      "source": [
        "날이 갈 수록 프로젝트는 어렵지만, 재미는 배가 되는 거 같다. 비록, 모든 것이 찍먹인 단계이지만 구현해낼 수 있다는 거에 의미를 두고 싶다. 고통은 당연 뒤따라 오고 있다. 하지만, 고통 뒤에 성장도 꼭 같이 오고 있다고 믿고 있다.\n",
        "\n",
        "\n",
        "아쉬운 점\n",
        "\n",
        "1. matrix를 좀 더 공부해야겠다.\n",
        "\n"
      ],
      "metadata": {
        "id": "sIm9apJ4lbya"
      }
    }
  ]
}