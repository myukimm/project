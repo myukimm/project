{
  "nbformat": 4,
  "nbformat_minor": 0,
  "metadata": {
    "colab": {
      "provenance": [],
      "machine_shape": "hm"
    },
    "kernelspec": {
      "name": "python3",
      "display_name": "Python 3"
    },
    "language_info": {
      "name": "python"
    },
    "accelerator": "GPU",
    "gpuClass": "premium"
  },
  "cells": [
    {
      "cell_type": "code",
      "execution_count": null,
      "metadata": {
        "id": "bouyIwwXeA0G"
      },
      "outputs": [],
      "source": [
        "import sys\n",
        "import pandas\n",
        "import numpy\n",
        "import sklearn\n",
        "import keras\n",
        "from sklearn.model_selection import GridSearchCV, KFold\n",
        "from keras.models import Sequential\n",
        "from keras.layers import Dense\n",
        "from keras.wrappers.scikit_learn import KerasClassifier\n",
        "from keras.optimizers import Adam\n",
        "import matplotlib.pyplot as plt\n",
        "from keras.layers import Dropout"
      ]
    },
    {
      "cell_type": "code",
      "source": [
        "from sklearn.datasets import load_breast_cancer\n",
        "data = load_breast_cancer()\n",
        "print('number of sample : ', data.target.sum())\n",
        "print('number of feature : ', len(data.feature_names))"
      ],
      "metadata": {
        "id": "qt167Sm3eHlj",
        "colab": {
          "base_uri": "https://localhost:8080/"
        },
        "outputId": "4c783dd1-07df-4994-c16c-499161f4e543"
      },
      "execution_count": null,
      "outputs": [
        {
          "output_type": "stream",
          "name": "stdout",
          "text": [
            "number of sample :  357\n",
            "number of feature :  30\n"
          ]
        }
      ]
    },
    {
      "cell_type": "code",
      "source": [
        "label = data.target\n",
        "data = data.data   "
      ],
      "metadata": {
        "id": "wkEJQPgWgwMN"
      },
      "execution_count": null,
      "outputs": []
    },
    {
      "cell_type": "code",
      "source": [
        "from sklearn.model_selection import train_test_split\n",
        "X_train, X_tmp, y_train, y_tmp = train_test_split(data, label, train_size=0.6, random_state=42)\n",
        "X_val, X_test, y_val, y_test   = train_test_split(X_tmp, y_tmp, test_size=0.5, random_state=42)"
      ],
      "metadata": {
        "id": "4yYY8fTYhSgu"
      },
      "execution_count": null,
      "outputs": []
    },
    {
      "cell_type": "code",
      "source": [
        "print(X_train.shape, y_train.shape, X_val.shape, y_val.shape, X_test.shape, y_test.shape)"
      ],
      "metadata": {
        "id": "Xkt7LAhifA_N",
        "colab": {
          "base_uri": "https://localhost:8080/"
        },
        "outputId": "8c5f7970-a06c-4f7b-9926-117a43e3787d"
      },
      "execution_count": null,
      "outputs": [
        {
          "output_type": "stream",
          "name": "stdout",
          "text": [
            "(341, 30) (341,) (114, 30) (114,) (114, 30) (114,)\n"
          ]
        }
      ]
    },
    {
      "cell_type": "code",
      "source": [
        "from sklearn.preprocessing import StandardScaler\n",
        "data_standard = StandardScaler().fit(data)\n",
        "X_train_std = data_standard.transform(X_train)\n",
        "X_val_std = data_standard.transform(X_val)\n",
        "X_test_std = data_standard.transform(X_test)"
      ],
      "metadata": {
        "id": "K7zszkcrlfb9"
      },
      "execution_count": null,
      "outputs": []
    },
    {
      "cell_type": "code",
      "source": [
        "data = data_standard.transform(data)"
      ],
      "metadata": {
        "id": "HPFN1dy9FfoX"
      },
      "execution_count": null,
      "outputs": []
    },
    {
      "cell_type": "code",
      "source": [
        "def create_model():\n",
        "    model = Sequential()\n",
        "    model.add(Dense(8, input_dim = 30, kernel_initializer= 'normal', activation= 'relu'))\n",
        "    model.add(Dense(4, input_dim = 8, kernel_initializer= 'normal', activation= 'relu'))\n",
        "    model.add(Dense(1, activation='sigmoid'))\n",
        "    adam = Adam(lr = 0.01)\n",
        "    model.compile(loss = 'binary_crossentropy', optimizer = adam, metrics = ['accuracy'])\n",
        "    return model\n",
        "model = create_model()\n",
        "model.compile(loss=\"categorical_crossentropy\", optimizer=\"adam\", metrics=[\"accuracy\"])\n",
        "model = KerasClassifier(build_fn = create_model, verbose = 1)\n",
        "history = model.fit(X_train_std, y_train, validation_data=(X_val_std, y_val), batch_size=30, epochs=50)"
      ],
      "metadata": {
        "id": "L1CBDetKwcj-",
        "colab": {
          "base_uri": "https://localhost:8080/"
        },
        "outputId": "17630810-87ee-4d48-b75c-79df1c5261de"
      },
      "execution_count": null,
      "outputs": [
        {
          "output_type": "stream",
          "name": "stdout",
          "text": [
            "Epoch 1/50\n"
          ]
        },
        {
          "output_type": "stream",
          "name": "stderr",
          "text": [
            "/usr/local/lib/python3.9/dist-packages/keras/optimizers/legacy/adam.py:117: UserWarning: The `lr` argument is deprecated, use `learning_rate` instead.\n",
            "  super().__init__(name, **kwargs)\n",
            "<ipython-input-8-09c49e3ff377>:11: DeprecationWarning: KerasClassifier is deprecated, use Sci-Keras (https://github.com/adriangb/scikeras) instead. See https://www.adriangb.com/scikeras/stable/migration.html for help migrating.\n",
            "  model = KerasClassifier(build_fn = create_model, verbose = 1)\n"
          ]
        },
        {
          "output_type": "stream",
          "name": "stdout",
          "text": [
            "12/12 [==============================] - 2s 22ms/step - loss: 0.5762 - accuracy: 0.8886 - val_loss: 0.3246 - val_accuracy: 0.9561\n",
            "Epoch 2/50\n",
            "12/12 [==============================] - 0s 6ms/step - loss: 0.2182 - accuracy: 0.9560 - val_loss: 0.0888 - val_accuracy: 0.9561\n",
            "Epoch 3/50\n",
            "12/12 [==============================] - 0s 6ms/step - loss: 0.1097 - accuracy: 0.9648 - val_loss: 0.0562 - val_accuracy: 0.9825\n",
            "Epoch 4/50\n",
            "12/12 [==============================] - 0s 6ms/step - loss: 0.0803 - accuracy: 0.9795 - val_loss: 0.0486 - val_accuracy: 0.9912\n",
            "Epoch 5/50\n",
            "12/12 [==============================] - 0s 6ms/step - loss: 0.0713 - accuracy: 0.9795 - val_loss: 0.0517 - val_accuracy: 0.9825\n",
            "Epoch 6/50\n",
            "12/12 [==============================] - 0s 6ms/step - loss: 0.0649 - accuracy: 0.9824 - val_loss: 0.0483 - val_accuracy: 0.9825\n",
            "Epoch 7/50\n",
            "12/12 [==============================] - 0s 6ms/step - loss: 0.0623 - accuracy: 0.9795 - val_loss: 0.0456 - val_accuracy: 0.9912\n",
            "Epoch 8/50\n",
            "12/12 [==============================] - 0s 6ms/step - loss: 0.0549 - accuracy: 0.9824 - val_loss: 0.0478 - val_accuracy: 0.9825\n",
            "Epoch 9/50\n",
            "12/12 [==============================] - 0s 6ms/step - loss: 0.0523 - accuracy: 0.9824 - val_loss: 0.0481 - val_accuracy: 0.9912\n",
            "Epoch 10/50\n",
            "12/12 [==============================] - 0s 6ms/step - loss: 0.0489 - accuracy: 0.9853 - val_loss: 0.0481 - val_accuracy: 0.9912\n",
            "Epoch 11/50\n",
            "12/12 [==============================] - 0s 6ms/step - loss: 0.0451 - accuracy: 0.9853 - val_loss: 0.0528 - val_accuracy: 0.9825\n",
            "Epoch 12/50\n",
            "12/12 [==============================] - 0s 6ms/step - loss: 0.0449 - accuracy: 0.9883 - val_loss: 0.0637 - val_accuracy: 0.9737\n",
            "Epoch 13/50\n",
            "12/12 [==============================] - 0s 6ms/step - loss: 0.0399 - accuracy: 0.9883 - val_loss: 0.0595 - val_accuracy: 0.9825\n",
            "Epoch 14/50\n",
            "12/12 [==============================] - 0s 6ms/step - loss: 0.0360 - accuracy: 0.9883 - val_loss: 0.0588 - val_accuracy: 0.9825\n",
            "Epoch 15/50\n",
            "12/12 [==============================] - 0s 6ms/step - loss: 0.0346 - accuracy: 0.9883 - val_loss: 0.0530 - val_accuracy: 0.9912\n",
            "Epoch 16/50\n",
            "12/12 [==============================] - 0s 6ms/step - loss: 0.0312 - accuracy: 0.9883 - val_loss: 0.0550 - val_accuracy: 0.9912\n",
            "Epoch 17/50\n",
            "12/12 [==============================] - 0s 6ms/step - loss: 0.0237 - accuracy: 0.9912 - val_loss: 0.0586 - val_accuracy: 0.9825\n",
            "Epoch 18/50\n",
            "12/12 [==============================] - 0s 6ms/step - loss: 0.0207 - accuracy: 0.9912 - val_loss: 0.0621 - val_accuracy: 0.9825\n",
            "Epoch 19/50\n",
            "12/12 [==============================] - 0s 6ms/step - loss: 0.0183 - accuracy: 0.9883 - val_loss: 0.0631 - val_accuracy: 0.9825\n",
            "Epoch 20/50\n",
            "12/12 [==============================] - 0s 6ms/step - loss: 0.0144 - accuracy: 0.9941 - val_loss: 0.0684 - val_accuracy: 0.9825\n",
            "Epoch 21/50\n",
            "12/12 [==============================] - 0s 6ms/step - loss: 0.0123 - accuracy: 0.9941 - val_loss: 0.0711 - val_accuracy: 0.9825\n",
            "Epoch 22/50\n",
            "12/12 [==============================] - 0s 6ms/step - loss: 0.0103 - accuracy: 0.9941 - val_loss: 0.0720 - val_accuracy: 0.9825\n",
            "Epoch 23/50\n",
            "12/12 [==============================] - 0s 6ms/step - loss: 0.0088 - accuracy: 0.9971 - val_loss: 0.0734 - val_accuracy: 0.9825\n",
            "Epoch 24/50\n",
            "12/12 [==============================] - 0s 6ms/step - loss: 0.0081 - accuracy: 0.9971 - val_loss: 0.0764 - val_accuracy: 0.9825\n",
            "Epoch 25/50\n",
            "12/12 [==============================] - 0s 7ms/step - loss: 0.0073 - accuracy: 1.0000 - val_loss: 0.0789 - val_accuracy: 0.9825\n",
            "Epoch 26/50\n",
            "12/12 [==============================] - 0s 6ms/step - loss: 0.0067 - accuracy: 1.0000 - val_loss: 0.0859 - val_accuracy: 0.9737\n",
            "Epoch 27/50\n",
            "12/12 [==============================] - 0s 6ms/step - loss: 0.0065 - accuracy: 1.0000 - val_loss: 0.0844 - val_accuracy: 0.9825\n",
            "Epoch 28/50\n",
            "12/12 [==============================] - 0s 7ms/step - loss: 0.0057 - accuracy: 1.0000 - val_loss: 0.0843 - val_accuracy: 0.9825\n",
            "Epoch 29/50\n",
            "12/12 [==============================] - 0s 6ms/step - loss: 0.0054 - accuracy: 1.0000 - val_loss: 0.0859 - val_accuracy: 0.9825\n",
            "Epoch 30/50\n",
            "12/12 [==============================] - 0s 6ms/step - loss: 0.0048 - accuracy: 1.0000 - val_loss: 0.0888 - val_accuracy: 0.9825\n",
            "Epoch 31/50\n",
            "12/12 [==============================] - 0s 6ms/step - loss: 0.0042 - accuracy: 1.0000 - val_loss: 0.0899 - val_accuracy: 0.9825\n",
            "Epoch 32/50\n",
            "12/12 [==============================] - 0s 6ms/step - loss: 0.0039 - accuracy: 1.0000 - val_loss: 0.0931 - val_accuracy: 0.9825\n",
            "Epoch 33/50\n",
            "12/12 [==============================] - 0s 6ms/step - loss: 0.0037 - accuracy: 1.0000 - val_loss: 0.0945 - val_accuracy: 0.9825\n",
            "Epoch 34/50\n",
            "12/12 [==============================] - 0s 5ms/step - loss: 0.0035 - accuracy: 1.0000 - val_loss: 0.0942 - val_accuracy: 0.9825\n",
            "Epoch 35/50\n",
            "12/12 [==============================] - 0s 7ms/step - loss: 0.0034 - accuracy: 1.0000 - val_loss: 0.0941 - val_accuracy: 0.9825\n",
            "Epoch 36/50\n",
            "12/12 [==============================] - 0s 5ms/step - loss: 0.0031 - accuracy: 1.0000 - val_loss: 0.0965 - val_accuracy: 0.9825\n",
            "Epoch 37/50\n",
            "12/12 [==============================] - 0s 6ms/step - loss: 0.0029 - accuracy: 1.0000 - val_loss: 0.0989 - val_accuracy: 0.9825\n",
            "Epoch 38/50\n",
            "12/12 [==============================] - 0s 6ms/step - loss: 0.0026 - accuracy: 1.0000 - val_loss: 0.1013 - val_accuracy: 0.9825\n",
            "Epoch 39/50\n",
            "12/12 [==============================] - 0s 7ms/step - loss: 0.0024 - accuracy: 1.0000 - val_loss: 0.1027 - val_accuracy: 0.9825\n",
            "Epoch 40/50\n",
            "12/12 [==============================] - 0s 6ms/step - loss: 0.0022 - accuracy: 1.0000 - val_loss: 0.1049 - val_accuracy: 0.9825\n",
            "Epoch 41/50\n",
            "12/12 [==============================] - 0s 6ms/step - loss: 0.0021 - accuracy: 1.0000 - val_loss: 0.1052 - val_accuracy: 0.9825\n",
            "Epoch 42/50\n",
            "12/12 [==============================] - 0s 6ms/step - loss: 0.0020 - accuracy: 1.0000 - val_loss: 0.1071 - val_accuracy: 0.9825\n",
            "Epoch 43/50\n",
            "12/12 [==============================] - 0s 6ms/step - loss: 0.0019 - accuracy: 1.0000 - val_loss: 0.1072 - val_accuracy: 0.9825\n",
            "Epoch 44/50\n",
            "12/12 [==============================] - 0s 6ms/step - loss: 0.0018 - accuracy: 1.0000 - val_loss: 0.1080 - val_accuracy: 0.9825\n",
            "Epoch 45/50\n",
            "12/12 [==============================] - 0s 6ms/step - loss: 0.0017 - accuracy: 1.0000 - val_loss: 0.1097 - val_accuracy: 0.9825\n",
            "Epoch 46/50\n",
            "12/12 [==============================] - 0s 5ms/step - loss: 0.0016 - accuracy: 1.0000 - val_loss: 0.1109 - val_accuracy: 0.9825\n",
            "Epoch 47/50\n",
            "12/12 [==============================] - 0s 5ms/step - loss: 0.0015 - accuracy: 1.0000 - val_loss: 0.1117 - val_accuracy: 0.9825\n",
            "Epoch 48/50\n",
            "12/12 [==============================] - 0s 5ms/step - loss: 0.0015 - accuracy: 1.0000 - val_loss: 0.1119 - val_accuracy: 0.9825\n",
            "Epoch 49/50\n",
            "12/12 [==============================] - 0s 6ms/step - loss: 0.0015 - accuracy: 1.0000 - val_loss: 0.1125 - val_accuracy: 0.9825\n",
            "Epoch 50/50\n",
            "12/12 [==============================] - 0s 6ms/step - loss: 0.0018 - accuracy: 1.0000 - val_loss: 0.1197 - val_accuracy: 0.9737\n"
          ]
        }
      ]
    },
    {
      "cell_type": "code",
      "source": [
        "# plot learning curves\n",
        "\n",
        "print(\"\\n\")\n",
        "print(history.history.keys())\n",
        "\n",
        "plt.plot(history.history['accuracy'])\n",
        "plt.plot(history.history['val_accuracy'])\n",
        "plt.title('model accuracy')\n",
        "plt.ylabel('accuracy')\n",
        "plt.xlabel('epoch')\n",
        "plt.legend(['train', 'val'], loc='upper left')\n",
        "plt.show()\n",
        "\n",
        "plt.plot(history.history['loss'])\n",
        "plt.plot(history.history['val_loss'])\n",
        "plt.title('model loss')\n",
        "plt.ylabel('loss')\n",
        "plt.xlabel('epoch')\n",
        "plt.legend(['train', 'val'], loc='upper left')\n",
        "plt.show()"
      ],
      "metadata": {
        "id": "LNGOsAUNwGCi",
        "colab": {
          "base_uri": "https://localhost:8080/",
          "height": 983
        },
        "outputId": "f59a137b-9914-46ed-d78e-4d938c6d5ec2"
      },
      "execution_count": null,
      "outputs": [
        {
          "output_type": "stream",
          "name": "stdout",
          "text": [
            "\n",
            "\n",
            "dict_keys(['loss', 'accuracy', 'val_loss', 'val_accuracy'])\n"
          ]
        },
        {
          "output_type": "display_data",
          "data": {
            "text/plain": [
              "<Figure size 640x480 with 1 Axes>"
            ],
            "image/png": "[encoded data removed]"
          },
          "metadata": {}
        },
        {
          "output_type": "display_data",
          "data": {
            "text/plain": [
              "<Figure size 640x480 with 1 Axes>"
            ],
            "image/png": "[encoded data removed]"
          },
          "metadata": {}
        }
      ]
    },
    {
      "cell_type": "code",
      "source": [
        "# 모델 정의 \n",
        "def create_model(neuron1, neuron2):\n",
        "    # 케라스 모델 생성\n",
        "    model = Sequential()\n",
        "    model.add(Dense(neuron1, input_dim = 30, \n",
        "                    kernel_initializer= 'uniform', \n",
        "                    activation= 'linear'))\n",
        "    model.add(Dropout(0.1))\n",
        "    model.add(Dense(neuron2, input_dim = neuron1, \n",
        "                    kernel_initializer= 'uniform', \n",
        "                    activation= 'linear'))\n",
        "    model.add(Dropout(0.1))\n",
        "    model.add(Dense(1, activation='sigmoid'))\n",
        "    \n",
        "    # 모델 컴파일\n",
        "    adam = Adam(lr = 0.01)\n",
        "    model.compile(loss = 'binary_crossentropy', \n",
        "                  optimizer = adam, \n",
        "                  metrics = ['accuracy'])\n",
        "    return model\n",
        "\n",
        "# 모델 생성\n",
        "model = KerasClassifier(build_fn = create_model, \n",
        "                        epochs = 100, batch_size = 20, verbose = 0)\n",
        "\n",
        "# 그리드 탐색 매개변수 설정 \n",
        "neuron1 = [4, 8, 16]\n",
        "neuron2 = [2, 4, 8]\n",
        "\n",
        "# 그리드 탐색 매개변수를 딕셔너리로 변화 \n",
        "param_grid = dict(neuron1 = neuron1, neuron2 = neuron2)\n",
        "\n",
        "# GridSearchCV 빌드와 적합\n",
        "grid = GridSearchCV(estimator = model, \n",
        "                    param_grid = param_grid, \n",
        "                    cv = KFold(random_state=42, shuffle=True), \n",
        "                    refit = True, \n",
        "                    verbose = 10)\n",
        "grid_results = grid.fit(X_train_std, y_train, validation_data=(X_val_std, y_val), batch_size=30, epochs=50)\n",
        "\n",
        "# 결과 보고\n",
        "print(\"Best: {0}, using {1}\".format(grid_results.best_score_, grid_results.best_params_))\n",
        "means = grid_results.cv_results_['mean_test_score']\n",
        "stds = grid_results.cv_results_['std_test_score']\n",
        "params = grid_results.cv_results_['params']\n",
        "for mean, stdev, param in zip(means, stds, params):\n",
        "    print('{0} ({1}) with: {2}'.format(mean, stdev, param))"
      ],
      "metadata": {
        "id": "KXxE1SDjnz7o",
        "colab": {
          "base_uri": "https://localhost:8080/"
        },
        "outputId": "a256d2be-d4b3-4473-8079-36b1372923ec"
      },
      "execution_count": null,
      "outputs": [
        {
          "output_type": "stream",
          "name": "stderr",
          "text": [
            "<ipython-input-10-35bacb75c9ac>:23: DeprecationWarning: KerasClassifier is deprecated, use Sci-Keras (https://github.com/adriangb/scikeras) instead. See https://www.adriangb.com/scikeras/stable/migration.html for help migrating.\n",
            "  model = KerasClassifier(build_fn = create_model,\n"
          ]
        },
        {
          "output_type": "stream",
          "name": "stdout",
          "text": [
            "Fitting 5 folds for each of 9 candidates, totalling 45 fits\n",
            "[CV 1/5; 1/9] START neuron1=4, neuron2=2........................................\n",
            "[CV 1/5; 1/9] END .........neuron1=4, neuron2=2;, score=0.942 total time=   3.9s\n",
            "[CV 2/5; 1/9] START neuron1=4, neuron2=2........................................\n",
            "[CV 2/5; 1/9] END .........neuron1=4, neuron2=2;, score=0.941 total time=   3.9s\n",
            "[CV 3/5; 1/9] START neuron1=4, neuron2=2........................................\n",
            "[CV 3/5; 1/9] END .........neuron1=4, neuron2=2;, score=1.000 total time=   3.8s\n",
            "[CV 4/5; 1/9] START neuron1=4, neuron2=2........................................\n",
            "[CV 4/5; 1/9] END .........neuron1=4, neuron2=2;, score=0.956 total time=   3.9s\n",
            "[CV 5/5; 1/9] START neuron1=4, neuron2=2........................................\n",
            "[CV 5/5; 1/9] END .........neuron1=4, neuron2=2;, score=0.971 total time=   3.9s\n",
            "[CV 1/5; 2/9] START neuron1=4, neuron2=4........................................\n",
            "[CV 1/5; 2/9] END .........neuron1=4, neuron2=4;, score=0.971 total time=   3.8s\n",
            "[CV 2/5; 2/9] START neuron1=4, neuron2=4........................................\n",
            "[CV 2/5; 2/9] END .........neuron1=4, neuron2=4;, score=0.926 total time=   3.9s\n",
            "[CV 3/5; 2/9] START neuron1=4, neuron2=4........................................\n",
            "[CV 3/5; 2/9] END .........neuron1=4, neuron2=4;, score=1.000 total time=   3.6s\n",
            "[CV 4/5; 2/9] START neuron1=4, neuron2=4........................................\n",
            "[CV 4/5; 2/9] END .........neuron1=4, neuron2=4;, score=0.956 total time=   3.5s\n",
            "[CV 5/5; 2/9] START neuron1=4, neuron2=4........................................\n",
            "[CV 5/5; 2/9] END .........neuron1=4, neuron2=4;, score=0.971 total time=   3.5s\n",
            "[CV 1/5; 3/9] START neuron1=4, neuron2=8........................................\n",
            "[CV 1/5; 3/9] END .........neuron1=4, neuron2=8;, score=0.971 total time=   3.9s\n",
            "[CV 2/5; 3/9] START neuron1=4, neuron2=8........................................\n",
            "[CV 2/5; 3/9] END .........neuron1=4, neuron2=8;, score=0.941 total time=   3.9s\n",
            "[CV 3/5; 3/9] START neuron1=4, neuron2=8........................................\n",
            "[CV 3/5; 3/9] END .........neuron1=4, neuron2=8;, score=0.941 total time=   3.8s\n",
            "[CV 4/5; 3/9] START neuron1=4, neuron2=8........................................\n",
            "[CV 4/5; 3/9] END .........neuron1=4, neuron2=8;, score=0.971 total time=   3.9s\n",
            "[CV 5/5; 3/9] START neuron1=4, neuron2=8........................................\n",
            "[CV 5/5; 3/9] END .........neuron1=4, neuron2=8;, score=0.971 total time=   4.4s\n",
            "[CV 1/5; 4/9] START neuron1=8, neuron2=2........................................\n",
            "[CV 1/5; 4/9] END .........neuron1=8, neuron2=2;, score=0.957 total time=   3.6s\n",
            "[CV 2/5; 4/9] START neuron1=8, neuron2=2........................................\n",
            "[CV 2/5; 4/9] END .........neuron1=8, neuron2=2;, score=0.941 total time=   3.5s\n",
            "[CV 3/5; 4/9] START neuron1=8, neuron2=2........................................\n",
            "[CV 3/5; 4/9] END .........neuron1=8, neuron2=2;, score=1.000 total time=   3.6s\n",
            "[CV 4/5; 4/9] START neuron1=8, neuron2=2........................................\n",
            "[CV 4/5; 4/9] END .........neuron1=8, neuron2=2;, score=0.971 total time=   3.9s\n",
            "[CV 5/5; 4/9] START neuron1=8, neuron2=2........................................\n",
            "[CV 5/5; 4/9] END .........neuron1=8, neuron2=2;, score=0.971 total time=   3.9s\n",
            "[CV 1/5; 5/9] START neuron1=8, neuron2=4........................................\n",
            "[CV 1/5; 5/9] END .........neuron1=8, neuron2=4;, score=0.942 total time=   3.9s\n",
            "[CV 2/5; 5/9] START neuron1=8, neuron2=4........................................\n",
            "[CV 2/5; 5/9] END .........neuron1=8, neuron2=4;, score=0.941 total time=   3.9s\n",
            "[CV 3/5; 5/9] START neuron1=8, neuron2=4........................................\n",
            "[CV 3/5; 5/9] END .........neuron1=8, neuron2=4;, score=1.000 total time=   3.9s\n",
            "[CV 4/5; 5/9] START neuron1=8, neuron2=4........................................\n",
            "[CV 4/5; 5/9] END .........neuron1=8, neuron2=4;, score=0.971 total time=   3.5s\n",
            "[CV 5/5; 5/9] START neuron1=8, neuron2=4........................................\n",
            "[CV 5/5; 5/9] END .........neuron1=8, neuron2=4;, score=0.971 total time=   3.5s\n",
            "[CV 1/5; 6/9] START neuron1=8, neuron2=8........................................\n",
            "[CV 1/5; 6/9] END .........neuron1=8, neuron2=8;, score=0.942 total time=   3.7s\n",
            "[CV 2/5; 6/9] START neuron1=8, neuron2=8........................................\n",
            "[CV 2/5; 6/9] END .........neuron1=8, neuron2=8;, score=0.971 total time=   4.0s\n",
            "[CV 3/5; 6/9] START neuron1=8, neuron2=8........................................\n",
            "[CV 3/5; 6/9] END .........neuron1=8, neuron2=8;, score=0.985 total time=   4.0s\n",
            "[CV 4/5; 6/9] START neuron1=8, neuron2=8........................................\n",
            "[CV 4/5; 6/9] END .........neuron1=8, neuron2=8;, score=0.956 total time=   4.0s\n",
            "[CV 5/5; 6/9] START neuron1=8, neuron2=8........................................\n",
            "[CV 5/5; 6/9] END .........neuron1=8, neuron2=8;, score=0.971 total time=   4.6s\n",
            "[CV 1/5; 7/9] START neuron1=16, neuron2=2.......................................\n",
            "[CV 1/5; 7/9] END ........neuron1=16, neuron2=2;, score=0.957 total time=   4.1s\n",
            "[CV 2/5; 7/9] START neuron1=16, neuron2=2.......................................\n",
            "[CV 2/5; 7/9] END ........neuron1=16, neuron2=2;, score=0.941 total time=   4.1s\n",
            "[CV 3/5; 7/9] START neuron1=16, neuron2=2.......................................\n",
            "[CV 3/5; 7/9] END ........neuron1=16, neuron2=2;, score=1.000 total time=   3.7s\n",
            "[CV 4/5; 7/9] START neuron1=16, neuron2=2.......................................\n",
            "[CV 4/5; 7/9] END ........neuron1=16, neuron2=2;, score=0.971 total time=   3.6s\n",
            "[CV 5/5; 7/9] START neuron1=16, neuron2=2.......................................\n",
            "[CV 5/5; 7/9] END ........neuron1=16, neuron2=2;, score=0.971 total time=   3.8s\n",
            "[CV 1/5; 8/9] START neuron1=16, neuron2=4.......................................\n",
            "[CV 1/5; 8/9] END ........neuron1=16, neuron2=4;, score=0.957 total time=   4.2s\n",
            "[CV 2/5; 8/9] START neuron1=16, neuron2=4.......................................\n",
            "[CV 2/5; 8/9] END ........neuron1=16, neuron2=4;, score=0.926 total time=   4.0s\n",
            "[CV 3/5; 8/9] START neuron1=16, neuron2=4.......................................\n",
            "[CV 3/5; 8/9] END ........neuron1=16, neuron2=4;, score=1.000 total time=   4.0s\n",
            "[CV 4/5; 8/9] START neuron1=16, neuron2=4.......................................\n",
            "[CV 4/5; 8/9] END ........neuron1=16, neuron2=4;, score=0.971 total time=   3.9s\n",
            "[CV 5/5; 8/9] START neuron1=16, neuron2=4.......................................\n",
            "[CV 5/5; 8/9] END ........neuron1=16, neuron2=4;, score=0.971 total time=   4.0s\n",
            "[CV 1/5; 9/9] START neuron1=16, neuron2=8.......................................\n",
            "[CV 1/5; 9/9] END ........neuron1=16, neuron2=8;, score=0.957 total time=   4.0s\n",
            "[CV 2/5; 9/9] START neuron1=16, neuron2=8.......................................\n",
            "[CV 2/5; 9/9] END ........neuron1=16, neuron2=8;, score=0.956 total time=   3.9s\n",
            "[CV 3/5; 9/9] START neuron1=16, neuron2=8.......................................\n",
            "[CV 3/5; 9/9] END ........neuron1=16, neuron2=8;, score=1.000 total time=   3.5s\n",
            "[CV 4/5; 9/9] START neuron1=16, neuron2=8.......................................\n",
            "[CV 4/5; 9/9] END ........neuron1=16, neuron2=8;, score=0.971 total time=   3.5s\n",
            "[CV 5/5; 9/9] START neuron1=16, neuron2=8.......................................\n",
            "[CV 5/5; 9/9] END ........neuron1=16, neuron2=8;, score=0.971 total time=   4.4s\n",
            "Best: 0.9707161068916321, using {'neuron1': 16, 'neuron2': 8}\n",
            "0.9619352102279664 (0.02185233079151333) with: {'neuron1': 4, 'neuron2': 2}\n",
            "0.9647911310195922 (0.02391581771486997) with: {'neuron1': 4, 'neuron2': 4}\n",
            "0.9589087724685669 (0.014479197737355917) with: {'neuron1': 4, 'neuron2': 8}\n",
            "0.9677749276161194 (0.01943397088721602) with: {'neuron1': 8, 'neuron2': 2}\n",
            "0.9648763775825501 (0.02182936996952913) with: {'neuron1': 8, 'neuron2': 4}\n",
            "0.9648763775825501 (0.014731112583960197) with: {'neuron1': 8, 'neuron2': 8}\n",
            "0.9677749276161194 (0.01943397088721602) with: {'neuron1': 16, 'neuron2': 2}\n",
            "0.9648337483406066 (0.02384833342364981) with: {'neuron1': 16, 'neuron2': 4}\n",
            "0.9707161068916321 (0.015994365446943815) with: {'neuron1': 16, 'neuron2': 8}\n"
          ]
        }
      ]
    },
    {
      "cell_type": "code",
      "source": [],
      "metadata": {
        "colab": {
          "base_uri": "https://localhost:8080/"
        },
        "id": "R8xoksjLIOCU",
        "outputId": "e42d1945-0e94-45b1-ed8f-91804e2dd4d3"
      },
      "execution_count": null,
      "outputs": [
        {
          "output_type": "stream",
          "name": "stdout",
          "text": [
            "18/18 [==============================] - 0s 1ms/step\n"
          ]
        },
        {
          "output_type": "execute_result",
          "data": {
            "text/plain": [
              "(569, 1)"
            ]
          },
          "metadata": {},
          "execution_count": 18
        }
      ]
    },
    {
      "cell_type": "code",
      "source": [
        "from sklearn.metrics import classification_report, accuracy_score\n",
        "pred = grid.predict(data)\n",
        "print('전체 데이터')\n",
        "print(accuracy_score(label, pred))\n",
        "print(classification_report(label, pred))"
      ],
      "metadata": {
        "colab": {
          "base_uri": "https://localhost:8080/"
        },
        "id": "m5Ldx3WGDW_2",
        "outputId": "61ebfc6a-d194-4af7-f9b0-c069dbda7c66"
      },
      "execution_count": null,
      "outputs": [
        {
          "output_type": "stream",
          "name": "stdout",
          "text": [
            "18/18 [==============================] - 0s 1ms/step\n",
            "전체 데이터\n",
            "0.9789103690685413\n",
            "              precision    recall  f1-score   support\n",
            "\n",
            "           0       0.96      0.98      0.97       212\n",
            "           1       0.99      0.98      0.98       357\n",
            "\n",
            "    accuracy                           0.98       569\n",
            "   macro avg       0.98      0.98      0.98       569\n",
            "weighted avg       0.98      0.98      0.98       569\n",
            "\n"
          ]
        }
      ]
    },
    {
      "cell_type": "code",
      "source": [
        "from sklearn.metrics import classification_report, accuracy_score\n",
        "pred = grid.predict(X_test)\n",
        "print('테스트 데이터')\n",
        "print(accuracy_score(y_test, pred))\n",
        "print(classification_report(y_test, pred))"
      ],
      "metadata": {
        "colab": {
          "base_uri": "https://localhost:8080/"
        },
        "id": "QZm8EAh4Jr14",
        "outputId": "ac0921e3-8587-4c10-9f9a-5f8fcb8b5e2a"
      },
      "execution_count": null,
      "outputs": [
        {
          "output_type": "stream",
          "name": "stdout",
          "text": [
            "4/4 [==============================] - 0s 2ms/step\n",
            "테스트 데이터\n",
            "0.3333333333333333\n",
            "              precision    recall  f1-score   support\n",
            "\n",
            "           0       0.33      1.00      0.50        38\n",
            "           1       0.00      0.00      0.00        76\n",
            "\n",
            "    accuracy                           0.33       114\n",
            "   macro avg       0.17      0.50      0.25       114\n",
            "weighted avg       0.11      0.33      0.17       114\n",
            "\n"
          ]
        },
        {
          "output_type": "stream",
          "name": "stderr",
          "text": [
            "/usr/local/lib/python3.9/dist-packages/sklearn/metrics/_classification.py:1344: UndefinedMetricWarning: Precision and F-score are ill-defined and being set to 0.0 in labels with no predicted samples. Use `zero_division` parameter to control this behavior.\n",
            "  _warn_prf(average, modifier, msg_start, len(result))\n",
            "/usr/local/lib/python3.9/dist-packages/sklearn/metrics/_classification.py:1344: UndefinedMetricWarning: Precision and F-score are ill-defined and being set to 0.0 in labels with no predicted samples. Use `zero_division` parameter to control this behavior.\n",
            "  _warn_prf(average, modifier, msg_start, len(result))\n",
            "/usr/local/lib/python3.9/dist-packages/sklearn/metrics/_classification.py:1344: UndefinedMetricWarning: Precision and F-score are ill-defined and being set to 0.0 in labels with no predicted samples. Use `zero_division` parameter to control this behavior.\n",
            "  _warn_prf(average, modifier, msg_start, len(result))\n"
          ]
        }
      ]
    }
  ]
}