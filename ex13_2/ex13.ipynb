{
  "nbformat": 4,
  "nbformat_minor": 0,
  "metadata": {
    "colab": {
      "provenance": []
    },
    "kernelspec": {
      "name": "python3",
      "display_name": "Python 3"
    },
    "language_info": {
      "name": "python"
    },
    "widgets": {
      "application/vnd.jupyter.widget-state+json": {
        "e4b2eaac3de04ef38b885369c25431bc": {
          "model_module": "@jupyter-widgets/controls",
          "model_name": "HBoxModel",
          "model_module_version": "1.5.0",
          "state": {
            "_dom_classes": [],
            "_model_module": "@jupyter-widgets/controls",
            "_model_module_version": "1.5.0",
            "_model_name": "HBoxModel",
            "_view_count": null,
            "_view_module": "@jupyter-widgets/controls",
            "_view_module_version": "1.5.0",
            "_view_name": "HBoxView",
            "box_style": "",
            "children": [
              "IPY_MODEL_122b5570af1242ae83dfaa905342b4d3",
              "IPY_MODEL_6a7095abf0df4bc19118da53be50f3fe",
              "IPY_MODEL_94db52d923244f72a9e9d8bb2e4e30d3"
            ],
            "layout": "IPY_MODEL_2e4bbc47b1c640cda136a398d76dcaea"
          }
        },
        "122b5570af1242ae83dfaa905342b4d3": {
          "model_module": "@jupyter-widgets/controls",
          "model_name": "HTMLModel",
          "model_module_version": "1.5.0",
          "state": {
            "_dom_classes": [],
            "_model_module": "@jupyter-widgets/controls",
            "_model_module_version": "1.5.0",
            "_model_name": "HTMLModel",
            "_view_count": null,
            "_view_module": "@jupyter-widgets/controls",
            "_view_module_version": "1.5.0",
            "_view_name": "HTMLView",
            "description": "",
            "description_tooltip": null,
            "layout": "IPY_MODEL_b171df824fa24124bdcb6ade83f4c9b9",
            "placeholder": "​",
            "style": "IPY_MODEL_629c143a25b34d28be4679854418f74c",
            "value": "100%"
          }
        },
        "6a7095abf0df4bc19118da53be50f3fe": {
          "model_module": "@jupyter-widgets/controls",
          "model_name": "FloatProgressModel",
          "model_module_version": "1.5.0",
          "state": {
            "_dom_classes": [],
            "_model_module": "@jupyter-widgets/controls",
            "_model_module_version": "1.5.0",
            "_model_name": "FloatProgressModel",
            "_view_count": null,
            "_view_module": "@jupyter-widgets/controls",
            "_view_module_version": "1.5.0",
            "_view_name": "ProgressView",
            "bar_style": "success",
            "description": "",
            "description_tooltip": null,
            "layout": "IPY_MODEL_4edb5a06951643d48c4810ee33388802",
            "max": 40,
            "min": 0,
            "orientation": "horizontal",
            "style": "IPY_MODEL_d34f49fcc8fb42538b74d35e17b35b99",
            "value": 40
          }
        },
        "94db52d923244f72a9e9d8bb2e4e30d3": {
          "model_module": "@jupyter-widgets/controls",
          "model_name": "HTMLModel",
          "model_module_version": "1.5.0",
          "state": {
            "_dom_classes": [],
            "_model_module": "@jupyter-widgets/controls",
            "_model_module_version": "1.5.0",
            "_model_name": "HTMLModel",
            "_view_count": null,
            "_view_module": "@jupyter-widgets/controls",
            "_view_module_version": "1.5.0",
            "_view_name": "HTMLView",
            "description": "",
            "description_tooltip": null,
            "layout": "IPY_MODEL_7ab6a778d8154d139435c357e7f2fa62",
            "placeholder": "​",
            "style": "IPY_MODEL_f28770992f834442b40c9f9f79e3accc",
            "value": " 40/40 [01:50&lt;00:00,  2.77s/it]"
          }
        },
        "2e4bbc47b1c640cda136a398d76dcaea": {
          "model_module": "@jupyter-widgets/base",
          "model_name": "LayoutModel",
          "model_module_version": "1.2.0",
          "state": {
            "_model_module": "@jupyter-widgets/base",
            "_model_module_version": "1.2.0",
            "_model_name": "LayoutModel",
            "_view_count": null,
            "_view_module": "@jupyter-widgets/base",
            "_view_module_version": "1.2.0",
            "_view_name": "LayoutView",
            "align_content": null,
            "align_items": null,
            "align_self": null,
            "border": null,
            "bottom": null,
            "display": null,
            "flex": null,
            "flex_flow": null,
            "grid_area": null,
            "grid_auto_columns": null,
            "grid_auto_flow": null,
            "grid_auto_rows": null,
            "grid_column": null,
            "grid_gap": null,
            "grid_row": null,
            "grid_template_areas": null,
            "grid_template_columns": null,
            "grid_template_rows": null,
            "height": null,
            "justify_content": null,
            "justify_items": null,
            "left": null,
            "margin": null,
            "max_height": null,
            "max_width": null,
            "min_height": null,
            "min_width": null,
            "object_fit": null,
            "object_position": null,
            "order": null,
            "overflow": null,
            "overflow_x": null,
            "overflow_y": null,
            "padding": null,
            "right": null,
            "top": null,
            "visibility": null,
            "width": null
          }
        },
        "b171df824fa24124bdcb6ade83f4c9b9": {
          "model_module": "@jupyter-widgets/base",
          "model_name": "LayoutModel",
          "model_module_version": "1.2.0",
          "state": {
            "_model_module": "@jupyter-widgets/base",
            "_model_module_version": "1.2.0",
            "_model_name": "LayoutModel",
            "_view_count": null,
            "_view_module": "@jupyter-widgets/base",
            "_view_module_version": "1.2.0",
            "_view_name": "LayoutView",
            "align_content": null,
            "align_items": null,
            "align_self": null,
            "border": null,
            "bottom": null,
            "display": null,
            "flex": null,
            "flex_flow": null,
            "grid_area": null,
            "grid_auto_columns": null,
            "grid_auto_flow": null,
            "grid_auto_rows": null,
            "grid_column": null,
            "grid_gap": null,
            "grid_row": null,
            "grid_template_areas": null,
            "grid_template_columns": null,
            "grid_template_rows": null,
            "height": null,
            "justify_content": null,
            "justify_items": null,
            "left": null,
            "margin": null,
            "max_height": null,
            "max_width": null,
            "min_height": null,
            "min_width": null,
            "object_fit": null,
            "object_position": null,
            "order": null,
            "overflow": null,
            "overflow_x": null,
            "overflow_y": null,
            "padding": null,
            "right": null,
            "top": null,
            "visibility": null,
            "width": null
          }
        },
        "629c143a25b34d28be4679854418f74c": {
          "model_module": "@jupyter-widgets/controls",
          "model_name": "DescriptionStyleModel",
          "model_module_version": "1.5.0",
          "state": {
            "_model_module": "@jupyter-widgets/controls",
            "_model_module_version": "1.5.0",
            "_model_name": "DescriptionStyleModel",
            "_view_count": null,
            "_view_module": "@jupyter-widgets/base",
            "_view_module_version": "1.2.0",
            "_view_name": "StyleView",
            "description_width": ""
          }
        },
        "4edb5a06951643d48c4810ee33388802": {
          "model_module": "@jupyter-widgets/base",
          "model_name": "LayoutModel",
          "model_module_version": "1.2.0",
          "state": {
            "_model_module": "@jupyter-widgets/base",
            "_model_module_version": "1.2.0",
            "_model_name": "LayoutModel",
            "_view_count": null,
            "_view_module": "@jupyter-widgets/base",
            "_view_module_version": "1.2.0",
            "_view_name": "LayoutView",
            "align_content": null,
            "align_items": null,
            "align_self": null,
            "border": null,
            "bottom": null,
            "display": null,
            "flex": null,
            "flex_flow": null,
            "grid_area": null,
            "grid_auto_columns": null,
            "grid_auto_flow": null,
            "grid_auto_rows": null,
            "grid_column": null,
            "grid_gap": null,
            "grid_row": null,
            "grid_template_areas": null,
            "grid_template_columns": null,
            "grid_template_rows": null,
            "height": null,
            "justify_content": null,
            "justify_items": null,
            "left": null,
            "margin": null,
            "max_height": null,
            "max_width": null,
            "min_height": null,
            "min_width": null,
            "object_fit": null,
            "object_position": null,
            "order": null,
            "overflow": null,
            "overflow_x": null,
            "overflow_y": null,
            "padding": null,
            "right": null,
            "top": null,
            "visibility": null,
            "width": null
          }
        },
        "d34f49fcc8fb42538b74d35e17b35b99": {
          "model_module": "@jupyter-widgets/controls",
          "model_name": "ProgressStyleModel",
          "model_module_version": "1.5.0",
          "state": {
            "_model_module": "@jupyter-widgets/controls",
            "_model_module_version": "1.5.0",
            "_model_name": "ProgressStyleModel",
            "_view_count": null,
            "_view_module": "@jupyter-widgets/base",
            "_view_module_version": "1.2.0",
            "_view_name": "StyleView",
            "bar_color": null,
            "description_width": ""
          }
        },
        "7ab6a778d8154d139435c357e7f2fa62": {
          "model_module": "@jupyter-widgets/base",
          "model_name": "LayoutModel",
          "model_module_version": "1.2.0",
          "state": {
            "_model_module": "@jupyter-widgets/base",
            "_model_module_version": "1.2.0",
            "_model_name": "LayoutModel",
            "_view_count": null,
            "_view_module": "@jupyter-widgets/base",
            "_view_module_version": "1.2.0",
            "_view_name": "LayoutView",
            "align_content": null,
            "align_items": null,
            "align_self": null,
            "border": null,
            "bottom": null,
            "display": null,
            "flex": null,
            "flex_flow": null,
            "grid_area": null,
            "grid_auto_columns": null,
            "grid_auto_flow": null,
            "grid_auto_rows": null,
            "grid_column": null,
            "grid_gap": null,
            "grid_row": null,
            "grid_template_areas": null,
            "grid_template_columns": null,
            "grid_template_rows": null,
            "height": null,
            "justify_content": null,
            "justify_items": null,
            "left": null,
            "margin": null,
            "max_height": null,
            "max_width": null,
            "min_height": null,
            "min_width": null,
            "object_fit": null,
            "object_position": null,
            "order": null,
            "overflow": null,
            "overflow_x": null,
            "overflow_y": null,
            "padding": null,
            "right": null,
            "top": null,
            "visibility": null,
            "width": null
          }
        },
        "f28770992f834442b40c9f9f79e3accc": {
          "model_module": "@jupyter-widgets/controls",
          "model_name": "DescriptionStyleModel",
          "model_module_version": "1.5.0",
          "state": {
            "_model_module": "@jupyter-widgets/controls",
            "_model_module_version": "1.5.0",
            "_model_name": "DescriptionStyleModel",
            "_view_count": null,
            "_view_module": "@jupyter-widgets/base",
            "_view_module_version": "1.2.0",
            "_view_name": "StyleView",
            "description_width": ""
          }
        }
      }
    },
    "accelerator": "GPU",
    "gpuClass": "standard"
  },
  "cells": [
    {
      "cell_type": "markdown",
      "source": [
        "# Ex13"
      ],
      "metadata": {
        "id": "wFvs3Ff_OIBx"
      }
    },
    {
      "cell_type": "code",
      "execution_count": 1,
      "metadata": {
        "colab": {
          "base_uri": "https://localhost:8080/"
        },
        "id": "ANvZxr9IOHU5",
        "outputId": "d7029fff-a546-431e-bfd0-9e0e90e78dc0"
      },
      "outputs": [
        {
          "output_type": "stream",
          "name": "stdout",
          "text": [
            "Looking in indexes: https://pypi.org/simple, https://us-python.pkg.dev/colab-wheels/public/simple/\n",
            "Requirement already satisfied: pip in /usr/local/lib/python3.7/dist-packages (22.2.2)\n",
            "Requirement already satisfied: setuptools in /usr/local/lib/python3.7/dist-packages (65.3.0)\n",
            "Requirement already satisfied: wheel in /usr/local/lib/python3.7/dist-packages (0.37.1)\n",
            "\u001b[33mWARNING: Running pip as the 'root' user can result in broken permissions and conflicting behaviour with the system package manager. It is recommended to use a virtual environment instead: https://pip.pypa.io/warnings/venv\u001b[0m\u001b[33m\n",
            "\u001b[0mLooking in indexes: https://pypi.org/simple, https://us-python.pkg.dev/colab-wheels/public/simple/\n",
            "Requirement already satisfied: opencv-python in /usr/local/lib/python3.7/dist-packages (4.6.0.66)\n",
            "Requirement already satisfied: numpy>=1.14.5 in /usr/local/lib/python3.7/dist-packages (from opencv-python) (1.21.6)\n",
            "\u001b[33mWARNING: Running pip as the 'root' user can result in broken permissions and conflicting behaviour with the system package manager. It is recommended to use a virtual environment instead: https://pip.pypa.io/warnings/venv\u001b[0m\u001b[33m\n",
            "\u001b[0mLooking in indexes: https://pypi.org/simple, https://us-python.pkg.dev/colab-wheels/public/simple/\n",
            "Requirement already satisfied: implicit==0.4.8 in /usr/local/lib/python3.7/dist-packages (0.4.8)\n",
            "Requirement already satisfied: scipy>=0.16 in /usr/local/lib/python3.7/dist-packages (from implicit==0.4.8) (1.7.3)\n",
            "Requirement already satisfied: numpy in /usr/local/lib/python3.7/dist-packages (from implicit==0.4.8) (1.21.6)\n",
            "Requirement already satisfied: tqdm>=4.27 in /usr/local/lib/python3.7/dist-packages (from implicit==0.4.8) (4.64.0)\n",
            "\u001b[33mWARNING: Running pip as the 'root' user can result in broken permissions and conflicting behaviour with the system package manager. It is recommended to use a virtual environment instead: https://pip.pypa.io/warnings/venv\u001b[0m\u001b[33m\n",
            "\u001b[0m"
          ]
        }
      ],
      "source": [
        "! pip install --upgrade pip setuptools wheel\n",
        "! pip install opencv-python\n",
        "! pip install --upgrade implicit=='0.4.8'"
      ]
    },
    {
      "cell_type": "code",
      "source": [
        "from google.colab import drive\n",
        "drive.mount('/content/drive')"
      ],
      "metadata": {
        "colab": {
          "base_uri": "https://localhost:8080/"
        },
        "id": "Boo4nyb5ONOE",
        "outputId": "451ec1cb-0d1a-417a-ab66-d202c678d19d"
      },
      "execution_count": 2,
      "outputs": [
        {
          "output_type": "stream",
          "name": "stdout",
          "text": [
            "Mounted at /content/drive\n"
          ]
        }
      ]
    },
    {
      "cell_type": "code",
      "source": [
        "import numpy as np\n",
        "import scipy\n",
        "import implicit\n",
        "import pandas as pd\n",
        "from implicit.als import AlternatingLeastSquares\n",
        "\n",
        "print(np.__version__)\n",
        "print(scipy.__version__)\n",
        "print(implicit.__version__)"
      ],
      "metadata": {
        "colab": {
          "base_uri": "https://localhost:8080/"
        },
        "id": "-KoH1tUHONQn",
        "outputId": "0a04e520-fbec-43d3-9b45-d7b0699d2577"
      },
      "execution_count": 3,
      "outputs": [
        {
          "output_type": "stream",
          "name": "stdout",
          "text": [
            "1.21.6\n",
            "1.7.3\n",
            "0.4.8\n"
          ]
        }
      ]
    },
    {
      "cell_type": "markdown",
      "source": [
        "#### 데이터 준비와 전처리"
      ],
      "metadata": {
        "id": "xxhzTVkvOIFC"
      }
    },
    {
      "cell_type": "code",
      "source": [
        "rating_file_path='/content/drive/MyDrive/ml-1m/ratings.dat'\n",
        "ratings_cols = ['user_id', 'movie_id', 'ratings', 'timestamp']\n",
        "data = pd.read_csv(rating_file_path, sep='::', names=ratings_cols, engine='python', encoding = \"ISO-8859-1\")\n",
        "orginal_data_size = len(data)\n",
        "data.head()"
      ],
      "metadata": {
        "colab": {
          "base_uri": "https://localhost:8080/",
          "height": 206
        },
        "id": "fTDvp21xONTa",
        "outputId": "ffa62032-9335-4b62-83de-47f269b9d3de"
      },
      "execution_count": 4,
      "outputs": [
        {
          "output_type": "execute_result",
          "data": {
            "text/plain": [
              "   user_id  movie_id  ratings  timestamp\n",
              "0        1      1193        5  978300760\n",
              "1        1       661        3  978302109\n",
              "2        1       914        3  978301968\n",
              "3        1      3408        4  978300275\n",
              "4        1      2355        5  978824291"
            ],
            "text/html": [
              "\n",
              "  <div id=\"df-9745f313-8c8a-4bd9-ac2b-1b7040d0b109\">\n",
              "    <div class=\"colab-df-container\">\n",
              "      <div>\n",
              "<style scoped>\n",
              "    .dataframe tbody tr th:only-of-type {\n",
              "        vertical-align: middle;\n",
              "    }\n",
              "\n",
              "    .dataframe tbody tr th {\n",
              "        vertical-align: top;\n",
              "    }\n",
              "\n",
              "    .dataframe thead th {\n",
              "        text-align: right;\n",
              "    }\n",
              "</style>\n",
              "<table border=\"1\" class=\"dataframe\">\n",
              "  <thead>\n",
              "    <tr style=\"text-align: right;\">\n",
              "      <th></th>\n",
              "      <th>user_id</th>\n",
              "      <th>movie_id</th>\n",
              "      <th>ratings</th>\n",
              "      <th>timestamp</th>\n",
              "    </tr>\n",
              "  </thead>\n",
              "  <tbody>\n",
              "    <tr>\n",
              "      <th>0</th>\n",
              "      <td>1</td>\n",
              "      <td>1193</td>\n",
              "      <td>5</td>\n",
              "      <td>978300760</td>\n",
              "    </tr>\n",
              "    <tr>\n",
              "      <th>1</th>\n",
              "      <td>1</td>\n",
              "      <td>661</td>\n",
              "      <td>3</td>\n",
              "      <td>978302109</td>\n",
              "    </tr>\n",
              "    <tr>\n",
              "      <th>2</th>\n",
              "      <td>1</td>\n",
              "      <td>914</td>\n",
              "      <td>3</td>\n",
              "      <td>978301968</td>\n",
              "    </tr>\n",
              "    <tr>\n",
              "      <th>3</th>\n",
              "      <td>1</td>\n",
              "      <td>3408</td>\n",
              "      <td>4</td>\n",
              "      <td>978300275</td>\n",
              "    </tr>\n",
              "    <tr>\n",
              "      <th>4</th>\n",
              "      <td>1</td>\n",
              "      <td>2355</td>\n",
              "      <td>5</td>\n",
              "      <td>978824291</td>\n",
              "    </tr>\n",
              "  </tbody>\n",
              "</table>\n",
              "</div>\n",
              "      <button class=\"colab-df-convert\" onclick=\"convertToInteractive('df-9745f313-8c8a-4bd9-ac2b-1b7040d0b109')\"\n",
              "              title=\"Convert this dataframe to an interactive table.\"\n",
              "              style=\"display:none;\">\n",
              "        \n",
              "  <svg xmlns=\"http://www.w3.org/2000/svg\" height=\"24px\"viewBox=\"0 0 24 24\"\n",
              "       width=\"24px\">\n",
              "    <path d=\"M0 0h24v24H0V0z\" fill=\"none\"/>\n",
              "    <path d=\"M18.56 5.44l.94 2.06.94-2.06 2.06-.94-2.06-.94-.94-2.06-.94 2.06-2.06.94zm-11 1L8.5 8.5l.94-2.06 2.06-.94-2.06-.94L8.5 2.5l-.94 2.06-2.06.94zm10 10l.94 2.06.94-2.06 2.06-.94-2.06-.94-.94-2.06-.94 2.06-2.06.94z\"/><path d=\"M17.41 7.96l-1.37-1.37c-.4-.4-.92-.59-1.43-.59-.52 0-1.04.2-1.43.59L10.3 9.45l-7.72 7.72c-.78.78-.78 2.05 0 2.83L4 21.41c.39.39.9.59 1.41.59.51 0 1.02-.2 1.41-.59l7.78-7.78 2.81-2.81c.8-.78.8-2.07 0-2.86zM5.41 20L4 18.59l7.72-7.72 1.47 1.35L5.41 20z\"/>\n",
              "  </svg>\n",
              "      </button>\n",
              "      \n",
              "  <style>\n",
              "    .colab-df-container {\n",
              "      display:flex;\n",
              "      flex-wrap:wrap;\n",
              "      gap: 12px;\n",
              "    }\n",
              "\n",
              "    .colab-df-convert {\n",
              "      background-color: #E8F0FE;\n",
              "      border: none;\n",
              "      border-radius: 50%;\n",
              "      cursor: pointer;\n",
              "      display: none;\n",
              "      fill: #1967D2;\n",
              "      height: 32px;\n",
              "      padding: 0 0 0 0;\n",
              "      width: 32px;\n",
              "    }\n",
              "\n",
              "    .colab-df-convert:hover {\n",
              "      background-color: #E2EBFA;\n",
              "      box-shadow: 0px 1px 2px rgba(60, 64, 67, 0.3), 0px 1px 3px 1px rgba(60, 64, 67, 0.15);\n",
              "      fill: #174EA6;\n",
              "    }\n",
              "\n",
              "    [theme=dark] .colab-df-convert {\n",
              "      background-color: #3B4455;\n",
              "      fill: #D2E3FC;\n",
              "    }\n",
              "\n",
              "    [theme=dark] .colab-df-convert:hover {\n",
              "      background-color: #434B5C;\n",
              "      box-shadow: 0px 1px 3px 1px rgba(0, 0, 0, 0.15);\n",
              "      filter: drop-shadow(0px 1px 2px rgba(0, 0, 0, 0.3));\n",
              "      fill: #FFFFFF;\n",
              "    }\n",
              "  </style>\n",
              "\n",
              "      <script>\n",
              "        const buttonEl =\n",
              "          document.querySelector('#df-9745f313-8c8a-4bd9-ac2b-1b7040d0b109 button.colab-df-convert');\n",
              "        buttonEl.style.display =\n",
              "          google.colab.kernel.accessAllowed ? 'block' : 'none';\n",
              "\n",
              "        async function convertToInteractive(key) {\n",
              "          const element = document.querySelector('#df-9745f313-8c8a-4bd9-ac2b-1b7040d0b109');\n",
              "          const dataTable =\n",
              "            await google.colab.kernel.invokeFunction('convertToInteractive',\n",
              "                                                     [key], {});\n",
              "          if (!dataTable) return;\n",
              "\n",
              "          const docLinkHtml = 'Like what you see? Visit the ' +\n",
              "            '<a target=\"_blank\" href=https://colab.research.google.com/notebooks/data_table.ipynb>data table notebook</a>'\n",
              "            + ' to learn more about interactive tables.';\n",
              "          element.innerHTML = '';\n",
              "          dataTable['output_type'] = 'display_data';\n",
              "          await google.colab.output.renderOutput(dataTable, element);\n",
              "          const docLink = document.createElement('div');\n",
              "          docLink.innerHTML = docLinkHtml;\n",
              "          element.appendChild(docLink);\n",
              "        }\n",
              "      </script>\n",
              "    </div>\n",
              "  </div>\n",
              "  "
            ]
          },
          "metadata": {},
          "execution_count": 4
        }
      ]
    },
    {
      "cell_type": "code",
      "source": [
        "# 3점 이상만 남긴다.\n",
        "data = data[data['ratings']>=3]\n",
        "filtered_data_size = len(data)\n",
        "\n",
        "print(f'orginal_data_size: {orginal_data_size}, filtered_data_size: {filtered_data_size}')\n",
        "print(f'Ratio of Remaining Data is {filtered_data_size / orginal_data_size:.2%}')"
      ],
      "metadata": {
        "colab": {
          "base_uri": "https://localhost:8080/"
        },
        "id": "1oi1V-QIONV5",
        "outputId": "fe194600-c888-41ab-ae7f-730dde1150fd"
      },
      "execution_count": 5,
      "outputs": [
        {
          "output_type": "stream",
          "name": "stdout",
          "text": [
            "orginal_data_size: 1000209, filtered_data_size: 836478\n",
            "Ratio of Remaining Data is 83.63%\n"
          ]
        }
      ]
    },
    {
      "cell_type": "code",
      "source": [
        "# ratings 컬럼의 이름을 counts로 바꾼다.\n",
        "data.rename(columns={'ratings':'counts'}, inplace=True)"
      ],
      "metadata": {
        "colab": {
          "base_uri": "https://localhost:8080/"
        },
        "id": "wHXpDnrdOSpG",
        "outputId": "59fde928-50d5-48f6-f171-41c1d34f6caa"
      },
      "execution_count": 6,
      "outputs": [
        {
          "output_type": "stream",
          "name": "stderr",
          "text": [
            "/usr/local/lib/python3.7/dist-packages/pandas/core/frame.py:5047: SettingWithCopyWarning: \n",
            "A value is trying to be set on a copy of a slice from a DataFrame\n",
            "\n",
            "See the caveats in the documentation: https://pandas.pydata.org/pandas-docs/stable/user_guide/indexing.html#returning-a-view-versus-a-copy\n",
            "  errors=errors,\n"
          ]
        }
      ]
    },
    {
      "cell_type": "code",
      "source": [
        "data['counts']"
      ],
      "metadata": {
        "colab": {
          "base_uri": "https://localhost:8080/"
        },
        "id": "klX-jjAnOSr9",
        "outputId": "9fbf076e-50a3-4ebb-a98a-c298a0cd8526"
      },
      "execution_count": 7,
      "outputs": [
        {
          "output_type": "execute_result",
          "data": {
            "text/plain": [
              "0          5\n",
              "1          3\n",
              "2          3\n",
              "3          4\n",
              "4          5\n",
              "          ..\n",
              "1000203    3\n",
              "1000205    5\n",
              "1000206    5\n",
              "1000207    4\n",
              "1000208    4\n",
              "Name: counts, Length: 836478, dtype: int64"
            ]
          },
          "metadata": {},
          "execution_count": 7
        }
      ]
    },
    {
      "cell_type": "code",
      "source": [
        "# 영화 제목을 보기 위해 메타 데이터를 읽어 온다.\n",
        "movie_file_path='/content/drive/MyDrive/ml-1m/movies.dat'\n",
        "cols = ['movie_id', 'title', 'genre'] \n",
        "movies = pd.read_csv(movie_file_path, sep='::', names=cols, engine='python', encoding='ISO-8859-1')\n",
        "movies.head()"
      ],
      "metadata": {
        "colab": {
          "base_uri": "https://localhost:8080/",
          "height": 206
        },
        "id": "gUwIzNRGOSux",
        "outputId": "f772a595-a872-480d-98ae-4fc6910fdd3d"
      },
      "execution_count": 8,
      "outputs": [
        {
          "output_type": "execute_result",
          "data": {
            "text/plain": [
              "   movie_id                               title                         genre\n",
              "0         1                    Toy Story (1995)   Animation|Children's|Comedy\n",
              "1         2                      Jumanji (1995)  Adventure|Children's|Fantasy\n",
              "2         3             Grumpier Old Men (1995)                Comedy|Romance\n",
              "3         4            Waiting to Exhale (1995)                  Comedy|Drama\n",
              "4         5  Father of the Bride Part II (1995)                        Comedy"
            ],
            "text/html": [
              "\n",
              "  <div id=\"df-e8571811-08ad-4b3a-ad59-64c32eae2e27\">\n",
              "    <div class=\"colab-df-container\">\n",
              "      <div>\n",
              "<style scoped>\n",
              "    .dataframe tbody tr th:only-of-type {\n",
              "        vertical-align: middle;\n",
              "    }\n",
              "\n",
              "    .dataframe tbody tr th {\n",
              "        vertical-align: top;\n",
              "    }\n",
              "\n",
              "    .dataframe thead th {\n",
              "        text-align: right;\n",
              "    }\n",
              "</style>\n",
              "<table border=\"1\" class=\"dataframe\">\n",
              "  <thead>\n",
              "    <tr style=\"text-align: right;\">\n",
              "      <th></th>\n",
              "      <th>movie_id</th>\n",
              "      <th>title</th>\n",
              "      <th>genre</th>\n",
              "    </tr>\n",
              "  </thead>\n",
              "  <tbody>\n",
              "    <tr>\n",
              "      <th>0</th>\n",
              "      <td>1</td>\n",
              "      <td>Toy Story (1995)</td>\n",
              "      <td>Animation|Children's|Comedy</td>\n",
              "    </tr>\n",
              "    <tr>\n",
              "      <th>1</th>\n",
              "      <td>2</td>\n",
              "      <td>Jumanji (1995)</td>\n",
              "      <td>Adventure|Children's|Fantasy</td>\n",
              "    </tr>\n",
              "    <tr>\n",
              "      <th>2</th>\n",
              "      <td>3</td>\n",
              "      <td>Grumpier Old Men (1995)</td>\n",
              "      <td>Comedy|Romance</td>\n",
              "    </tr>\n",
              "    <tr>\n",
              "      <th>3</th>\n",
              "      <td>4</td>\n",
              "      <td>Waiting to Exhale (1995)</td>\n",
              "      <td>Comedy|Drama</td>\n",
              "    </tr>\n",
              "    <tr>\n",
              "      <th>4</th>\n",
              "      <td>5</td>\n",
              "      <td>Father of the Bride Part II (1995)</td>\n",
              "      <td>Comedy</td>\n",
              "    </tr>\n",
              "  </tbody>\n",
              "</table>\n",
              "</div>\n",
              "      <button class=\"colab-df-convert\" onclick=\"convertToInteractive('df-e8571811-08ad-4b3a-ad59-64c32eae2e27')\"\n",
              "              title=\"Convert this dataframe to an interactive table.\"\n",
              "              style=\"display:none;\">\n",
              "        \n",
              "  <svg xmlns=\"http://www.w3.org/2000/svg\" height=\"24px\"viewBox=\"0 0 24 24\"\n",
              "       width=\"24px\">\n",
              "    <path d=\"M0 0h24v24H0V0z\" fill=\"none\"/>\n",
              "    <path d=\"M18.56 5.44l.94 2.06.94-2.06 2.06-.94-2.06-.94-.94-2.06-.94 2.06-2.06.94zm-11 1L8.5 8.5l.94-2.06 2.06-.94-2.06-.94L8.5 2.5l-.94 2.06-2.06.94zm10 10l.94 2.06.94-2.06 2.06-.94-2.06-.94-.94-2.06-.94 2.06-2.06.94z\"/><path d=\"M17.41 7.96l-1.37-1.37c-.4-.4-.92-.59-1.43-.59-.52 0-1.04.2-1.43.59L10.3 9.45l-7.72 7.72c-.78.78-.78 2.05 0 2.83L4 21.41c.39.39.9.59 1.41.59.51 0 1.02-.2 1.41-.59l7.78-7.78 2.81-2.81c.8-.78.8-2.07 0-2.86zM5.41 20L4 18.59l7.72-7.72 1.47 1.35L5.41 20z\"/>\n",
              "  </svg>\n",
              "      </button>\n",
              "      \n",
              "  <style>\n",
              "    .colab-df-container {\n",
              "      display:flex;\n",
              "      flex-wrap:wrap;\n",
              "      gap: 12px;\n",
              "    }\n",
              "\n",
              "    .colab-df-convert {\n",
              "      background-color: #E8F0FE;\n",
              "      border: none;\n",
              "      border-radius: 50%;\n",
              "      cursor: pointer;\n",
              "      display: none;\n",
              "      fill: #1967D2;\n",
              "      height: 32px;\n",
              "      padding: 0 0 0 0;\n",
              "      width: 32px;\n",
              "    }\n",
              "\n",
              "    .colab-df-convert:hover {\n",
              "      background-color: #E2EBFA;\n",
              "      box-shadow: 0px 1px 2px rgba(60, 64, 67, 0.3), 0px 1px 3px 1px rgba(60, 64, 67, 0.15);\n",
              "      fill: #174EA6;\n",
              "    }\n",
              "\n",
              "    [theme=dark] .colab-df-convert {\n",
              "      background-color: #3B4455;\n",
              "      fill: #D2E3FC;\n",
              "    }\n",
              "\n",
              "    [theme=dark] .colab-df-convert:hover {\n",
              "      background-color: #434B5C;\n",
              "      box-shadow: 0px 1px 3px 1px rgba(0, 0, 0, 0.15);\n",
              "      filter: drop-shadow(0px 1px 2px rgba(0, 0, 0, 0.3));\n",
              "      fill: #FFFFFF;\n",
              "    }\n",
              "  </style>\n",
              "\n",
              "      <script>\n",
              "        const buttonEl =\n",
              "          document.querySelector('#df-e8571811-08ad-4b3a-ad59-64c32eae2e27 button.colab-df-convert');\n",
              "        buttonEl.style.display =\n",
              "          google.colab.kernel.accessAllowed ? 'block' : 'none';\n",
              "\n",
              "        async function convertToInteractive(key) {\n",
              "          const element = document.querySelector('#df-e8571811-08ad-4b3a-ad59-64c32eae2e27');\n",
              "          const dataTable =\n",
              "            await google.colab.kernel.invokeFunction('convertToInteractive',\n",
              "                                                     [key], {});\n",
              "          if (!dataTable) return;\n",
              "\n",
              "          const docLinkHtml = 'Like what you see? Visit the ' +\n",
              "            '<a target=\"_blank\" href=https://colab.research.google.com/notebooks/data_table.ipynb>data table notebook</a>'\n",
              "            + ' to learn more about interactive tables.';\n",
              "          element.innerHTML = '';\n",
              "          dataTable['output_type'] = 'display_data';\n",
              "          await google.colab.output.renderOutput(dataTable, element);\n",
              "          const docLink = document.createElement('div');\n",
              "          docLink.innerHTML = docLinkHtml;\n",
              "          element.appendChild(docLink);\n",
              "        }\n",
              "      </script>\n",
              "    </div>\n",
              "  </div>\n",
              "  "
            ]
          },
          "metadata": {},
          "execution_count": 8
        }
      ]
    },
    {
      "cell_type": "code",
      "source": [
        "# 인기 많은 영화\n",
        "movie_count = data.groupby('movie_id')['counts'].count()\n",
        "movie_count.sort_values(ascending=False).head(30)"
      ],
      "metadata": {
        "colab": {
          "base_uri": "https://localhost:8080/"
        },
        "id": "h2vOEQl5OSxF",
        "outputId": "7c768eda-f837-4765-e93e-c1e9b473576b"
      },
      "execution_count": 9,
      "outputs": [
        {
          "output_type": "execute_result",
          "data": {
            "text/plain": [
              "movie_id\n",
              "2858    3211\n",
              "260     2910\n",
              "1196    2885\n",
              "1210    2716\n",
              "2028    2561\n",
              "589     2509\n",
              "593     2498\n",
              "1198    2473\n",
              "1270    2460\n",
              "2571    2434\n",
              "480     2413\n",
              "2762    2385\n",
              "608     2371\n",
              "110     2314\n",
              "1580    2297\n",
              "527     2257\n",
              "1197    2252\n",
              "2396    2213\n",
              "1617    2210\n",
              "318     2194\n",
              "858     2167\n",
              "1265    2121\n",
              "1097    2102\n",
              "2997    2066\n",
              "2716    2051\n",
              "296     2030\n",
              "356     2022\n",
              "1240    2019\n",
              "1       2000\n",
              "457     1941\n",
              "Name: counts, dtype: int64"
            ]
          },
          "metadata": {},
          "execution_count": 9
        }
      ]
    },
    {
      "cell_type": "markdown",
      "source": [
        "영화 id 2858이 제일 인기가 많았다. 그렇다면 이 영화의 제목은 무엇일까?"
      ],
      "metadata": {
        "id": "_12VwNQNObOH"
      }
    },
    {
      "cell_type": "code",
      "source": [
        "movies.head(2790)"
      ],
      "metadata": {
        "colab": {
          "base_uri": "https://localhost:8080/",
          "height": 424
        },
        "id": "xhzaqKy4OW1k",
        "outputId": "d098e991-cce7-42e0-cb60-d15436d2b8e5"
      },
      "execution_count": 10,
      "outputs": [
        {
          "output_type": "execute_result",
          "data": {
            "text/plain": [
              "      movie_id                               title  \\\n",
              "0            1                    Toy Story (1995)   \n",
              "1            2                      Jumanji (1995)   \n",
              "2            3             Grumpier Old Men (1995)   \n",
              "3            4            Waiting to Exhale (1995)   \n",
              "4            5  Father of the Bride Part II (1995)   \n",
              "...        ...                                 ...   \n",
              "2785      2854  Don't Look in the Basement! (1973)   \n",
              "2786      2855                   Nightmares (1983)   \n",
              "2787      2856           I Saw What You Did (1965)   \n",
              "2788      2857             Yellow Submarine (1968)   \n",
              "2789      2858              American Beauty (1999)   \n",
              "\n",
              "                             genre  \n",
              "0      Animation|Children's|Comedy  \n",
              "1     Adventure|Children's|Fantasy  \n",
              "2                   Comedy|Romance  \n",
              "3                     Comedy|Drama  \n",
              "4                           Comedy  \n",
              "...                            ...  \n",
              "2785                        Horror  \n",
              "2786                        Horror  \n",
              "2787                      Thriller  \n",
              "2788             Animation|Musical  \n",
              "2789                  Comedy|Drama  \n",
              "\n",
              "[2790 rows x 3 columns]"
            ],
            "text/html": [
              "\n",
              "  <div id=\"df-7455f7e2-1085-476f-ad66-5155bee16ddb\">\n",
              "    <div class=\"colab-df-container\">\n",
              "      <div>\n",
              "<style scoped>\n",
              "    .dataframe tbody tr th:only-of-type {\n",
              "        vertical-align: middle;\n",
              "    }\n",
              "\n",
              "    .dataframe tbody tr th {\n",
              "        vertical-align: top;\n",
              "    }\n",
              "\n",
              "    .dataframe thead th {\n",
              "        text-align: right;\n",
              "    }\n",
              "</style>\n",
              "<table border=\"1\" class=\"dataframe\">\n",
              "  <thead>\n",
              "    <tr style=\"text-align: right;\">\n",
              "      <th></th>\n",
              "      <th>movie_id</th>\n",
              "      <th>title</th>\n",
              "      <th>genre</th>\n",
              "    </tr>\n",
              "  </thead>\n",
              "  <tbody>\n",
              "    <tr>\n",
              "      <th>0</th>\n",
              "      <td>1</td>\n",
              "      <td>Toy Story (1995)</td>\n",
              "      <td>Animation|Children's|Comedy</td>\n",
              "    </tr>\n",
              "    <tr>\n",
              "      <th>1</th>\n",
              "      <td>2</td>\n",
              "      <td>Jumanji (1995)</td>\n",
              "      <td>Adventure|Children's|Fantasy</td>\n",
              "    </tr>\n",
              "    <tr>\n",
              "      <th>2</th>\n",
              "      <td>3</td>\n",
              "      <td>Grumpier Old Men (1995)</td>\n",
              "      <td>Comedy|Romance</td>\n",
              "    </tr>\n",
              "    <tr>\n",
              "      <th>3</th>\n",
              "      <td>4</td>\n",
              "      <td>Waiting to Exhale (1995)</td>\n",
              "      <td>Comedy|Drama</td>\n",
              "    </tr>\n",
              "    <tr>\n",
              "      <th>4</th>\n",
              "      <td>5</td>\n",
              "      <td>Father of the Bride Part II (1995)</td>\n",
              "      <td>Comedy</td>\n",
              "    </tr>\n",
              "    <tr>\n",
              "      <th>...</th>\n",
              "      <td>...</td>\n",
              "      <td>...</td>\n",
              "      <td>...</td>\n",
              "    </tr>\n",
              "    <tr>\n",
              "      <th>2785</th>\n",
              "      <td>2854</td>\n",
              "      <td>Don't Look in the Basement! (1973)</td>\n",
              "      <td>Horror</td>\n",
              "    </tr>\n",
              "    <tr>\n",
              "      <th>2786</th>\n",
              "      <td>2855</td>\n",
              "      <td>Nightmares (1983)</td>\n",
              "      <td>Horror</td>\n",
              "    </tr>\n",
              "    <tr>\n",
              "      <th>2787</th>\n",
              "      <td>2856</td>\n",
              "      <td>I Saw What You Did (1965)</td>\n",
              "      <td>Thriller</td>\n",
              "    </tr>\n",
              "    <tr>\n",
              "      <th>2788</th>\n",
              "      <td>2857</td>\n",
              "      <td>Yellow Submarine (1968)</td>\n",
              "      <td>Animation|Musical</td>\n",
              "    </tr>\n",
              "    <tr>\n",
              "      <th>2789</th>\n",
              "      <td>2858</td>\n",
              "      <td>American Beauty (1999)</td>\n",
              "      <td>Comedy|Drama</td>\n",
              "    </tr>\n",
              "  </tbody>\n",
              "</table>\n",
              "<p>2790 rows × 3 columns</p>\n",
              "</div>\n",
              "      <button class=\"colab-df-convert\" onclick=\"convertToInteractive('df-7455f7e2-1085-476f-ad66-5155bee16ddb')\"\n",
              "              title=\"Convert this dataframe to an interactive table.\"\n",
              "              style=\"display:none;\">\n",
              "        \n",
              "  <svg xmlns=\"http://www.w3.org/2000/svg\" height=\"24px\"viewBox=\"0 0 24 24\"\n",
              "       width=\"24px\">\n",
              "    <path d=\"M0 0h24v24H0V0z\" fill=\"none\"/>\n",
              "    <path d=\"M18.56 5.44l.94 2.06.94-2.06 2.06-.94-2.06-.94-.94-2.06-.94 2.06-2.06.94zm-11 1L8.5 8.5l.94-2.06 2.06-.94-2.06-.94L8.5 2.5l-.94 2.06-2.06.94zm10 10l.94 2.06.94-2.06 2.06-.94-2.06-.94-.94-2.06-.94 2.06-2.06.94z\"/><path d=\"M17.41 7.96l-1.37-1.37c-.4-.4-.92-.59-1.43-.59-.52 0-1.04.2-1.43.59L10.3 9.45l-7.72 7.72c-.78.78-.78 2.05 0 2.83L4 21.41c.39.39.9.59 1.41.59.51 0 1.02-.2 1.41-.59l7.78-7.78 2.81-2.81c.8-.78.8-2.07 0-2.86zM5.41 20L4 18.59l7.72-7.72 1.47 1.35L5.41 20z\"/>\n",
              "  </svg>\n",
              "      </button>\n",
              "      \n",
              "  <style>\n",
              "    .colab-df-container {\n",
              "      display:flex;\n",
              "      flex-wrap:wrap;\n",
              "      gap: 12px;\n",
              "    }\n",
              "\n",
              "    .colab-df-convert {\n",
              "      background-color: #E8F0FE;\n",
              "      border: none;\n",
              "      border-radius: 50%;\n",
              "      cursor: pointer;\n",
              "      display: none;\n",
              "      fill: #1967D2;\n",
              "      height: 32px;\n",
              "      padding: 0 0 0 0;\n",
              "      width: 32px;\n",
              "    }\n",
              "\n",
              "    .colab-df-convert:hover {\n",
              "      background-color: #E2EBFA;\n",
              "      box-shadow: 0px 1px 2px rgba(60, 64, 67, 0.3), 0px 1px 3px 1px rgba(60, 64, 67, 0.15);\n",
              "      fill: #174EA6;\n",
              "    }\n",
              "\n",
              "    [theme=dark] .colab-df-convert {\n",
              "      background-color: #3B4455;\n",
              "      fill: #D2E3FC;\n",
              "    }\n",
              "\n",
              "    [theme=dark] .colab-df-convert:hover {\n",
              "      background-color: #434B5C;\n",
              "      box-shadow: 0px 1px 3px 1px rgba(0, 0, 0, 0.15);\n",
              "      filter: drop-shadow(0px 1px 2px rgba(0, 0, 0, 0.3));\n",
              "      fill: #FFFFFF;\n",
              "    }\n",
              "  </style>\n",
              "\n",
              "      <script>\n",
              "        const buttonEl =\n",
              "          document.querySelector('#df-7455f7e2-1085-476f-ad66-5155bee16ddb button.colab-df-convert');\n",
              "        buttonEl.style.display =\n",
              "          google.colab.kernel.accessAllowed ? 'block' : 'none';\n",
              "\n",
              "        async function convertToInteractive(key) {\n",
              "          const element = document.querySelector('#df-7455f7e2-1085-476f-ad66-5155bee16ddb');\n",
              "          const dataTable =\n",
              "            await google.colab.kernel.invokeFunction('convertToInteractive',\n",
              "                                                     [key], {});\n",
              "          if (!dataTable) return;\n",
              "\n",
              "          const docLinkHtml = 'Like what you see? Visit the ' +\n",
              "            '<a target=\"_blank\" href=https://colab.research.google.com/notebooks/data_table.ipynb>data table notebook</a>'\n",
              "            + ' to learn more about interactive tables.';\n",
              "          element.innerHTML = '';\n",
              "          dataTable['output_type'] = 'display_data';\n",
              "          await google.colab.output.renderOutput(dataTable, element);\n",
              "          const docLink = document.createElement('div');\n",
              "          docLink.innerHTML = docLinkHtml;\n",
              "          element.appendChild(docLink);\n",
              "        }\n",
              "      </script>\n",
              "    </div>\n",
              "  </div>\n",
              "  "
            ]
          },
          "metadata": {},
          "execution_count": 10
        }
      ]
    },
    {
      "cell_type": "markdown",
      "source": [
        "제일 인기가 많았던 영화는 'American Beauty'라는 것을 알 수 있다. "
      ],
      "metadata": {
        "id": "OOlcog2zOd0l"
      }
    },
    {
      "cell_type": "markdown",
      "source": [
        "영화를 추천 받기 위해서는\n",
        "\n",
        "사용자 초기 정보 값을 입력해야 한다.\n",
        "\n",
        "예를 들어, 넷플릭스 가입하는 동시 선호하는 영화를 몇 개 고르는 것과 같은 것이다."
      ],
      "metadata": {
        "id": "t5mLjdygOeXs"
      }
    },
    {
      "cell_type": "markdown",
      "source": [
        "'Back to the Future (1985)','Notting Hill (1999)', 'Toy Story (1995)', 'Titanic (1997)','Negotiator, The (1998)'를 좋아하는 영화로 선택\n"
      ],
      "metadata": {
        "id": "spnZb4kAOiU2"
      }
    },
    {
      "cell_type": "code",
      "source": [
        "# Back_to_the_Futre, Toy_Story, Negotiation, Titanic, Notting_Hill\n",
        "\n",
        "my_favorite = [1270, 2671, 3404, 2058, 1]\n",
        "my_list = pd.DataFrame({'user_id': [9999]*5, 'movie_id': my_favorite, 'counts': [5]*5})\n",
        "data = data.append(my_list)\n",
        "data.tail(10)"
      ],
      "metadata": {
        "colab": {
          "base_uri": "https://localhost:8080/",
          "height": 363
        },
        "id": "0qQbpa7_OW63",
        "outputId": "24a5c5c4-2134-4df9-fa28-29709b0e553e"
      },
      "execution_count": 11,
      "outputs": [
        {
          "output_type": "execute_result",
          "data": {
            "text/plain": [
              "         user_id  movie_id  counts    timestamp\n",
              "1000203     6040      1090       3  956715518.0\n",
              "1000205     6040      1094       5  956704887.0\n",
              "1000206     6040       562       5  956704746.0\n",
              "1000207     6040      1096       4  956715648.0\n",
              "1000208     6040      1097       4  956715569.0\n",
              "0           9999      1270       5          NaN\n",
              "1           9999      2671       5          NaN\n",
              "2           9999      3404       5          NaN\n",
              "3           9999      2058       5          NaN\n",
              "4           9999         1       5          NaN"
            ],
            "text/html": [
              "\n",
              "  <div id=\"df-a4c4b8a4-2cae-4410-a2c9-b9fb4fd9b376\">\n",
              "    <div class=\"colab-df-container\">\n",
              "      <div>\n",
              "<style scoped>\n",
              "    .dataframe tbody tr th:only-of-type {\n",
              "        vertical-align: middle;\n",
              "    }\n",
              "\n",
              "    .dataframe tbody tr th {\n",
              "        vertical-align: top;\n",
              "    }\n",
              "\n",
              "    .dataframe thead th {\n",
              "        text-align: right;\n",
              "    }\n",
              "</style>\n",
              "<table border=\"1\" class=\"dataframe\">\n",
              "  <thead>\n",
              "    <tr style=\"text-align: right;\">\n",
              "      <th></th>\n",
              "      <th>user_id</th>\n",
              "      <th>movie_id</th>\n",
              "      <th>counts</th>\n",
              "      <th>timestamp</th>\n",
              "    </tr>\n",
              "  </thead>\n",
              "  <tbody>\n",
              "    <tr>\n",
              "      <th>1000203</th>\n",
              "      <td>6040</td>\n",
              "      <td>1090</td>\n",
              "      <td>3</td>\n",
              "      <td>956715518.0</td>\n",
              "    </tr>\n",
              "    <tr>\n",
              "      <th>1000205</th>\n",
              "      <td>6040</td>\n",
              "      <td>1094</td>\n",
              "      <td>5</td>\n",
              "      <td>956704887.0</td>\n",
              "    </tr>\n",
              "    <tr>\n",
              "      <th>1000206</th>\n",
              "      <td>6040</td>\n",
              "      <td>562</td>\n",
              "      <td>5</td>\n",
              "      <td>956704746.0</td>\n",
              "    </tr>\n",
              "    <tr>\n",
              "      <th>1000207</th>\n",
              "      <td>6040</td>\n",
              "      <td>1096</td>\n",
              "      <td>4</td>\n",
              "      <td>956715648.0</td>\n",
              "    </tr>\n",
              "    <tr>\n",
              "      <th>1000208</th>\n",
              "      <td>6040</td>\n",
              "      <td>1097</td>\n",
              "      <td>4</td>\n",
              "      <td>956715569.0</td>\n",
              "    </tr>\n",
              "    <tr>\n",
              "      <th>0</th>\n",
              "      <td>9999</td>\n",
              "      <td>1270</td>\n",
              "      <td>5</td>\n",
              "      <td>NaN</td>\n",
              "    </tr>\n",
              "    <tr>\n",
              "      <th>1</th>\n",
              "      <td>9999</td>\n",
              "      <td>2671</td>\n",
              "      <td>5</td>\n",
              "      <td>NaN</td>\n",
              "    </tr>\n",
              "    <tr>\n",
              "      <th>2</th>\n",
              "      <td>9999</td>\n",
              "      <td>3404</td>\n",
              "      <td>5</td>\n",
              "      <td>NaN</td>\n",
              "    </tr>\n",
              "    <tr>\n",
              "      <th>3</th>\n",
              "      <td>9999</td>\n",
              "      <td>2058</td>\n",
              "      <td>5</td>\n",
              "      <td>NaN</td>\n",
              "    </tr>\n",
              "    <tr>\n",
              "      <th>4</th>\n",
              "      <td>9999</td>\n",
              "      <td>1</td>\n",
              "      <td>5</td>\n",
              "      <td>NaN</td>\n",
              "    </tr>\n",
              "  </tbody>\n",
              "</table>\n",
              "</div>\n",
              "      <button class=\"colab-df-convert\" onclick=\"convertToInteractive('df-a4c4b8a4-2cae-4410-a2c9-b9fb4fd9b376')\"\n",
              "              title=\"Convert this dataframe to an interactive table.\"\n",
              "              style=\"display:none;\">\n",
              "        \n",
              "  <svg xmlns=\"http://www.w3.org/2000/svg\" height=\"24px\"viewBox=\"0 0 24 24\"\n",
              "       width=\"24px\">\n",
              "    <path d=\"M0 0h24v24H0V0z\" fill=\"none\"/>\n",
              "    <path d=\"M18.56 5.44l.94 2.06.94-2.06 2.06-.94-2.06-.94-.94-2.06-.94 2.06-2.06.94zm-11 1L8.5 8.5l.94-2.06 2.06-.94-2.06-.94L8.5 2.5l-.94 2.06-2.06.94zm10 10l.94 2.06.94-2.06 2.06-.94-2.06-.94-.94-2.06-.94 2.06-2.06.94z\"/><path d=\"M17.41 7.96l-1.37-1.37c-.4-.4-.92-.59-1.43-.59-.52 0-1.04.2-1.43.59L10.3 9.45l-7.72 7.72c-.78.78-.78 2.05 0 2.83L4 21.41c.39.39.9.59 1.41.59.51 0 1.02-.2 1.41-.59l7.78-7.78 2.81-2.81c.8-.78.8-2.07 0-2.86zM5.41 20L4 18.59l7.72-7.72 1.47 1.35L5.41 20z\"/>\n",
              "  </svg>\n",
              "      </button>\n",
              "      \n",
              "  <style>\n",
              "    .colab-df-container {\n",
              "      display:flex;\n",
              "      flex-wrap:wrap;\n",
              "      gap: 12px;\n",
              "    }\n",
              "\n",
              "    .colab-df-convert {\n",
              "      background-color: #E8F0FE;\n",
              "      border: none;\n",
              "      border-radius: 50%;\n",
              "      cursor: pointer;\n",
              "      display: none;\n",
              "      fill: #1967D2;\n",
              "      height: 32px;\n",
              "      padding: 0 0 0 0;\n",
              "      width: 32px;\n",
              "    }\n",
              "\n",
              "    .colab-df-convert:hover {\n",
              "      background-color: #E2EBFA;\n",
              "      box-shadow: 0px 1px 2px rgba(60, 64, 67, 0.3), 0px 1px 3px 1px rgba(60, 64, 67, 0.15);\n",
              "      fill: #174EA6;\n",
              "    }\n",
              "\n",
              "    [theme=dark] .colab-df-convert {\n",
              "      background-color: #3B4455;\n",
              "      fill: #D2E3FC;\n",
              "    }\n",
              "\n",
              "    [theme=dark] .colab-df-convert:hover {\n",
              "      background-color: #434B5C;\n",
              "      box-shadow: 0px 1px 3px 1px rgba(0, 0, 0, 0.15);\n",
              "      filter: drop-shadow(0px 1px 2px rgba(0, 0, 0, 0.3));\n",
              "      fill: #FFFFFF;\n",
              "    }\n",
              "  </style>\n",
              "\n",
              "      <script>\n",
              "        const buttonEl =\n",
              "          document.querySelector('#df-a4c4b8a4-2cae-4410-a2c9-b9fb4fd9b376 button.colab-df-convert');\n",
              "        buttonEl.style.display =\n",
              "          google.colab.kernel.accessAllowed ? 'block' : 'none';\n",
              "\n",
              "        async function convertToInteractive(key) {\n",
              "          const element = document.querySelector('#df-a4c4b8a4-2cae-4410-a2c9-b9fb4fd9b376');\n",
              "          const dataTable =\n",
              "            await google.colab.kernel.invokeFunction('convertToInteractive',\n",
              "                                                     [key], {});\n",
              "          if (!dataTable) return;\n",
              "\n",
              "          const docLinkHtml = 'Like what you see? Visit the ' +\n",
              "            '<a target=\"_blank\" href=https://colab.research.google.com/notebooks/data_table.ipynb>data table notebook</a>'\n",
              "            + ' to learn more about interactive tables.';\n",
              "          element.innerHTML = '';\n",
              "          dataTable['output_type'] = 'display_data';\n",
              "          await google.colab.output.renderOutput(dataTable, element);\n",
              "          const docLink = document.createElement('div');\n",
              "          docLink.innerHTML = docLinkHtml;\n",
              "          element.appendChild(docLink);\n",
              "        }\n",
              "      </script>\n",
              "    </div>\n",
              "  </div>\n",
              "  "
            ]
          },
          "metadata": {},
          "execution_count": 11
        }
      ]
    },
    {
      "cell_type": "markdown",
      "source": [
        "데이터의 쉽고 용이한 관리를 위해 indexing을 해주겠다."
      ],
      "metadata": {
        "id": "D-XtIcS0OlOF"
      }
    },
    {
      "cell_type": "code",
      "source": [
        "# 고유한 유저, 영화를 찾아내는 코드\n",
        "user_unique = data['user_id'].unique()\n",
        "movie_unique = data['movie_id'].unique()\n",
        "\n",
        "# 유저, 영화 indexing 하는 코드 idx는 index의 약자이다.\n",
        "user_to_idx = {v:k for k,v in enumerate(user_unique)}\n",
        "movie_to_idx = {v:k for k,v in enumerate(movie_unique)}\n",
        "\n",
        "# 인덱싱이 잘 되었는지 확인해 보자. \n",
        "print(user_to_idx[9999]) \n",
        "print(movie_to_idx[1])"
      ],
      "metadata": {
        "colab": {
          "base_uri": "https://localhost:8080/"
        },
        "id": "xnKG83eZOW-Q",
        "outputId": "cb13eee7-1d5a-4498-8b14-210bfe31259a"
      },
      "execution_count": 12,
      "outputs": [
        {
          "output_type": "stream",
          "name": "stdout",
          "text": [
            "6039\n",
            "40\n"
          ]
        }
      ]
    },
    {
      "cell_type": "code",
      "source": [
        "# user_to_idx.get을 통해 user_id 컬럼의 모든 값을 인덱싱한 Series를 구해 보자. \n",
        "# 혹시 정상적으로 인덱싱되지 않은 row가 있다면 인덱스가 NaN이 될 테니 dropna()로 제거한다. \n",
        "temp_user_data = data['user_id'].map(user_to_idx.get).dropna()\n",
        "if len(temp_user_data) == len(data):   # 모든 row가 정상적으로 인덱싱되었다면\n",
        "    print('user_id column indexing OK!!')\n",
        "    data['user_id'] = temp_user_data   # data['user_id']을 인덱싱된 Series로 교체해준다. \n",
        "else:\n",
        "    print('user_id column indexing Fail!!')\n",
        "\n",
        "# artist_to_idx을 통해 artist 컬럼도 동일한 방식으로 인덱싱해준다. \n",
        "temp_movie_data = data['movie_id'].map(movie_to_idx.get).dropna()\n",
        "if len(temp_movie_data) == len(data):\n",
        "    print('movie column indexing OK!!')\n",
        "    data['movie_id'] = temp_movie_data\n",
        "else:\n",
        "    print('movie column indexing Fail!!')\n",
        "\n",
        "data"
      ],
      "metadata": {
        "colab": {
          "base_uri": "https://localhost:8080/",
          "height": 460
        },
        "id": "fvveqmfWOXEB",
        "outputId": "f5bc60cf-bc7e-4432-d8a1-6821658a15e4"
      },
      "execution_count": 13,
      "outputs": [
        {
          "output_type": "stream",
          "name": "stdout",
          "text": [
            "user_id column indexing OK!!\n",
            "movie column indexing OK!!\n"
          ]
        },
        {
          "output_type": "execute_result",
          "data": {
            "text/plain": [
              "    user_id  movie_id  counts    timestamp\n",
              "0         0         0       5  978300760.0\n",
              "1         0         1       3  978302109.0\n",
              "2         0         2       3  978301968.0\n",
              "3         0         3       4  978300275.0\n",
              "4         0         4       5  978824291.0\n",
              "..      ...       ...     ...          ...\n",
              "0      6039        22       5          NaN\n",
              "1      6039      1151       5          NaN\n",
              "2      6039      1626       5          NaN\n",
              "3      6039       791       5          NaN\n",
              "4      6039        40       5          NaN\n",
              "\n",
              "[836483 rows x 4 columns]"
            ],
            "text/html": [
              "\n",
              "  <div id=\"df-68c16f3e-b56e-43a9-81d7-6003977b8f6b\">\n",
              "    <div class=\"colab-df-container\">\n",
              "      <div>\n",
              "<style scoped>\n",
              "    .dataframe tbody tr th:only-of-type {\n",
              "        vertical-align: middle;\n",
              "    }\n",
              "\n",
              "    .dataframe tbody tr th {\n",
              "        vertical-align: top;\n",
              "    }\n",
              "\n",
              "    .dataframe thead th {\n",
              "        text-align: right;\n",
              "    }\n",
              "</style>\n",
              "<table border=\"1\" class=\"dataframe\">\n",
              "  <thead>\n",
              "    <tr style=\"text-align: right;\">\n",
              "      <th></th>\n",
              "      <th>user_id</th>\n",
              "      <th>movie_id</th>\n",
              "      <th>counts</th>\n",
              "      <th>timestamp</th>\n",
              "    </tr>\n",
              "  </thead>\n",
              "  <tbody>\n",
              "    <tr>\n",
              "      <th>0</th>\n",
              "      <td>0</td>\n",
              "      <td>0</td>\n",
              "      <td>5</td>\n",
              "      <td>978300760.0</td>\n",
              "    </tr>\n",
              "    <tr>\n",
              "      <th>1</th>\n",
              "      <td>0</td>\n",
              "      <td>1</td>\n",
              "      <td>3</td>\n",
              "      <td>978302109.0</td>\n",
              "    </tr>\n",
              "    <tr>\n",
              "      <th>2</th>\n",
              "      <td>0</td>\n",
              "      <td>2</td>\n",
              "      <td>3</td>\n",
              "      <td>978301968.0</td>\n",
              "    </tr>\n",
              "    <tr>\n",
              "      <th>3</th>\n",
              "      <td>0</td>\n",
              "      <td>3</td>\n",
              "      <td>4</td>\n",
              "      <td>978300275.0</td>\n",
              "    </tr>\n",
              "    <tr>\n",
              "      <th>4</th>\n",
              "      <td>0</td>\n",
              "      <td>4</td>\n",
              "      <td>5</td>\n",
              "      <td>978824291.0</td>\n",
              "    </tr>\n",
              "    <tr>\n",
              "      <th>...</th>\n",
              "      <td>...</td>\n",
              "      <td>...</td>\n",
              "      <td>...</td>\n",
              "      <td>...</td>\n",
              "    </tr>\n",
              "    <tr>\n",
              "      <th>0</th>\n",
              "      <td>6039</td>\n",
              "      <td>22</td>\n",
              "      <td>5</td>\n",
              "      <td>NaN</td>\n",
              "    </tr>\n",
              "    <tr>\n",
              "      <th>1</th>\n",
              "      <td>6039</td>\n",
              "      <td>1151</td>\n",
              "      <td>5</td>\n",
              "      <td>NaN</td>\n",
              "    </tr>\n",
              "    <tr>\n",
              "      <th>2</th>\n",
              "      <td>6039</td>\n",
              "      <td>1626</td>\n",
              "      <td>5</td>\n",
              "      <td>NaN</td>\n",
              "    </tr>\n",
              "    <tr>\n",
              "      <th>3</th>\n",
              "      <td>6039</td>\n",
              "      <td>791</td>\n",
              "      <td>5</td>\n",
              "      <td>NaN</td>\n",
              "    </tr>\n",
              "    <tr>\n",
              "      <th>4</th>\n",
              "      <td>6039</td>\n",
              "      <td>40</td>\n",
              "      <td>5</td>\n",
              "      <td>NaN</td>\n",
              "    </tr>\n",
              "  </tbody>\n",
              "</table>\n",
              "<p>836483 rows × 4 columns</p>\n",
              "</div>\n",
              "      <button class=\"colab-df-convert\" onclick=\"convertToInteractive('df-68c16f3e-b56e-43a9-81d7-6003977b8f6b')\"\n",
              "              title=\"Convert this dataframe to an interactive table.\"\n",
              "              style=\"display:none;\">\n",
              "        \n",
              "  <svg xmlns=\"http://www.w3.org/2000/svg\" height=\"24px\"viewBox=\"0 0 24 24\"\n",
              "       width=\"24px\">\n",
              "    <path d=\"M0 0h24v24H0V0z\" fill=\"none\"/>\n",
              "    <path d=\"M18.56 5.44l.94 2.06.94-2.06 2.06-.94-2.06-.94-.94-2.06-.94 2.06-2.06.94zm-11 1L8.5 8.5l.94-2.06 2.06-.94-2.06-.94L8.5 2.5l-.94 2.06-2.06.94zm10 10l.94 2.06.94-2.06 2.06-.94-2.06-.94-.94-2.06-.94 2.06-2.06.94z\"/><path d=\"M17.41 7.96l-1.37-1.37c-.4-.4-.92-.59-1.43-.59-.52 0-1.04.2-1.43.59L10.3 9.45l-7.72 7.72c-.78.78-.78 2.05 0 2.83L4 21.41c.39.39.9.59 1.41.59.51 0 1.02-.2 1.41-.59l7.78-7.78 2.81-2.81c.8-.78.8-2.07 0-2.86zM5.41 20L4 18.59l7.72-7.72 1.47 1.35L5.41 20z\"/>\n",
              "  </svg>\n",
              "      </button>\n",
              "      \n",
              "  <style>\n",
              "    .colab-df-container {\n",
              "      display:flex;\n",
              "      flex-wrap:wrap;\n",
              "      gap: 12px;\n",
              "    }\n",
              "\n",
              "    .colab-df-convert {\n",
              "      background-color: #E8F0FE;\n",
              "      border: none;\n",
              "      border-radius: 50%;\n",
              "      cursor: pointer;\n",
              "      display: none;\n",
              "      fill: #1967D2;\n",
              "      height: 32px;\n",
              "      padding: 0 0 0 0;\n",
              "      width: 32px;\n",
              "    }\n",
              "\n",
              "    .colab-df-convert:hover {\n",
              "      background-color: #E2EBFA;\n",
              "      box-shadow: 0px 1px 2px rgba(60, 64, 67, 0.3), 0px 1px 3px 1px rgba(60, 64, 67, 0.15);\n",
              "      fill: #174EA6;\n",
              "    }\n",
              "\n",
              "    [theme=dark] .colab-df-convert {\n",
              "      background-color: #3B4455;\n",
              "      fill: #D2E3FC;\n",
              "    }\n",
              "\n",
              "    [theme=dark] .colab-df-convert:hover {\n",
              "      background-color: #434B5C;\n",
              "      box-shadow: 0px 1px 3px 1px rgba(0, 0, 0, 0.15);\n",
              "      filter: drop-shadow(0px 1px 2px rgba(0, 0, 0, 0.3));\n",
              "      fill: #FFFFFF;\n",
              "    }\n",
              "  </style>\n",
              "\n",
              "      <script>\n",
              "        const buttonEl =\n",
              "          document.querySelector('#df-68c16f3e-b56e-43a9-81d7-6003977b8f6b button.colab-df-convert');\n",
              "        buttonEl.style.display =\n",
              "          google.colab.kernel.accessAllowed ? 'block' : 'none';\n",
              "\n",
              "        async function convertToInteractive(key) {\n",
              "          const element = document.querySelector('#df-68c16f3e-b56e-43a9-81d7-6003977b8f6b');\n",
              "          const dataTable =\n",
              "            await google.colab.kernel.invokeFunction('convertToInteractive',\n",
              "                                                     [key], {});\n",
              "          if (!dataTable) return;\n",
              "\n",
              "          const docLinkHtml = 'Like what you see? Visit the ' +\n",
              "            '<a target=\"_blank\" href=https://colab.research.google.com/notebooks/data_table.ipynb>data table notebook</a>'\n",
              "            + ' to learn more about interactive tables.';\n",
              "          element.innerHTML = '';\n",
              "          dataTable['output_type'] = 'display_data';\n",
              "          await google.colab.output.renderOutput(dataTable, element);\n",
              "          const docLink = document.createElement('div');\n",
              "          docLink.innerHTML = docLinkHtml;\n",
              "          element.appendChild(docLink);\n",
              "        }\n",
              "      </script>\n",
              "    </div>\n",
              "  </div>\n",
              "  "
            ]
          },
          "metadata": {},
          "execution_count": 13
        }
      ]
    },
    {
      "cell_type": "markdown",
      "source": [
        "### 모델링"
      ],
      "metadata": {
        "id": "fcoZ3wkpc1qF"
      }
    },
    {
      "cell_type": "code",
      "source": [
        "# 매트릭스 만들기\n",
        "from scipy.sparse import csr_matrix\n",
        "\n",
        "num_user = data['user_id'].nunique()\n",
        "num_movie = data['movie_id'].nunique()\n",
        "\n",
        "csr_data = csr_matrix((data.counts, (data.user_id, data.movie_id)), shape= (num_user, num_movie))\n",
        "csr_data"
      ],
      "metadata": {
        "colab": {
          "base_uri": "https://localhost:8080/"
        },
        "id": "ytIBqyQkOXF9",
        "outputId": "b7308c62-4790-4e40-f842-f54661f4371c"
      },
      "execution_count": 14,
      "outputs": [
        {
          "output_type": "execute_result",
          "data": {
            "text/plain": [
              "<6040x3628 sparse matrix of type '<class 'numpy.int64'>'\n",
              "\twith 836483 stored elements in Compressed Sparse Row format>"
            ]
          },
          "metadata": {},
          "execution_count": 14
        }
      ]
    },
    {
      "cell_type": "code",
      "source": [
        "# implicit 라이브러리에서 권장하고 있는 부분이다.\n",
        "import os\n",
        "os.environ['OPENBLAS_NUM_THREADS']='1'\n",
        "os.environ['KMP_DUPLICATE_LIB_OK']='True'\n",
        "os.environ['MKL_NUM_THREADS']='1'"
      ],
      "metadata": {
        "id": "WnN_9L85OXHp"
      },
      "execution_count": 15,
      "outputs": []
    },
    {
      "cell_type": "code",
      "source": [
        "# Implicit AlternatingLeastSquares 모델의 선언\n",
        "als_model = AlternatingLeastSquares(factors=300, regularization=0.01, use_gpu=False, iterations=40, dtype=np.float32)"
      ],
      "metadata": {
        "id": "Scf9W8n3OsIB"
      },
      "execution_count": 16,
      "outputs": []
    },
    {
      "cell_type": "code",
      "source": [
        "# als 모델은 input으로 (item X user 꼴의 matrix를 받기 때문에 Transpose해준다.\n",
        "csr_data_transpose = csr_data.T\n",
        "csr_data_transpose"
      ],
      "metadata": {
        "colab": {
          "base_uri": "https://localhost:8080/"
        },
        "id": "5hYwRElUOsLp",
        "outputId": "6399fea4-1fae-42f5-a4ad-39ccb676a3dc"
      },
      "execution_count": 17,
      "outputs": [
        {
          "output_type": "execute_result",
          "data": {
            "text/plain": [
              "<3628x6040 sparse matrix of type '<class 'numpy.int64'>'\n",
              "\twith 836483 stored elements in Compressed Sparse Column format>"
            ]
          },
          "metadata": {},
          "execution_count": 17
        }
      ]
    },
    {
      "cell_type": "code",
      "source": [
        "# 모델 훈련\n",
        "als_model.fit(csr_data_transpose)"
      ],
      "metadata": {
        "colab": {
          "base_uri": "https://localhost:8080/",
          "height": 49,
          "referenced_widgets": [
            "e4b2eaac3de04ef38b885369c25431bc",
            "122b5570af1242ae83dfaa905342b4d3",
            "6a7095abf0df4bc19118da53be50f3fe",
            "94db52d923244f72a9e9d8bb2e4e30d3",
            "2e4bbc47b1c640cda136a398d76dcaea",
            "b171df824fa24124bdcb6ade83f4c9b9",
            "629c143a25b34d28be4679854418f74c",
            "4edb5a06951643d48c4810ee33388802",
            "d34f49fcc8fb42538b74d35e17b35b99",
            "7ab6a778d8154d139435c357e7f2fa62",
            "f28770992f834442b40c9f9f79e3accc"
          ]
        },
        "id": "zPNlxmr-OsQa",
        "outputId": "6097119b-723b-4a9d-a70f-478819404e64"
      },
      "execution_count": 18,
      "outputs": [
        {
          "output_type": "display_data",
          "data": {
            "text/plain": [
              "  0%|          | 0/40 [00:00<?, ?it/s]"
            ],
            "application/vnd.jupyter.widget-view+json": {
              "version_major": 2,
              "version_minor": 0,
              "model_id": "e4b2eaac3de04ef38b885369c25431bc"
            }
          },
          "metadata": {}
        }
      ]
    },
    {
      "cell_type": "code",
      "source": [
        "myukim, back_to_the_future = user_to_idx[9999], movie_to_idx[1270]\n",
        "myukim_vector, back_to_the_future_vector = als_model.user_factors[myukim], als_model.item_factors[back_to_the_future]"
      ],
      "metadata": {
        "id": "2XZ-Uf_vOsT3"
      },
      "execution_count": 19,
      "outputs": []
    },
    {
      "cell_type": "code",
      "source": [
        "myukim_vector"
      ],
      "metadata": {
        "colab": {
          "base_uri": "https://localhost:8080/"
        },
        "id": "rqFVc_yxOvkv",
        "outputId": "2122f516-f611-4c6b-9be3-8265d3e0dd77"
      },
      "execution_count": 20,
      "outputs": [
        {
          "output_type": "execute_result",
          "data": {
            "text/plain": [
              "array([-3.26816589e-01, -3.57971519e-01,  2.54630566e-01, -4.75480497e-01,\n",
              "        5.75823300e-02, -9.35700536e-03, -1.73587538e-02, -2.36170590e-01,\n",
              "        8.52441788e-02, -1.75755918e-01, -2.07676157e-01,  2.07965404e-01,\n",
              "        4.72548343e-02,  4.26162243e-01,  2.57680923e-01, -1.40546054e-01,\n",
              "       -5.48140407e-02, -6.67354345e-01, -6.72793910e-02, -9.31216851e-02,\n",
              "        5.46592534e-01, -3.37727904e-01, -2.00867698e-01, -4.01182830e-01,\n",
              "        4.41041917e-01,  1.40213349e-03, -1.82179108e-01,  1.89163233e-03,\n",
              "        5.28073311e-01,  5.73220372e-01,  3.67888629e-01,  1.86061561e-01,\n",
              "       -1.53382644e-01,  1.66779920e-01, -1.98465124e-01,  1.43302828e-01,\n",
              "       -4.21129391e-02,  3.51774804e-02, -3.49238157e-01,  1.44195601e-01,\n",
              "        1.37004137e-01, -2.45891318e-01,  4.17704843e-02,  2.85230011e-01,\n",
              "       -6.82941973e-01, -2.29887187e-01,  5.73393941e-01, -6.31186783e-01,\n",
              "        6.00991771e-02,  3.57204169e-01,  3.39453608e-01,  1.68960392e-01,\n",
              "        4.18655761e-02,  4.40086126e-01,  8.55408087e-02, -1.82326183e-01,\n",
              "       -4.79761995e-02,  3.41303926e-03, -1.74985334e-01, -1.87175915e-01,\n",
              "       -1.65600196e-01, -2.06705313e-02,  2.79426068e-01, -1.40804738e-01,\n",
              "        1.52276933e-01, -1.20369695e-01,  2.43254438e-01,  3.79451632e-01,\n",
              "        1.21516339e-01,  3.20105821e-01, -1.09378144e-01,  3.03636909e-01,\n",
              "        3.56592983e-01, -1.31598070e-01,  6.86216876e-02,  3.59817743e-01,\n",
              "       -3.19592148e-01,  1.57708064e-01, -8.11394379e-02, -4.67824377e-02,\n",
              "       -4.51002210e-01, -2.23984614e-01, -3.93918082e-02,  1.12087943e-01,\n",
              "        3.25347483e-01, -3.92828196e-01, -5.85506320e-01,  8.51491511e-01,\n",
              "       -3.20449203e-01, -1.61152497e-01,  2.38021836e-02,  1.42591327e-01,\n",
              "        2.70665854e-01, -4.42348383e-02,  1.02147833e-01, -8.64312291e-01,\n",
              "       -1.47222385e-01,  1.00317948e-01,  3.85294795e-01, -2.02125192e-01,\n",
              "        4.44849171e-02,  2.91956931e-01,  5.31074762e-01,  5.84390759e-02,\n",
              "       -8.57115909e-02,  1.21707164e-01,  1.88320875e-01, -3.02917331e-01,\n",
              "       -6.36540875e-02, -4.57854569e-01, -5.17589934e-02, -1.91263035e-01,\n",
              "        6.53100982e-02, -2.43281037e-01,  9.16297212e-02,  6.78488910e-01,\n",
              "        3.02677508e-02, -4.68940586e-01,  7.90943503e-02, -2.80743212e-01,\n",
              "        1.22347765e-01,  4.28505279e-02, -3.73550653e-01, -1.61459386e-01,\n",
              "       -4.17288281e-02,  1.36103600e-01,  1.82541206e-01, -4.69871759e-01,\n",
              "        6.02960169e-01,  7.11910903e-01, -9.88109931e-02,  3.53973776e-01,\n",
              "       -1.33030593e-01,  1.14645749e-01, -3.59639376e-01, -3.30481529e-02,\n",
              "        6.32621050e-01,  1.70625970e-01, -6.27070591e-02, -2.74502486e-01,\n",
              "        7.85530061e-02,  1.61573812e-02,  3.03348433e-02, -3.03050518e-01,\n",
              "       -3.86589646e-01,  1.39586916e-02,  6.56550348e-01, -3.87887329e-01,\n",
              "       -5.43595433e-01,  1.50870889e-01, -2.93996423e-01, -1.25087544e-01,\n",
              "        8.16676095e-02, -1.30289868e-01,  6.73728064e-02,  9.29387584e-02,\n",
              "        8.99192765e-02,  4.97473516e-02,  1.53791189e-01, -4.67615798e-02,\n",
              "       -7.18589202e-02, -4.58498359e-01,  4.71762232e-02,  3.40870261e-01,\n",
              "        1.89000815e-01,  2.08742574e-01,  1.78194180e-01,  7.97303617e-02,\n",
              "       -3.26254629e-02, -3.08566578e-02,  2.20166206e-01,  5.50964624e-02,\n",
              "        1.49136245e-01, -2.62587339e-01, -3.96760702e-01, -1.89595193e-01,\n",
              "        2.41192877e-01, -9.99488309e-02, -1.79133877e-01, -8.53550375e-01,\n",
              "        2.22451642e-01, -1.13747202e-01,  2.46679589e-01, -2.08432630e-01,\n",
              "        1.03888206e-01, -1.40723571e-01,  1.30718667e-02,  9.45173353e-02,\n",
              "       -1.17082134e-01, -4.40824747e-01,  1.28416628e-01,  1.44744962e-01,\n",
              "       -5.28430939e-02, -1.38677031e-01,  3.91587049e-01, -2.00931489e-01,\n",
              "        1.19953908e-01, -6.16768718e-01, -2.40418427e-02, -5.71543910e-02,\n",
              "        4.12172824e-01, -5.28813660e-01,  1.33503616e-01,  1.67850688e-01,\n",
              "        2.86491722e-01, -8.62803757e-01, -1.21838838e-01,  1.94120020e-01,\n",
              "        3.05339396e-01, -2.71754622e-01,  5.19777477e-01, -3.14276904e-01,\n",
              "        9.13198143e-02,  4.40313071e-01,  1.04467228e-01,  2.81046212e-01,\n",
              "        1.55383945e-01, -2.01442037e-02, -2.05630168e-01,  1.67919099e-01,\n",
              "        6.93937480e-01, -5.77752888e-01,  2.02529743e-01, -6.59887046e-02,\n",
              "       -2.42541865e-01, -3.82080704e-01,  3.68647039e-01, -1.80625468e-02,\n",
              "       -1.40392691e-01, -1.44873396e-01,  1.60464197e-01, -5.36055267e-02,\n",
              "        4.31391299e-01,  1.54617697e-01,  1.33011997e-01, -5.59028149e-01,\n",
              "       -2.28718236e-01,  1.79944262e-01,  3.92023474e-01, -2.50815712e-02,\n",
              "        3.44401360e-01,  1.32931724e-01, -5.98900281e-02,  1.69103920e-01,\n",
              "        5.84603809e-02, -5.07647753e-01,  1.19416438e-01,  8.80505621e-01,\n",
              "        1.62654400e-01, -2.40828335e-01, -1.32072926e-01,  2.65571892e-01,\n",
              "       -3.11256740e-02, -4.79186922e-02,  2.02984706e-01, -2.85124213e-01,\n",
              "        3.34482342e-01, -2.98420101e-01, -1.20559722e-01, -7.57303908e-02,\n",
              "       -3.33921701e-01, -2.46417016e-01, -1.55649081e-01, -3.67034316e-01,\n",
              "        1.35047942e-01,  2.69498318e-01,  5.57497256e-02,  1.27458513e-01,\n",
              "        8.21034536e-02, -4.08665508e-01, -2.02987626e-01,  7.52744824e-02,\n",
              "        8.32606945e-03,  4.20319080e-01,  8.79944414e-02,  7.75603279e-02,\n",
              "        3.69383305e-01, -1.40603393e-01,  4.64610428e-01, -6.12182438e-01,\n",
              "       -1.09095268e-01,  4.64783996e-01, -2.50251055e-01, -1.37826074e-02,\n",
              "        1.07524298e-01,  1.32757813e-01, -5.05172849e-01,  2.88764417e-01,\n",
              "        3.71417880e-01,  1.07686087e-01,  4.33983147e-01, -2.25475430e-01,\n",
              "        4.95688617e-02, -3.29776406e-01, -4.92371172e-02,  1.35707110e-01,\n",
              "       -4.53355342e-01,  1.36990508e-04,  1.64730012e-01, -2.92395651e-01],\n",
              "      dtype=float32)"
            ]
          },
          "metadata": {},
          "execution_count": 20
        }
      ]
    },
    {
      "cell_type": "code",
      "source": [
        "back_to_the_future_vector"
      ],
      "metadata": {
        "colab": {
          "base_uri": "https://localhost:8080/"
        },
        "id": "UpdbXc4sOv6d",
        "outputId": "755b74cf-42d0-4754-c13e-103b6ebe14da"
      },
      "execution_count": 21,
      "outputs": [
        {
          "output_type": "execute_result",
          "data": {
            "text/plain": [
              "array([-1.46833528e-02, -1.05408467e-02,  2.93450933e-02,  6.47063181e-03,\n",
              "        3.06168050e-02,  3.86364534e-02,  7.42237922e-03, -1.31942993e-02,\n",
              "        6.46320805e-02, -1.00712059e-02,  4.06396529e-03,  4.87374403e-02,\n",
              "        3.04087233e-02,  4.10583690e-02, -6.29504537e-03, -4.05432023e-02,\n",
              "        1.55875627e-02, -4.00980413e-02, -1.18003441e-02,  1.32958442e-02,\n",
              "        2.34499015e-02,  1.11004692e-02, -7.23408815e-03, -2.40296610e-02,\n",
              "        2.29939539e-02,  2.69690156e-02, -2.59337202e-02, -3.66135291e-03,\n",
              "        1.43617280e-02,  3.46725956e-02,  1.04869716e-02,  3.33989449e-02,\n",
              "        1.36725930e-03, -3.80613618e-02,  1.42391464e-02, -2.65100617e-02,\n",
              "       -3.80628766e-03, -1.24821449e-02,  3.59223187e-02,  2.95776669e-02,\n",
              "        2.02375725e-02,  5.24632446e-03, -2.05706600e-02,  2.96649598e-02,\n",
              "       -2.81637534e-04,  2.46164668e-02, -1.28432326e-02, -1.38653675e-03,\n",
              "       -5.32903522e-03, -7.62835285e-03,  6.78760349e-04,  8.33524205e-03,\n",
              "        9.76346713e-03, -1.36096766e-02,  1.27515364e-02,  3.01828887e-02,\n",
              "       -2.23886035e-03, -8.92803073e-03,  3.53291258e-02,  3.85339223e-02,\n",
              "       -1.53391752e-02, -2.07957663e-02,  2.11523958e-02, -1.96268633e-02,\n",
              "        2.21081227e-02, -1.00102369e-02,  2.16347277e-02,  3.92514020e-02,\n",
              "       -1.29441554e-02,  2.61805356e-02,  3.19086798e-02,  2.87935473e-02,\n",
              "        3.56413238e-02,  8.71197972e-03,  7.76392873e-03,  3.78752165e-02,\n",
              "       -2.22808849e-02,  4.52928990e-02,  2.80872715e-04,  1.77712031e-02,\n",
              "       -6.91472727e-04,  5.99873811e-03,  1.24531416e-02,  3.28778736e-02,\n",
              "        1.62208769e-02, -3.74103561e-02, -1.23615190e-02,  3.21794972e-02,\n",
              "       -4.78691421e-02,  3.07779945e-03,  8.59824382e-03,  1.19834431e-02,\n",
              "        4.63507175e-02,  3.20216231e-02, -1.14857154e-02, -2.66634412e-02,\n",
              "       -1.40039027e-02, -2.66943891e-02, -4.81528416e-02, -6.82473695e-03,\n",
              "        8.22478347e-03,  4.11100350e-02,  8.64942838e-03,  1.10289510e-02,\n",
              "       -3.29441503e-02,  5.92181040e-03,  1.32543901e-02, -1.27104120e-02,\n",
              "        1.31279780e-02, -2.26392262e-02, -9.78714973e-03, -3.24802217e-03,\n",
              "        2.34632026e-02, -5.76424738e-03,  9.21118073e-03,  6.28667325e-02,\n",
              "        2.30543930e-02, -7.60316150e-03, -2.33082399e-02, -1.25712100e-02,\n",
              "        1.31593412e-02,  5.04396521e-02, -2.75140088e-02, -5.71065582e-03,\n",
              "        1.33402655e-02,  4.22719168e-03, -2.73492876e-02,  2.56121736e-02,\n",
              "        4.87716123e-02,  3.80968377e-02,  1.72928030e-05,  3.04890256e-02,\n",
              "       -4.09170426e-03,  3.12114302e-02,  2.79901847e-02, -4.04093228e-02,\n",
              "        2.86000296e-02,  4.17857151e-03,  9.53263789e-03,  3.15087512e-02,\n",
              "       -1.47212697e-02,  6.61473302e-03, -6.15239842e-03, -5.74981445e-04,\n",
              "       -1.05665000e-02,  1.54874334e-02,  4.34494168e-02, -2.88930573e-02,\n",
              "       -2.26375777e-02, -2.77712494e-02, -1.52467648e-02, -3.76005992e-02,\n",
              "       -1.02755176e-02,  1.42140267e-02,  2.86348760e-02, -8.03538505e-03,\n",
              "        4.71710693e-03,  1.72952153e-02, -4.16722754e-03, -5.53157553e-03,\n",
              "        5.54159633e-04, -3.29703204e-02,  1.81800947e-02,  4.33116816e-02,\n",
              "        1.01951817e-02,  4.40435903e-03,  1.42903188e-02,  1.01308404e-02,\n",
              "       -3.39996140e-03,  2.46892427e-03,  4.01603431e-03,  1.35607403e-02,\n",
              "        2.41944660e-02,  1.91334635e-02, -2.19379365e-02, -1.32777300e-02,\n",
              "        3.13663320e-03,  1.74980443e-02, -9.76516865e-03, -1.13069387e-02,\n",
              "        1.05227893e-02,  2.20569205e-02,  2.02609655e-02,  4.92232218e-02,\n",
              "        1.94488782e-02, -3.24541796e-03, -1.85451638e-02,  1.59950263e-03,\n",
              "        1.65910777e-02,  3.61957937e-03, -3.72364968e-02,  5.18120918e-03,\n",
              "        1.72913242e-05,  1.63578074e-02,  1.69191025e-02, -5.77034708e-03,\n",
              "        2.08369941e-02, -1.21048521e-02,  1.39219733e-03, -5.45998162e-04,\n",
              "        3.22227329e-02, -3.17543931e-02,  3.15285963e-03,  3.46694654e-03,\n",
              "        7.70612620e-03,  3.31235235e-04,  1.28067015e-02,  1.26955006e-02,\n",
              "        4.14726436e-02, -7.38409953e-03,  1.10808946e-02,  7.33098155e-03,\n",
              "       -5.53486217e-03,  3.26357521e-02,  2.11184248e-02,  6.95418846e-03,\n",
              "       -2.06338111e-02,  2.72078551e-02, -1.17965946e-02,  1.29728029e-02,\n",
              "       -3.96269793e-03, -1.44047448e-02,  1.92751512e-02, -2.48613767e-02,\n",
              "       -1.99445393e-02, -2.83290017e-02,  3.19002308e-02,  3.48536111e-02,\n",
              "       -1.82775985e-02, -2.96346508e-02,  3.98209244e-02, -8.19660444e-03,\n",
              "        1.09392991e-02,  1.43929217e-02,  8.27300549e-03, -5.73685579e-03,\n",
              "       -2.92527992e-02,  3.49938720e-02, -1.84484082e-03,  2.53804121e-02,\n",
              "        2.14011408e-02, -7.76864705e-04,  2.97513437e-02, -4.76343976e-03,\n",
              "       -2.70860568e-02, -3.20027247e-02,  2.11506779e-03,  2.45075841e-02,\n",
              "       -8.08135548e-04,  1.44706303e-02, -5.95505815e-03, -7.59287458e-03,\n",
              "        9.76065453e-03,  1.29562698e-03,  2.56352890e-02, -3.07708513e-02,\n",
              "        2.14613229e-02, -2.48952638e-02,  2.15306086e-03, -2.55584661e-02,\n",
              "       -2.48686615e-02,  1.82456840e-02, -1.99142564e-03, -1.82672366e-02,\n",
              "       -1.90983396e-02,  1.22966124e-02,  3.44807319e-02, -1.64558087e-02,\n",
              "        2.23673675e-02, -3.11736390e-02,  8.10009055e-03,  1.28567946e-04,\n",
              "       -1.84725486e-02, -1.72131252e-03,  2.39816811e-02,  1.35162435e-02,\n",
              "        2.86838468e-02,  1.96902966e-03,  1.01937270e-02,  9.58363432e-03,\n",
              "       -3.65442485e-02, -1.08845346e-03,  2.19928790e-02, -1.90663757e-03,\n",
              "        2.13773809e-02,  1.62728410e-02, -4.40063737e-02,  2.54258029e-02,\n",
              "        3.54644023e-02, -9.54344589e-03,  1.55790811e-02,  1.78376562e-03,\n",
              "        4.23867069e-02, -8.50262307e-03, -1.39847898e-03,  9.06484481e-03,\n",
              "       -1.38710225e-02,  1.10211568e-02,  1.12539222e-02, -1.05766223e-04],\n",
              "      dtype=float32)"
            ]
          },
          "metadata": {},
          "execution_count": 21
        }
      ]
    },
    {
      "cell_type": "markdown",
      "source": [
        "### 모델 평가하기"
      ],
      "metadata": {
        "id": "hRJZgaSyc8CS"
      }
    },
    {
      "cell_type": "code",
      "source": [
        "# myukim과 back_to_the_future를 내적하는 코드\n",
        "np.dot(myukim_vector, back_to_the_future_vector)"
      ],
      "metadata": {
        "colab": {
          "base_uri": "https://localhost:8080/"
        },
        "id": "WPLgGL4gOv9V",
        "outputId": "97151fe6-8911-4792-e08b-6281fa2a2969"
      },
      "execution_count": 22,
      "outputs": [
        {
          "output_type": "execute_result",
          "data": {
            "text/plain": [
              "0.8783628"
            ]
          },
          "metadata": {},
          "execution_count": 22
        }
      ]
    },
    {
      "cell_type": "markdown",
      "source": [
        "선호도가 높게 나온다. 잘 훈련이 진행되었다는 것을 알 수 있다.\n",
        "\n",
        "내가 선호했던 다른 영화도 이와 같은 결과를 가지는 지 궁금하다."
      ],
      "metadata": {
        "id": "by8qHD02Ozcs"
      }
    },
    {
      "cell_type": "code",
      "source": [
        "# movie_to_idx[1]은 toy story를 뜻한다.\n",
        "toy_story = movie_to_idx[1]\n",
        "toy_vector = als_model.item_factors[toy_story]\n",
        "np.dot(myukim_vector, toy_vector)"
      ],
      "metadata": {
        "colab": {
          "base_uri": "https://localhost:8080/"
        },
        "id": "DpELJvHIOwAF",
        "outputId": "8199848a-f5ee-43bc-c5a0-0361752e75b2"
      },
      "execution_count": 23,
      "outputs": [
        {
          "output_type": "execute_result",
          "data": {
            "text/plain": [
              "0.7641408"
            ]
          },
          "metadata": {},
          "execution_count": 23
        }
      ]
    },
    {
      "cell_type": "markdown",
      "source": [
        "토이스토리도 선호도가 높게 잘 나온다는 것을 알 수 있다."
      ],
      "metadata": {
        "id": "B2wB1K5VO2du"
      }
    },
    {
      "cell_type": "markdown",
      "source": [
        "### 비슷한 영화 and 추천 영화"
      ],
      "metadata": {
        "id": "Tbn_kvaJO34l"
      }
    },
    {
      "cell_type": "markdown",
      "source": [
        "#### 비슷한 영화"
      ],
      "metadata": {
        "id": "qqocdGRWdnle"
      }
    },
    {
      "cell_type": "code",
      "source": [
        "similar_movie = als_model.similar_items(back_to_the_future, N=15)\n",
        "similar_movie"
      ],
      "metadata": {
        "colab": {
          "base_uri": "https://localhost:8080/"
        },
        "id": "zrf8QtedOwC4",
        "outputId": "95ccf723-d4ad-445b-a0f7-760f144da1f4"
      },
      "execution_count": 24,
      "outputs": [
        {
          "output_type": "execute_result",
          "data": {
            "text/plain": [
              "[(22, 1.0),\n",
              " (674, 0.34656453),\n",
              " (13, 0.25399604),\n",
              " (2824, 0.25199613),\n",
              " (3543, 0.25026911),\n",
              " (2714, 0.2485178),\n",
              " (1675, 0.24645469),\n",
              " (3370, 0.24450088),\n",
              " (2827, 0.24442378),\n",
              " (1881, 0.24340895),\n",
              " (1594, 0.23827834),\n",
              " (3559, 0.23801678),\n",
              " (3565, 0.2376967),\n",
              " (2630, 0.23752226),\n",
              " (3434, 0.23697883)]"
            ]
          },
          "metadata": {},
          "execution_count": 24
        }
      ]
    },
    {
      "cell_type": "code",
      "source": [
        "idx_to_movie = {v:k for k,v in movie_to_idx.items()}\n",
        "movie_id=[idx_to_movie[i[0]] for i in similar_movie]\n",
        "print(movie_id)"
      ],
      "metadata": {
        "colab": {
          "base_uri": "https://localhost:8080/"
        },
        "id": "MZE6d9PsRAMR",
        "outputId": "7c7830a6-ce1d-4e20-e49b-5f8c2d57db7e"
      },
      "execution_count": 25,
      "outputs": [
        {
          "output_type": "stream",
          "name": "stdout",
          "text": [
            "[1270, 2011, 2918, 1496, 985, 131, 718, 3294, 1743, 2341, 3939, 3236, 1316, 1741, 1990]\n"
          ]
        }
      ]
    },
    {
      "cell_type": "markdown",
      "source": [
        "1270은 Back_to_the_Future의 인덱스 번호다. 그래서 비슷한 정도가 1이 나온 것이다."
      ],
      "metadata": {
        "id": "lswJCoV-gsga"
      }
    },
    {
      "cell_type": "code",
      "source": [
        "movies.head(1946)"
      ],
      "metadata": {
        "colab": {
          "base_uri": "https://localhost:8080/",
          "height": 424
        },
        "id": "MlzkuITqRwaV",
        "outputId": "1c4b82ee-d94d-4a94-96a0-6912171a4f63"
      },
      "execution_count": 26,
      "outputs": [
        {
          "output_type": "execute_result",
          "data": {
            "text/plain": [
              "      movie_id                               title  \\\n",
              "0            1                    Toy Story (1995)   \n",
              "1            2                      Jumanji (1995)   \n",
              "2            3             Grumpier Old Men (1995)   \n",
              "3            4            Waiting to Exhale (1995)   \n",
              "4            5  Father of the Bride Part II (1995)   \n",
              "...        ...                                 ...   \n",
              "1941      2010                   Metropolis (1926)   \n",
              "1942      2011   Back to the Future Part II (1989)   \n",
              "1943      2012  Back to the Future Part III (1990)   \n",
              "1944      2013      Poseidon Adventure, The (1972)   \n",
              "1945      2014                Freaky Friday (1977)   \n",
              "\n",
              "                             genre  \n",
              "0      Animation|Children's|Comedy  \n",
              "1     Adventure|Children's|Fantasy  \n",
              "2                   Comedy|Romance  \n",
              "3                     Comedy|Drama  \n",
              "4                           Comedy  \n",
              "...                            ...  \n",
              "1941                        Sci-Fi  \n",
              "1942                 Comedy|Sci-Fi  \n",
              "1943         Comedy|Sci-Fi|Western  \n",
              "1944              Action|Adventure  \n",
              "1945             Children's|Comedy  \n",
              "\n",
              "[1946 rows x 3 columns]"
            ],
            "text/html": [
              "\n",
              "  <div id=\"df-8a9411bd-d46b-4090-9613-56d3f2e6bb62\">\n",
              "    <div class=\"colab-df-container\">\n",
              "      <div>\n",
              "<style scoped>\n",
              "    .dataframe tbody tr th:only-of-type {\n",
              "        vertical-align: middle;\n",
              "    }\n",
              "\n",
              "    .dataframe tbody tr th {\n",
              "        vertical-align: top;\n",
              "    }\n",
              "\n",
              "    .dataframe thead th {\n",
              "        text-align: right;\n",
              "    }\n",
              "</style>\n",
              "<table border=\"1\" class=\"dataframe\">\n",
              "  <thead>\n",
              "    <tr style=\"text-align: right;\">\n",
              "      <th></th>\n",
              "      <th>movie_id</th>\n",
              "      <th>title</th>\n",
              "      <th>genre</th>\n",
              "    </tr>\n",
              "  </thead>\n",
              "  <tbody>\n",
              "    <tr>\n",
              "      <th>0</th>\n",
              "      <td>1</td>\n",
              "      <td>Toy Story (1995)</td>\n",
              "      <td>Animation|Children's|Comedy</td>\n",
              "    </tr>\n",
              "    <tr>\n",
              "      <th>1</th>\n",
              "      <td>2</td>\n",
              "      <td>Jumanji (1995)</td>\n",
              "      <td>Adventure|Children's|Fantasy</td>\n",
              "    </tr>\n",
              "    <tr>\n",
              "      <th>2</th>\n",
              "      <td>3</td>\n",
              "      <td>Grumpier Old Men (1995)</td>\n",
              "      <td>Comedy|Romance</td>\n",
              "    </tr>\n",
              "    <tr>\n",
              "      <th>3</th>\n",
              "      <td>4</td>\n",
              "      <td>Waiting to Exhale (1995)</td>\n",
              "      <td>Comedy|Drama</td>\n",
              "    </tr>\n",
              "    <tr>\n",
              "      <th>4</th>\n",
              "      <td>5</td>\n",
              "      <td>Father of the Bride Part II (1995)</td>\n",
              "      <td>Comedy</td>\n",
              "    </tr>\n",
              "    <tr>\n",
              "      <th>...</th>\n",
              "      <td>...</td>\n",
              "      <td>...</td>\n",
              "      <td>...</td>\n",
              "    </tr>\n",
              "    <tr>\n",
              "      <th>1941</th>\n",
              "      <td>2010</td>\n",
              "      <td>Metropolis (1926)</td>\n",
              "      <td>Sci-Fi</td>\n",
              "    </tr>\n",
              "    <tr>\n",
              "      <th>1942</th>\n",
              "      <td>2011</td>\n",
              "      <td>Back to the Future Part II (1989)</td>\n",
              "      <td>Comedy|Sci-Fi</td>\n",
              "    </tr>\n",
              "    <tr>\n",
              "      <th>1943</th>\n",
              "      <td>2012</td>\n",
              "      <td>Back to the Future Part III (1990)</td>\n",
              "      <td>Comedy|Sci-Fi|Western</td>\n",
              "    </tr>\n",
              "    <tr>\n",
              "      <th>1944</th>\n",
              "      <td>2013</td>\n",
              "      <td>Poseidon Adventure, The (1972)</td>\n",
              "      <td>Action|Adventure</td>\n",
              "    </tr>\n",
              "    <tr>\n",
              "      <th>1945</th>\n",
              "      <td>2014</td>\n",
              "      <td>Freaky Friday (1977)</td>\n",
              "      <td>Children's|Comedy</td>\n",
              "    </tr>\n",
              "  </tbody>\n",
              "</table>\n",
              "<p>1946 rows × 3 columns</p>\n",
              "</div>\n",
              "      <button class=\"colab-df-convert\" onclick=\"convertToInteractive('df-8a9411bd-d46b-4090-9613-56d3f2e6bb62')\"\n",
              "              title=\"Convert this dataframe to an interactive table.\"\n",
              "              style=\"display:none;\">\n",
              "        \n",
              "  <svg xmlns=\"http://www.w3.org/2000/svg\" height=\"24px\"viewBox=\"0 0 24 24\"\n",
              "       width=\"24px\">\n",
              "    <path d=\"M0 0h24v24H0V0z\" fill=\"none\"/>\n",
              "    <path d=\"M18.56 5.44l.94 2.06.94-2.06 2.06-.94-2.06-.94-.94-2.06-.94 2.06-2.06.94zm-11 1L8.5 8.5l.94-2.06 2.06-.94-2.06-.94L8.5 2.5l-.94 2.06-2.06.94zm10 10l.94 2.06.94-2.06 2.06-.94-2.06-.94-.94-2.06-.94 2.06-2.06.94z\"/><path d=\"M17.41 7.96l-1.37-1.37c-.4-.4-.92-.59-1.43-.59-.52 0-1.04.2-1.43.59L10.3 9.45l-7.72 7.72c-.78.78-.78 2.05 0 2.83L4 21.41c.39.39.9.59 1.41.59.51 0 1.02-.2 1.41-.59l7.78-7.78 2.81-2.81c.8-.78.8-2.07 0-2.86zM5.41 20L4 18.59l7.72-7.72 1.47 1.35L5.41 20z\"/>\n",
              "  </svg>\n",
              "      </button>\n",
              "      \n",
              "  <style>\n",
              "    .colab-df-container {\n",
              "      display:flex;\n",
              "      flex-wrap:wrap;\n",
              "      gap: 12px;\n",
              "    }\n",
              "\n",
              "    .colab-df-convert {\n",
              "      background-color: #E8F0FE;\n",
              "      border: none;\n",
              "      border-radius: 50%;\n",
              "      cursor: pointer;\n",
              "      display: none;\n",
              "      fill: #1967D2;\n",
              "      height: 32px;\n",
              "      padding: 0 0 0 0;\n",
              "      width: 32px;\n",
              "    }\n",
              "\n",
              "    .colab-df-convert:hover {\n",
              "      background-color: #E2EBFA;\n",
              "      box-shadow: 0px 1px 2px rgba(60, 64, 67, 0.3), 0px 1px 3px 1px rgba(60, 64, 67, 0.15);\n",
              "      fill: #174EA6;\n",
              "    }\n",
              "\n",
              "    [theme=dark] .colab-df-convert {\n",
              "      background-color: #3B4455;\n",
              "      fill: #D2E3FC;\n",
              "    }\n",
              "\n",
              "    [theme=dark] .colab-df-convert:hover {\n",
              "      background-color: #434B5C;\n",
              "      box-shadow: 0px 1px 3px 1px rgba(0, 0, 0, 0.15);\n",
              "      filter: drop-shadow(0px 1px 2px rgba(0, 0, 0, 0.3));\n",
              "      fill: #FFFFFF;\n",
              "    }\n",
              "  </style>\n",
              "\n",
              "      <script>\n",
              "        const buttonEl =\n",
              "          document.querySelector('#df-8a9411bd-d46b-4090-9613-56d3f2e6bb62 button.colab-df-convert');\n",
              "        buttonEl.style.display =\n",
              "          google.colab.kernel.accessAllowed ? 'block' : 'none';\n",
              "\n",
              "        async function convertToInteractive(key) {\n",
              "          const element = document.querySelector('#df-8a9411bd-d46b-4090-9613-56d3f2e6bb62');\n",
              "          const dataTable =\n",
              "            await google.colab.kernel.invokeFunction('convertToInteractive',\n",
              "                                                     [key], {});\n",
              "          if (!dataTable) return;\n",
              "\n",
              "          const docLinkHtml = 'Like what you see? Visit the ' +\n",
              "            '<a target=\"_blank\" href=https://colab.research.google.com/notebooks/data_table.ipynb>data table notebook</a>'\n",
              "            + ' to learn more about interactive tables.';\n",
              "          element.innerHTML = '';\n",
              "          dataTable['output_type'] = 'display_data';\n",
              "          await google.colab.output.renderOutput(dataTable, element);\n",
              "          const docLink = document.createElement('div');\n",
              "          docLink.innerHTML = docLinkHtml;\n",
              "          element.appendChild(docLink);\n",
              "        }\n",
              "      </script>\n",
              "    </div>\n",
              "  </div>\n",
              "  "
            ]
          },
          "metadata": {},
          "execution_count": 26
        }
      ]
    },
    {
      "cell_type": "markdown",
      "source": [
        "비슷한 영화로 Back_to_the_Future2를 추천해주고 있다."
      ],
      "metadata": {
        "id": "fh_F9V47R8ZU"
      }
    },
    {
      "cell_type": "markdown",
      "source": [
        "다음은 추천을 받아보자."
      ],
      "metadata": {
        "id": "q8OS1y5WbO0C"
      }
    },
    {
      "cell_type": "markdown",
      "source": [
        "#### 시스템 추천 영화"
      ],
      "metadata": {
        "id": "QKTNVgPaez8R"
      }
    },
    {
      "cell_type": "code",
      "source": [
        "user = user_to_idx[9999]\n",
        "# recommend에서는 user*item CSR Matrix를 받습니다.\n",
        "movie_recommended = als_model.recommend(user, csr_data, N=20, filter_already_liked_items=True)\n",
        "movie_recommended"
      ],
      "metadata": {
        "colab": {
          "base_uri": "https://localhost:8080/"
        },
        "id": "hNh2DaEvU9U_",
        "outputId": "c0f826ab-d341-4536-84fb-2b11c06c755a"
      },
      "execution_count": 27,
      "outputs": [
        {
          "output_type": "execute_result",
          "data": {
            "text/plain": [
              "[(50, 0.2492904),\n",
              " (626, 0.22351332),\n",
              " (85, 0.19821772),\n",
              " (799, 0.19799773),\n",
              " (674, 0.18611379),\n",
              " (255, 0.18467164),\n",
              " (379, 0.18462588),\n",
              " (175, 0.1766848),\n",
              " (340, 0.17667776),\n",
              " (488, 0.16973342),\n",
              " (124, 0.16873184),\n",
              " (851, 0.16131353),\n",
              " (88, 0.15771165),\n",
              " (114, 0.1533191),\n",
              " (96, 0.15290098),\n",
              " (126, 0.15242697),\n",
              " (548, 0.14900714),\n",
              " (648, 0.14640275),\n",
              " (129, 0.14589402),\n",
              " (473, 0.14514595)]"
            ]
          },
          "metadata": {},
          "execution_count": 27
        }
      ]
    },
    {
      "cell_type": "markdown",
      "source": [
        "similar 보다 더 유사도가 생각보다 낮게 나온다."
      ],
      "metadata": {
        "id": "VV9P0R_lfm05"
      }
    },
    {
      "cell_type": "code",
      "source": [
        "#원래 index로 바꿔주기\n",
        "[idx_to_movie[i[0]] for i in movie_recommended]"
      ],
      "metadata": {
        "colab": {
          "base_uri": "https://localhost:8080/"
        },
        "id": "EI7YhIyxU9YZ",
        "outputId": "fc192fd7-7877-4b62-d746-28da1c45e5ae"
      },
      "execution_count": 28,
      "outputs": [
        {
          "output_type": "execute_result",
          "data": {
            "text/plain": [
              "[3114,\n",
              " 2424,\n",
              " 3255,\n",
              " 2724,\n",
              " 2011,\n",
              " 1923,\n",
              " 3256,\n",
              " 1580,\n",
              " 1569,\n",
              " 1307,\n",
              " 2571,\n",
              " 2761,\n",
              " 2278,\n",
              " 2353,\n",
              " 1945,\n",
              " 2396,\n",
              " 1282,\n",
              " 2000,\n",
              " 1597,\n",
              " 3178]"
            ]
          },
          "metadata": {},
          "execution_count": 28
        }
      ]
    },
    {
      "cell_type": "code",
      "source": [
        "# 첫번째로 추천해 준 영화\n",
        "movies.head(3050)"
      ],
      "metadata": {
        "colab": {
          "base_uri": "https://localhost:8080/",
          "height": 424
        },
        "id": "PAWoSkK2U9bS",
        "outputId": "e7def45b-47d9-4606-c2fe-3fb2cf849e63"
      },
      "execution_count": 29,
      "outputs": [
        {
          "output_type": "execute_result",
          "data": {
            "text/plain": [
              "      movie_id                               title  \\\n",
              "0            1                    Toy Story (1995)   \n",
              "1            2                      Jumanji (1995)   \n",
              "2            3             Grumpier Old Men (1995)   \n",
              "3            4            Waiting to Exhale (1995)   \n",
              "4            5  Father of the Bride Part II (1995)   \n",
              "...        ...                                 ...   \n",
              "3045      3114                  Toy Story 2 (1999)   \n",
              "3046      3115                     Flawless (1999)   \n",
              "3047      3116                   Miss Julie (1999)   \n",
              "3048      3117          Ride with the Devil (1999)   \n",
              "3049      3118                  Tumbleweeds (1999)   \n",
              "\n",
              "                             genre  \n",
              "0      Animation|Children's|Comedy  \n",
              "1     Adventure|Children's|Fantasy  \n",
              "2                   Comedy|Romance  \n",
              "3                     Comedy|Drama  \n",
              "4                           Comedy  \n",
              "...                            ...  \n",
              "3045   Animation|Children's|Comedy  \n",
              "3046                         Drama  \n",
              "3047                         Drama  \n",
              "3048             Drama|Romance|War  \n",
              "3049                         Drama  \n",
              "\n",
              "[3050 rows x 3 columns]"
            ],
            "text/html": [
              "\n",
              "  <div id=\"df-e4421c27-cc58-4733-b3c8-e3a0d2285f2f\">\n",
              "    <div class=\"colab-df-container\">\n",
              "      <div>\n",
              "<style scoped>\n",
              "    .dataframe tbody tr th:only-of-type {\n",
              "        vertical-align: middle;\n",
              "    }\n",
              "\n",
              "    .dataframe tbody tr th {\n",
              "        vertical-align: top;\n",
              "    }\n",
              "\n",
              "    .dataframe thead th {\n",
              "        text-align: right;\n",
              "    }\n",
              "</style>\n",
              "<table border=\"1\" class=\"dataframe\">\n",
              "  <thead>\n",
              "    <tr style=\"text-align: right;\">\n",
              "      <th></th>\n",
              "      <th>movie_id</th>\n",
              "      <th>title</th>\n",
              "      <th>genre</th>\n",
              "    </tr>\n",
              "  </thead>\n",
              "  <tbody>\n",
              "    <tr>\n",
              "      <th>0</th>\n",
              "      <td>1</td>\n",
              "      <td>Toy Story (1995)</td>\n",
              "      <td>Animation|Children's|Comedy</td>\n",
              "    </tr>\n",
              "    <tr>\n",
              "      <th>1</th>\n",
              "      <td>2</td>\n",
              "      <td>Jumanji (1995)</td>\n",
              "      <td>Adventure|Children's|Fantasy</td>\n",
              "    </tr>\n",
              "    <tr>\n",
              "      <th>2</th>\n",
              "      <td>3</td>\n",
              "      <td>Grumpier Old Men (1995)</td>\n",
              "      <td>Comedy|Romance</td>\n",
              "    </tr>\n",
              "    <tr>\n",
              "      <th>3</th>\n",
              "      <td>4</td>\n",
              "      <td>Waiting to Exhale (1995)</td>\n",
              "      <td>Comedy|Drama</td>\n",
              "    </tr>\n",
              "    <tr>\n",
              "      <th>4</th>\n",
              "      <td>5</td>\n",
              "      <td>Father of the Bride Part II (1995)</td>\n",
              "      <td>Comedy</td>\n",
              "    </tr>\n",
              "    <tr>\n",
              "      <th>...</th>\n",
              "      <td>...</td>\n",
              "      <td>...</td>\n",
              "      <td>...</td>\n",
              "    </tr>\n",
              "    <tr>\n",
              "      <th>3045</th>\n",
              "      <td>3114</td>\n",
              "      <td>Toy Story 2 (1999)</td>\n",
              "      <td>Animation|Children's|Comedy</td>\n",
              "    </tr>\n",
              "    <tr>\n",
              "      <th>3046</th>\n",
              "      <td>3115</td>\n",
              "      <td>Flawless (1999)</td>\n",
              "      <td>Drama</td>\n",
              "    </tr>\n",
              "    <tr>\n",
              "      <th>3047</th>\n",
              "      <td>3116</td>\n",
              "      <td>Miss Julie (1999)</td>\n",
              "      <td>Drama</td>\n",
              "    </tr>\n",
              "    <tr>\n",
              "      <th>3048</th>\n",
              "      <td>3117</td>\n",
              "      <td>Ride with the Devil (1999)</td>\n",
              "      <td>Drama|Romance|War</td>\n",
              "    </tr>\n",
              "    <tr>\n",
              "      <th>3049</th>\n",
              "      <td>3118</td>\n",
              "      <td>Tumbleweeds (1999)</td>\n",
              "      <td>Drama</td>\n",
              "    </tr>\n",
              "  </tbody>\n",
              "</table>\n",
              "<p>3050 rows × 3 columns</p>\n",
              "</div>\n",
              "      <button class=\"colab-df-convert\" onclick=\"convertToInteractive('df-e4421c27-cc58-4733-b3c8-e3a0d2285f2f')\"\n",
              "              title=\"Convert this dataframe to an interactive table.\"\n",
              "              style=\"display:none;\">\n",
              "        \n",
              "  <svg xmlns=\"http://www.w3.org/2000/svg\" height=\"24px\"viewBox=\"0 0 24 24\"\n",
              "       width=\"24px\">\n",
              "    <path d=\"M0 0h24v24H0V0z\" fill=\"none\"/>\n",
              "    <path d=\"M18.56 5.44l.94 2.06.94-2.06 2.06-.94-2.06-.94-.94-2.06-.94 2.06-2.06.94zm-11 1L8.5 8.5l.94-2.06 2.06-.94-2.06-.94L8.5 2.5l-.94 2.06-2.06.94zm10 10l.94 2.06.94-2.06 2.06-.94-2.06-.94-.94-2.06-.94 2.06-2.06.94z\"/><path d=\"M17.41 7.96l-1.37-1.37c-.4-.4-.92-.59-1.43-.59-.52 0-1.04.2-1.43.59L10.3 9.45l-7.72 7.72c-.78.78-.78 2.05 0 2.83L4 21.41c.39.39.9.59 1.41.59.51 0 1.02-.2 1.41-.59l7.78-7.78 2.81-2.81c.8-.78.8-2.07 0-2.86zM5.41 20L4 18.59l7.72-7.72 1.47 1.35L5.41 20z\"/>\n",
              "  </svg>\n",
              "      </button>\n",
              "      \n",
              "  <style>\n",
              "    .colab-df-container {\n",
              "      display:flex;\n",
              "      flex-wrap:wrap;\n",
              "      gap: 12px;\n",
              "    }\n",
              "\n",
              "    .colab-df-convert {\n",
              "      background-color: #E8F0FE;\n",
              "      border: none;\n",
              "      border-radius: 50%;\n",
              "      cursor: pointer;\n",
              "      display: none;\n",
              "      fill: #1967D2;\n",
              "      height: 32px;\n",
              "      padding: 0 0 0 0;\n",
              "      width: 32px;\n",
              "    }\n",
              "\n",
              "    .colab-df-convert:hover {\n",
              "      background-color: #E2EBFA;\n",
              "      box-shadow: 0px 1px 2px rgba(60, 64, 67, 0.3), 0px 1px 3px 1px rgba(60, 64, 67, 0.15);\n",
              "      fill: #174EA6;\n",
              "    }\n",
              "\n",
              "    [theme=dark] .colab-df-convert {\n",
              "      background-color: #3B4455;\n",
              "      fill: #D2E3FC;\n",
              "    }\n",
              "\n",
              "    [theme=dark] .colab-df-convert:hover {\n",
              "      background-color: #434B5C;\n",
              "      box-shadow: 0px 1px 3px 1px rgba(0, 0, 0, 0.15);\n",
              "      filter: drop-shadow(0px 1px 2px rgba(0, 0, 0, 0.3));\n",
              "      fill: #FFFFFF;\n",
              "    }\n",
              "  </style>\n",
              "\n",
              "      <script>\n",
              "        const buttonEl =\n",
              "          document.querySelector('#df-e4421c27-cc58-4733-b3c8-e3a0d2285f2f button.colab-df-convert');\n",
              "        buttonEl.style.display =\n",
              "          google.colab.kernel.accessAllowed ? 'block' : 'none';\n",
              "\n",
              "        async function convertToInteractive(key) {\n",
              "          const element = document.querySelector('#df-e4421c27-cc58-4733-b3c8-e3a0d2285f2f');\n",
              "          const dataTable =\n",
              "            await google.colab.kernel.invokeFunction('convertToInteractive',\n",
              "                                                     [key], {});\n",
              "          if (!dataTable) return;\n",
              "\n",
              "          const docLinkHtml = 'Like what you see? Visit the ' +\n",
              "            '<a target=\"_blank\" href=https://colab.research.google.com/notebooks/data_table.ipynb>data table notebook</a>'\n",
              "            + ' to learn more about interactive tables.';\n",
              "          element.innerHTML = '';\n",
              "          dataTable['output_type'] = 'display_data';\n",
              "          await google.colab.output.renderOutput(dataTable, element);\n",
              "          const docLink = document.createElement('div');\n",
              "          docLink.innerHTML = docLinkHtml;\n",
              "          element.appendChild(docLink);\n",
              "        }\n",
              "      </script>\n",
              "    </div>\n",
              "  </div>\n",
              "  "
            ]
          },
          "metadata": {},
          "execution_count": 29
        }
      ]
    },
    {
      "cell_type": "markdown",
      "source": [
        "Toy Story2를 추천해주고 있다. 그렇다면, 어떠한 영화가 이와 같이 추천을 해줬을까?"
      ],
      "metadata": {
        "id": "FRNi4aQQVgYW"
      }
    },
    {
      "cell_type": "code",
      "source": [
        "Toy_story2 = movie_to_idx[3114]\n",
        "explain = als_model.explain(user, csr_data, itemid=Toy_story2)"
      ],
      "metadata": {
        "id": "9VKI9BlPU9eg"
      },
      "execution_count": 30,
      "outputs": []
    },
    {
      "cell_type": "code",
      "source": [
        "[(idx_to_movie[i[0]], i[1]) for i in explain[1]]"
      ],
      "metadata": {
        "colab": {
          "base_uri": "https://localhost:8080/"
        },
        "id": "J8NFnGiIU9gn",
        "outputId": "6922639c-78ba-4d66-8d55-46e68f6f355e"
      },
      "execution_count": 31,
      "outputs": [
        {
          "output_type": "execute_result",
          "data": {
            "text/plain": [
              "[(1, 0.2412372011540577),\n",
              " (2058, 0.04195802920332205),\n",
              " (2671, 0.02278599672476561),\n",
              " (1270, 0.00025268557997781013),\n",
              " (3404, -0.06027079447310567)]"
            ]
          },
          "metadata": {},
          "execution_count": 31
        }
      ]
    },
    {
      "cell_type": "markdown",
      "source": [
        "전작품인 Toy Story1이 영향을 많이 주고 있다."
      ],
      "metadata": {
        "id": "17EBN92qbVAU"
      }
    },
    {
      "cell_type": "code",
      "source": [
        "#두번째로 추천해준 영화\n",
        "movies.head(2360)"
      ],
      "metadata": {
        "colab": {
          "base_uri": "https://localhost:8080/",
          "height": 424
        },
        "id": "2uh6Q5bthipX",
        "outputId": "bae4371f-9c67-48cb-c803-61aafc30bf60"
      },
      "execution_count": 32,
      "outputs": [
        {
          "output_type": "execute_result",
          "data": {
            "text/plain": [
              "      movie_id                               title  \\\n",
              "0            1                    Toy Story (1995)   \n",
              "1            2                      Jumanji (1995)   \n",
              "2            3             Grumpier Old Men (1995)   \n",
              "3            4            Waiting to Exhale (1995)   \n",
              "4            5  Father of the Bride Part II (1995)   \n",
              "...        ...                                 ...   \n",
              "2355      2424              You've Got Mail (1998)   \n",
              "2356      2425                 General, The (1998)   \n",
              "2357      2426        Theory of Flight, The (1998)   \n",
              "2358      2427           Thin Red Line, The (1998)   \n",
              "2359      2428                 Faculty, The (1998)   \n",
              "\n",
              "                             genre  \n",
              "0      Animation|Children's|Comedy  \n",
              "1     Adventure|Children's|Fantasy  \n",
              "2                   Comedy|Romance  \n",
              "3                     Comedy|Drama  \n",
              "4                           Comedy  \n",
              "...                            ...  \n",
              "2355                Comedy|Romance  \n",
              "2356                         Crime  \n",
              "2357          Comedy|Drama|Romance  \n",
              "2358              Action|Drama|War  \n",
              "2359                 Horror|Sci-Fi  \n",
              "\n",
              "[2360 rows x 3 columns]"
            ],
            "text/html": [
              "\n",
              "  <div id=\"df-468aa15f-bc25-4805-ad61-e31bbd82565c\">\n",
              "    <div class=\"colab-df-container\">\n",
              "      <div>\n",
              "<style scoped>\n",
              "    .dataframe tbody tr th:only-of-type {\n",
              "        vertical-align: middle;\n",
              "    }\n",
              "\n",
              "    .dataframe tbody tr th {\n",
              "        vertical-align: top;\n",
              "    }\n",
              "\n",
              "    .dataframe thead th {\n",
              "        text-align: right;\n",
              "    }\n",
              "</style>\n",
              "<table border=\"1\" class=\"dataframe\">\n",
              "  <thead>\n",
              "    <tr style=\"text-align: right;\">\n",
              "      <th></th>\n",
              "      <th>movie_id</th>\n",
              "      <th>title</th>\n",
              "      <th>genre</th>\n",
              "    </tr>\n",
              "  </thead>\n",
              "  <tbody>\n",
              "    <tr>\n",
              "      <th>0</th>\n",
              "      <td>1</td>\n",
              "      <td>Toy Story (1995)</td>\n",
              "      <td>Animation|Children's|Comedy</td>\n",
              "    </tr>\n",
              "    <tr>\n",
              "      <th>1</th>\n",
              "      <td>2</td>\n",
              "      <td>Jumanji (1995)</td>\n",
              "      <td>Adventure|Children's|Fantasy</td>\n",
              "    </tr>\n",
              "    <tr>\n",
              "      <th>2</th>\n",
              "      <td>3</td>\n",
              "      <td>Grumpier Old Men (1995)</td>\n",
              "      <td>Comedy|Romance</td>\n",
              "    </tr>\n",
              "    <tr>\n",
              "      <th>3</th>\n",
              "      <td>4</td>\n",
              "      <td>Waiting to Exhale (1995)</td>\n",
              "      <td>Comedy|Drama</td>\n",
              "    </tr>\n",
              "    <tr>\n",
              "      <th>4</th>\n",
              "      <td>5</td>\n",
              "      <td>Father of the Bride Part II (1995)</td>\n",
              "      <td>Comedy</td>\n",
              "    </tr>\n",
              "    <tr>\n",
              "      <th>...</th>\n",
              "      <td>...</td>\n",
              "      <td>...</td>\n",
              "      <td>...</td>\n",
              "    </tr>\n",
              "    <tr>\n",
              "      <th>2355</th>\n",
              "      <td>2424</td>\n",
              "      <td>You've Got Mail (1998)</td>\n",
              "      <td>Comedy|Romance</td>\n",
              "    </tr>\n",
              "    <tr>\n",
              "      <th>2356</th>\n",
              "      <td>2425</td>\n",
              "      <td>General, The (1998)</td>\n",
              "      <td>Crime</td>\n",
              "    </tr>\n",
              "    <tr>\n",
              "      <th>2357</th>\n",
              "      <td>2426</td>\n",
              "      <td>Theory of Flight, The (1998)</td>\n",
              "      <td>Comedy|Drama|Romance</td>\n",
              "    </tr>\n",
              "    <tr>\n",
              "      <th>2358</th>\n",
              "      <td>2427</td>\n",
              "      <td>Thin Red Line, The (1998)</td>\n",
              "      <td>Action|Drama|War</td>\n",
              "    </tr>\n",
              "    <tr>\n",
              "      <th>2359</th>\n",
              "      <td>2428</td>\n",
              "      <td>Faculty, The (1998)</td>\n",
              "      <td>Horror|Sci-Fi</td>\n",
              "    </tr>\n",
              "  </tbody>\n",
              "</table>\n",
              "<p>2360 rows × 3 columns</p>\n",
              "</div>\n",
              "      <button class=\"colab-df-convert\" onclick=\"convertToInteractive('df-468aa15f-bc25-4805-ad61-e31bbd82565c')\"\n",
              "              title=\"Convert this dataframe to an interactive table.\"\n",
              "              style=\"display:none;\">\n",
              "        \n",
              "  <svg xmlns=\"http://www.w3.org/2000/svg\" height=\"24px\"viewBox=\"0 0 24 24\"\n",
              "       width=\"24px\">\n",
              "    <path d=\"M0 0h24v24H0V0z\" fill=\"none\"/>\n",
              "    <path d=\"M18.56 5.44l.94 2.06.94-2.06 2.06-.94-2.06-.94-.94-2.06-.94 2.06-2.06.94zm-11 1L8.5 8.5l.94-2.06 2.06-.94-2.06-.94L8.5 2.5l-.94 2.06-2.06.94zm10 10l.94 2.06.94-2.06 2.06-.94-2.06-.94-.94-2.06-.94 2.06-2.06.94z\"/><path d=\"M17.41 7.96l-1.37-1.37c-.4-.4-.92-.59-1.43-.59-.52 0-1.04.2-1.43.59L10.3 9.45l-7.72 7.72c-.78.78-.78 2.05 0 2.83L4 21.41c.39.39.9.59 1.41.59.51 0 1.02-.2 1.41-.59l7.78-7.78 2.81-2.81c.8-.78.8-2.07 0-2.86zM5.41 20L4 18.59l7.72-7.72 1.47 1.35L5.41 20z\"/>\n",
              "  </svg>\n",
              "      </button>\n",
              "      \n",
              "  <style>\n",
              "    .colab-df-container {\n",
              "      display:flex;\n",
              "      flex-wrap:wrap;\n",
              "      gap: 12px;\n",
              "    }\n",
              "\n",
              "    .colab-df-convert {\n",
              "      background-color: #E8F0FE;\n",
              "      border: none;\n",
              "      border-radius: 50%;\n",
              "      cursor: pointer;\n",
              "      display: none;\n",
              "      fill: #1967D2;\n",
              "      height: 32px;\n",
              "      padding: 0 0 0 0;\n",
              "      width: 32px;\n",
              "    }\n",
              "\n",
              "    .colab-df-convert:hover {\n",
              "      background-color: #E2EBFA;\n",
              "      box-shadow: 0px 1px 2px rgba(60, 64, 67, 0.3), 0px 1px 3px 1px rgba(60, 64, 67, 0.15);\n",
              "      fill: #174EA6;\n",
              "    }\n",
              "\n",
              "    [theme=dark] .colab-df-convert {\n",
              "      background-color: #3B4455;\n",
              "      fill: #D2E3FC;\n",
              "    }\n",
              "\n",
              "    [theme=dark] .colab-df-convert:hover {\n",
              "      background-color: #434B5C;\n",
              "      box-shadow: 0px 1px 3px 1px rgba(0, 0, 0, 0.15);\n",
              "      filter: drop-shadow(0px 1px 2px rgba(0, 0, 0, 0.3));\n",
              "      fill: #FFFFFF;\n",
              "    }\n",
              "  </style>\n",
              "\n",
              "      <script>\n",
              "        const buttonEl =\n",
              "          document.querySelector('#df-468aa15f-bc25-4805-ad61-e31bbd82565c button.colab-df-convert');\n",
              "        buttonEl.style.display =\n",
              "          google.colab.kernel.accessAllowed ? 'block' : 'none';\n",
              "\n",
              "        async function convertToInteractive(key) {\n",
              "          const element = document.querySelector('#df-468aa15f-bc25-4805-ad61-e31bbd82565c');\n",
              "          const dataTable =\n",
              "            await google.colab.kernel.invokeFunction('convertToInteractive',\n",
              "                                                     [key], {});\n",
              "          if (!dataTable) return;\n",
              "\n",
              "          const docLinkHtml = 'Like what you see? Visit the ' +\n",
              "            '<a target=\"_blank\" href=https://colab.research.google.com/notebooks/data_table.ipynb>data table notebook</a>'\n",
              "            + ' to learn more about interactive tables.';\n",
              "          element.innerHTML = '';\n",
              "          dataTable['output_type'] = 'display_data';\n",
              "          await google.colab.output.renderOutput(dataTable, element);\n",
              "          const docLink = document.createElement('div');\n",
              "          docLink.innerHTML = docLinkHtml;\n",
              "          element.appendChild(docLink);\n",
              "        }\n",
              "      </script>\n",
              "    </div>\n",
              "  </div>\n",
              "  "
            ]
          },
          "metadata": {},
          "execution_count": 32
        }
      ]
    },
    {
      "cell_type": "code",
      "source": [
        "YGM = movie_to_idx[2424]\n",
        "explain = als_model.explain(user, csr_data, itemid=YGM)\n",
        "[(idx_to_movie[i[0]], i[1]) for i in explain[1]]"
      ],
      "metadata": {
        "colab": {
          "base_uri": "https://localhost:8080/"
        },
        "id": "gmCqw19_hmyo",
        "outputId": "d6eb4608-6309-4603-9292-284c16b511bb"
      },
      "execution_count": 33,
      "outputs": [
        {
          "output_type": "execute_result",
          "data": {
            "text/plain": [
              "[(2671, 0.12369346410888168),\n",
              " (1270, 0.03970327202371545),\n",
              " (1, 0.029666679443015112),\n",
              " (2058, 0.021109686871570436),\n",
              " (3404, 0.007334407729559025)]"
            ]
          },
          "metadata": {},
          "execution_count": 33
        }
      ]
    },
    {
      "cell_type": "markdown",
      "source": [
        "2671은 노팅힐의 인덱스 번호다. 노팅힐의 장르는 로맨틱 코미디이다. 이와 동일한 장르로서, 'You've Got Mail (1998)' 영화를 추천했다고 추측된다."
      ],
      "metadata": {
        "id": "DpC1XycXitfp"
      }
    },
    {
      "cell_type": "markdown",
      "source": [
        "### 회고"
      ],
      "metadata": {
        "id": "HIw8hu-ijooL"
      }
    },
    {
      "cell_type": "markdown",
      "source": [
        "날이 갈 수록 프로젝트는 어렵지만, 재미는 배가 되는 거 같다. 비록, 모든 것이 찍먹인 단계이지만 구현해낼 수 있다는 거에 의미를 두고 싶다. 고통은 당연 뒤따라 오고 있다. 하지만, 고통 뒤에 성장도 꼭 같이 오고 있다고 믿고 있다.\n",
        "\n",
        "\n",
        "아쉬운 점\n",
        "\n",
        "1. matrix를 좀 더 공부해야겠다.\n",
        "\n"
      ],
      "metadata": {
        "id": "sIm9apJ4lbya"
      }
    }
  ]
}