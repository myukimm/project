{
  "nbformat": 4,
  "nbformat_minor": 0,
  "metadata": {
    "colab": {
      "name": "Exploration 5",
      "provenance": []
    },
    "kernelspec": {
      "name": "python3",
      "display_name": "Python 3"
    },
    "language_info": {
      "name": "python"
    }
  },
  "cells": [
    {
      "cell_type": "markdown",
      "source": [
        "# 라이브러리 버전 확인"
      ],
      "metadata": {
        "id": "qC2ZRIp6dus1"
      }
    },
    {
      "cell_type": "code",
      "source": [
        "from google.colab import drive\n",
        "drive.mount('/content/drive')"
      ],
      "metadata": {
        "colab": {
          "base_uri": "https://localhost:8080/"
        },
        "id": "bKR0xKBXo51m",
        "outputId": "266be77c-a05e-4c60-f94f-548bb8db8c84"
      },
      "execution_count": 60,
      "outputs": [
        {
          "output_type": "stream",
          "name": "stdout",
          "text": [
            "Drive already mounted at /content/drive; to attempt to forcibly remount, call drive.mount(\"/content/drive\", force_remount=True).\n"
          ]
        }
      ]
    },
    {
      "cell_type": "code",
      "execution_count": 61,
      "metadata": {
        "colab": {
          "base_uri": "https://localhost:8080/"
        },
        "id": "JmZYBWwJbVw7",
        "outputId": "205ead22-b4c6-4e00-9a71-bee23a76919a"
      },
      "outputs": [
        {
          "output_type": "stream",
          "name": "stdout",
          "text": [
            "2.8.2\n",
            "1.21.6\n"
          ]
        }
      ],
      "source": [
        "import tensorflow as tf\n",
        "import numpy as np\n",
        "\n",
        "print(tf.__version__)\n",
        "print(np.__version__)"
      ]
    },
    {
      "cell_type": "markdown",
      "source": [
        "# 이미지 28x28로 만들기"
      ],
      "metadata": {
        "id": "4ooaF2eUfxda"
      }
    },
    {
      "cell_type": "code",
      "source": [
        "# 이미지 28x28로 만들기\n",
        "\n",
        "from PIL import Image\n",
        "import glob\n",
        "import os"
      ],
      "metadata": {
        "id": "OANAJ5N0dtnV"
      },
      "execution_count": 62,
      "outputs": []
    },
    {
      "cell_type": "code",
      "source": [
        "# 가위 이미지 28x28로 만들기\n",
        "\n",
        "def resize_images(img_path):\n",
        "  images=glob.glob(img_path + \"/*.jpg\")\n",
        "\n",
        "  print(len(images), \" images to be resized.\")\n",
        "\n",
        "  target_size = (28,28)\n",
        "  for img in images:\n",
        "    old_img = Image.open(img)\n",
        "    new_img = old_img.resize(target_size, Image.ANTIALIAS)\n",
        "    new_img.save(img, \"JPEG\")\n",
        "\n",
        "  print(len(images), \" images resized\")\n",
        "\n",
        "# 가위 이미지가 저장된 디렉토리 아래의 모든 jpg 파일을 읽어들여서\n",
        "image_dir_scissor_path = \"/content/drive/MyDrive/rock_scissor_paper/scissor\"\n",
        "resize_images(image_dir_scissor_path)"
      ],
      "metadata": {
        "colab": {
          "base_uri": "https://localhost:8080/"
        },
        "id": "Pu6JtNEveE3R",
        "outputId": "abe9b51f-864a-480c-ac7a-9c80755ec369"
      },
      "execution_count": 63,
      "outputs": [
        {
          "output_type": "stream",
          "name": "stdout",
          "text": [
            "100  images to be resized.\n",
            "100  images resized\n"
          ]
        }
      ]
    },
    {
      "cell_type": "code",
      "source": [
        "# 주먹과 보 이미지 28x28로 만들기\n",
        "\n",
        "image_dir_rock_path = \"/content/drive/MyDrive/rock_scissor_paper/rock\"\n",
        "image_dir_paper_path = \"/content/drive/MyDrive/rock_scissor_paper/papaer\"\n",
        "resize_images(image_dir_rock_path)\n",
        "resize_images(image_dir_paper_path)"
      ],
      "metadata": {
        "colab": {
          "base_uri": "https://localhost:8080/"
        },
        "id": "Hdf2Pbadf7-y",
        "outputId": "94515716-d45d-4e85-c725-cb5b90b62403"
      },
      "execution_count": 64,
      "outputs": [
        {
          "output_type": "stream",
          "name": "stdout",
          "text": [
            "100  images to be resized.\n",
            "100  images resized\n",
            "100  images to be resized.\n",
            "100  images resized\n"
          ]
        }
      ]
    },
    {
      "cell_type": "code",
      "source": [
        "import numpy as np\n",
        "\n",
        "# 가위바위보 이미지 개수 총합에 주의하세요.\n",
        "# 가위 : 0, 바위 : 1, 보 : 2\n",
        "\n",
        "def load_data(img_path, number_of_data=300):\n",
        "  img_size=28\n",
        "  color=3\n",
        "\n",
        "  # 이미지 데이터와 라벨(가위 : 0, 바위 : 1, 보 : 2) 데이터를 담을 행렬(matrix) 영역을 생성합니다.\n",
        "\n",
        "  imgs=np.zeros(number_of_data*img_size*img_size*color, dtype=np.int32).reshape(number_of_data,img_size,img_size,color)\n",
        "  labels=np.zeros(number_of_data, dtype = np.int32)\n",
        "\n",
        "  idx = 0\n",
        "  for file in glob.iglob(img_path+'/scissor/*jpg'):\n",
        "    img = np.array(Image.open(file), dtype=np.int32)\n",
        "    imgs[idx,:,:,:] = img\n",
        "    labels[idx]=0 # 가위 : 0\n",
        "    idx = idx + 1\n",
        "  \n",
        "  for file in glob.iglob(img_path+'/rock/*jpg'):\n",
        "    img = np.array(Image.open(file), dtype=np.int32)\n",
        "    imgs[idx,:,:,:] = img\n",
        "    labels[idx]=1 # 바위 : 1\n",
        "    idx = idx + 1\n",
        "\n",
        "  for file in glob.iglob(img_path+'/paper/*jpg'):\n",
        "    img = np.array(Image.open(file), dtype=np.int32)\n",
        "    imgs[idx,:,:,:] = img\n",
        "    labels[idx]=2 # 보 : 2\n",
        "    idx = idx + 1\n",
        "\n",
        "  print(\"학습데이터(x_train)의 이미지 개수는\", idx, \"입니다.\")\n",
        "  return imgs, labels\n",
        "\n",
        "images_dir_path = \"/content/drive/MyDrive/rock_scissor_paper\"\n",
        "(x_train, y_train) = load_data(images_dir_path)\n",
        "\n",
        "# 입력은 0~1 사이의 값으로 정규화\n",
        "x_train_norm = x_train/255.0\n",
        "print(\"x_train shape: {}\".format(x_train.shape))\n",
        "print(\"y_train shape: {}\".format(y_train.shape))"
      ],
      "metadata": {
        "colab": {
          "base_uri": "https://localhost:8080/"
        },
        "id": "vOOqS_hyf8BS",
        "outputId": "b221ec25-1981-4948-9a58-ab0005a95433"
      },
      "execution_count": 65,
      "outputs": [
        {
          "output_type": "stream",
          "name": "stdout",
          "text": [
            "학습데이터(x_train)의 이미지 개수는 200 입니다.\n",
            "x_train shape: (300, 28, 28, 3)\n",
            "y_train shape: (300,)\n"
          ]
        }
      ]
    },
    {
      "cell_type": "markdown",
      "source": [
        "### 한번 이미지를 불러와볼까?"
      ],
      "metadata": {
        "id": "LEq9Ve1vioq8"
      }
    },
    {
      "cell_type": "code",
      "source": [
        "import matplotlib as plt\n",
        "plt.pyplot.imshow(x_train[0])\n",
        "print('라벨:', y_train[0])"
      ],
      "metadata": {
        "colab": {
          "base_uri": "https://localhost:8080/",
          "height": 283
        },
        "id": "9BZOxX1uf8Dq",
        "outputId": "b31c546b-6925-4ebd-fdf0-3db573435087"
      },
      "execution_count": 66,
      "outputs": [
        {
          "output_type": "stream",
          "name": "stdout",
          "text": [
            "라벨: 0\n"
          ]
        },
        {
          "output_type": "display_data",
          "data": {
            "text/plain": [
              "<Figure size 432x288 with 1 Axes>"
            ],
            "image/png": "[encoded data removed]"
          },
          "metadata": {
            "needs_background": "light"
          }
        }
      ]
    },
    {
      "cell_type": "markdown",
      "source": [
        "# 딥러닝 네트워크 설계하기\n",
        "\n",
        "가위바위보를 인식하는 딥러닝 네트워크를 설계"
      ],
      "metadata": {
        "id": "6XzACOWqnhxt"
      }
    },
    {
      "cell_type": "code",
      "source": [
        "import tensorflow as tf\n",
        "from tensorflow import keras\n",
        "import numpy as np\n",
        "\n",
        "model=keras.models.Sequential()\n",
        "model.add(keras.layers.Conv2D(32, (3,3), activation='relu', input_shape=(28,28,3)))\n",
        "model.add(keras.layers.MaxPool2D(2,2))\n",
        "model.add(keras.layers.Conv2D(32, (3,3), activation='relu'))\n",
        "model.add(keras.layers.MaxPooling2D((2,2)))\n",
        "model.add(keras.layers.Flatten())\n",
        "model.add(keras.layers.Dense(32, activation='relu'))\n",
        "model.add(keras.layers.Dense(3, activation='softmax')) # 가위 바위 보 총 3개"
      ],
      "metadata": {
        "id": "O1y82EfFf8Fu"
      },
      "execution_count": 67,
      "outputs": []
    },
    {
      "cell_type": "code",
      "source": [
        "model.summary()"
      ],
      "metadata": {
        "colab": {
          "base_uri": "https://localhost:8080/"
        },
        "id": "FF2VI9mEql19",
        "outputId": "8b75ae14-97a0-47ac-e093-c3458172d40f"
      },
      "execution_count": 68,
      "outputs": [
        {
          "output_type": "stream",
          "name": "stdout",
          "text": [
            "Model: \"sequential_3\"\n",
            "_________________________________________________________________\n",
            " Layer (type)                Output Shape              Param #   \n",
            "=================================================================\n",
            " conv2d_6 (Conv2D)           (None, 26, 26, 32)        896       \n",
            "                                                                 \n",
            " max_pooling2d_6 (MaxPooling  (None, 13, 13, 32)       0         \n",
            " 2D)                                                             \n",
            "                                                                 \n",
            " conv2d_7 (Conv2D)           (None, 11, 11, 32)        9248      \n",
            "                                                                 \n",
            " max_pooling2d_7 (MaxPooling  (None, 5, 5, 32)         0         \n",
            " 2D)                                                             \n",
            "                                                                 \n",
            " flatten_3 (Flatten)         (None, 800)               0         \n",
            "                                                                 \n",
            " dense_6 (Dense)             (None, 32)                25632     \n",
            "                                                                 \n",
            " dense_7 (Dense)             (None, 3)                 99        \n",
            "                                                                 \n",
            "=================================================================\n",
            "Total params: 35,875\n",
            "Trainable params: 35,875\n",
            "Non-trainable params: 0\n",
            "_________________________________________________________________\n"
          ]
        }
      ]
    },
    {
      "cell_type": "markdown",
      "source": [
        "# 딥러닝 네트워크 학습시키기"
      ],
      "metadata": {
        "id": "kxrfDBnSrLtg"
      }
    },
    {
      "cell_type": "code",
      "source": [
        "x_train.shape"
      ],
      "metadata": {
        "colab": {
          "base_uri": "https://localhost:8080/"
        },
        "id": "54HA_hRTMAJU",
        "outputId": "52e178ee-1947-4729-8229-2277d4d93473"
      },
      "execution_count": 69,
      "outputs": [
        {
          "output_type": "execute_result",
          "data": {
            "text/plain": [
              "(300, 28, 28, 3)"
            ]
          },
          "metadata": {},
          "execution_count": 69
        }
      ]
    },
    {
      "cell_type": "code",
      "source": [
        "# 가위바위보니깐 3을 주는게 맞다\n",
        "\n",
        "x_train_reshaped=x_train_norm.reshape(-1, 28, 28, 3) \n",
        "print(x_train_reshaped.shape)"
      ],
      "metadata": {
        "colab": {
          "base_uri": "https://localhost:8080/"
        },
        "id": "In8QETXUMSbu",
        "outputId": "b6cda830-edfb-4b4d-9d45-6ab887b648f9"
      },
      "execution_count": 70,
      "outputs": [
        {
          "output_type": "stream",
          "name": "stdout",
          "text": [
            "(300, 28, 28, 3)\n"
          ]
        }
      ]
    },
    {
      "cell_type": "code",
      "source": [
        "# 모델 힉습\n",
        "\n",
        "model.compile(optimizer='adam',\n",
        "             loss='sparse_categorical_crossentropy',\n",
        "             metrics=['accuracy'])\n",
        "model.fit(x_train_reshaped, y_train, epochs=10)"
      ],
      "metadata": {
        "colab": {
          "base_uri": "https://localhost:8080/"
        },
        "id": "s1NnBr71rNv0",
        "outputId": "0477e533-4a5a-4451-be76-ac93f3ab1ffc"
      },
      "execution_count": 71,
      "outputs": [
        {
          "output_type": "stream",
          "name": "stdout",
          "text": [
            "Epoch 1/10\n",
            "10/10 [==============================] - 1s 27ms/step - loss: 0.9461 - accuracy: 0.7167\n",
            "Epoch 2/10\n",
            "10/10 [==============================] - 0s 29ms/step - loss: 0.7673 - accuracy: 0.7400\n",
            "Epoch 3/10\n",
            "10/10 [==============================] - 0s 26ms/step - loss: 0.6636 - accuracy: 0.7100\n",
            "Epoch 4/10\n",
            "10/10 [==============================] - 0s 29ms/step - loss: 0.5308 - accuracy: 0.7400\n",
            "Epoch 5/10\n",
            "10/10 [==============================] - 0s 26ms/step - loss: 0.4842 - accuracy: 0.7267\n",
            "Epoch 6/10\n",
            "10/10 [==============================] - 0s 29ms/step - loss: 0.4262 - accuracy: 0.7267\n",
            "Epoch 7/10\n",
            "10/10 [==============================] - 0s 27ms/step - loss: 0.3505 - accuracy: 0.8467\n",
            "Epoch 8/10\n",
            "10/10 [==============================] - 0s 28ms/step - loss: 0.3051 - accuracy: 0.9033\n",
            "Epoch 9/10\n",
            "10/10 [==============================] - 0s 27ms/step - loss: 0.2826 - accuracy: 0.8867\n",
            "Epoch 10/10\n",
            "10/10 [==============================] - 0s 27ms/step - loss: 0.2634 - accuracy: 0.9000\n"
          ]
        },
        {
          "output_type": "execute_result",
          "data": {
            "text/plain": [
              "<keras.callbacks.History at 0x7fa128885650>"
            ]
          },
          "metadata": {},
          "execution_count": 71
        }
      ]
    },
    {
      "cell_type": "code",
      "source": [
        "# 모델 훈련하기\n",
        "\n",
        "test_loss, test_accuracy = model.evaluate(x_test_reshaped, y_test, verbose=2)\n",
        "print(\"test_loss: {} \".format(test_loss))\n",
        "print(\"test_accuracy: {}\".format(test_accuracy))"
      ],
      "metadata": {
        "colab": {
          "base_uri": "https://localhost:8080/"
        },
        "id": "bBjR_GvNUqYv",
        "outputId": "f16f6c75-affd-434f-cb72-2318eb1e5691"
      },
      "execution_count": 72,
      "outputs": [
        {
          "output_type": "stream",
          "name": "stdout",
          "text": [
            "10/10 - 0s - loss: 5.7802 - accuracy: 0.3333 - 238ms/epoch - 24ms/step\n",
            "test_loss: 5.780239105224609 \n",
            "test_accuracy: 0.3333333432674408\n"
          ]
        }
      ]
    },
    {
      "cell_type": "markdown",
      "source": [
        "# 얼마나 잘 만들었는 지 확인하기(테스트)\n"
      ],
      "metadata": {
        "id": "JJwuunGaPLlI"
      }
    },
    {
      "cell_type": "code",
      "source": [
        "# 주먹과 보자기 이미지 28x28로 만들기\n",
        "\n",
        "image_dir_scissor_path = \"/content/drive/MyDrive/data/test/scissor\"\n",
        "image_dir_rock_path = \"/content/drive/MyDrive/data/test/rock\"\n",
        "image_dir_paper_path = \"/content/drive/MyDrive/data/test/paper\"\n",
        "resize_images(image_dir_scissor_path)\n",
        "resize_images(image_dir_rock_path)\n",
        "resize_images(image_dir_paper_path)"
      ],
      "metadata": {
        "colab": {
          "base_uri": "https://localhost:8080/"
        },
        "id": "vIXjupIzSk9h",
        "outputId": "c5b525d1-1053-417f-d175-8ee1ab86c1cd"
      },
      "execution_count": 73,
      "outputs": [
        {
          "output_type": "stream",
          "name": "stdout",
          "text": [
            "100  images to be resized.\n",
            "100  images resized\n",
            "100  images to be resized.\n",
            "100  images resized\n",
            "100  images to be resized.\n",
            "100  images resized\n"
          ]
        }
      ]
    },
    {
      "cell_type": "code",
      "source": [
        "images_dir_path = \"/content/drive/MyDrive/data/test\"\n",
        "(x_test, y_test) = load_data(images_dir_path)\n",
        "x_test_norm = x_test/255.0"
      ],
      "metadata": {
        "colab": {
          "base_uri": "https://localhost:8080/"
        },
        "id": "6KCT83hCrNyq",
        "outputId": "a18dc5c6-aa36-4160-8561-b7ce97878660"
      },
      "execution_count": 74,
      "outputs": [
        {
          "output_type": "stream",
          "name": "stdout",
          "text": [
            "학습데이터(x_train)의 이미지 개수는 300 입니다.\n"
          ]
        }
      ]
    },
    {
      "cell_type": "code",
      "source": [
        "x_test_reshaped=x_test_norm.reshape(-1, 28, 28, 3)\n",
        "print(x_test_reshaped.shape)"
      ],
      "metadata": {
        "colab": {
          "base_uri": "https://localhost:8080/"
        },
        "id": "9oLz4sylTq3F",
        "outputId": "0da73eba-0edf-4a8b-b6f0-af8173c27e53"
      },
      "execution_count": 75,
      "outputs": [
        {
          "output_type": "stream",
          "name": "stdout",
          "text": [
            "(300, 28, 28, 3)\n"
          ]
        }
      ]
    },
    {
      "cell_type": "code",
      "source": [
        "# 모델 학습하기\n",
        "\n",
        "model.compile(optimizer='adam',\n",
        "             loss='sparse_categorical_crossentropy',\n",
        "             metrics=['accuracy'])\n",
        "model.fit(x_test_reshaped, y_test, epochs=10)"
      ],
      "metadata": {
        "colab": {
          "base_uri": "https://localhost:8080/"
        },
        "id": "LNmHa0h9rN1I",
        "outputId": "ea8733d4-114f-4d3b-97b9-702333caf52f"
      },
      "execution_count": 76,
      "outputs": [
        {
          "output_type": "stream",
          "name": "stdout",
          "text": [
            "Epoch 1/10\n",
            "10/10 [==============================] - 1s 28ms/step - loss: 3.2262 - accuracy: 0.3867\n",
            "Epoch 2/10\n",
            "10/10 [==============================] - 0s 27ms/step - loss: 1.2571 - accuracy: 0.3333\n",
            "Epoch 3/10\n",
            "10/10 [==============================] - 0s 28ms/step - loss: 1.0879 - accuracy: 0.3767\n",
            "Epoch 4/10\n",
            "10/10 [==============================] - 0s 27ms/step - loss: 1.0868 - accuracy: 0.3833\n",
            "Epoch 5/10\n",
            "10/10 [==============================] - 0s 29ms/step - loss: 1.0776 - accuracy: 0.4367\n",
            "Epoch 6/10\n",
            "10/10 [==============================] - 0s 31ms/step - loss: 1.0693 - accuracy: 0.6433\n",
            "Epoch 7/10\n",
            "10/10 [==============================] - 0s 28ms/step - loss: 1.0517 - accuracy: 0.6567\n",
            "Epoch 8/10\n",
            "10/10 [==============================] - 0s 26ms/step - loss: 1.0252 - accuracy: 0.5233\n",
            "Epoch 9/10\n",
            "10/10 [==============================] - 0s 28ms/step - loss: 0.9910 - accuracy: 0.5467\n",
            "Epoch 10/10\n",
            "10/10 [==============================] - 0s 27ms/step - loss: 0.9433 - accuracy: 0.8000\n"
          ]
        },
        {
          "output_type": "execute_result",
          "data": {
            "text/plain": [
              "<keras.callbacks.History at 0x7fa128700a90>"
            ]
          },
          "metadata": {},
          "execution_count": 76
        }
      ]
    },
    {
      "cell_type": "code",
      "source": [
        "# 모델 훈련하기\n",
        "\n",
        "test_loss, test_accuracy = model.evaluate(x_test_reshaped, y_test, verbose=2)\n",
        "print(\"test_loss: {} \".format(test_loss))\n",
        "print(\"test_accuracy: {}\".format(test_accuracy))"
      ],
      "metadata": {
        "colab": {
          "base_uri": "https://localhost:8080/"
        },
        "id": "TPtWEo6OrN3r",
        "outputId": "c8b8fe2d-a942-4e7c-87f8-4038694601f0"
      },
      "execution_count": 77,
      "outputs": [
        {
          "output_type": "stream",
          "name": "stdout",
          "text": [
            "10/10 - 0s - loss: 0.9081 - accuracy: 0.8033 - 239ms/epoch - 24ms/step\n",
            "test_loss: 0.9081459641456604 \n",
            "test_accuracy: 0.8033333420753479\n"
          ]
        }
      ]
    },
    {
      "cell_type": "markdown",
      "source": [
        "# 회고\n",
        "\n",
        "딥러닝이 처음이라 신기했습니다. 전에는 무수히 train과 test를 구분하여 머신러닝을 돌렸었습니다. \n",
        "하지만, 오늘은 model이 혼자 스스로 학습했습니다. 성능이 좋아진 기능이 혼자 저장된다는 것이 너무 신기했습니다. \n",
        "accuracy도 원했던 값 가까이 나와서 좋았습니다. 딥러닝의 첫발을 아주 기분 좋게 내딛어서 행복합니다."
      ],
      "metadata": {
        "id": "OloQoO3pWEnn"
      }
    }
  ]
}